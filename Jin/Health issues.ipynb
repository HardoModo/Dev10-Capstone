{
 "cells": [
  {
   "cell_type": "markdown",
   "id": "6a428299",
   "metadata": {},
   "source": [
    "## The United States has faced a significant challenge regarding the relationship between food consumption and health issues.\n",
    "* food causing health issues in USA \n",
    "* Rise in Chronic Diseases:increase in case of diabetes, heart diseaseand, and certain types of cancer. \n",
    "* These conditions are closely linked to poor dietary choices, such as excessive consumption of sugary beverages, fast food, and processed snacks.\n",
    "* Increasing Obesity Rates:"
   ]
  },
  {
   "cell_type": "code",
   "execution_count": null,
   "id": "226441a7",
   "metadata": {},
   "outputs": [],
   "source": [
    "import pandas as pd \n",
    "import numpy as np\n",
    "import matplotlib.pyplot as plt\n",
    "import plotly as pl\n",
    "import seaborn as sns"
   ]
  },
  {
   "cell_type": "code",
   "execution_count": null,
   "id": "59f639b3",
   "metadata": {},
   "outputs": [],
   "source": [
    "df = pd.read_csv('data/PLACES__Local_Data_for_Better_Health__County_Data_2022_release.csv')"
   ]
  },
  {
   "cell_type": "code",
   "execution_count": null,
   "id": "f05ed6cb",
   "metadata": {},
   "outputs": [],
   "source": [
    "df.head(3)"
   ]
  },
  {
   "cell_type": "code",
   "execution_count": null,
   "id": "0f2d38b1",
   "metadata": {},
   "outputs": [],
   "source": [
    "df.columns"
   ]
  },
  {
   "cell_type": "code",
   "execution_count": null,
   "id": "711364eb",
   "metadata": {},
   "outputs": [],
   "source": [
    "df.describe()"
   ]
  },
  {
   "cell_type": "markdown",
   "id": "f3069112",
   "metadata": {},
   "source": [
    "### Cleaning the data"
   ]
  },
  {
   "cell_type": "markdown",
   "id": "06c80c1c",
   "metadata": {},
   "source": []
  },
  {
   "cell_type": "code",
   "execution_count": null,
   "id": "7fe30ab2",
   "metadata": {},
   "outputs": [],
   "source": [
    "df.dropna()\n",
    "df.head(3)"
   ]
  },
  {
   "cell_type": "code",
   "execution_count": null,
   "id": "202a40a1",
   "metadata": {},
   "outputs": [],
   "source": [
    "df.drop_duplicates()\n",
    "df.hear(3)"
   ]
  },
  {
   "cell_type": "markdown",
   "id": "2c851776",
   "metadata": {},
   "source": [
    "### Machine Learing Model : Linear Regression"
   ]
  },
  {
   "cell_type": "code",
   "execution_count": null,
   "id": "9913d0b6",
   "metadata": {},
   "outputs": [],
   "source": [
    "from sklearn.linear_model import LinearRegression\n",
    "from sklearn.model_selection import train_test_split\n"
   ]
  },
  {
   "cell_type": "code",
   "execution_count": null,
   "id": "5f51de0a",
   "metadata": {},
   "outputs": [],
   "source": [
    "HealthColumns = [\n",
    "              'StateAbbr', 'Category','Data_Value','Short_Question_Text','Measure',\n",
    "              ]\n",
    "Health_df = df[HealthColumns]\n",
    "type(Health_df)"
   ]
  },
  {
   "cell_type": "code",
   "execution_count": null,
   "id": "d3022ba5",
   "metadata": {},
   "outputs": [],
   "source": [
    "Health_df.info(verbose=True)"
   ]
  },
  {
   "cell_type": "code",
   "execution_count": null,
   "id": "d539ee3c",
   "metadata": {},
   "outputs": [],
   "source": [
    "Health_df.head(7)"
   ]
  },
  {
   "cell_type": "code",
   "execution_count": null,
   "id": "625402d4",
   "metadata": {},
   "outputs": [],
   "source": [
    "selected_values = ['Stroke','Diabetes','Coronary Heart Disease','Obesity']"
   ]
  },
  {
   "cell_type": "code",
   "execution_count": null,
   "id": "cecd9610",
   "metadata": {},
   "outputs": [],
   "source": [
    "filteredDF = Health_df[Health_df['Short_Question_Text'].isin(selected_values)]\n",
    "filteredDF"
   ]
  },
  {
   "cell_type": "code",
   "execution_count": null,
   "id": "f5d9a891",
   "metadata": {},
   "outputs": [],
   "source": [
    "X =filteredDF.drop(['Measure','Data_Value'], axis=1)\n",
    "y= filteredDF['Data_Value']"
   ]
  },
  {
   "cell_type": "code",
   "execution_count": null,
   "id": "e9106526",
   "metadata": {},
   "outputs": [],
   "source": [
    "temp = pd.get_dummies(X['StateAbbr'], drop_first=True)\n",
    "temp2 = pd.get_dummies(X['Category'], drop_first=True)\n",
    "temp3 = pd.get_dummies(X['Short_Question_Text'], drop_first=True)\n",
    "\n"
   ]
  },
  {
   "cell_type": "code",
   "execution_count": null,
   "id": "99f5133e",
   "metadata": {},
   "outputs": [],
   "source": [
    "X= pd.concat([X, temp, temp2, temp3], axis=1)\n",
    "X = X.drop(columns=['StateAbbr', 'Category','Short_Question_Text'], axis=1)"
   ]
  },
  {
   "cell_type": "code",
   "execution_count": null,
   "id": "3f5c45cd",
   "metadata": {},
   "outputs": [],
   "source": [
    "X_train, X_test, y_train, y_test = train_test_split(X, y, random_state=42, test_size=0.25)\n",
    "X_train.shape, X_test.shape, y_train.shape, y_test.shape"
   ]
  },
  {
   "cell_type": "code",
   "execution_count": null,
   "id": "596bf5e1",
   "metadata": {},
   "outputs": [],
   "source": [
    "model = LinearRegression()"
   ]
  },
  {
   "cell_type": "code",
   "execution_count": null,
   "id": "ff483cf7",
   "metadata": {},
   "outputs": [],
   "source": [
    "model.fit(X_train, y_train)"
   ]
  },
  {
   "cell_type": "code",
   "execution_count": null,
   "id": "6f41c8d3",
   "metadata": {},
   "outputs": [],
   "source": [
    "r2 = model.score(X_test, y_test)\n",
    "r2"
   ]
  },
  {
   "cell_type": "code",
   "execution_count": null,
   "id": "1b857a05",
   "metadata": {},
   "outputs": [],
   "source": [
    "Predict = model.predict(X_test)\n",
    "len(Predict)"
   ]
  },
  {
   "cell_type": "code",
   "execution_count": null,
   "id": "42f32bff",
   "metadata": {},
   "outputs": [],
   "source": [
    "\n",
    "plt.hist(Predict, bins=50)\n",
    "plt.xlabel(\"Health Problems\")\n",
    "plt.title(\"Major Health Problems Prediction\")"
   ]
  },
  {
   "cell_type": "code",
   "execution_count": null,
   "id": "2e05088f",
   "metadata": {},
   "outputs": [],
   "source": [
    "filteredDF = filteredDF.groupby('Short_Question_Text')['Data_Value'].mean().sort_values\n",
    "filteredDF"
   ]
  },
  {
   "cell_type": "code",
   "execution_count": null,
   "id": "10b0a15b",
   "metadata": {},
   "outputs": [],
   "source": [
    "filtered_result = filteredDF()  # Call the method and store the result\n",
    "\n",
    "plt.figure(figsize=(4,4))\n",
    "filtered_result.plot(kind='barh')\n",
    "\n",
    "plt.title(\"Health Outcome\")\n",
    "plt.show()"
   ]
  },
  {
   "cell_type": "markdown",
   "id": "4038ef0a",
   "metadata": {},
   "source": [
    "## 4 Major Health Issues in USA from 2004 to 2017"
   ]
  },
  {
   "cell_type": "code",
   "execution_count": null,
   "id": "58fd5d4b",
   "metadata": {},
   "outputs": [],
   "source": [
    "DF2 = pd.read_csv('data/4healthissues.csv')"
   ]
  },
  {
   "cell_type": "code",
   "execution_count": null,
   "id": "9a67a0e8",
   "metadata": {},
   "outputs": [],
   "source": [
    "DF2.head(3)"
   ]
  },
  {
   "cell_type": "code",
   "execution_count": null,
   "id": "fd8b77e2",
   "metadata": {},
   "outputs": [],
   "source": [
    "# column_names = health_df.columns.tolist()\n",
    "# new_column_names = {col:col.replace('+', '_') for col in column_names}\n",
    "# health_df = health_df.rename(columns=new_column_names)"
   ]
  },
  {
   "cell_type": "code",
   "execution_count": null,
   "id": "88990913",
   "metadata": {},
   "outputs": [],
   "source": [
    "column_names = DF2.columns.tolist()\n",
    "new_column_names = {col: col.replace('+', '_') for col in column_names if col != 'StateAbbr'}\n",
    "DF2 = DF2.rename(columns=new_column_names)\n"
   ]
  },
  {
   "cell_type": "code",
   "execution_count": null,
   "id": "32f740b9",
   "metadata": {},
   "outputs": [],
   "source": [
    "DF2.describe()"
   ]
  },
  {
   "cell_type": "code",
   "execution_count": null,
   "id": "7e719dbc",
   "metadata": {},
   "outputs": [],
   "source": [
    "# health_df['StateAbbr'].value_counts()"
   ]
  },
  {
   "cell_type": "code",
   "execution_count": null,
   "id": "c6b50b4b",
   "metadata": {},
   "outputs": [],
   "source": [
    "# selected_State = ['CA','TX','NY']\n",
    "# filtered_df = health_df[health_df['StateAbbr'].isin(selected_State)]"
   ]
  },
  {
   "cell_type": "code",
   "execution_count": null,
   "id": "2283c1ff",
   "metadata": {},
   "outputs": [],
   "source": [
    "health_df_transposed = health_df.set_index('StateAbbr').T"
   ]
  },
  {
   "cell_type": "code",
   "execution_count": null,
   "id": "6b11e9b3",
   "metadata": {},
   "outputs": [],
   "source": [
    "health_df_transposed.head(10)"
   ]
  },
  {
   "cell_type": "code",
   "execution_count": null,
   "id": "b40c5876",
   "metadata": {},
   "outputs": [],
   "source": [
    "# Plot the transposed DataFrame\n",
    "ax = health_df_transposed.plot(kind='bar', figsize=(10, 6))\n",
    "\n",
    "# Set the x-axis label and y-axis label\n",
    "ax.set_xlabel('Year')\n",
    "ax.set_ylabel('Value')\n",
    "\n",
    "# Add a legend\n",
    "ax.legend(['Obesity', 'Cardiovascular', 'Stroke', 'Diabetes'])\n",
    "\n",
    "plt.show()\n",
    "\n",
    "\n",
    "\n",
    "\n"
   ]
  },
  {
   "cell_type": "code",
   "execution_count": null,
   "id": "65c6e212",
   "metadata": {},
   "outputs": [],
   "source": [
    "# fig, ax = plt.subplots(figsize=(10, 6))\n",
    "# for column in df3.columns:\n",
    "#     ax.plot(df3.index, df3[column], marker='o', label=column)\n",
    "\n",
    "# ax.set_xlabel('Year')\n",
    "# ax.set_ylabel('Value')\n",
    "# ax.set_title('Line Graph')\n",
    "\n",
    "# # Add a legend\n",
    "# ax.legend()\n",
    "\n",
    "# plt.show()"
   ]
  },
  {
   "cell_type": "code",
   "execution_count": null,
   "id": "51312dd8",
   "metadata": {},
   "outputs": [],
   "source": [
    "# import matplotlib.pyplot as plt\n",
    "\n",
    "# # Scatter plot for 'Stroke'\n",
    "# plt.scatter(selected_df['Data_Value'], selected_df['Short_Question_Text_Stroke'], label='Stroke', alpha=0.6)\n",
    "\n",
    "# # Scatter plot for 'Diabetes'\n",
    "# plt.scatter(selected_df['Data_Value'], selected_df['Short_Question_Text_Diabetes'], label='Diabetes', alpha=0.6)\n",
    "\n",
    "# # Scatter plot for 'Coronary Heart Disease'\n",
    "# plt.scatter(selected_df['Data_Value'], selected_df['Short_Question_Text_Coronary Heart Disease'], label='Coronary Heart Disease', alpha=0.6)\n",
    "\n",
    "# # Scatter plot for 'Obesity'\n",
    "# plt.scatter(selected_df['Data_Value'], selected_df['Short_Question_Text_Obesity'], label='Obesity', alpha=0.6)\n",
    "\n",
    "# # Labeling and legend\n",
    "# plt.xlabel(\"X - Values\")\n",
    "# plt.ylabel(\"Y - Health Issues\")\n",
    "# plt.legend()\n",
    "\n",
    "# # Display the plot\n",
    "# plt.show()\n"
   ]
  },
  {
   "cell_type": "code",
   "execution_count": null,
   "id": "8f0feeaa",
   "metadata": {},
   "outputs": [],
   "source": [
    "selected_columns = ['Short_Question_Text_Stroke', 'Short_Question_Text_Diabetes', 'Short_Question_Text_Coronary Heart Disease', 'Short_Question_Text_Obesity']\n",
    "selected_df = dummies_df[selected_columns]"
   ]
  },
  {
   "cell_type": "code",
   "execution_count": null,
   "id": "3b063f48",
   "metadata": {},
   "outputs": [],
   "source": [
    "# Create a dictionary to map the old column names to the new column names\n",
    "column_mapping = {\n",
    "    'Short_Question_Text_Stroke': 'Stroke',\n",
    "    'Short_Question_Text_Diabetes': 'Diabetes',\n",
    "    'Short_Question_Text_Coronary Heart Disease': 'Coronary Heart Disease',\n",
    "    'Short_Question_Text_Obesity': 'Obesity'\n",
    "}\n",
    "\n",
    "# Rename the columns using the dictionary\n",
    "new_name_df = selected_df.rename(columns=column_mapping)\n",
    "\n",
    "# Verify the updated column names\n",
    "print(new_name_df.columns)\n"
   ]
  },
  {
   "cell_type": "code",
   "execution_count": null,
   "id": "242c1fe6",
   "metadata": {},
   "outputs": [],
   "source": [
    "\n",
    "import seaborn as sns\n",
    "\n",
    "# Create a DataFrame with the selected columns\n",
    "\n",
    "\n",
    "# Violin Plot\n",
    "plt.figure(figsize=(10, 6))\n",
    "sns.violinplot(data=new_name_df)\n",
    "plt.xlabel('Health Issues')\n",
    "plt.ylabel('Data Value')\n",
    "plt.title('Violin Plot - Health Issues')\n",
    "plt.show()\n",
    "\n",
    "\n",
    "\n",
    "\n"
   ]
  },
  {
   "cell_type": "code",
   "execution_count": null,
   "id": "91a5d7ad",
   "metadata": {},
   "outputs": [],
   "source": [
    "plt.figure(figsize=(10, 6))\n",
    "sns.boxplot(data=new_name_df)\n",
    "plt.xlabel('Health Issues')\n",
    "plt.ylabel('Data Value')\n",
    "plt.title('Box Plot - Health Issues')\n",
    "plt.show()\n"
   ]
  },
  {
   "cell_type": "code",
   "execution_count": null,
   "id": "2c4b135d",
   "metadata": {},
   "outputs": [],
   "source": []
  },
  {
   "cell_type": "code",
   "execution_count": null,
   "id": "04c625c5",
   "metadata": {},
   "outputs": [],
   "source": []
  },
  {
   "cell_type": "code",
   "execution_count": null,
   "id": "a1d72fa3",
   "metadata": {},
   "outputs": [],
   "source": []
  },
  {
   "cell_type": "code",
   "execution_count": null,
   "id": "609b61b3",
   "metadata": {},
   "outputs": [],
   "source": []
  },
  {
   "cell_type": "code",
   "execution_count": null,
   "id": "ab299458",
   "metadata": {},
   "outputs": [],
   "source": []
  },
  {
   "cell_type": "code",
   "execution_count": null,
   "id": "ced85829",
   "metadata": {},
   "outputs": [],
   "source": []
  }
 ],
 "metadata": {
  "kernelspec": {
   "display_name": "Python 3 (ipykernel)",
   "language": "python",
   "name": "python3"
  },
  "language_info": {
   "codemirror_mode": {
    "name": "ipython",
    "version": 3
   },
   "file_extension": ".py",
   "mimetype": "text/x-python",
   "name": "python",
   "nbconvert_exporter": "python",
   "pygments_lexer": "ipython3",
   "version": "3.10.9"
  }
 },
 "nbformat": 4,
 "nbformat_minor": 5
}
