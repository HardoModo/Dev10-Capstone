{
 "cells": [
  {
   "cell_type": "code",
   "execution_count": 1,
   "id": "226441a7",
   "metadata": {},
   "outputs": [],
   "source": [
    "import pandas as pd \n",
    "import numpy as np\n",
    "import matplotlib.pyplot as plt\n",
    "import plotly as pl\n",
    "import seaborn as sns"
   ]
  },
  {
   "cell_type": "code",
   "execution_count": 2,
   "id": "e88663b2",
   "metadata": {},
   "outputs": [],
   "source": [
    "df = pd.read_csv('data/Child malnutrition.csv')"
   ]
  },
  {
   "cell_type": "code",
   "execution_count": 3,
   "id": "4661e1d3",
   "metadata": {},
   "outputs": [
    {
     "data": {
      "text/html": [
       "<div>\n",
       "<style scoped>\n",
       "    .dataframe tbody tr th:only-of-type {\n",
       "        vertical-align: middle;\n",
       "    }\n",
       "\n",
       "    .dataframe tbody tr th {\n",
       "        vertical-align: top;\n",
       "    }\n",
       "\n",
       "    .dataframe thead th {\n",
       "        text-align: right;\n",
       "    }\n",
       "</style>\n",
       "<table border=\"1\" class=\"dataframe\">\n",
       "  <thead>\n",
       "    <tr style=\"text-align: right;\">\n",
       "      <th></th>\n",
       "      <th>ISO code</th>\n",
       "      <th>Sex</th>\n",
       "      <th>Age</th>\n",
       "      <th>Height</th>\n",
       "      <th>Weight</th>\n",
       "      <th>Continent</th>\n",
       "      <th>World Bank</th>\n",
       "      <th>Wasting</th>\n",
       "      <th>Overweight</th>\n",
       "      <th>Stunting</th>\n",
       "      <th>...</th>\n",
       "      <th>Unnamed: 1014</th>\n",
       "      <th>Unnamed: 1015</th>\n",
       "      <th>Unnamed: 1016</th>\n",
       "      <th>Unnamed: 1017</th>\n",
       "      <th>Unnamed: 1018</th>\n",
       "      <th>Unnamed: 1019</th>\n",
       "      <th>Unnamed: 1020</th>\n",
       "      <th>Unnamed: 1021</th>\n",
       "      <th>Unnamed: 1022</th>\n",
       "      <th>Unnamed: 1023</th>\n",
       "    </tr>\n",
       "  </thead>\n",
       "  <tbody>\n",
       "    <tr>\n",
       "      <th>0</th>\n",
       "      <td>AFG</td>\n",
       "      <td>1</td>\n",
       "      <td>2</td>\n",
       "      <td>93</td>\n",
       "      <td>16</td>\n",
       "      <td>Asia</td>\n",
       "      <td>Low Income</td>\n",
       "      <td>18.2</td>\n",
       "      <td>6.5</td>\n",
       "      <td>53.2</td>\n",
       "      <td>...</td>\n",
       "      <td>NaN</td>\n",
       "      <td>NaN</td>\n",
       "      <td>NaN</td>\n",
       "      <td>NaN</td>\n",
       "      <td>NaN</td>\n",
       "      <td>NaN</td>\n",
       "      <td>NaN</td>\n",
       "      <td>NaN</td>\n",
       "      <td>NaN</td>\n",
       "      <td>NaN</td>\n",
       "    </tr>\n",
       "    <tr>\n",
       "      <th>1</th>\n",
       "      <td>AFG</td>\n",
       "      <td>1</td>\n",
       "      <td>4</td>\n",
       "      <td>97</td>\n",
       "      <td>15</td>\n",
       "      <td>Asia</td>\n",
       "      <td>Low Income</td>\n",
       "      <td>8.6</td>\n",
       "      <td>4.6</td>\n",
       "      <td>59.3</td>\n",
       "      <td>...</td>\n",
       "      <td>NaN</td>\n",
       "      <td>NaN</td>\n",
       "      <td>NaN</td>\n",
       "      <td>NaN</td>\n",
       "      <td>NaN</td>\n",
       "      <td>NaN</td>\n",
       "      <td>NaN</td>\n",
       "      <td>NaN</td>\n",
       "      <td>NaN</td>\n",
       "      <td>NaN</td>\n",
       "    </tr>\n",
       "    <tr>\n",
       "      <th>2</th>\n",
       "      <td>AFG</td>\n",
       "      <td>0</td>\n",
       "      <td>4</td>\n",
       "      <td>90</td>\n",
       "      <td>12</td>\n",
       "      <td>Asia</td>\n",
       "      <td>Low Income</td>\n",
       "      <td>9.5</td>\n",
       "      <td>5.4</td>\n",
       "      <td>40.9</td>\n",
       "      <td>...</td>\n",
       "      <td>NaN</td>\n",
       "      <td>NaN</td>\n",
       "      <td>NaN</td>\n",
       "      <td>NaN</td>\n",
       "      <td>NaN</td>\n",
       "      <td>NaN</td>\n",
       "      <td>NaN</td>\n",
       "      <td>NaN</td>\n",
       "      <td>NaN</td>\n",
       "      <td>NaN</td>\n",
       "    </tr>\n",
       "    <tr>\n",
       "      <th>3</th>\n",
       "      <td>ALB</td>\n",
       "      <td>0</td>\n",
       "      <td>2</td>\n",
       "      <td>78</td>\n",
       "      <td>16</td>\n",
       "      <td>Europe</td>\n",
       "      <td>Upper Middle Income</td>\n",
       "      <td>8.1</td>\n",
       "      <td>9.5</td>\n",
       "      <td>20.4</td>\n",
       "      <td>...</td>\n",
       "      <td>NaN</td>\n",
       "      <td>NaN</td>\n",
       "      <td>NaN</td>\n",
       "      <td>NaN</td>\n",
       "      <td>NaN</td>\n",
       "      <td>NaN</td>\n",
       "      <td>NaN</td>\n",
       "      <td>NaN</td>\n",
       "      <td>NaN</td>\n",
       "      <td>NaN</td>\n",
       "    </tr>\n",
       "    <tr>\n",
       "      <th>4</th>\n",
       "      <td>ALB</td>\n",
       "      <td>0</td>\n",
       "      <td>4</td>\n",
       "      <td>99</td>\n",
       "      <td>13</td>\n",
       "      <td>Europe</td>\n",
       "      <td>Upper Middle Income</td>\n",
       "      <td>12.2</td>\n",
       "      <td>30.0</td>\n",
       "      <td>39.2</td>\n",
       "      <td>...</td>\n",
       "      <td>NaN</td>\n",
       "      <td>NaN</td>\n",
       "      <td>NaN</td>\n",
       "      <td>NaN</td>\n",
       "      <td>NaN</td>\n",
       "      <td>NaN</td>\n",
       "      <td>NaN</td>\n",
       "      <td>NaN</td>\n",
       "      <td>NaN</td>\n",
       "      <td>NaN</td>\n",
       "    </tr>\n",
       "  </tbody>\n",
       "</table>\n",
       "<p>5 rows × 1024 columns</p>\n",
       "</div>"
      ],
      "text/plain": [
       "  ISO code  Sex  Age  Height  Weight Continent           World Bank  Wasting  \\\n",
       "0      AFG    1    2      93      16      Asia           Low Income     18.2   \n",
       "1      AFG    1    4      97      15      Asia           Low Income      8.6   \n",
       "2      AFG    0    4      90      12      Asia           Low Income      9.5   \n",
       "3      ALB    0    2      78      16    Europe  Upper Middle Income      8.1   \n",
       "4      ALB    0    4      99      13    Europe  Upper Middle Income     12.2   \n",
       "\n",
       "   Overweight  Stunting  ...  Unnamed: 1014 Unnamed: 1015  Unnamed: 1016  \\\n",
       "0         6.5      53.2  ...            NaN           NaN            NaN   \n",
       "1         4.6      59.3  ...            NaN           NaN            NaN   \n",
       "2         5.4      40.9  ...            NaN           NaN            NaN   \n",
       "3         9.5      20.4  ...            NaN           NaN            NaN   \n",
       "4        30.0      39.2  ...            NaN           NaN            NaN   \n",
       "\n",
       "   Unnamed: 1017  Unnamed: 1018  Unnamed: 1019  Unnamed: 1020  Unnamed: 1021  \\\n",
       "0            NaN            NaN            NaN            NaN            NaN   \n",
       "1            NaN            NaN            NaN            NaN            NaN   \n",
       "2            NaN            NaN            NaN            NaN            NaN   \n",
       "3            NaN            NaN            NaN            NaN            NaN   \n",
       "4            NaN            NaN            NaN            NaN            NaN   \n",
       "\n",
       "   Unnamed: 1022  Unnamed: 1023  \n",
       "0            NaN            NaN  \n",
       "1            NaN            NaN  \n",
       "2            NaN            NaN  \n",
       "3            NaN            NaN  \n",
       "4            NaN            NaN  \n",
       "\n",
       "[5 rows x 1024 columns]"
      ]
     },
     "execution_count": 3,
     "metadata": {},
     "output_type": "execute_result"
    }
   ],
   "source": [
    "df.head(5)"
   ]
  },
  {
   "cell_type": "code",
   "execution_count": 4,
   "id": "6cee92a7",
   "metadata": {},
   "outputs": [
    {
     "data": {
      "text/plain": [
       "Index(['ISO code', 'Sex', 'Age', 'Height', 'Weight', 'Continent', 'World Bank',\n",
       "       'Wasting', 'Overweight', 'Stunting',\n",
       "       ...\n",
       "       'Unnamed: 1014', 'Unnamed: 1015', 'Unnamed: 1016', 'Unnamed: 1017',\n",
       "       'Unnamed: 1018', 'Unnamed: 1019', 'Unnamed: 1020', 'Unnamed: 1021',\n",
       "       'Unnamed: 1022', 'Unnamed: 1023'],\n",
       "      dtype='object', length=1024)"
      ]
     },
     "execution_count": 4,
     "metadata": {},
     "output_type": "execute_result"
    }
   ],
   "source": [
    "df.columns"
   ]
  },
  {
   "cell_type": "code",
   "execution_count": 5,
   "id": "806088ea",
   "metadata": {
    "scrolled": true
   },
   "outputs": [
    {
     "name": "stdout",
     "output_type": "stream",
     "text": [
      "4.9     13\n",
      "4.7     13\n",
      "4.0     12\n",
      "6.2     11\n",
      "1.6     11\n",
      "        ..\n",
      "13.2     1\n",
      "23.4     1\n",
      "25.2     1\n",
      "20.8     1\n",
      "10.6     1\n",
      "Name: Overweight, Length: 175, dtype: int64\n"
     ]
    }
   ],
   "source": [
    "column_counts = df['Overweight'].value_counts()\n",
    "\n",
    "print(column_counts)"
   ]
  },
  {
   "cell_type": "code",
   "execution_count": 6,
   "id": "431a9322",
   "metadata": {},
   "outputs": [],
   "source": [
    "df['Overweight'] = df['Overweight'].astype(float)"
   ]
  },
  {
   "cell_type": "code",
   "execution_count": 7,
   "id": "57eb8e11",
   "metadata": {},
   "outputs": [
    {
     "data": {
      "text/plain": [
       "World Bank\n",
       "Low Income             4.308609\n",
       "Lower Middle Income    6.026692\n",
       "High Income            8.050000\n",
       "Upper Middle Income    8.503518\n",
       "Name: Overweight, dtype: float64"
      ]
     },
     "execution_count": 7,
     "metadata": {},
     "output_type": "execute_result"
    }
   ],
   "source": [
    "df2 = df.groupby('World Bank')['Overweight'].mean().sort_values()\n",
    "df2"
   ]
  },
  {
   "cell_type": "code",
   "execution_count": 8,
   "id": "fc19ff7d",
   "metadata": {
    "scrolled": true
   },
   "outputs": [
    {
     "data": {
      "text/plain": [
       "Text(0.5, 1.0, 'Child Average Weight Ratings By Income')"
      ]
     },
     "execution_count": 8,
     "metadata": {},
     "output_type": "execute_result"
    },
    {
     "data": {
      "image/png": "[encoded data removed]",
      "text/plain": [
       "<Figure size 1200x1200 with 1 Axes>"
      ]
     },
     "metadata": {},
     "output_type": "display_data"
    }
   ],
   "source": [
    "plt.figure(figsize = (12, 12))\n",
    "df2.plot(kind = 'barh')\n",
    "\n",
    "plt.title(\"Child Average Weight Ratings By Income\")"
   ]
  },
  {
   "cell_type": "code",
   "execution_count": 9,
   "id": "95930d0f",
   "metadata": {},
   "outputs": [
    {
     "data": {
      "text/plain": [
       "pandas.core.series.Series"
      ]
     },
     "execution_count": 9,
     "metadata": {},
     "output_type": "execute_result"
    }
   ],
   "source": [
    "type(df2)"
   ]
  },
  {
   "cell_type": "code",
   "execution_count": 10,
   "id": "2e9de065",
   "metadata": {},
   "outputs": [
    {
     "data": {
      "text/plain": [
       "Continent\n",
       "Asia                                5.809417\n",
       "Africa                              6.083137\n",
       "Oceania                             6.372222\n",
       "Latin America and the Caribbean     7.117532\n",
       "Northern America                    7.450000\n",
       "Europe                             13.967857\n",
       "Name: Overweight, dtype: float64"
      ]
     },
     "execution_count": 10,
     "metadata": {},
     "output_type": "execute_result"
    }
   ],
   "source": [
    "df3 = df.groupby('Continent')['Overweight'].mean().sort_values()\n",
    "df3"
   ]
  },
  {
   "cell_type": "code",
   "execution_count": 11,
   "id": "3b74fef1",
   "metadata": {},
   "outputs": [
    {
     "data": {
      "text/plain": [
       "Text(0.5, 1.0, 'Child Average Weight Ratings By Continent')"
      ]
     },
     "execution_count": 11,
     "metadata": {},
     "output_type": "execute_result"
    },
    {
     "data": {
      "image/png": "[encoded data removed]",
      "text/plain": [
       "<Figure size 1200x1200 with 1 Axes>"
      ]
     },
     "metadata": {},
     "output_type": "display_data"
    }
   ],
   "source": [
    "plt.figure(figsize = (12, 12))\n",
    "df3.plot(kind = 'barh')\n",
    "\n",
    "plt.title(\"Child Average Weight Ratings By Continent\")\n",
    "\n"
   ]
  },
  {
   "cell_type": "code",
   "execution_count": null,
   "id": "38128d1c",
   "metadata": {},
   "outputs": [],
   "source": []
  }
 ],
 "metadata": {
  "kernelspec": {
   "display_name": "Python 3 (ipykernel)",
   "language": "python",
   "name": "python3"
  },
  "language_info": {
   "codemirror_mode": {
    "name": "ipython",
    "version": 3
   },
   "file_extension": ".py",
   "mimetype": "text/x-python",
   "name": "python",
   "nbconvert_exporter": "python",
   "pygments_lexer": "ipython3",
   "version": "3.10.9"
  }
 },
 "nbformat": 4,
 "nbformat_minor": 5
}
