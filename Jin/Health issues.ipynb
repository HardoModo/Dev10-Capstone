{
 "cells": [
  {
   "cell_type": "markdown",
   "id": "6a428299",
   "metadata": {},
   "source": [
    "# The United States has faced a significant challenge regarding the relationship between food consumption and health issues.\n",
    "* food causing health issues in USA \n",
    "* Rise in Chronic Diseases:increase in case of diabetes, heart diseases, and certain types of cancer. \n",
    "* These conditions are closely linked to poor dietary choices, such as excessive consumption of sugary beverages, fast food, and processed snacks.\n",
    "* Increasing Obesity Rates:"
   ]
  },
  {
   "cell_type": "markdown",
   "id": "409a2b50",
   "metadata": {},
   "source": [
    "## Extract"
   ]
  },
  {
   "cell_type": "code",
   "execution_count": 43,
   "id": "226441a7",
   "metadata": {},
   "outputs": [],
   "source": [
    "import pandas as pd \n",
    "import numpy as np\n",
    "import matplotlib.pyplot as plt\n",
    "import plotly as pl\n",
    "import seaborn as sns"
   ]
  },
  {
   "cell_type": "code",
   "execution_count": 44,
   "id": "59f639b3",
   "metadata": {},
   "outputs": [],
   "source": [
    "df = pd.read_csv('data/PLACES__Local_Data_for_Better_Health__County_Data_2022_release.csv')"
   ]
  },
  {
   "cell_type": "code",
   "execution_count": 3,
   "id": "f05ed6cb",
   "metadata": {},
   "outputs": [
    {
     "data": {
      "text/html": [
       "<div>\n",
       "<style scoped>\n",
       "    .dataframe tbody tr th:only-of-type {\n",
       "        vertical-align: middle;\n",
       "    }\n",
       "\n",
       "    .dataframe tbody tr th {\n",
       "        vertical-align: top;\n",
       "    }\n",
       "\n",
       "    .dataframe thead th {\n",
       "        text-align: right;\n",
       "    }\n",
       "</style>\n",
       "<table border=\"1\" class=\"dataframe\">\n",
       "  <thead>\n",
       "    <tr style=\"text-align: right;\">\n",
       "      <th></th>\n",
       "      <th>Year</th>\n",
       "      <th>StateAbbr</th>\n",
       "      <th>StateDesc</th>\n",
       "      <th>LocationName</th>\n",
       "      <th>DataSource</th>\n",
       "      <th>Category</th>\n",
       "      <th>Measure</th>\n",
       "      <th>Data_Value_Unit</th>\n",
       "      <th>Data_Value_Type</th>\n",
       "      <th>Data_Value</th>\n",
       "      <th>...</th>\n",
       "      <th>High_Confidence_Limit</th>\n",
       "      <th>TotalPopulation</th>\n",
       "      <th>LocationID</th>\n",
       "      <th>CategoryID</th>\n",
       "      <th>MeasureId</th>\n",
       "      <th>DataValueTypeID</th>\n",
       "      <th>Short_Question_Text</th>\n",
       "      <th>Geolocation</th>\n",
       "      <th>States</th>\n",
       "      <th>Counties</th>\n",
       "    </tr>\n",
       "  </thead>\n",
       "  <tbody>\n",
       "    <tr>\n",
       "      <th>0</th>\n",
       "      <td>2020</td>\n",
       "      <td>WY</td>\n",
       "      <td>Wyoming</td>\n",
       "      <td>Teton</td>\n",
       "      <td>BRFSS</td>\n",
       "      <td>Health Status</td>\n",
       "      <td>Physical health not good for &gt;=14 days among a...</td>\n",
       "      <td>%</td>\n",
       "      <td>Crude prevalence</td>\n",
       "      <td>7.3</td>\n",
       "      <td>...</td>\n",
       "      <td>8.2</td>\n",
       "      <td>23497</td>\n",
       "      <td>56039</td>\n",
       "      <td>HLTHSTAT</td>\n",
       "      <td>PHLTH</td>\n",
       "      <td>CrdPrv</td>\n",
       "      <td>Physical Health</td>\n",
       "      <td>POINT (-110.426087 44.048662)</td>\n",
       "      <td>14.0</td>\n",
       "      <td>3126.0</td>\n",
       "    </tr>\n",
       "    <tr>\n",
       "      <th>1</th>\n",
       "      <td>2020</td>\n",
       "      <td>WY</td>\n",
       "      <td>Wyoming</td>\n",
       "      <td>Goshen</td>\n",
       "      <td>BRFSS</td>\n",
       "      <td>Health Status</td>\n",
       "      <td>Fair or poor self-rated health status among ad...</td>\n",
       "      <td>%</td>\n",
       "      <td>Crude prevalence</td>\n",
       "      <td>13.8</td>\n",
       "      <td>...</td>\n",
       "      <td>15.8</td>\n",
       "      <td>13235</td>\n",
       "      <td>56015</td>\n",
       "      <td>HLTHSTAT</td>\n",
       "      <td>GHLTH</td>\n",
       "      <td>CrdPrv</td>\n",
       "      <td>General Health</td>\n",
       "      <td>POINT (-104.3535403 42.0894553)</td>\n",
       "      <td>14.0</td>\n",
       "      <td>890.0</td>\n",
       "    </tr>\n",
       "    <tr>\n",
       "      <th>2</th>\n",
       "      <td>2020</td>\n",
       "      <td>WY</td>\n",
       "      <td>Wyoming</td>\n",
       "      <td>Laramie</td>\n",
       "      <td>BRFSS</td>\n",
       "      <td>Prevention</td>\n",
       "      <td>Fecal occult blood test, sigmoidoscopy, or col...</td>\n",
       "      <td>%</td>\n",
       "      <td>Age-adjusted prevalence</td>\n",
       "      <td>61.6</td>\n",
       "      <td>...</td>\n",
       "      <td>64.6</td>\n",
       "      <td>100595</td>\n",
       "      <td>56021</td>\n",
       "      <td>PREVENT</td>\n",
       "      <td>COLON_SCREEN</td>\n",
       "      <td>AgeAdjPrv</td>\n",
       "      <td>Colorectal Cancer Screening</td>\n",
       "      <td>POINT (-104.660395 41.2928302)</td>\n",
       "      <td>14.0</td>\n",
       "      <td>3119.0</td>\n",
       "    </tr>\n",
       "  </tbody>\n",
       "</table>\n",
       "<p>3 rows × 23 columns</p>\n",
       "</div>"
      ],
      "text/plain": [
       "   Year StateAbbr StateDesc LocationName DataSource       Category  \\\n",
       "0  2020        WY   Wyoming        Teton      BRFSS  Health Status   \n",
       "1  2020        WY   Wyoming       Goshen      BRFSS  Health Status   \n",
       "2  2020        WY   Wyoming      Laramie      BRFSS     Prevention   \n",
       "\n",
       "                                             Measure Data_Value_Unit  \\\n",
       "0  Physical health not good for >=14 days among a...               %   \n",
       "1  Fair or poor self-rated health status among ad...               %   \n",
       "2  Fecal occult blood test, sigmoidoscopy, or col...               %   \n",
       "\n",
       "           Data_Value_Type  Data_Value  ...  High_Confidence_Limit  \\\n",
       "0         Crude prevalence         7.3  ...                    8.2   \n",
       "1         Crude prevalence        13.8  ...                   15.8   \n",
       "2  Age-adjusted prevalence        61.6  ...                   64.6   \n",
       "\n",
       "   TotalPopulation  LocationID  CategoryID     MeasureId  DataValueTypeID  \\\n",
       "0            23497       56039    HLTHSTAT         PHLTH           CrdPrv   \n",
       "1            13235       56015    HLTHSTAT         GHLTH           CrdPrv   \n",
       "2           100595       56021     PREVENT  COLON_SCREEN        AgeAdjPrv   \n",
       "\n",
       "           Short_Question_Text                      Geolocation States  \\\n",
       "0              Physical Health    POINT (-110.426087 44.048662)   14.0   \n",
       "1               General Health  POINT (-104.3535403 42.0894553)   14.0   \n",
       "2  Colorectal Cancer Screening   POINT (-104.660395 41.2928302)   14.0   \n",
       "\n",
       "  Counties  \n",
       "0   3126.0  \n",
       "1    890.0  \n",
       "2   3119.0  \n",
       "\n",
       "[3 rows x 23 columns]"
      ]
     },
     "execution_count": 3,
     "metadata": {},
     "output_type": "execute_result"
    }
   ],
   "source": [
    "df.head(3)"
   ]
  },
  {
   "cell_type": "code",
   "execution_count": 4,
   "id": "0f2d38b1",
   "metadata": {},
   "outputs": [
    {
     "data": {
      "text/plain": [
       "Index(['Year', 'StateAbbr', 'StateDesc', 'LocationName', 'DataSource',\n",
       "       'Category', 'Measure', 'Data_Value_Unit', 'Data_Value_Type',\n",
       "       'Data_Value', 'Data_Value_Footnote_Symbol', 'Data_Value_Footnote',\n",
       "       'Low_Confidence_Limit', 'High_Confidence_Limit', 'TotalPopulation',\n",
       "       'LocationID', 'CategoryID', 'MeasureId', 'DataValueTypeID',\n",
       "       'Short_Question_Text', 'Geolocation', 'States', 'Counties'],\n",
       "      dtype='object')"
      ]
     },
     "execution_count": 4,
     "metadata": {},
     "output_type": "execute_result"
    }
   ],
   "source": [
    "df.columns"
   ]
  },
  {
   "cell_type": "code",
   "execution_count": 5,
   "id": "711364eb",
   "metadata": {},
   "outputs": [
    {
     "data": {
      "text/html": [
       "<div>\n",
       "<style scoped>\n",
       "    .dataframe tbody tr th:only-of-type {\n",
       "        vertical-align: middle;\n",
       "    }\n",
       "\n",
       "    .dataframe tbody tr th {\n",
       "        vertical-align: top;\n",
       "    }\n",
       "\n",
       "    .dataframe thead th {\n",
       "        text-align: right;\n",
       "    }\n",
       "</style>\n",
       "<table border=\"1\" class=\"dataframe\">\n",
       "  <thead>\n",
       "    <tr style=\"text-align: right;\">\n",
       "      <th></th>\n",
       "      <th>Year</th>\n",
       "      <th>Data_Value</th>\n",
       "      <th>Data_Value_Footnote_Symbol</th>\n",
       "      <th>Data_Value_Footnote</th>\n",
       "      <th>Low_Confidence_Limit</th>\n",
       "      <th>High_Confidence_Limit</th>\n",
       "      <th>TotalPopulation</th>\n",
       "      <th>LocationID</th>\n",
       "      <th>States</th>\n",
       "      <th>Counties</th>\n",
       "    </tr>\n",
       "  </thead>\n",
       "  <tbody>\n",
       "    <tr>\n",
       "      <th>count</th>\n",
       "      <td>188456.000000</td>\n",
       "      <td>188456.000000</td>\n",
       "      <td>0.0</td>\n",
       "      <td>0.0</td>\n",
       "      <td>188456.000000</td>\n",
       "      <td>188456.000000</td>\n",
       "      <td>1.884560e+05</td>\n",
       "      <td>188456.000000</td>\n",
       "      <td>187264.000000</td>\n",
       "      <td>187796.000000</td>\n",
       "    </tr>\n",
       "    <tr>\n",
       "      <th>mean</th>\n",
       "      <td>2019.867513</td>\n",
       "      <td>31.896487</td>\n",
       "      <td>NaN</td>\n",
       "      <td>NaN</td>\n",
       "      <td>29.873414</td>\n",
       "      <td>33.948199</td>\n",
       "      <td>2.100483e+05</td>\n",
       "      <td>30364.077663</td>\n",
       "      <td>26.591998</td>\n",
       "      <td>1592.431170</td>\n",
       "    </tr>\n",
       "    <tr>\n",
       "      <th>std</th>\n",
       "      <td>0.339021</td>\n",
       "      <td>25.146364</td>\n",
       "      <td>NaN</td>\n",
       "      <td>NaN</td>\n",
       "      <td>24.605952</td>\n",
       "      <td>25.746179</td>\n",
       "      <td>5.920674e+06</td>\n",
       "      <td>15178.245358</td>\n",
       "      <td>13.245072</td>\n",
       "      <td>920.086786</td>\n",
       "    </tr>\n",
       "    <tr>\n",
       "      <th>min</th>\n",
       "      <td>2019.000000</td>\n",
       "      <td>1.700000</td>\n",
       "      <td>NaN</td>\n",
       "      <td>NaN</td>\n",
       "      <td>1.500000</td>\n",
       "      <td>1.900000</td>\n",
       "      <td>8.700000e+01</td>\n",
       "      <td>59.000000</td>\n",
       "      <td>1.000000</td>\n",
       "      <td>1.000000</td>\n",
       "    </tr>\n",
       "    <tr>\n",
       "      <th>25%</th>\n",
       "      <td>2020.000000</td>\n",
       "      <td>11.300000</td>\n",
       "      <td>NaN</td>\n",
       "      <td>NaN</td>\n",
       "      <td>9.900000</td>\n",
       "      <td>12.800000</td>\n",
       "      <td>1.086700e+04</td>\n",
       "      <td>18173.000000</td>\n",
       "      <td>17.000000</td>\n",
       "      <td>786.000000</td>\n",
       "    </tr>\n",
       "    <tr>\n",
       "      <th>50%</th>\n",
       "      <td>2020.000000</td>\n",
       "      <td>23.600000</td>\n",
       "      <td>NaN</td>\n",
       "      <td>NaN</td>\n",
       "      <td>21.700000</td>\n",
       "      <td>25.700000</td>\n",
       "      <td>2.558100e+04</td>\n",
       "      <td>29171.000000</td>\n",
       "      <td>29.000000</td>\n",
       "      <td>1598.000000</td>\n",
       "    </tr>\n",
       "    <tr>\n",
       "      <th>75%</th>\n",
       "      <td>2020.000000</td>\n",
       "      <td>44.100000</td>\n",
       "      <td>NaN</td>\n",
       "      <td>NaN</td>\n",
       "      <td>39.300000</td>\n",
       "      <td>50.800000</td>\n",
       "      <td>6.822400e+04</td>\n",
       "      <td>45081.000000</td>\n",
       "      <td>37.000000</td>\n",
       "      <td>2383.000000</td>\n",
       "    </tr>\n",
       "    <tr>\n",
       "      <th>max</th>\n",
       "      <td>2020.000000</td>\n",
       "      <td>93.200000</td>\n",
       "      <td>NaN</td>\n",
       "      <td>NaN</td>\n",
       "      <td>92.600000</td>\n",
       "      <td>93.700000</td>\n",
       "      <td>3.314493e+08</td>\n",
       "      <td>56045.000000</td>\n",
       "      <td>51.000000</td>\n",
       "      <td>3221.000000</td>\n",
       "    </tr>\n",
       "  </tbody>\n",
       "</table>\n",
       "</div>"
      ],
      "text/plain": [
       "                Year     Data_Value  Data_Value_Footnote_Symbol  \\\n",
       "count  188456.000000  188456.000000                         0.0   \n",
       "mean     2019.867513      31.896487                         NaN   \n",
       "std         0.339021      25.146364                         NaN   \n",
       "min      2019.000000       1.700000                         NaN   \n",
       "25%      2020.000000      11.300000                         NaN   \n",
       "50%      2020.000000      23.600000                         NaN   \n",
       "75%      2020.000000      44.100000                         NaN   \n",
       "max      2020.000000      93.200000                         NaN   \n",
       "\n",
       "       Data_Value_Footnote  Low_Confidence_Limit  High_Confidence_Limit  \\\n",
       "count                  0.0         188456.000000          188456.000000   \n",
       "mean                   NaN             29.873414              33.948199   \n",
       "std                    NaN             24.605952              25.746179   \n",
       "min                    NaN              1.500000               1.900000   \n",
       "25%                    NaN              9.900000              12.800000   \n",
       "50%                    NaN             21.700000              25.700000   \n",
       "75%                    NaN             39.300000              50.800000   \n",
       "max                    NaN             92.600000              93.700000   \n",
       "\n",
       "       TotalPopulation     LocationID         States       Counties  \n",
       "count     1.884560e+05  188456.000000  187264.000000  187796.000000  \n",
       "mean      2.100483e+05   30364.077663      26.591998    1592.431170  \n",
       "std       5.920674e+06   15178.245358      13.245072     920.086786  \n",
       "min       8.700000e+01      59.000000       1.000000       1.000000  \n",
       "25%       1.086700e+04   18173.000000      17.000000     786.000000  \n",
       "50%       2.558100e+04   29171.000000      29.000000    1598.000000  \n",
       "75%       6.822400e+04   45081.000000      37.000000    2383.000000  \n",
       "max       3.314493e+08   56045.000000      51.000000    3221.000000  "
      ]
     },
     "execution_count": 5,
     "metadata": {},
     "output_type": "execute_result"
    }
   ],
   "source": [
    "df.describe()"
   ]
  },
  {
   "cell_type": "markdown",
   "id": "f3069112",
   "metadata": {},
   "source": [
    "## Cleaning the data"
   ]
  },
  {
   "cell_type": "markdown",
   "id": "06c80c1c",
   "metadata": {},
   "source": []
  },
  {
   "cell_type": "code",
   "execution_count": 45,
   "id": "7fe30ab2",
   "metadata": {},
   "outputs": [
    {
     "data": {
      "text/html": [
       "<div>\n",
       "<style scoped>\n",
       "    .dataframe tbody tr th:only-of-type {\n",
       "        vertical-align: middle;\n",
       "    }\n",
       "\n",
       "    .dataframe tbody tr th {\n",
       "        vertical-align: top;\n",
       "    }\n",
       "\n",
       "    .dataframe thead th {\n",
       "        text-align: right;\n",
       "    }\n",
       "</style>\n",
       "<table border=\"1\" class=\"dataframe\">\n",
       "  <thead>\n",
       "    <tr style=\"text-align: right;\">\n",
       "      <th></th>\n",
       "      <th>Year</th>\n",
       "      <th>StateAbbr</th>\n",
       "      <th>StateDesc</th>\n",
       "      <th>LocationName</th>\n",
       "      <th>DataSource</th>\n",
       "      <th>Category</th>\n",
       "      <th>Measure</th>\n",
       "      <th>Data_Value_Unit</th>\n",
       "      <th>Data_Value_Type</th>\n",
       "      <th>Data_Value</th>\n",
       "      <th>...</th>\n",
       "      <th>High_Confidence_Limit</th>\n",
       "      <th>TotalPopulation</th>\n",
       "      <th>LocationID</th>\n",
       "      <th>CategoryID</th>\n",
       "      <th>MeasureId</th>\n",
       "      <th>DataValueTypeID</th>\n",
       "      <th>Short_Question_Text</th>\n",
       "      <th>Geolocation</th>\n",
       "      <th>States</th>\n",
       "      <th>Counties</th>\n",
       "    </tr>\n",
       "  </thead>\n",
       "  <tbody>\n",
       "    <tr>\n",
       "      <th>0</th>\n",
       "      <td>2020</td>\n",
       "      <td>WY</td>\n",
       "      <td>Wyoming</td>\n",
       "      <td>Teton</td>\n",
       "      <td>BRFSS</td>\n",
       "      <td>Health Status</td>\n",
       "      <td>Physical health not good for &gt;=14 days among a...</td>\n",
       "      <td>%</td>\n",
       "      <td>Crude prevalence</td>\n",
       "      <td>7.3</td>\n",
       "      <td>...</td>\n",
       "      <td>8.2</td>\n",
       "      <td>23497</td>\n",
       "      <td>56039</td>\n",
       "      <td>HLTHSTAT</td>\n",
       "      <td>PHLTH</td>\n",
       "      <td>CrdPrv</td>\n",
       "      <td>Physical Health</td>\n",
       "      <td>POINT (-110.426087 44.048662)</td>\n",
       "      <td>14.0</td>\n",
       "      <td>3126.0</td>\n",
       "    </tr>\n",
       "    <tr>\n",
       "      <th>1</th>\n",
       "      <td>2020</td>\n",
       "      <td>WY</td>\n",
       "      <td>Wyoming</td>\n",
       "      <td>Goshen</td>\n",
       "      <td>BRFSS</td>\n",
       "      <td>Health Status</td>\n",
       "      <td>Fair or poor self-rated health status among ad...</td>\n",
       "      <td>%</td>\n",
       "      <td>Crude prevalence</td>\n",
       "      <td>13.8</td>\n",
       "      <td>...</td>\n",
       "      <td>15.8</td>\n",
       "      <td>13235</td>\n",
       "      <td>56015</td>\n",
       "      <td>HLTHSTAT</td>\n",
       "      <td>GHLTH</td>\n",
       "      <td>CrdPrv</td>\n",
       "      <td>General Health</td>\n",
       "      <td>POINT (-104.3535403 42.0894553)</td>\n",
       "      <td>14.0</td>\n",
       "      <td>890.0</td>\n",
       "    </tr>\n",
       "    <tr>\n",
       "      <th>2</th>\n",
       "      <td>2020</td>\n",
       "      <td>WY</td>\n",
       "      <td>Wyoming</td>\n",
       "      <td>Laramie</td>\n",
       "      <td>BRFSS</td>\n",
       "      <td>Prevention</td>\n",
       "      <td>Fecal occult blood test, sigmoidoscopy, or col...</td>\n",
       "      <td>%</td>\n",
       "      <td>Age-adjusted prevalence</td>\n",
       "      <td>61.6</td>\n",
       "      <td>...</td>\n",
       "      <td>64.6</td>\n",
       "      <td>100595</td>\n",
       "      <td>56021</td>\n",
       "      <td>PREVENT</td>\n",
       "      <td>COLON_SCREEN</td>\n",
       "      <td>AgeAdjPrv</td>\n",
       "      <td>Colorectal Cancer Screening</td>\n",
       "      <td>POINT (-104.660395 41.2928302)</td>\n",
       "      <td>14.0</td>\n",
       "      <td>3119.0</td>\n",
       "    </tr>\n",
       "  </tbody>\n",
       "</table>\n",
       "<p>3 rows × 23 columns</p>\n",
       "</div>"
      ],
      "text/plain": [
       "   Year StateAbbr StateDesc LocationName DataSource       Category  \\\n",
       "0  2020        WY   Wyoming        Teton      BRFSS  Health Status   \n",
       "1  2020        WY   Wyoming       Goshen      BRFSS  Health Status   \n",
       "2  2020        WY   Wyoming      Laramie      BRFSS     Prevention   \n",
       "\n",
       "                                             Measure Data_Value_Unit  \\\n",
       "0  Physical health not good for >=14 days among a...               %   \n",
       "1  Fair or poor self-rated health status among ad...               %   \n",
       "2  Fecal occult blood test, sigmoidoscopy, or col...               %   \n",
       "\n",
       "           Data_Value_Type  Data_Value  ...  High_Confidence_Limit  \\\n",
       "0         Crude prevalence         7.3  ...                    8.2   \n",
       "1         Crude prevalence        13.8  ...                   15.8   \n",
       "2  Age-adjusted prevalence        61.6  ...                   64.6   \n",
       "\n",
       "   TotalPopulation  LocationID  CategoryID     MeasureId  DataValueTypeID  \\\n",
       "0            23497       56039    HLTHSTAT         PHLTH           CrdPrv   \n",
       "1            13235       56015    HLTHSTAT         GHLTH           CrdPrv   \n",
       "2           100595       56021     PREVENT  COLON_SCREEN        AgeAdjPrv   \n",
       "\n",
       "           Short_Question_Text                      Geolocation States  \\\n",
       "0              Physical Health    POINT (-110.426087 44.048662)   14.0   \n",
       "1               General Health  POINT (-104.3535403 42.0894553)   14.0   \n",
       "2  Colorectal Cancer Screening   POINT (-104.660395 41.2928302)   14.0   \n",
       "\n",
       "  Counties  \n",
       "0   3126.0  \n",
       "1    890.0  \n",
       "2   3119.0  \n",
       "\n",
       "[3 rows x 23 columns]"
      ]
     },
     "execution_count": 45,
     "metadata": {},
     "output_type": "execute_result"
    }
   ],
   "source": [
    "df.dropna()\n",
    "df.head(3)"
   ]
  },
  {
   "cell_type": "code",
   "execution_count": 46,
   "id": "202a40a1",
   "metadata": {},
   "outputs": [
    {
     "data": {
      "text/html": [
       "<div>\n",
       "<style scoped>\n",
       "    .dataframe tbody tr th:only-of-type {\n",
       "        vertical-align: middle;\n",
       "    }\n",
       "\n",
       "    .dataframe tbody tr th {\n",
       "        vertical-align: top;\n",
       "    }\n",
       "\n",
       "    .dataframe thead th {\n",
       "        text-align: right;\n",
       "    }\n",
       "</style>\n",
       "<table border=\"1\" class=\"dataframe\">\n",
       "  <thead>\n",
       "    <tr style=\"text-align: right;\">\n",
       "      <th></th>\n",
       "      <th>Year</th>\n",
       "      <th>StateAbbr</th>\n",
       "      <th>StateDesc</th>\n",
       "      <th>LocationName</th>\n",
       "      <th>DataSource</th>\n",
       "      <th>Category</th>\n",
       "      <th>Measure</th>\n",
       "      <th>Data_Value_Unit</th>\n",
       "      <th>Data_Value_Type</th>\n",
       "      <th>Data_Value</th>\n",
       "      <th>...</th>\n",
       "      <th>High_Confidence_Limit</th>\n",
       "      <th>TotalPopulation</th>\n",
       "      <th>LocationID</th>\n",
       "      <th>CategoryID</th>\n",
       "      <th>MeasureId</th>\n",
       "      <th>DataValueTypeID</th>\n",
       "      <th>Short_Question_Text</th>\n",
       "      <th>Geolocation</th>\n",
       "      <th>States</th>\n",
       "      <th>Counties</th>\n",
       "    </tr>\n",
       "  </thead>\n",
       "  <tbody>\n",
       "    <tr>\n",
       "      <th>0</th>\n",
       "      <td>2020</td>\n",
       "      <td>WY</td>\n",
       "      <td>Wyoming</td>\n",
       "      <td>Teton</td>\n",
       "      <td>BRFSS</td>\n",
       "      <td>Health Status</td>\n",
       "      <td>Physical health not good for &gt;=14 days among a...</td>\n",
       "      <td>%</td>\n",
       "      <td>Crude prevalence</td>\n",
       "      <td>7.3</td>\n",
       "      <td>...</td>\n",
       "      <td>8.2</td>\n",
       "      <td>23497</td>\n",
       "      <td>56039</td>\n",
       "      <td>HLTHSTAT</td>\n",
       "      <td>PHLTH</td>\n",
       "      <td>CrdPrv</td>\n",
       "      <td>Physical Health</td>\n",
       "      <td>POINT (-110.426087 44.048662)</td>\n",
       "      <td>14.0</td>\n",
       "      <td>3126.0</td>\n",
       "    </tr>\n",
       "    <tr>\n",
       "      <th>1</th>\n",
       "      <td>2020</td>\n",
       "      <td>WY</td>\n",
       "      <td>Wyoming</td>\n",
       "      <td>Goshen</td>\n",
       "      <td>BRFSS</td>\n",
       "      <td>Health Status</td>\n",
       "      <td>Fair or poor self-rated health status among ad...</td>\n",
       "      <td>%</td>\n",
       "      <td>Crude prevalence</td>\n",
       "      <td>13.8</td>\n",
       "      <td>...</td>\n",
       "      <td>15.8</td>\n",
       "      <td>13235</td>\n",
       "      <td>56015</td>\n",
       "      <td>HLTHSTAT</td>\n",
       "      <td>GHLTH</td>\n",
       "      <td>CrdPrv</td>\n",
       "      <td>General Health</td>\n",
       "      <td>POINT (-104.3535403 42.0894553)</td>\n",
       "      <td>14.0</td>\n",
       "      <td>890.0</td>\n",
       "    </tr>\n",
       "    <tr>\n",
       "      <th>2</th>\n",
       "      <td>2020</td>\n",
       "      <td>WY</td>\n",
       "      <td>Wyoming</td>\n",
       "      <td>Laramie</td>\n",
       "      <td>BRFSS</td>\n",
       "      <td>Prevention</td>\n",
       "      <td>Fecal occult blood test, sigmoidoscopy, or col...</td>\n",
       "      <td>%</td>\n",
       "      <td>Age-adjusted prevalence</td>\n",
       "      <td>61.6</td>\n",
       "      <td>...</td>\n",
       "      <td>64.6</td>\n",
       "      <td>100595</td>\n",
       "      <td>56021</td>\n",
       "      <td>PREVENT</td>\n",
       "      <td>COLON_SCREEN</td>\n",
       "      <td>AgeAdjPrv</td>\n",
       "      <td>Colorectal Cancer Screening</td>\n",
       "      <td>POINT (-104.660395 41.2928302)</td>\n",
       "      <td>14.0</td>\n",
       "      <td>3119.0</td>\n",
       "    </tr>\n",
       "  </tbody>\n",
       "</table>\n",
       "<p>3 rows × 23 columns</p>\n",
       "</div>"
      ],
      "text/plain": [
       "   Year StateAbbr StateDesc LocationName DataSource       Category  \\\n",
       "0  2020        WY   Wyoming        Teton      BRFSS  Health Status   \n",
       "1  2020        WY   Wyoming       Goshen      BRFSS  Health Status   \n",
       "2  2020        WY   Wyoming      Laramie      BRFSS     Prevention   \n",
       "\n",
       "                                             Measure Data_Value_Unit  \\\n",
       "0  Physical health not good for >=14 days among a...               %   \n",
       "1  Fair or poor self-rated health status among ad...               %   \n",
       "2  Fecal occult blood test, sigmoidoscopy, or col...               %   \n",
       "\n",
       "           Data_Value_Type  Data_Value  ...  High_Confidence_Limit  \\\n",
       "0         Crude prevalence         7.3  ...                    8.2   \n",
       "1         Crude prevalence        13.8  ...                   15.8   \n",
       "2  Age-adjusted prevalence        61.6  ...                   64.6   \n",
       "\n",
       "   TotalPopulation  LocationID  CategoryID     MeasureId  DataValueTypeID  \\\n",
       "0            23497       56039    HLTHSTAT         PHLTH           CrdPrv   \n",
       "1            13235       56015    HLTHSTAT         GHLTH           CrdPrv   \n",
       "2           100595       56021     PREVENT  COLON_SCREEN        AgeAdjPrv   \n",
       "\n",
       "           Short_Question_Text                      Geolocation States  \\\n",
       "0              Physical Health    POINT (-110.426087 44.048662)   14.0   \n",
       "1               General Health  POINT (-104.3535403 42.0894553)   14.0   \n",
       "2  Colorectal Cancer Screening   POINT (-104.660395 41.2928302)   14.0   \n",
       "\n",
       "  Counties  \n",
       "0   3126.0  \n",
       "1    890.0  \n",
       "2   3119.0  \n",
       "\n",
       "[3 rows x 23 columns]"
      ]
     },
     "execution_count": 46,
     "metadata": {},
     "output_type": "execute_result"
    }
   ],
   "source": [
    "df.drop_duplicates()\n",
    "df.head(3)"
   ]
  },
  {
   "cell_type": "markdown",
   "id": "2c851776",
   "metadata": {},
   "source": [
    "## Machine Learing Model : Linear Regression"
   ]
  },
  {
   "cell_type": "code",
   "execution_count": 8,
   "id": "9913d0b6",
   "metadata": {},
   "outputs": [],
   "source": [
    "from sklearn.linear_model import LinearRegression\n",
    "from sklearn.model_selection import train_test_split\n"
   ]
  },
  {
   "cell_type": "code",
   "execution_count": 9,
   "id": "5f51de0a",
   "metadata": {},
   "outputs": [
    {
     "data": {
      "text/plain": [
       "pandas.core.frame.DataFrame"
      ]
     },
     "execution_count": 9,
     "metadata": {},
     "output_type": "execute_result"
    }
   ],
   "source": [
    "HealthColumns = [\n",
    "              'StateAbbr', 'Category','Data_Value','Short_Question_Text','Measure',\n",
    "              ]\n",
    "Health_df = df[HealthColumns]\n",
    "type(Health_df)"
   ]
  },
  {
   "cell_type": "code",
   "execution_count": 10,
   "id": "d3022ba5",
   "metadata": {},
   "outputs": [
    {
     "name": "stdout",
     "output_type": "stream",
     "text": [
      "<class 'pandas.core.frame.DataFrame'>\n",
      "RangeIndex: 188456 entries, 0 to 188455\n",
      "Data columns (total 5 columns):\n",
      " #   Column               Non-Null Count   Dtype  \n",
      "---  ------               --------------   -----  \n",
      " 0   StateAbbr            188456 non-null  object \n",
      " 1   Category             188456 non-null  object \n",
      " 2   Data_Value           188456 non-null  float64\n",
      " 3   Short_Question_Text  188456 non-null  object \n",
      " 4   Measure              188456 non-null  object \n",
      "dtypes: float64(1), object(4)\n",
      "memory usage: 7.2+ MB\n"
     ]
    }
   ],
   "source": [
    "Health_df.info(verbose=True)"
   ]
  },
  {
   "cell_type": "code",
   "execution_count": 11,
   "id": "d539ee3c",
   "metadata": {},
   "outputs": [
    {
     "data": {
      "text/html": [
       "<div>\n",
       "<style scoped>\n",
       "    .dataframe tbody tr th:only-of-type {\n",
       "        vertical-align: middle;\n",
       "    }\n",
       "\n",
       "    .dataframe tbody tr th {\n",
       "        vertical-align: top;\n",
       "    }\n",
       "\n",
       "    .dataframe thead th {\n",
       "        text-align: right;\n",
       "    }\n",
       "</style>\n",
       "<table border=\"1\" class=\"dataframe\">\n",
       "  <thead>\n",
       "    <tr style=\"text-align: right;\">\n",
       "      <th></th>\n",
       "      <th>StateAbbr</th>\n",
       "      <th>Category</th>\n",
       "      <th>Data_Value</th>\n",
       "      <th>Short_Question_Text</th>\n",
       "      <th>Measure</th>\n",
       "    </tr>\n",
       "  </thead>\n",
       "  <tbody>\n",
       "    <tr>\n",
       "      <th>0</th>\n",
       "      <td>WY</td>\n",
       "      <td>Health Status</td>\n",
       "      <td>7.3</td>\n",
       "      <td>Physical Health</td>\n",
       "      <td>Physical health not good for &gt;=14 days among a...</td>\n",
       "    </tr>\n",
       "    <tr>\n",
       "      <th>1</th>\n",
       "      <td>WY</td>\n",
       "      <td>Health Status</td>\n",
       "      <td>13.8</td>\n",
       "      <td>General Health</td>\n",
       "      <td>Fair or poor self-rated health status among ad...</td>\n",
       "    </tr>\n",
       "    <tr>\n",
       "      <th>2</th>\n",
       "      <td>WY</td>\n",
       "      <td>Prevention</td>\n",
       "      <td>61.6</td>\n",
       "      <td>Colorectal Cancer Screening</td>\n",
       "      <td>Fecal occult blood test, sigmoidoscopy, or col...</td>\n",
       "    </tr>\n",
       "    <tr>\n",
       "      <th>3</th>\n",
       "      <td>WY</td>\n",
       "      <td>Prevention</td>\n",
       "      <td>71.0</td>\n",
       "      <td>Annual Checkup</td>\n",
       "      <td>Visits to doctor for routine checkup within th...</td>\n",
       "    </tr>\n",
       "    <tr>\n",
       "      <th>4</th>\n",
       "      <td>WY</td>\n",
       "      <td>Health Outcomes</td>\n",
       "      <td>5.9</td>\n",
       "      <td>COPD</td>\n",
       "      <td>Chronic obstructive pulmonary disease among ad...</td>\n",
       "    </tr>\n",
       "    <tr>\n",
       "      <th>5</th>\n",
       "      <td>WY</td>\n",
       "      <td>Health Outcomes</td>\n",
       "      <td>9.8</td>\n",
       "      <td>Current Asthma</td>\n",
       "      <td>Current asthma among adults aged &gt;=18 years</td>\n",
       "    </tr>\n",
       "    <tr>\n",
       "      <th>6</th>\n",
       "      <td>WY</td>\n",
       "      <td>Health Outcomes</td>\n",
       "      <td>13.1</td>\n",
       "      <td>All Teeth Lost</td>\n",
       "      <td>All teeth lost among adults aged &gt;=65 years</td>\n",
       "    </tr>\n",
       "  </tbody>\n",
       "</table>\n",
       "</div>"
      ],
      "text/plain": [
       "  StateAbbr         Category  Data_Value          Short_Question_Text  \\\n",
       "0        WY    Health Status         7.3              Physical Health   \n",
       "1        WY    Health Status        13.8               General Health   \n",
       "2        WY       Prevention        61.6  Colorectal Cancer Screening   \n",
       "3        WY       Prevention        71.0               Annual Checkup   \n",
       "4        WY  Health Outcomes         5.9                         COPD   \n",
       "5        WY  Health Outcomes         9.8               Current Asthma   \n",
       "6        WY  Health Outcomes        13.1               All Teeth Lost   \n",
       "\n",
       "                                             Measure  \n",
       "0  Physical health not good for >=14 days among a...  \n",
       "1  Fair or poor self-rated health status among ad...  \n",
       "2  Fecal occult blood test, sigmoidoscopy, or col...  \n",
       "3  Visits to doctor for routine checkup within th...  \n",
       "4  Chronic obstructive pulmonary disease among ad...  \n",
       "5        Current asthma among adults aged >=18 years  \n",
       "6        All teeth lost among adults aged >=65 years  "
      ]
     },
     "execution_count": 11,
     "metadata": {},
     "output_type": "execute_result"
    }
   ],
   "source": [
    "Health_df.head(7)"
   ]
  },
  {
   "cell_type": "code",
   "execution_count": 47,
   "id": "625402d4",
   "metadata": {},
   "outputs": [],
   "source": [
    "selected_values = ['Stroke','Diabetes','Coronary Heart Disease','Obesity']"
   ]
  },
  {
   "cell_type": "code",
   "execution_count": 48,
   "id": "cecd9610",
   "metadata": {},
   "outputs": [
    {
     "data": {
      "text/html": [
       "<div>\n",
       "<style scoped>\n",
       "    .dataframe tbody tr th:only-of-type {\n",
       "        vertical-align: middle;\n",
       "    }\n",
       "\n",
       "    .dataframe tbody tr th {\n",
       "        vertical-align: top;\n",
       "    }\n",
       "\n",
       "    .dataframe thead th {\n",
       "        text-align: right;\n",
       "    }\n",
       "</style>\n",
       "<table border=\"1\" class=\"dataframe\">\n",
       "  <thead>\n",
       "    <tr style=\"text-align: right;\">\n",
       "      <th></th>\n",
       "      <th>StateAbbr</th>\n",
       "      <th>Category</th>\n",
       "      <th>Data_Value</th>\n",
       "      <th>Short_Question_Text</th>\n",
       "      <th>Measure</th>\n",
       "    </tr>\n",
       "  </thead>\n",
       "  <tbody>\n",
       "    <tr>\n",
       "      <th>9</th>\n",
       "      <td>WY</td>\n",
       "      <td>Health Outcomes</td>\n",
       "      <td>2.9</td>\n",
       "      <td>Stroke</td>\n",
       "      <td>Stroke among adults aged &gt;=18 years</td>\n",
       "    </tr>\n",
       "    <tr>\n",
       "      <th>14</th>\n",
       "      <td>WY</td>\n",
       "      <td>Health Outcomes</td>\n",
       "      <td>28.6</td>\n",
       "      <td>Obesity</td>\n",
       "      <td>Obesity among adults aged &gt;=18 years</td>\n",
       "    </tr>\n",
       "    <tr>\n",
       "      <th>17</th>\n",
       "      <td>WY</td>\n",
       "      <td>Health Outcomes</td>\n",
       "      <td>9.0</td>\n",
       "      <td>Diabetes</td>\n",
       "      <td>Diagnosed diabetes among adults aged &gt;=18 years</td>\n",
       "    </tr>\n",
       "    <tr>\n",
       "      <th>30</th>\n",
       "      <td>WY</td>\n",
       "      <td>Health Outcomes</td>\n",
       "      <td>5.8</td>\n",
       "      <td>Coronary Heart Disease</td>\n",
       "      <td>Coronary heart disease among adults aged &gt;=18 ...</td>\n",
       "    </tr>\n",
       "    <tr>\n",
       "      <th>31</th>\n",
       "      <td>WY</td>\n",
       "      <td>Health Outcomes</td>\n",
       "      <td>9.1</td>\n",
       "      <td>Diabetes</td>\n",
       "      <td>Diagnosed diabetes among adults aged &gt;=18 years</td>\n",
       "    </tr>\n",
       "    <tr>\n",
       "      <th>...</th>\n",
       "      <td>...</td>\n",
       "      <td>...</td>\n",
       "      <td>...</td>\n",
       "      <td>...</td>\n",
       "      <td>...</td>\n",
       "    </tr>\n",
       "    <tr>\n",
       "      <th>188406</th>\n",
       "      <td>AL</td>\n",
       "      <td>Health Outcomes</td>\n",
       "      <td>13.5</td>\n",
       "      <td>Diabetes</td>\n",
       "      <td>Diagnosed diabetes among adults aged &gt;=18 years</td>\n",
       "    </tr>\n",
       "    <tr>\n",
       "      <th>188410</th>\n",
       "      <td>AL</td>\n",
       "      <td>Health Outcomes</td>\n",
       "      <td>37.0</td>\n",
       "      <td>Obesity</td>\n",
       "      <td>Obesity among adults aged &gt;=18 years</td>\n",
       "    </tr>\n",
       "    <tr>\n",
       "      <th>188424</th>\n",
       "      <td>AL</td>\n",
       "      <td>Health Outcomes</td>\n",
       "      <td>32.7</td>\n",
       "      <td>Obesity</td>\n",
       "      <td>Obesity among adults aged &gt;=18 years</td>\n",
       "    </tr>\n",
       "    <tr>\n",
       "      <th>188448</th>\n",
       "      <td>AL</td>\n",
       "      <td>Health Outcomes</td>\n",
       "      <td>45.2</td>\n",
       "      <td>Obesity</td>\n",
       "      <td>Obesity among adults aged &gt;=18 years</td>\n",
       "    </tr>\n",
       "    <tr>\n",
       "      <th>188455</th>\n",
       "      <td>AL</td>\n",
       "      <td>Health Outcomes</td>\n",
       "      <td>16.0</td>\n",
       "      <td>Diabetes</td>\n",
       "      <td>Diagnosed diabetes among adults aged &gt;=18 years</td>\n",
       "    </tr>\n",
       "  </tbody>\n",
       "</table>\n",
       "<p>25152 rows × 5 columns</p>\n",
       "</div>"
      ],
      "text/plain": [
       "       StateAbbr         Category  Data_Value     Short_Question_Text  \\\n",
       "9             WY  Health Outcomes         2.9                  Stroke   \n",
       "14            WY  Health Outcomes        28.6                 Obesity   \n",
       "17            WY  Health Outcomes         9.0                Diabetes   \n",
       "30            WY  Health Outcomes         5.8  Coronary Heart Disease   \n",
       "31            WY  Health Outcomes         9.1                Diabetes   \n",
       "...          ...              ...         ...                     ...   \n",
       "188406        AL  Health Outcomes        13.5                Diabetes   \n",
       "188410        AL  Health Outcomes        37.0                 Obesity   \n",
       "188424        AL  Health Outcomes        32.7                 Obesity   \n",
       "188448        AL  Health Outcomes        45.2                 Obesity   \n",
       "188455        AL  Health Outcomes        16.0                Diabetes   \n",
       "\n",
       "                                                  Measure  \n",
       "9                     Stroke among adults aged >=18 years  \n",
       "14                   Obesity among adults aged >=18 years  \n",
       "17        Diagnosed diabetes among adults aged >=18 years  \n",
       "30      Coronary heart disease among adults aged >=18 ...  \n",
       "31        Diagnosed diabetes among adults aged >=18 years  \n",
       "...                                                   ...  \n",
       "188406    Diagnosed diabetes among adults aged >=18 years  \n",
       "188410               Obesity among adults aged >=18 years  \n",
       "188424               Obesity among adults aged >=18 years  \n",
       "188448               Obesity among adults aged >=18 years  \n",
       "188455    Diagnosed diabetes among adults aged >=18 years  \n",
       "\n",
       "[25152 rows x 5 columns]"
      ]
     },
     "execution_count": 48,
     "metadata": {},
     "output_type": "execute_result"
    }
   ],
   "source": [
    "filteredDF = Health_df[Health_df['Short_Question_Text'].isin(selected_values)]\n",
    "filteredDF"
   ]
  },
  {
   "cell_type": "code",
   "execution_count": 49,
   "id": "f5d9a891",
   "metadata": {},
   "outputs": [],
   "source": [
    "X =filteredDF.drop(['Measure','Data_Value'], axis=1)\n",
    "y= filteredDF['Data_Value']"
   ]
  },
  {
   "cell_type": "code",
   "execution_count": 50,
   "id": "e9106526",
   "metadata": {},
   "outputs": [],
   "source": [
    "temp = pd.get_dummies(X['StateAbbr'], drop_first=True)\n",
    "temp2 = pd.get_dummies(X['Category'], drop_first=True)\n",
    "temp3 = pd.get_dummies(X['Short_Question_Text'], drop_first=True)\n",
    "\n"
   ]
  },
  {
   "cell_type": "code",
   "execution_count": 51,
   "id": "99f5133e",
   "metadata": {},
   "outputs": [],
   "source": [
    "X= pd.concat([X, temp, temp2, temp3], axis=1)\n",
    "X = X.drop(columns=['StateAbbr', 'Category','Short_Question_Text'], axis=1)"
   ]
  },
  {
   "cell_type": "code",
   "execution_count": 52,
   "id": "3f5c45cd",
   "metadata": {},
   "outputs": [
    {
     "data": {
      "text/plain": [
       "((18864, 54), (6288, 54), (18864,), (6288,))"
      ]
     },
     "execution_count": 52,
     "metadata": {},
     "output_type": "execute_result"
    }
   ],
   "source": [
    "X_train, X_test, y_train, y_test = train_test_split(X, y, random_state=42, test_size=0.25)\n",
    "X_train.shape, X_test.shape, y_train.shape, y_test.shape"
   ]
  },
  {
   "cell_type": "code",
   "execution_count": 53,
   "id": "596bf5e1",
   "metadata": {},
   "outputs": [],
   "source": [
    "model = LinearRegression()"
   ]
  },
  {
   "cell_type": "code",
   "execution_count": 54,
   "id": "ff483cf7",
   "metadata": {},
   "outputs": [
    {
     "data": {
      "text/html": [
       "<style>#sk-container-id-2 {color: black;background-color: white;}#sk-container-id-2 pre{padding: 0;}#sk-container-id-2 div.sk-toggleable {background-color: white;}#sk-container-id-2 label.sk-toggleable__label {cursor: pointer;display: block;width: 100%;margin-bottom: 0;padding: 0.3em;box-sizing: border-box;text-align: center;}#sk-container-id-2 label.sk-toggleable__label-arrow:before {content: \"▸\";float: left;margin-right: 0.25em;color: #696969;}#sk-container-id-2 label.sk-toggleable__label-arrow:hover:before {color: black;}#sk-container-id-2 div.sk-estimator:hover label.sk-toggleable__label-arrow:before {color: black;}#sk-container-id-2 div.sk-toggleable__content {max-height: 0;max-width: 0;overflow: hidden;text-align: left;background-color: #f0f8ff;}#sk-container-id-2 div.sk-toggleable__content pre {margin: 0.2em;color: black;border-radius: 0.25em;background-color: #f0f8ff;}#sk-container-id-2 input.sk-toggleable__control:checked~div.sk-toggleable__content {max-height: 200px;max-width: 100%;overflow: auto;}#sk-container-id-2 input.sk-toggleable__control:checked~label.sk-toggleable__label-arrow:before {content: \"▾\";}#sk-container-id-2 div.sk-estimator input.sk-toggleable__control:checked~label.sk-toggleable__label {background-color: #d4ebff;}#sk-container-id-2 div.sk-label input.sk-toggleable__control:checked~label.sk-toggleable__label {background-color: #d4ebff;}#sk-container-id-2 input.sk-hidden--visually {border: 0;clip: rect(1px 1px 1px 1px);clip: rect(1px, 1px, 1px, 1px);height: 1px;margin: -1px;overflow: hidden;padding: 0;position: absolute;width: 1px;}#sk-container-id-2 div.sk-estimator {font-family: monospace;background-color: #f0f8ff;border: 1px dotted black;border-radius: 0.25em;box-sizing: border-box;margin-bottom: 0.5em;}#sk-container-id-2 div.sk-estimator:hover {background-color: #d4ebff;}#sk-container-id-2 div.sk-parallel-item::after {content: \"\";width: 100%;border-bottom: 1px solid gray;flex-grow: 1;}#sk-container-id-2 div.sk-label:hover label.sk-toggleable__label {background-color: #d4ebff;}#sk-container-id-2 div.sk-serial::before {content: \"\";position: absolute;border-left: 1px solid gray;box-sizing: border-box;top: 0;bottom: 0;left: 50%;z-index: 0;}#sk-container-id-2 div.sk-serial {display: flex;flex-direction: column;align-items: center;background-color: white;padding-right: 0.2em;padding-left: 0.2em;position: relative;}#sk-container-id-2 div.sk-item {position: relative;z-index: 1;}#sk-container-id-2 div.sk-parallel {display: flex;align-items: stretch;justify-content: center;background-color: white;position: relative;}#sk-container-id-2 div.sk-item::before, #sk-container-id-2 div.sk-parallel-item::before {content: \"\";position: absolute;border-left: 1px solid gray;box-sizing: border-box;top: 0;bottom: 0;left: 50%;z-index: -1;}#sk-container-id-2 div.sk-parallel-item {display: flex;flex-direction: column;z-index: 1;position: relative;background-color: white;}#sk-container-id-2 div.sk-parallel-item:first-child::after {align-self: flex-end;width: 50%;}#sk-container-id-2 div.sk-parallel-item:last-child::after {align-self: flex-start;width: 50%;}#sk-container-id-2 div.sk-parallel-item:only-child::after {width: 0;}#sk-container-id-2 div.sk-dashed-wrapped {border: 1px dashed gray;margin: 0 0.4em 0.5em 0.4em;box-sizing: border-box;padding-bottom: 0.4em;background-color: white;}#sk-container-id-2 div.sk-label label {font-family: monospace;font-weight: bold;display: inline-block;line-height: 1.2em;}#sk-container-id-2 div.sk-label-container {text-align: center;}#sk-container-id-2 div.sk-container {/* jupyter's `normalize.less` sets `[hidden] { display: none; }` but bootstrap.min.css set `[hidden] { display: none !important; }` so we also need the `!important` here to be able to override the default hidden behavior on the sphinx rendered scikit-learn.org. See: https://github.com/scikit-learn/scikit-learn/issues/21755 */display: inline-block !important;position: relative;}#sk-container-id-2 div.sk-text-repr-fallback {display: none;}</style><div id=\"sk-container-id-2\" class=\"sk-top-container\"><div class=\"sk-text-repr-fallback\"><pre>LinearRegression()</pre><b>In a Jupyter environment, please rerun this cell to show the HTML representation or trust the notebook. <br />On GitHub, the HTML representation is unable to render, please try loading this page with nbviewer.org.</b></div><div class=\"sk-container\" hidden><div class=\"sk-item\"><div class=\"sk-estimator sk-toggleable\"><input class=\"sk-toggleable__control sk-hidden--visually\" id=\"sk-estimator-id-2\" type=\"checkbox\" checked><label for=\"sk-estimator-id-2\" class=\"sk-toggleable__label sk-toggleable__label-arrow\">LinearRegression</label><div class=\"sk-toggleable__content\"><pre>LinearRegression()</pre></div></div></div></div></div>"
      ],
      "text/plain": [
       "LinearRegression()"
      ]
     },
     "execution_count": 54,
     "metadata": {},
     "output_type": "execute_result"
    }
   ],
   "source": [
    "model.fit(X_train, y_train)"
   ]
  },
  {
   "cell_type": "code",
   "execution_count": 55,
   "id": "6f41c8d3",
   "metadata": {},
   "outputs": [
    {
     "data": {
      "text/plain": [
       "0.9663123521281631"
      ]
     },
     "execution_count": 55,
     "metadata": {},
     "output_type": "execute_result"
    }
   ],
   "source": [
    "r2 = model.score(X_test, y_test)\n",
    "r2"
   ]
  },
  {
   "cell_type": "code",
   "execution_count": 56,
   "id": "1b857a05",
   "metadata": {},
   "outputs": [
    {
     "data": {
      "text/plain": [
       "6288"
      ]
     },
     "execution_count": 56,
     "metadata": {},
     "output_type": "execute_result"
    }
   ],
   "source": [
    "Predict = model.predict(X_test)\n",
    "len(Predict)"
   ]
  },
  {
   "cell_type": "code",
   "execution_count": 57,
   "id": "42f32bff",
   "metadata": {},
   "outputs": [
    {
     "data": {
      "text/plain": [
       "Text(0.5, 1.0, 'Major Health Problems Prediction')"
      ]
     },
     "execution_count": 57,
     "metadata": {},
     "output_type": "execute_result"
    },
    {
     "data": {
      "image/png": "[encoded data removed]",
      "text/plain": [
       "<Figure size 640x480 with 1 Axes>"
      ]
     },
     "metadata": {},
     "output_type": "display_data"
    }
   ],
   "source": [
    "\n",
    "plt.hist(Predict, bins=50)\n",
    "plt.xlabel(\"Health Problems\")\n",
    "plt.title(\"Major Health Problems Prediction\")"
   ]
  },
  {
   "cell_type": "markdown",
   "id": "7b421d6f",
   "metadata": {},
   "source": [
    "## Visualization"
   ]
  },
  {
   "cell_type": "code",
   "execution_count": 58,
   "id": "2e05088f",
   "metadata": {},
   "outputs": [
    {
     "data": {
      "text/plain": [
       "method"
      ]
     },
     "execution_count": 58,
     "metadata": {},
     "output_type": "execute_result"
    }
   ],
   "source": [
    "filteredDF2 = filteredDF.groupby('Short_Question_Text')['Data_Value'].mean().sort_values\n",
    "type(filteredDF2)"
   ]
  },
  {
   "cell_type": "code",
   "execution_count": 59,
   "id": "10b0a15b",
   "metadata": {},
   "outputs": [
    {
     "data": {
      "image/png": "[encoded data removed]",
      "text/plain": [
       "<Figure size 400x400 with 1 Axes>"
      ]
     },
     "metadata": {},
     "output_type": "display_data"
    }
   ],
   "source": [
    "filtered_result = filteredDF2()  # Call the method and store the result\n",
    "\n",
    "plt.figure(figsize=(4,4))\n",
    "filtered_result.plot(kind='barh')\n",
    "\n",
    "plt.title(\"Health Outcome\")\n",
    "plt.show()"
   ]
  },
  {
   "cell_type": "code",
   "execution_count": 60,
   "id": "08ea2d0e",
   "metadata": {},
   "outputs": [
    {
     "data": {
      "text/plain": [
       "pandas.core.frame.DataFrame"
      ]
     },
     "execution_count": 60,
     "metadata": {},
     "output_type": "execute_result"
    }
   ],
   "source": [
    "type(filteredDF)"
   ]
  },
  {
   "cell_type": "code",
   "execution_count": 61,
   "id": "96720473",
   "metadata": {},
   "outputs": [
    {
     "data": {
      "text/plain": [
       "StateAbbr  Category         Data_Value  Short_Question_Text  Measure                             \n",
       "NY         Health Outcomes  2.6         Stroke               Stroke among adults aged >=18 years     19\n",
       "                            2.9         Stroke               Stroke among adults aged >=18 years     14\n",
       "                            2.8         Stroke               Stroke among adults aged >=18 years     12\n",
       "MT         Health Outcomes  2.6         Stroke               Stroke among adults aged >=18 years     10\n",
       "CA         Health Outcomes  3.0         Stroke               Stroke among adults aged >=18 years     10\n",
       "                                                                                                     ..\n",
       "                            30.8        Obesity              Obesity among adults aged >=18 years     1\n",
       "                            30.6        Obesity              Obesity among adults aged >=18 years     1\n",
       "                            30.5        Obesity              Obesity among adults aged >=18 years     1\n",
       "                            30.0        Obesity              Obesity among adults aged >=18 years     1\n",
       "NY         Health Outcomes  36.7        Obesity              Obesity among adults aged >=18 years     1\n",
       "Length: 766, dtype: int64"
      ]
     },
     "execution_count": 61,
     "metadata": {},
     "output_type": "execute_result"
    }
   ],
   "source": [
    "# Filter the DataFrame for only TX, NY, and CA states\n",
    "selected_states = ['MT','NY','CA','AK','HI']\n",
    "filtered_df = filteredDF[filteredDF['StateAbbr'].isin(selected_states)]\n",
    "filtered_df.value_counts()"
   ]
  },
  {
   "cell_type": "code",
   "execution_count": 62,
   "id": "00ea2f44",
   "metadata": {},
   "outputs": [],
   "source": [
    "# Group the data by Short_Question_Text and aggregate the Data_Value using mean\n",
    "grouped_df = filtered_df.groupby('Short_Question_Text')['Data_Value'].mean().reset_index()\n"
   ]
  },
  {
   "cell_type": "code",
   "execution_count": 63,
   "id": "2824c228",
   "metadata": {},
   "outputs": [
    {
     "data": {
      "image/png": "[encoded data removed]",
      "text/plain": [
       "<Figure size 1000x600 with 1 Axes>"
      ]
     },
     "metadata": {},
     "output_type": "display_data"
    }
   ],
   "source": [
    "# Create the bar plot\n",
    "plt.figure(figsize=(10, 6))\n",
    "plt.bar(grouped_df['Short_Question_Text'], grouped_df['Data_Value'])\n",
    "\n",
    "# Set labels and title\n",
    "plt.xlabel('Short Question')\n",
    "plt.ylabel('Data Value')\n",
    "plt.title('Data Value by Short Question for TX, NY, and CA')\n",
    "\n",
    "# Rotate x-axis labels if needed\n",
    "plt.xticks(rotation=45)\n",
    "\n",
    "# Display the plot\n",
    "plt.show()"
   ]
  },
  {
   "cell_type": "code",
   "execution_count": 64,
   "id": "a80bf5a6",
   "metadata": {},
   "outputs": [
    {
     "data": {
      "image/png": "[encoded data removed]",
      "text/plain": [
       "<Figure size 600x400 with 1 Axes>"
      ]
     },
     "metadata": {},
     "output_type": "display_data"
    }
   ],
   "source": [
    "# Aggregate duplicate entries by taking the mean\n",
    "filtered_df = filtered_df.groupby(['StateAbbr', 'Short_Question_Text'])['Data_Value'].mean().reset_index()\n",
    "\n",
    "# Create a pivot table to reshape the data\n",
    "pivot_df = filtered_df.pivot(index='StateAbbr', columns='Short_Question_Text', values='Data_Value')\n",
    "\n",
    "# Create the grouped bar plot\n",
    "pivot_df.plot(kind='bar', figsize=(6, 4))\n",
    "\n",
    "# Set labels and title\n",
    "plt.xlabel('States')\n",
    "plt.ylabel('Data Value')\n",
    "plt.title('Health Problems from 2004 to 2017')\n",
    "\n",
    "# Rotate x-axis labels if needed\n",
    "plt.xticks(rotation=0)\n",
    "\n",
    "# Display the plot\n",
    "plt.show()"
   ]
  },
  {
   "cell_type": "markdown",
   "id": "4038ef0a",
   "metadata": {},
   "source": [
    "## Other Data \n",
    "### 4 Major Health Issues in USA from 2004 to 2017"
   ]
  },
  {
   "cell_type": "code",
   "execution_count": 33,
   "id": "58fd5d4b",
   "metadata": {},
   "outputs": [],
   "source": [
    "DF2 = pd.read_csv('data/4healthissues.csv')"
   ]
  },
  {
   "cell_type": "code",
   "execution_count": 34,
   "id": "9a67a0e8",
   "metadata": {},
   "outputs": [
    {
     "data": {
      "text/html": [
       "<div>\n",
       "<style scoped>\n",
       "    .dataframe tbody tr th:only-of-type {\n",
       "        vertical-align: middle;\n",
       "    }\n",
       "\n",
       "    .dataframe tbody tr th {\n",
       "        vertical-align: top;\n",
       "    }\n",
       "\n",
       "    .dataframe thead th {\n",
       "        text-align: right;\n",
       "    }\n",
       "</style>\n",
       "<table border=\"1\" class=\"dataframe\">\n",
       "  <thead>\n",
       "    <tr style=\"text-align: right;\">\n",
       "      <th></th>\n",
       "      <th>StateAbbr</th>\n",
       "      <th>2004+cardiovascular</th>\n",
       "      <th>2004+stroke</th>\n",
       "      <th>2004+obesity</th>\n",
       "      <th>2004+diabetes</th>\n",
       "      <th>2005+cardiovascular</th>\n",
       "      <th>2005+stroke</th>\n",
       "      <th>2005+obesity</th>\n",
       "      <th>2005+diabetes</th>\n",
       "      <th>2006+cardiovascular</th>\n",
       "      <th>...</th>\n",
       "      <th>2015+obesity</th>\n",
       "      <th>2015+diabetes</th>\n",
       "      <th>2016+cardiovascular</th>\n",
       "      <th>2016+stroke</th>\n",
       "      <th>2016+obesity</th>\n",
       "      <th>2016+diabetes</th>\n",
       "      <th>2017+cardiovascular</th>\n",
       "      <th>2017+stroke</th>\n",
       "      <th>2017+obesity</th>\n",
       "      <th>2017+diabetes</th>\n",
       "    </tr>\n",
       "  </thead>\n",
       "  <tbody>\n",
       "    <tr>\n",
       "      <th>0</th>\n",
       "      <td>ME</td>\n",
       "      <td>6</td>\n",
       "      <td>17</td>\n",
       "      <td>29</td>\n",
       "      <td>38</td>\n",
       "      <td>16</td>\n",
       "      <td>38</td>\n",
       "      <td>14</td>\n",
       "      <td>23</td>\n",
       "      <td>23</td>\n",
       "      <td>...</td>\n",
       "      <td>48</td>\n",
       "      <td>73</td>\n",
       "      <td>38</td>\n",
       "      <td>70</td>\n",
       "      <td>49</td>\n",
       "      <td>81</td>\n",
       "      <td>37</td>\n",
       "      <td>83</td>\n",
       "      <td>47</td>\n",
       "      <td>80</td>\n",
       "    </tr>\n",
       "    <tr>\n",
       "      <th>1</th>\n",
       "      <td>NY</td>\n",
       "      <td>6</td>\n",
       "      <td>13</td>\n",
       "      <td>27</td>\n",
       "      <td>32</td>\n",
       "      <td>15</td>\n",
       "      <td>35</td>\n",
       "      <td>15</td>\n",
       "      <td>19</td>\n",
       "      <td>18</td>\n",
       "      <td>...</td>\n",
       "      <td>46</td>\n",
       "      <td>63</td>\n",
       "      <td>41</td>\n",
       "      <td>47</td>\n",
       "      <td>49</td>\n",
       "      <td>77</td>\n",
       "      <td>34</td>\n",
       "      <td>53</td>\n",
       "      <td>52</td>\n",
       "      <td>78</td>\n",
       "    </tr>\n",
       "    <tr>\n",
       "      <th>2</th>\n",
       "      <td>NY</td>\n",
       "      <td>3</td>\n",
       "      <td>16</td>\n",
       "      <td>31</td>\n",
       "      <td>37</td>\n",
       "      <td>8</td>\n",
       "      <td>44</td>\n",
       "      <td>24</td>\n",
       "      <td>18</td>\n",
       "      <td>19</td>\n",
       "      <td>...</td>\n",
       "      <td>67</td>\n",
       "      <td>75</td>\n",
       "      <td>33</td>\n",
       "      <td>66</td>\n",
       "      <td>70</td>\n",
       "      <td>74</td>\n",
       "      <td>24</td>\n",
       "      <td>71</td>\n",
       "      <td>61</td>\n",
       "      <td>72</td>\n",
       "    </tr>\n",
       "    <tr>\n",
       "      <th>3</th>\n",
       "      <td>GA</td>\n",
       "      <td>14</td>\n",
       "      <td>14</td>\n",
       "      <td>29</td>\n",
       "      <td>31</td>\n",
       "      <td>25</td>\n",
       "      <td>48</td>\n",
       "      <td>23</td>\n",
       "      <td>22</td>\n",
       "      <td>24</td>\n",
       "      <td>...</td>\n",
       "      <td>60</td>\n",
       "      <td>73</td>\n",
       "      <td>59</td>\n",
       "      <td>65</td>\n",
       "      <td>51</td>\n",
       "      <td>78</td>\n",
       "      <td>38</td>\n",
       "      <td>62</td>\n",
       "      <td>41</td>\n",
       "      <td>66</td>\n",
       "    </tr>\n",
       "    <tr>\n",
       "      <th>4</th>\n",
       "      <td>PA</td>\n",
       "      <td>7</td>\n",
       "      <td>16</td>\n",
       "      <td>30</td>\n",
       "      <td>37</td>\n",
       "      <td>17</td>\n",
       "      <td>39</td>\n",
       "      <td>18</td>\n",
       "      <td>23</td>\n",
       "      <td>24</td>\n",
       "      <td>...</td>\n",
       "      <td>56</td>\n",
       "      <td>72</td>\n",
       "      <td>42</td>\n",
       "      <td>56</td>\n",
       "      <td>52</td>\n",
       "      <td>80</td>\n",
       "      <td>35</td>\n",
       "      <td>61</td>\n",
       "      <td>56</td>\n",
       "      <td>78</td>\n",
       "    </tr>\n",
       "    <tr>\n",
       "      <th>5</th>\n",
       "      <td>MI</td>\n",
       "      <td>6</td>\n",
       "      <td>16</td>\n",
       "      <td>27</td>\n",
       "      <td>34</td>\n",
       "      <td>14</td>\n",
       "      <td>43</td>\n",
       "      <td>18</td>\n",
       "      <td>20</td>\n",
       "      <td>21</td>\n",
       "      <td>...</td>\n",
       "      <td>46</td>\n",
       "      <td>65</td>\n",
       "      <td>48</td>\n",
       "      <td>60</td>\n",
       "      <td>43</td>\n",
       "      <td>73</td>\n",
       "      <td>38</td>\n",
       "      <td>66</td>\n",
       "      <td>45</td>\n",
       "      <td>74</td>\n",
       "    </tr>\n",
       "    <tr>\n",
       "      <th>6</th>\n",
       "      <td>NH</td>\n",
       "      <td>6</td>\n",
       "      <td>15</td>\n",
       "      <td>27</td>\n",
       "      <td>37</td>\n",
       "      <td>16</td>\n",
       "      <td>41</td>\n",
       "      <td>15</td>\n",
       "      <td>22</td>\n",
       "      <td>20</td>\n",
       "      <td>...</td>\n",
       "      <td>58</td>\n",
       "      <td>71</td>\n",
       "      <td>44</td>\n",
       "      <td>54</td>\n",
       "      <td>53</td>\n",
       "      <td>76</td>\n",
       "      <td>37</td>\n",
       "      <td>58</td>\n",
       "      <td>58</td>\n",
       "      <td>74</td>\n",
       "    </tr>\n",
       "  </tbody>\n",
       "</table>\n",
       "<p>7 rows × 57 columns</p>\n",
       "</div>"
      ],
      "text/plain": [
       "  StateAbbr  2004+cardiovascular  2004+stroke  2004+obesity  2004+diabetes  \\\n",
       "0        ME                    6           17            29             38   \n",
       "1        NY                    6           13            27             32   \n",
       "2        NY                    3           16            31             37   \n",
       "3        GA                   14           14            29             31   \n",
       "4        PA                    7           16            30             37   \n",
       "5        MI                    6           16            27             34   \n",
       "6        NH                    6           15            27             37   \n",
       "\n",
       "   2005+cardiovascular  2005+stroke  2005+obesity  2005+diabetes  \\\n",
       "0                   16           38            14             23   \n",
       "1                   15           35            15             19   \n",
       "2                    8           44            24             18   \n",
       "3                   25           48            23             22   \n",
       "4                   17           39            18             23   \n",
       "5                   14           43            18             20   \n",
       "6                   16           41            15             22   \n",
       "\n",
       "   2006+cardiovascular  ...  2015+obesity  2015+diabetes  2016+cardiovascular  \\\n",
       "0                   23  ...            48             73                   38   \n",
       "1                   18  ...            46             63                   41   \n",
       "2                   19  ...            67             75                   33   \n",
       "3                   24  ...            60             73                   59   \n",
       "4                   24  ...            56             72                   42   \n",
       "5                   21  ...            46             65                   48   \n",
       "6                   20  ...            58             71                   44   \n",
       "\n",
       "   2016+stroke  2016+obesity  2016+diabetes  2017+cardiovascular  2017+stroke  \\\n",
       "0           70            49             81                   37           83   \n",
       "1           47            49             77                   34           53   \n",
       "2           66            70             74                   24           71   \n",
       "3           65            51             78                   38           62   \n",
       "4           56            52             80                   35           61   \n",
       "5           60            43             73                   38           66   \n",
       "6           54            53             76                   37           58   \n",
       "\n",
       "   2017+obesity  2017+diabetes  \n",
       "0            47             80  \n",
       "1            52             78  \n",
       "2            61             72  \n",
       "3            41             66  \n",
       "4            56             78  \n",
       "5            45             74  \n",
       "6            58             74  \n",
       "\n",
       "[7 rows x 57 columns]"
      ]
     },
     "execution_count": 34,
     "metadata": {},
     "output_type": "execute_result"
    }
   ],
   "source": [
    "DF2.head(7)"
   ]
  },
  {
   "cell_type": "code",
   "execution_count": 35,
   "id": "fd8b77e2",
   "metadata": {},
   "outputs": [],
   "source": [
    "# column_names = health_df.columns.tolist()\n",
    "# new_column_names = {col:col.replace('+', '_') for col in column_names}\n",
    "# health_df = health_df.rename(columns=new_column_names)"
   ]
  },
  {
   "cell_type": "code",
   "execution_count": 36,
   "id": "88990913",
   "metadata": {},
   "outputs": [],
   "source": [
    "column_names = DF2.columns.tolist()\n",
    "new_column_names = {col: col.replace('+', '_') for col in column_names if col != 'StateAbbr'}\n",
    "DF2 = DF2.rename(columns=new_column_names)\n"
   ]
  },
  {
   "cell_type": "code",
   "execution_count": 37,
   "id": "32f740b9",
   "metadata": {},
   "outputs": [
    {
     "data": {
      "text/html": [
       "<div>\n",
       "<style scoped>\n",
       "    .dataframe tbody tr th:only-of-type {\n",
       "        vertical-align: middle;\n",
       "    }\n",
       "\n",
       "    .dataframe tbody tr th {\n",
       "        vertical-align: top;\n",
       "    }\n",
       "\n",
       "    .dataframe thead th {\n",
       "        text-align: right;\n",
       "    }\n",
       "</style>\n",
       "<table border=\"1\" class=\"dataframe\">\n",
       "  <thead>\n",
       "    <tr style=\"text-align: right;\">\n",
       "      <th></th>\n",
       "      <th>2004_cardiovascular</th>\n",
       "      <th>2004_stroke</th>\n",
       "      <th>2004_obesity</th>\n",
       "      <th>2004_diabetes</th>\n",
       "      <th>2005_cardiovascular</th>\n",
       "      <th>2005_stroke</th>\n",
       "      <th>2005_obesity</th>\n",
       "      <th>2005_diabetes</th>\n",
       "      <th>2006_cardiovascular</th>\n",
       "      <th>2006_stroke</th>\n",
       "      <th>...</th>\n",
       "      <th>2015_obesity</th>\n",
       "      <th>2015_diabetes</th>\n",
       "      <th>2016_cardiovascular</th>\n",
       "      <th>2016_stroke</th>\n",
       "      <th>2016_obesity</th>\n",
       "      <th>2016_diabetes</th>\n",
       "      <th>2017_cardiovascular</th>\n",
       "      <th>2017_stroke</th>\n",
       "      <th>2017_obesity</th>\n",
       "      <th>2017_diabetes</th>\n",
       "    </tr>\n",
       "  </thead>\n",
       "  <tbody>\n",
       "    <tr>\n",
       "      <th>count</th>\n",
       "      <td>210.000000</td>\n",
       "      <td>210.000000</td>\n",
       "      <td>210.000000</td>\n",
       "      <td>210.000000</td>\n",
       "      <td>210.000000</td>\n",
       "      <td>210.000000</td>\n",
       "      <td>210.000000</td>\n",
       "      <td>210.000000</td>\n",
       "      <td>210.000000</td>\n",
       "      <td>210.000000</td>\n",
       "      <td>...</td>\n",
       "      <td>210.000000</td>\n",
       "      <td>210.000000</td>\n",
       "      <td>210.000000</td>\n",
       "      <td>210.000000</td>\n",
       "      <td>210.000000</td>\n",
       "      <td>210.000000</td>\n",
       "      <td>210.000000</td>\n",
       "      <td>210.000000</td>\n",
       "      <td>210.000000</td>\n",
       "      <td>210.000000</td>\n",
       "    </tr>\n",
       "    <tr>\n",
       "      <th>mean</th>\n",
       "      <td>7.433333</td>\n",
       "      <td>17.642857</td>\n",
       "      <td>34.261905</td>\n",
       "      <td>38.042857</td>\n",
       "      <td>18.671429</td>\n",
       "      <td>44.619048</td>\n",
       "      <td>21.519048</td>\n",
       "      <td>23.238095</td>\n",
       "      <td>21.557143</td>\n",
       "      <td>24.519048</td>\n",
       "      <td>...</td>\n",
       "      <td>57.828571</td>\n",
       "      <td>71.957143</td>\n",
       "      <td>45.728571</td>\n",
       "      <td>63.561905</td>\n",
       "      <td>51.761905</td>\n",
       "      <td>77.823810</td>\n",
       "      <td>35.923810</td>\n",
       "      <td>70.838095</td>\n",
       "      <td>51.761905</td>\n",
       "      <td>77.309524</td>\n",
       "    </tr>\n",
       "    <tr>\n",
       "      <th>std</th>\n",
       "      <td>7.909647</td>\n",
       "      <td>8.135284</td>\n",
       "      <td>16.136765</td>\n",
       "      <td>10.017357</td>\n",
       "      <td>14.289275</td>\n",
       "      <td>11.669189</td>\n",
       "      <td>10.511881</td>\n",
       "      <td>7.094743</td>\n",
       "      <td>11.451962</td>\n",
       "      <td>8.205035</td>\n",
       "      <td>...</td>\n",
       "      <td>15.754369</td>\n",
       "      <td>9.505127</td>\n",
       "      <td>14.273730</td>\n",
       "      <td>10.137735</td>\n",
       "      <td>14.244632</td>\n",
       "      <td>8.494434</td>\n",
       "      <td>12.521136</td>\n",
       "      <td>10.800606</td>\n",
       "      <td>13.846751</td>\n",
       "      <td>8.935409</td>\n",
       "    </tr>\n",
       "    <tr>\n",
       "      <th>min</th>\n",
       "      <td>0.000000</td>\n",
       "      <td>0.000000</td>\n",
       "      <td>0.000000</td>\n",
       "      <td>0.000000</td>\n",
       "      <td>0.000000</td>\n",
       "      <td>0.000000</td>\n",
       "      <td>0.000000</td>\n",
       "      <td>0.000000</td>\n",
       "      <td>0.000000</td>\n",
       "      <td>0.000000</td>\n",
       "      <td>...</td>\n",
       "      <td>0.000000</td>\n",
       "      <td>0.000000</td>\n",
       "      <td>0.000000</td>\n",
       "      <td>0.000000</td>\n",
       "      <td>0.000000</td>\n",
       "      <td>0.000000</td>\n",
       "      <td>0.000000</td>\n",
       "      <td>0.000000</td>\n",
       "      <td>0.000000</td>\n",
       "      <td>0.000000</td>\n",
       "    </tr>\n",
       "    <tr>\n",
       "      <th>25%</th>\n",
       "      <td>5.000000</td>\n",
       "      <td>14.000000</td>\n",
       "      <td>26.000000</td>\n",
       "      <td>33.000000</td>\n",
       "      <td>12.000000</td>\n",
       "      <td>39.000000</td>\n",
       "      <td>16.000000</td>\n",
       "      <td>20.000000</td>\n",
       "      <td>16.000000</td>\n",
       "      <td>21.000000</td>\n",
       "      <td>...</td>\n",
       "      <td>51.000000</td>\n",
       "      <td>68.000000</td>\n",
       "      <td>38.000000</td>\n",
       "      <td>58.000000</td>\n",
       "      <td>46.000000</td>\n",
       "      <td>74.000000</td>\n",
       "      <td>29.000000</td>\n",
       "      <td>64.000000</td>\n",
       "      <td>45.250000</td>\n",
       "      <td>73.000000</td>\n",
       "    </tr>\n",
       "    <tr>\n",
       "      <th>50%</th>\n",
       "      <td>6.000000</td>\n",
       "      <td>16.000000</td>\n",
       "      <td>32.000000</td>\n",
       "      <td>37.000000</td>\n",
       "      <td>15.000000</td>\n",
       "      <td>44.000000</td>\n",
       "      <td>20.000000</td>\n",
       "      <td>22.000000</td>\n",
       "      <td>20.000000</td>\n",
       "      <td>23.000000</td>\n",
       "      <td>...</td>\n",
       "      <td>58.000000</td>\n",
       "      <td>72.000000</td>\n",
       "      <td>44.000000</td>\n",
       "      <td>63.000000</td>\n",
       "      <td>51.000000</td>\n",
       "      <td>78.000000</td>\n",
       "      <td>34.000000</td>\n",
       "      <td>71.000000</td>\n",
       "      <td>51.000000</td>\n",
       "      <td>78.000000</td>\n",
       "    </tr>\n",
       "    <tr>\n",
       "      <th>75%</th>\n",
       "      <td>9.000000</td>\n",
       "      <td>18.000000</td>\n",
       "      <td>41.000000</td>\n",
       "      <td>42.000000</td>\n",
       "      <td>20.000000</td>\n",
       "      <td>48.000000</td>\n",
       "      <td>26.000000</td>\n",
       "      <td>25.000000</td>\n",
       "      <td>24.750000</td>\n",
       "      <td>26.000000</td>\n",
       "      <td>...</td>\n",
       "      <td>65.000000</td>\n",
       "      <td>76.000000</td>\n",
       "      <td>52.000000</td>\n",
       "      <td>69.000000</td>\n",
       "      <td>58.000000</td>\n",
       "      <td>81.750000</td>\n",
       "      <td>41.000000</td>\n",
       "      <td>77.000000</td>\n",
       "      <td>58.000000</td>\n",
       "      <td>81.000000</td>\n",
       "    </tr>\n",
       "    <tr>\n",
       "      <th>max</th>\n",
       "      <td>100.000000</td>\n",
       "      <td>100.000000</td>\n",
       "      <td>100.000000</td>\n",
       "      <td>100.000000</td>\n",
       "      <td>100.000000</td>\n",
       "      <td>100.000000</td>\n",
       "      <td>100.000000</td>\n",
       "      <td>100.000000</td>\n",
       "      <td>100.000000</td>\n",
       "      <td>100.000000</td>\n",
       "      <td>...</td>\n",
       "      <td>100.000000</td>\n",
       "      <td>100.000000</td>\n",
       "      <td>100.000000</td>\n",
       "      <td>100.000000</td>\n",
       "      <td>100.000000</td>\n",
       "      <td>100.000000</td>\n",
       "      <td>100.000000</td>\n",
       "      <td>100.000000</td>\n",
       "      <td>100.000000</td>\n",
       "      <td>100.000000</td>\n",
       "    </tr>\n",
       "  </tbody>\n",
       "</table>\n",
       "<p>8 rows × 56 columns</p>\n",
       "</div>"
      ],
      "text/plain": [
       "       2004_cardiovascular  2004_stroke  2004_obesity  2004_diabetes  \\\n",
       "count           210.000000   210.000000    210.000000     210.000000   \n",
       "mean              7.433333    17.642857     34.261905      38.042857   \n",
       "std               7.909647     8.135284     16.136765      10.017357   \n",
       "min               0.000000     0.000000      0.000000       0.000000   \n",
       "25%               5.000000    14.000000     26.000000      33.000000   \n",
       "50%               6.000000    16.000000     32.000000      37.000000   \n",
       "75%               9.000000    18.000000     41.000000      42.000000   \n",
       "max             100.000000   100.000000    100.000000     100.000000   \n",
       "\n",
       "       2005_cardiovascular  2005_stroke  2005_obesity  2005_diabetes  \\\n",
       "count           210.000000   210.000000    210.000000     210.000000   \n",
       "mean             18.671429    44.619048     21.519048      23.238095   \n",
       "std              14.289275    11.669189     10.511881       7.094743   \n",
       "min               0.000000     0.000000      0.000000       0.000000   \n",
       "25%              12.000000    39.000000     16.000000      20.000000   \n",
       "50%              15.000000    44.000000     20.000000      22.000000   \n",
       "75%              20.000000    48.000000     26.000000      25.000000   \n",
       "max             100.000000   100.000000    100.000000     100.000000   \n",
       "\n",
       "       2006_cardiovascular  2006_stroke  ...  2015_obesity  2015_diabetes  \\\n",
       "count           210.000000   210.000000  ...    210.000000     210.000000   \n",
       "mean             21.557143    24.519048  ...     57.828571      71.957143   \n",
       "std              11.451962     8.205035  ...     15.754369       9.505127   \n",
       "min               0.000000     0.000000  ...      0.000000       0.000000   \n",
       "25%              16.000000    21.000000  ...     51.000000      68.000000   \n",
       "50%              20.000000    23.000000  ...     58.000000      72.000000   \n",
       "75%              24.750000    26.000000  ...     65.000000      76.000000   \n",
       "max             100.000000   100.000000  ...    100.000000     100.000000   \n",
       "\n",
       "       2016_cardiovascular  2016_stroke  2016_obesity  2016_diabetes  \\\n",
       "count           210.000000   210.000000    210.000000     210.000000   \n",
       "mean             45.728571    63.561905     51.761905      77.823810   \n",
       "std              14.273730    10.137735     14.244632       8.494434   \n",
       "min               0.000000     0.000000      0.000000       0.000000   \n",
       "25%              38.000000    58.000000     46.000000      74.000000   \n",
       "50%              44.000000    63.000000     51.000000      78.000000   \n",
       "75%              52.000000    69.000000     58.000000      81.750000   \n",
       "max             100.000000   100.000000    100.000000     100.000000   \n",
       "\n",
       "       2017_cardiovascular  2017_stroke  2017_obesity  2017_diabetes  \n",
       "count           210.000000   210.000000    210.000000     210.000000  \n",
       "mean             35.923810    70.838095     51.761905      77.309524  \n",
       "std              12.521136    10.800606     13.846751       8.935409  \n",
       "min               0.000000     0.000000      0.000000       0.000000  \n",
       "25%              29.000000    64.000000     45.250000      73.000000  \n",
       "50%              34.000000    71.000000     51.000000      78.000000  \n",
       "75%              41.000000    77.000000     58.000000      81.000000  \n",
       "max             100.000000   100.000000    100.000000     100.000000  \n",
       "\n",
       "[8 rows x 56 columns]"
      ]
     },
     "execution_count": 37,
     "metadata": {},
     "output_type": "execute_result"
    }
   ],
   "source": [
    "DF2.describe()"
   ]
  },
  {
   "cell_type": "code",
   "execution_count": 38,
   "id": "b069009d",
   "metadata": {},
   "outputs": [
    {
     "data": {
      "text/plain": [
       "Text(0.5, 1.0, 'Obesity Data')"
      ]
     },
     "execution_count": 38,
     "metadata": {},
     "output_type": "execute_result"
    },
    {
     "data": {
      "image/png": "[encoded data removed]",
      "text/plain": [
       "<Figure size 640x480 with 1 Axes>"
      ]
     },
     "metadata": {},
     "output_type": "display_data"
    }
   ],
   "source": [
    "obesity_columns = [col for col in DF2.columns if 'obesity' in col]\n",
    "series = DF2[obesity_columns].sum().sort_values(ascending=True)\n",
    "\n",
    "\n",
    "series.plot(kind='bar')\n",
    "plt.xlabel('Year_obesity')\n",
    "plt.ylabel('Obesity')\n",
    "plt.title('Obesity Data')\n"
   ]
  },
  {
   "cell_type": "code",
   "execution_count": 39,
   "id": "2d268431",
   "metadata": {},
   "outputs": [
    {
     "data": {
      "image/png": "[encoded data removed]",
      "text/plain": [
       "<Figure size 640x480 with 1 Axes>"
      ]
     },
     "metadata": {},
     "output_type": "display_data"
    }
   ],
   "source": [
    "series = pd.Series(series)\n",
    "\n",
    "# Extract the year from the index\n",
    "years = [int(idx.split('_')[0]) for idx in series.index]\n",
    "\n",
    "plt.bar(years, series.values)\n",
    "plt.xlabel('Year')\n",
    "plt.ylabel('Obesity')\n",
    "plt.title('Obesity in USA by Year')\n",
    "plt.show()"
   ]
  },
  {
   "cell_type": "code",
   "execution_count": 40,
   "id": "60bdcba4",
   "metadata": {},
   "outputs": [
    {
     "data": {
      "image/png": "[encoded data removed]",
      "text/plain": [
       "<Figure size 200x400 with 2 Axes>"
      ]
     },
     "metadata": {},
     "output_type": "display_data"
    }
   ],
   "source": [
    "\n",
    "\n",
    "obesity_df = series.to_frame()\n",
    "obesity_df.index = range(2004, 2018)\n",
    "\n",
    "plt.figure(figsize=(2, 4))  # Set the figure size\n",
    "sns.heatmap(obesity_df, cmap='YlOrRd', annot=True, fmt='d')\n",
    "\n",
    "# Set labels and title\n",
    "plt.xlabel('Number of Cases')\n",
    "plt.ylabel('Year')\n",
    "plt.title('Obesity in USA')\n",
    "\n",
    "# Display the heatmap\n",
    "plt.show()"
   ]
  },
  {
   "cell_type": "code",
   "execution_count": null,
   "id": "432bd16b",
   "metadata": {},
   "outputs": [],
   "source": [
    "DF2.head(7)"
   ]
  },
  {
   "cell_type": "code",
   "execution_count": 75,
   "id": "13ac4625",
   "metadata": {},
   "outputs": [
    {
     "data": {
      "text/plain": [
       "Text(0, 0.5, 'y-obesity')"
      ]
     },
     "execution_count": 75,
     "metadata": {},
     "output_type": "execute_result"
    },
    {
     "data": {
      "image/png": "[encoded data removed]",
      "text/plain": [
       "<Figure size 640x480 with 1 Axes>"
      ]
     },
     "metadata": {},
     "output_type": "display_data"
    }
   ],
   "source": [
    "plt.scatter(DF2['StateAbbr'], DF2['2017_obesity'], alpha=0.6)\n",
    "plt.xlabel(\"x-StateAbbr\")\n",
    "plt.ylabel(\"y-obesity\")"
   ]
  },
  {
   "cell_type": "code",
   "execution_count": null,
   "id": "0fe2427d",
   "metadata": {},
   "outputs": [],
   "source": []
  },
  {
   "cell_type": "code",
   "execution_count": 76,
   "id": "c3773373",
   "metadata": {},
   "outputs": [
    {
     "data": {
      "text/plain": [
       "array(['ME', 'NY', 'GA', 'PA', 'MI', 'NH', 'IN', 'OH', 'MD ', 'MD', 'NC',\n",
       "       'SC', 'MA', 'FL', 'KY', 'TN', 'CT', 'VA', 'WV', 'TX', 'IL', 'KS',\n",
       "       'MO', 'AL', 'MN', 'LA', 'WI', 'IA', 'OK', 'AR', 'MS', 'NE', 'ND',\n",
       "       'SD', 'AK', 'HI', 'CO', 'AZ', 'MT', 'ID', 'WY', 'UT', 'CA', 'NM',\n",
       "       'OR', 'WA', 'NV'], dtype=object)"
      ]
     },
     "execution_count": 76,
     "metadata": {},
     "output_type": "execute_result"
    }
   ],
   "source": [
    "DF2['StateAbbr'].unique()"
   ]
  },
  {
   "cell_type": "code",
   "execution_count": 77,
   "id": "71964e42",
   "metadata": {},
   "outputs": [
    {
     "data": {
      "text/plain": [
       "pandas.core.frame.DataFrame"
      ]
     },
     "execution_count": 77,
     "metadata": {},
     "output_type": "execute_result"
    }
   ],
   "source": [
    "selected_State = ['CA','TX','NY']\n",
    "filtered_df2 = DF2[DF2['StateAbbr'].isin(selected_State)]\n",
    "type(filtered_df2)"
   ]
  },
  {
   "cell_type": "code",
   "execution_count": 78,
   "id": "b0f4ce98",
   "metadata": {},
   "outputs": [
    {
     "data": {
      "text/plain": [
       "method"
      ]
     },
     "execution_count": 78,
     "metadata": {},
     "output_type": "execute_result"
    }
   ],
   "source": [
    "filtered_df3 = filtered_df2.groupby('StateAbbr')['2004_diabetes'].mean().sort_values\n",
    "type(filtered_df3)"
   ]
  },
  {
   "cell_type": "code",
   "execution_count": 79,
   "id": "58e40cd4",
   "metadata": {},
   "outputs": [
    {
     "data": {
      "image/png": "[encoded data removed]",
      "text/plain": [
       "<Figure size 400x400 with 1 Axes>"
      ]
     },
     "metadata": {},
     "output_type": "display_data"
    }
   ],
   "source": [
    "filtered_result = filtered_df3() \n",
    "\n",
    "plt.figure(figsize=(4,4))\n",
    "filtered_result.plot(kind='barh')\n",
    "\n",
    "plt.title(\"Diabetes in 2004\")\n",
    "plt.show()"
   ]
  },
  {
   "cell_type": "code",
   "execution_count": 80,
   "id": "91c1f97e",
   "metadata": {},
   "outputs": [
    {
     "data": {
      "text/html": [
       "<div>\n",
       "<style scoped>\n",
       "    .dataframe tbody tr th:only-of-type {\n",
       "        vertical-align: middle;\n",
       "    }\n",
       "\n",
       "    .dataframe tbody tr th {\n",
       "        vertical-align: top;\n",
       "    }\n",
       "\n",
       "    .dataframe thead th {\n",
       "        text-align: right;\n",
       "    }\n",
       "</style>\n",
       "<table border=\"1\" class=\"dataframe\">\n",
       "  <thead>\n",
       "    <tr style=\"text-align: right;\">\n",
       "      <th>StateAbbr</th>\n",
       "      <th>ME</th>\n",
       "      <th>NY</th>\n",
       "      <th>NY</th>\n",
       "      <th>GA</th>\n",
       "      <th>PA</th>\n",
       "      <th>MI</th>\n",
       "      <th>NH</th>\n",
       "      <th>GA</th>\n",
       "      <th>PA</th>\n",
       "      <th>IN</th>\n",
       "      <th>...</th>\n",
       "      <th>OR</th>\n",
       "      <th>OR</th>\n",
       "      <th>CA</th>\n",
       "      <th>CA</th>\n",
       "      <th>NV</th>\n",
       "      <th>CA</th>\n",
       "      <th>CA</th>\n",
       "      <th>CA</th>\n",
       "      <th>CA</th>\n",
       "      <th>WA</th>\n",
       "    </tr>\n",
       "  </thead>\n",
       "  <tbody>\n",
       "    <tr>\n",
       "      <th>2004_cardiovascular</th>\n",
       "      <td>6</td>\n",
       "      <td>6</td>\n",
       "      <td>3</td>\n",
       "      <td>14</td>\n",
       "      <td>7</td>\n",
       "      <td>6</td>\n",
       "      <td>6</td>\n",
       "      <td>11</td>\n",
       "      <td>10</td>\n",
       "      <td>4</td>\n",
       "      <td>...</td>\n",
       "      <td>4</td>\n",
       "      <td>12</td>\n",
       "      <td>5</td>\n",
       "      <td>4</td>\n",
       "      <td>4</td>\n",
       "      <td>5</td>\n",
       "      <td>4</td>\n",
       "      <td>7</td>\n",
       "      <td>4</td>\n",
       "      <td>6</td>\n",
       "    </tr>\n",
       "    <tr>\n",
       "      <th>2004_stroke</th>\n",
       "      <td>17</td>\n",
       "      <td>13</td>\n",
       "      <td>16</td>\n",
       "      <td>14</td>\n",
       "      <td>16</td>\n",
       "      <td>16</td>\n",
       "      <td>15</td>\n",
       "      <td>17</td>\n",
       "      <td>17</td>\n",
       "      <td>14</td>\n",
       "      <td>...</td>\n",
       "      <td>18</td>\n",
       "      <td>18</td>\n",
       "      <td>15</td>\n",
       "      <td>12</td>\n",
       "      <td>16</td>\n",
       "      <td>13</td>\n",
       "      <td>17</td>\n",
       "      <td>13</td>\n",
       "      <td>22</td>\n",
       "      <td>17</td>\n",
       "    </tr>\n",
       "    <tr>\n",
       "      <th>2004_obesity</th>\n",
       "      <td>29</td>\n",
       "      <td>27</td>\n",
       "      <td>31</td>\n",
       "      <td>29</td>\n",
       "      <td>30</td>\n",
       "      <td>27</td>\n",
       "      <td>27</td>\n",
       "      <td>45</td>\n",
       "      <td>35</td>\n",
       "      <td>25</td>\n",
       "      <td>...</td>\n",
       "      <td>29</td>\n",
       "      <td>46</td>\n",
       "      <td>22</td>\n",
       "      <td>26</td>\n",
       "      <td>17</td>\n",
       "      <td>38</td>\n",
       "      <td>29</td>\n",
       "      <td>33</td>\n",
       "      <td>41</td>\n",
       "      <td>30</td>\n",
       "    </tr>\n",
       "    <tr>\n",
       "      <th>2004_diabetes</th>\n",
       "      <td>38</td>\n",
       "      <td>32</td>\n",
       "      <td>37</td>\n",
       "      <td>31</td>\n",
       "      <td>37</td>\n",
       "      <td>34</td>\n",
       "      <td>37</td>\n",
       "      <td>26</td>\n",
       "      <td>43</td>\n",
       "      <td>36</td>\n",
       "      <td>...</td>\n",
       "      <td>36</td>\n",
       "      <td>45</td>\n",
       "      <td>29</td>\n",
       "      <td>32</td>\n",
       "      <td>30</td>\n",
       "      <td>27</td>\n",
       "      <td>35</td>\n",
       "      <td>34</td>\n",
       "      <td>24</td>\n",
       "      <td>46</td>\n",
       "    </tr>\n",
       "    <tr>\n",
       "      <th>2005_cardiovascular</th>\n",
       "      <td>16</td>\n",
       "      <td>15</td>\n",
       "      <td>8</td>\n",
       "      <td>25</td>\n",
       "      <td>17</td>\n",
       "      <td>14</td>\n",
       "      <td>16</td>\n",
       "      <td>11</td>\n",
       "      <td>17</td>\n",
       "      <td>13</td>\n",
       "      <td>...</td>\n",
       "      <td>14</td>\n",
       "      <td>17</td>\n",
       "      <td>12</td>\n",
       "      <td>12</td>\n",
       "      <td>10</td>\n",
       "      <td>10</td>\n",
       "      <td>13</td>\n",
       "      <td>17</td>\n",
       "      <td>10</td>\n",
       "      <td>16</td>\n",
       "    </tr>\n",
       "    <tr>\n",
       "      <th>2005_stroke</th>\n",
       "      <td>38</td>\n",
       "      <td>35</td>\n",
       "      <td>44</td>\n",
       "      <td>48</td>\n",
       "      <td>39</td>\n",
       "      <td>43</td>\n",
       "      <td>41</td>\n",
       "      <td>50</td>\n",
       "      <td>49</td>\n",
       "      <td>43</td>\n",
       "      <td>...</td>\n",
       "      <td>42</td>\n",
       "      <td>37</td>\n",
       "      <td>35</td>\n",
       "      <td>45</td>\n",
       "      <td>35</td>\n",
       "      <td>31</td>\n",
       "      <td>45</td>\n",
       "      <td>35</td>\n",
       "      <td>45</td>\n",
       "      <td>47</td>\n",
       "    </tr>\n",
       "    <tr>\n",
       "      <th>2005_obesity</th>\n",
       "      <td>14</td>\n",
       "      <td>15</td>\n",
       "      <td>24</td>\n",
       "      <td>23</td>\n",
       "      <td>18</td>\n",
       "      <td>18</td>\n",
       "      <td>15</td>\n",
       "      <td>18</td>\n",
       "      <td>20</td>\n",
       "      <td>25</td>\n",
       "      <td>...</td>\n",
       "      <td>18</td>\n",
       "      <td>19</td>\n",
       "      <td>15</td>\n",
       "      <td>17</td>\n",
       "      <td>10</td>\n",
       "      <td>15</td>\n",
       "      <td>19</td>\n",
       "      <td>24</td>\n",
       "      <td>38</td>\n",
       "      <td>24</td>\n",
       "    </tr>\n",
       "    <tr>\n",
       "      <th>2005_diabetes</th>\n",
       "      <td>23</td>\n",
       "      <td>19</td>\n",
       "      <td>18</td>\n",
       "      <td>22</td>\n",
       "      <td>23</td>\n",
       "      <td>20</td>\n",
       "      <td>22</td>\n",
       "      <td>25</td>\n",
       "      <td>26</td>\n",
       "      <td>20</td>\n",
       "      <td>...</td>\n",
       "      <td>20</td>\n",
       "      <td>18</td>\n",
       "      <td>20</td>\n",
       "      <td>20</td>\n",
       "      <td>18</td>\n",
       "      <td>15</td>\n",
       "      <td>23</td>\n",
       "      <td>21</td>\n",
       "      <td>19</td>\n",
       "      <td>19</td>\n",
       "    </tr>\n",
       "    <tr>\n",
       "      <th>2006_cardiovascular</th>\n",
       "      <td>23</td>\n",
       "      <td>18</td>\n",
       "      <td>19</td>\n",
       "      <td>24</td>\n",
       "      <td>24</td>\n",
       "      <td>21</td>\n",
       "      <td>20</td>\n",
       "      <td>23</td>\n",
       "      <td>23</td>\n",
       "      <td>17</td>\n",
       "      <td>...</td>\n",
       "      <td>14</td>\n",
       "      <td>18</td>\n",
       "      <td>16</td>\n",
       "      <td>20</td>\n",
       "      <td>15</td>\n",
       "      <td>13</td>\n",
       "      <td>16</td>\n",
       "      <td>15</td>\n",
       "      <td>10</td>\n",
       "      <td>18</td>\n",
       "    </tr>\n",
       "    <tr>\n",
       "      <th>2006_stroke</th>\n",
       "      <td>26</td>\n",
       "      <td>18</td>\n",
       "      <td>26</td>\n",
       "      <td>23</td>\n",
       "      <td>23</td>\n",
       "      <td>23</td>\n",
       "      <td>23</td>\n",
       "      <td>31</td>\n",
       "      <td>25</td>\n",
       "      <td>26</td>\n",
       "      <td>...</td>\n",
       "      <td>24</td>\n",
       "      <td>24</td>\n",
       "      <td>19</td>\n",
       "      <td>22</td>\n",
       "      <td>20</td>\n",
       "      <td>24</td>\n",
       "      <td>24</td>\n",
       "      <td>20</td>\n",
       "      <td>28</td>\n",
       "      <td>23</td>\n",
       "    </tr>\n",
       "  </tbody>\n",
       "</table>\n",
       "<p>10 rows × 210 columns</p>\n",
       "</div>"
      ],
      "text/plain": [
       "StateAbbr            ME  NY  NY  GA  PA  MI  NH  GA  PA  IN  ...  OR  OR  CA  \\\n",
       "2004_cardiovascular   6   6   3  14   7   6   6  11  10   4  ...   4  12   5   \n",
       "2004_stroke          17  13  16  14  16  16  15  17  17  14  ...  18  18  15   \n",
       "2004_obesity         29  27  31  29  30  27  27  45  35  25  ...  29  46  22   \n",
       "2004_diabetes        38  32  37  31  37  34  37  26  43  36  ...  36  45  29   \n",
       "2005_cardiovascular  16  15   8  25  17  14  16  11  17  13  ...  14  17  12   \n",
       "2005_stroke          38  35  44  48  39  43  41  50  49  43  ...  42  37  35   \n",
       "2005_obesity         14  15  24  23  18  18  15  18  20  25  ...  18  19  15   \n",
       "2005_diabetes        23  19  18  22  23  20  22  25  26  20  ...  20  18  20   \n",
       "2006_cardiovascular  23  18  19  24  24  21  20  23  23  17  ...  14  18  16   \n",
       "2006_stroke          26  18  26  23  23  23  23  31  25  26  ...  24  24  19   \n",
       "\n",
       "StateAbbr            CA  NV  CA  CA  CA  CA  WA  \n",
       "2004_cardiovascular   4   4   5   4   7   4   6  \n",
       "2004_stroke          12  16  13  17  13  22  17  \n",
       "2004_obesity         26  17  38  29  33  41  30  \n",
       "2004_diabetes        32  30  27  35  34  24  46  \n",
       "2005_cardiovascular  12  10  10  13  17  10  16  \n",
       "2005_stroke          45  35  31  45  35  45  47  \n",
       "2005_obesity         17  10  15  19  24  38  24  \n",
       "2005_diabetes        20  18  15  23  21  19  19  \n",
       "2006_cardiovascular  20  15  13  16  15  10  18  \n",
       "2006_stroke          22  20  24  24  20  28  23  \n",
       "\n",
       "[10 rows x 210 columns]"
      ]
     },
     "execution_count": 80,
     "metadata": {},
     "output_type": "execute_result"
    }
   ],
   "source": [
    "health_df_transposed = DF2.set_index('StateAbbr').T\n",
    "health_df_transposed.head(10)"
   ]
  },
  {
   "cell_type": "code",
   "execution_count": 81,
   "id": "03fff7d5",
   "metadata": {},
   "outputs": [
    {
     "name": "stderr",
     "output_type": "stream",
     "text": [
      "C:\\Users\\jinhe\\OneDrive\\Documents\\Dev10\\Anaconda\\lib\\site-packages\\IPython\\core\\pylabtools.py:152: UserWarning: Creating legend with loc=\"best\" can be slow with large amounts of data.\n",
      "  fig.canvas.print_figure(bytes_io, **kw)\n"
     ]
    },
    {
     "data": {
      "image/png": "[encoded data removed]",
      "text/plain": [
       "<Figure size 1000x600 with 1 Axes>"
      ]
     },
     "metadata": {},
     "output_type": "display_data"
    }
   ],
   "source": [
    "# Plot the transposed DataFrame\n",
    "ax = health_df_transposed.plot(kind='bar', figsize=(10, 6))\n",
    "\n",
    "# Set the x-axis label and y-axis label\n",
    "ax.set_xlabel('Year')\n",
    "ax.set_ylabel('Value')\n",
    "\n",
    "# Add a legend\n",
    "ax.legend(['Obesity', 'Cardiovascular', 'Stroke', 'Diabetes'])\n",
    "\n",
    "plt.show()"
   ]
  },
  {
   "cell_type": "markdown",
   "id": "102a5199",
   "metadata": {},
   "source": [
    "### Other data: Health Status of child\n",
    "\n",
    "    * Average weight and income corelation*\n",
    "    * Weight and continent corelation\n",
    "\n"
   ]
  },
  {
   "cell_type": "code",
   "execution_count": 65,
   "id": "04c625c5",
   "metadata": {},
   "outputs": [],
   "source": [
    "df = pd.read_csv('data/Child malnutrition.csv')"
   ]
  },
  {
   "cell_type": "code",
   "execution_count": null,
   "id": "a1d72fa3",
   "metadata": {},
   "outputs": [],
   "source": [
    "df.head(5)"
   ]
  },
  {
   "cell_type": "code",
   "execution_count": null,
   "id": "609b61b3",
   "metadata": {},
   "outputs": [],
   "source": [
    "df.columns"
   ]
  },
  {
   "cell_type": "code",
   "execution_count": 66,
   "id": "ab299458",
   "metadata": {},
   "outputs": [
    {
     "name": "stdout",
     "output_type": "stream",
     "text": [
      "4.9     13\n",
      "4.7     13\n",
      "4.0     12\n",
      "6.2     11\n",
      "1.6     11\n",
      "        ..\n",
      "13.2     1\n",
      "23.4     1\n",
      "25.2     1\n",
      "20.8     1\n",
      "10.6     1\n",
      "Name: Overweight, Length: 175, dtype: int64\n"
     ]
    }
   ],
   "source": [
    "column_counts = df['Overweight'].value_counts()\n",
    "\n",
    "print(column_counts)"
   ]
  },
  {
   "cell_type": "code",
   "execution_count": 67,
   "id": "ced85829",
   "metadata": {},
   "outputs": [],
   "source": [
    "df['Overweight'] = df['Overweight'].astype(float)"
   ]
  },
  {
   "cell_type": "code",
   "execution_count": 68,
   "id": "05bed40b",
   "metadata": {},
   "outputs": [
    {
     "data": {
      "text/plain": [
       "World Bank\n",
       "Low Income             4.308609\n",
       "Lower Middle Income    6.026692\n",
       "High Income            8.050000\n",
       "Upper Middle Income    8.503518\n",
       "Name: Overweight, dtype: float64"
      ]
     },
     "execution_count": 68,
     "metadata": {},
     "output_type": "execute_result"
    }
   ],
   "source": [
    "df2 = df.groupby('World Bank')['Overweight'].mean().sort_values()\n",
    "df2"
   ]
  },
  {
   "cell_type": "code",
   "execution_count": 70,
   "id": "6d1ada75",
   "metadata": {},
   "outputs": [
    {
     "data": {
      "image/png": "[encoded data removed]",
      "text/plain": [
       "<Figure size 1200x1200 with 1 Axes>"
      ]
     },
     "metadata": {},
     "output_type": "display_data"
    }
   ],
   "source": [
    "plt.figure(figsize = (12, 12))\n",
    "df2.plot(kind = 'barh')\n",
    "\n",
    "plt.title(\"Child Average Weight Ratings By Income\");"
   ]
  },
  {
   "cell_type": "code",
   "execution_count": 71,
   "id": "7db7fb02",
   "metadata": {},
   "outputs": [
    {
     "data": {
      "text/plain": [
       "pandas.core.series.Series"
      ]
     },
     "execution_count": 71,
     "metadata": {},
     "output_type": "execute_result"
    }
   ],
   "source": [
    "type(df2)"
   ]
  },
  {
   "cell_type": "code",
   "execution_count": 72,
   "id": "833e9977",
   "metadata": {},
   "outputs": [
    {
     "data": {
      "text/plain": [
       "Continent\n",
       "Asia                                5.809417\n",
       "Africa                              6.083137\n",
       "Oceania                             6.372222\n",
       "Latin America and the Caribbean     7.117532\n",
       "Northern America                    7.450000\n",
       "Europe                             13.967857\n",
       "Name: Overweight, dtype: float64"
      ]
     },
     "execution_count": 72,
     "metadata": {},
     "output_type": "execute_result"
    }
   ],
   "source": [
    "df3 = df.groupby('Continent')['Overweight'].mean().sort_values()\n",
    "df3"
   ]
  },
  {
   "cell_type": "code",
   "execution_count": 74,
   "id": "beff192a",
   "metadata": {},
   "outputs": [
    {
     "data": {
      "image/png": "[encoded data removed]",
      "text/plain": [
       "<Figure size 1200x1200 with 1 Axes>"
      ]
     },
     "metadata": {},
     "output_type": "display_data"
    }
   ],
   "source": [
    "plt.figure(figsize = (12, 12))\n",
    "df3.plot(kind = 'barh')\n",
    "\n",
    "plt.title(\"Child Average Weight Ratings By Continent\");\n"
   ]
  },
  {
   "cell_type": "code",
   "execution_count": null,
   "id": "e48398ba",
   "metadata": {},
   "outputs": [],
   "source": []
  },
  {
   "cell_type": "code",
   "execution_count": null,
   "id": "15e9d99b",
   "metadata": {},
   "outputs": [],
   "source": []
  },
  {
   "cell_type": "code",
   "execution_count": null,
   "id": "b0168f3b",
   "metadata": {},
   "outputs": [],
   "source": []
  },
  {
   "cell_type": "code",
   "execution_count": null,
   "id": "e9b54f38",
   "metadata": {},
   "outputs": [],
   "source": []
  },
  {
   "cell_type": "code",
   "execution_count": null,
   "id": "7e715ea0",
   "metadata": {},
   "outputs": [],
   "source": []
  }
 ],
 "metadata": {
  "kernelspec": {
   "display_name": "Python 3 (ipykernel)",
   "language": "python",
   "name": "python3"
  },
  "language_info": {
   "codemirror_mode": {
    "name": "ipython",
    "version": 3
   },
   "file_extension": ".py",
   "mimetype": "text/x-python",
   "name": "python",
   "nbconvert_exporter": "python",
   "pygments_lexer": "ipython3",
   "version": "3.10.9"
  }
 },
 "nbformat": 4,
 "nbformat_minor": 5
}
