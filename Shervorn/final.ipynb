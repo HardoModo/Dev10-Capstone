{
 "cells": [
  {
   "cell_type": "code",
   "execution_count": 1,
   "metadata": {},
   "outputs": [],
   "source": [
    "import pandas as pd\n",
    "# import geopandas as gpd\n",
    "from sodapy import Socrata\n",
    "import plotly.express as px\n",
    "import matplotlib.pyplot as plt\n"
   ]
  },
  {
   "cell_type": "code",
   "execution_count": 2,
   "metadata": {},
   "outputs": [
    {
     "name": "stderr",
     "output_type": "stream",
     "text": [
      "WARNING:root:Requests made without an app_token will be subject to strict throttling limits.\n"
     ]
    }
   ],
   "source": [
    "client = Socrata(\"chronicdata.cdc.gov\", None)\n",
    "\n",
    "results = client.get(\"hn4x-zwk7\", limit=100000)\n",
    "\n",
    "results_df = pd.DataFrame.from_records(results)"
   ]
  },
  {
   "cell_type": "code",
   "execution_count": 3,
   "metadata": {},
   "outputs": [
    {
     "data": {
      "text/plain": [
       "(88629, 34)"
      ]
     },
     "execution_count": 3,
     "metadata": {},
     "output_type": "execute_result"
    }
   ],
   "source": [
    "results_df.shape"
   ]
  },
  {
   "cell_type": "code",
   "execution_count": 4,
   "metadata": {},
   "outputs": [
    {
     "data": {
      "text/html": [
       "<div>\n",
       "<style scoped>\n",
       "    .dataframe tbody tr th:only-of-type {\n",
       "        vertical-align: middle;\n",
       "    }\n",
       "\n",
       "    .dataframe tbody tr th {\n",
       "        vertical-align: top;\n",
       "    }\n",
       "\n",
       "    .dataframe thead th {\n",
       "        text-align: right;\n",
       "    }\n",
       "</style>\n",
       "<table border=\"1\" class=\"dataframe\">\n",
       "  <thead>\n",
       "    <tr style=\"text-align: right;\">\n",
       "      <th></th>\n",
       "      <th>yearstart</th>\n",
       "      <th>yearend</th>\n",
       "      <th>locationabbr</th>\n",
       "      <th>locationdesc</th>\n",
       "      <th>datasource</th>\n",
       "      <th>class</th>\n",
       "      <th>topic</th>\n",
       "      <th>question</th>\n",
       "      <th>data_value_type</th>\n",
       "      <th>data_value</th>\n",
       "      <th>...</th>\n",
       "      <th>stratificationid1</th>\n",
       "      <th>:@computed_region_bxsw_vy29</th>\n",
       "      <th>:@computed_region_he4y_prf8</th>\n",
       "      <th>education</th>\n",
       "      <th>gender</th>\n",
       "      <th>income</th>\n",
       "      <th>total</th>\n",
       "      <th>race_ethnicity</th>\n",
       "      <th>data_value_footnote_symbol</th>\n",
       "      <th>data_value_footnote</th>\n",
       "    </tr>\n",
       "  </thead>\n",
       "  <tbody>\n",
       "    <tr>\n",
       "      <th>0</th>\n",
       "      <td>2021</td>\n",
       "      <td>2021</td>\n",
       "      <td>AL</td>\n",
       "      <td>Alabama</td>\n",
       "      <td>Behavioral Risk Factor Surveillance System</td>\n",
       "      <td>Obesity / Weight Status</td>\n",
       "      <td>Obesity / Weight Status</td>\n",
       "      <td>Percent of adults aged 18 years and older who ...</td>\n",
       "      <td>Value</td>\n",
       "      <td>25.4</td>\n",
       "      <td>...</td>\n",
       "      <td>AGEYR1824</td>\n",
       "      <td>29</td>\n",
       "      <td>94</td>\n",
       "      <td>NaN</td>\n",
       "      <td>NaN</td>\n",
       "      <td>NaN</td>\n",
       "      <td>NaN</td>\n",
       "      <td>NaN</td>\n",
       "      <td>NaN</td>\n",
       "      <td>NaN</td>\n",
       "    </tr>\n",
       "    <tr>\n",
       "      <th>1</th>\n",
       "      <td>2021</td>\n",
       "      <td>2021</td>\n",
       "      <td>AL</td>\n",
       "      <td>Alabama</td>\n",
       "      <td>Behavioral Risk Factor Surveillance System</td>\n",
       "      <td>Fruits and Vegetables</td>\n",
       "      <td>Fruits and Vegetables - Behavior</td>\n",
       "      <td>Percent of adults who report consuming fruit l...</td>\n",
       "      <td>Value</td>\n",
       "      <td>44.8</td>\n",
       "      <td>...</td>\n",
       "      <td>AGEYR1824</td>\n",
       "      <td>29</td>\n",
       "      <td>94</td>\n",
       "      <td>NaN</td>\n",
       "      <td>NaN</td>\n",
       "      <td>NaN</td>\n",
       "      <td>NaN</td>\n",
       "      <td>NaN</td>\n",
       "      <td>NaN</td>\n",
       "      <td>NaN</td>\n",
       "    </tr>\n",
       "    <tr>\n",
       "      <th>2</th>\n",
       "      <td>2021</td>\n",
       "      <td>2021</td>\n",
       "      <td>AL</td>\n",
       "      <td>Alabama</td>\n",
       "      <td>Behavioral Risk Factor Surveillance System</td>\n",
       "      <td>Obesity / Weight Status</td>\n",
       "      <td>Obesity / Weight Status</td>\n",
       "      <td>Percent of adults aged 18 years and older who ...</td>\n",
       "      <td>Value</td>\n",
       "      <td>28.5</td>\n",
       "      <td>...</td>\n",
       "      <td>AGEYR1824</td>\n",
       "      <td>29</td>\n",
       "      <td>94</td>\n",
       "      <td>NaN</td>\n",
       "      <td>NaN</td>\n",
       "      <td>NaN</td>\n",
       "      <td>NaN</td>\n",
       "      <td>NaN</td>\n",
       "      <td>NaN</td>\n",
       "      <td>NaN</td>\n",
       "    </tr>\n",
       "    <tr>\n",
       "      <th>3</th>\n",
       "      <td>2021</td>\n",
       "      <td>2021</td>\n",
       "      <td>AL</td>\n",
       "      <td>Alabama</td>\n",
       "      <td>Behavioral Risk Factor Surveillance System</td>\n",
       "      <td>Fruits and Vegetables</td>\n",
       "      <td>Fruits and Vegetables - Behavior</td>\n",
       "      <td>Percent of adults who report consuming vegetab...</td>\n",
       "      <td>Value</td>\n",
       "      <td>24.7</td>\n",
       "      <td>...</td>\n",
       "      <td>AGEYR1824</td>\n",
       "      <td>29</td>\n",
       "      <td>94</td>\n",
       "      <td>NaN</td>\n",
       "      <td>NaN</td>\n",
       "      <td>NaN</td>\n",
       "      <td>NaN</td>\n",
       "      <td>NaN</td>\n",
       "      <td>NaN</td>\n",
       "      <td>NaN</td>\n",
       "    </tr>\n",
       "    <tr>\n",
       "      <th>4</th>\n",
       "      <td>2021</td>\n",
       "      <td>2021</td>\n",
       "      <td>AL</td>\n",
       "      <td>Alabama</td>\n",
       "      <td>Behavioral Risk Factor Surveillance System</td>\n",
       "      <td>Physical Activity</td>\n",
       "      <td>Physical Activity - Behavior</td>\n",
       "      <td>Percent of adults who engage in no leisure-tim...</td>\n",
       "      <td>Value</td>\n",
       "      <td>19.3</td>\n",
       "      <td>...</td>\n",
       "      <td>AGEYR1824</td>\n",
       "      <td>29</td>\n",
       "      <td>94</td>\n",
       "      <td>NaN</td>\n",
       "      <td>NaN</td>\n",
       "      <td>NaN</td>\n",
       "      <td>NaN</td>\n",
       "      <td>NaN</td>\n",
       "      <td>NaN</td>\n",
       "      <td>NaN</td>\n",
       "    </tr>\n",
       "  </tbody>\n",
       "</table>\n",
       "<p>5 rows × 34 columns</p>\n",
       "</div>"
      ],
      "text/plain": [
       "  yearstart yearend locationabbr locationdesc  \\\n",
       "0      2021    2021           AL      Alabama   \n",
       "1      2021    2021           AL      Alabama   \n",
       "2      2021    2021           AL      Alabama   \n",
       "3      2021    2021           AL      Alabama   \n",
       "4      2021    2021           AL      Alabama   \n",
       "\n",
       "                                   datasource                    class  \\\n",
       "0  Behavioral Risk Factor Surveillance System  Obesity / Weight Status   \n",
       "1  Behavioral Risk Factor Surveillance System    Fruits and Vegetables   \n",
       "2  Behavioral Risk Factor Surveillance System  Obesity / Weight Status   \n",
       "3  Behavioral Risk Factor Surveillance System    Fruits and Vegetables   \n",
       "4  Behavioral Risk Factor Surveillance System        Physical Activity   \n",
       "\n",
       "                              topic  \\\n",
       "0           Obesity / Weight Status   \n",
       "1  Fruits and Vegetables - Behavior   \n",
       "2           Obesity / Weight Status   \n",
       "3  Fruits and Vegetables - Behavior   \n",
       "4      Physical Activity - Behavior   \n",
       "\n",
       "                                            question data_value_type  \\\n",
       "0  Percent of adults aged 18 years and older who ...           Value   \n",
       "1  Percent of adults who report consuming fruit l...           Value   \n",
       "2  Percent of adults aged 18 years and older who ...           Value   \n",
       "3  Percent of adults who report consuming vegetab...           Value   \n",
       "4  Percent of adults who engage in no leisure-tim...           Value   \n",
       "\n",
       "  data_value  ... stratificationid1 :@computed_region_bxsw_vy29  \\\n",
       "0       25.4  ...         AGEYR1824                          29   \n",
       "1       44.8  ...         AGEYR1824                          29   \n",
       "2       28.5  ...         AGEYR1824                          29   \n",
       "3       24.7  ...         AGEYR1824                          29   \n",
       "4       19.3  ...         AGEYR1824                          29   \n",
       "\n",
       "  :@computed_region_he4y_prf8 education gender income total race_ethnicity  \\\n",
       "0                          94       NaN    NaN    NaN   NaN            NaN   \n",
       "1                          94       NaN    NaN    NaN   NaN            NaN   \n",
       "2                          94       NaN    NaN    NaN   NaN            NaN   \n",
       "3                          94       NaN    NaN    NaN   NaN            NaN   \n",
       "4                          94       NaN    NaN    NaN   NaN            NaN   \n",
       "\n",
       "  data_value_footnote_symbol data_value_footnote  \n",
       "0                        NaN                 NaN  \n",
       "1                        NaN                 NaN  \n",
       "2                        NaN                 NaN  \n",
       "3                        NaN                 NaN  \n",
       "4                        NaN                 NaN  \n",
       "\n",
       "[5 rows x 34 columns]"
      ]
     },
     "execution_count": 4,
     "metadata": {},
     "output_type": "execute_result"
    }
   ],
   "source": [
    "results_df.head(5)"
   ]
  },
  {
   "cell_type": "code",
   "execution_count": 5,
   "metadata": {},
   "outputs": [
    {
     "data": {
      "text/plain": [
       "['yearstart',\n",
       " 'yearend',\n",
       " 'locationabbr',\n",
       " 'locationdesc',\n",
       " 'datasource',\n",
       " 'class',\n",
       " 'topic',\n",
       " 'question',\n",
       " 'data_value_type',\n",
       " 'data_value',\n",
       " 'data_value_alt',\n",
       " 'low_confidence_limit',\n",
       " 'high_confidence_limit',\n",
       " 'sample_size',\n",
       " 'age_years',\n",
       " 'geolocation',\n",
       " 'classid',\n",
       " 'topicid',\n",
       " 'questionid',\n",
       " 'datavaluetypeid',\n",
       " 'locationid',\n",
       " 'stratificationcategory1',\n",
       " 'stratification1',\n",
       " 'stratificationcategoryid1',\n",
       " 'stratificationid1',\n",
       " ':@computed_region_bxsw_vy29',\n",
       " ':@computed_region_he4y_prf8',\n",
       " 'education',\n",
       " 'gender',\n",
       " 'income',\n",
       " 'total',\n",
       " 'race_ethnicity',\n",
       " 'data_value_footnote_symbol',\n",
       " 'data_value_footnote']"
      ]
     },
     "execution_count": 5,
     "metadata": {},
     "output_type": "execute_result"
    }
   ],
   "source": [
    "list(results_df.columns)"
   ]
  },
  {
   "cell_type": "code",
   "execution_count": 6,
   "metadata": {},
   "outputs": [
    {
     "name": "stdout",
     "output_type": "stream",
     "text": [
      "['Percent of adults aged 18 years and older who have obesity'\n",
      " 'Percent of adults who report consuming fruit less than one time daily'\n",
      " 'Percent of adults aged 18 years and older who have an overweight classification'\n",
      " 'Percent of adults who report consuming vegetables less than one time daily'\n",
      " 'Percent of adults who engage in no leisure-time physical activity'\n",
      " 'Percent of adults who achieve at least 300 minutes a week of moderate-intensity aerobic physical activity or 150 minutes a week of vigorous-intensity aerobic activity (or an equivalent combination)'\n",
      " 'Percent of adults who achieve at least 150 minutes a week of moderate-intensity aerobic physical activity or 75 minutes a week of vigorous-intensity aerobic physical activity and engage in muscle-strengthening activities on 2 or more days a week'\n",
      " 'Percent of adults who achieve at least 150 minutes a week of moderate-intensity aerobic physical activity or 75 minutes a week of vigorous-intensity aerobic activity (or an equivalent combination)'\n",
      " 'Percent of adults who engage in muscle-strengthening activities on 2 or more days a week']\n"
     ]
    }
   ],
   "source": [
    "print(results_df['question'].unique())"
   ]
  },
  {
   "cell_type": "code",
   "execution_count": 7,
   "metadata": {},
   "outputs": [
    {
     "name": "stdout",
     "output_type": "stream",
     "text": [
      "['AL' 'AK' 'AZ' 'AR' 'CA' 'CO' 'CT' 'DE' 'DC' 'FL' 'GA' 'GU' 'HI' 'ID'\n",
      " 'IL' 'IN' 'IA' 'KS' 'KY' 'LA' 'ME' 'MD' 'MA' 'MI' 'MN' 'MS' 'MO' 'MT'\n",
      " 'US' 'NE' 'NV' 'NH' 'NJ' 'NM' 'NY' 'NC' 'ND' 'OH' 'OK' 'OR' 'PA' 'PR'\n",
      " 'RI' 'SC' 'SD' 'TN' 'TX' 'UT' 'VT' 'VA' 'VI' 'WA' 'WV' 'WI' 'WY']\n"
     ]
    }
   ],
   "source": [
    "print(results_df['locationabbr'].unique())"
   ]
  },
  {
   "cell_type": "code",
   "execution_count": 8,
   "metadata": {},
   "outputs": [
    {
     "name": "stdout",
     "output_type": "stream",
     "text": [
      "['2021' '2020' '2019' '2018' '2017' '2016' '2015' '2014' '2013' '2012'\n",
      " '2011']\n"
     ]
    }
   ],
   "source": [
    "print(results_df['yearstart'].unique())"
   ]
  },
  {
   "cell_type": "code",
   "execution_count": 9,
   "metadata": {},
   "outputs": [
    {
     "data": {
      "text/html": [
       "<div>\n",
       "<style scoped>\n",
       "    .dataframe tbody tr th:only-of-type {\n",
       "        vertical-align: middle;\n",
       "    }\n",
       "\n",
       "    .dataframe tbody tr th {\n",
       "        vertical-align: top;\n",
       "    }\n",
       "\n",
       "    .dataframe thead th {\n",
       "        text-align: right;\n",
       "    }\n",
       "</style>\n",
       "<table border=\"1\" class=\"dataframe\">\n",
       "  <thead>\n",
       "    <tr style=\"text-align: right;\">\n",
       "      <th></th>\n",
       "      <th>yearstart</th>\n",
       "      <th>locationabbr</th>\n",
       "      <th>locationdesc</th>\n",
       "      <th>question</th>\n",
       "      <th>data_value</th>\n",
       "      <th>sample_size</th>\n",
       "      <th>age_years</th>\n",
       "      <th>education</th>\n",
       "      <th>gender</th>\n",
       "      <th>income</th>\n",
       "      <th>race_ethnicity</th>\n",
       "      <th>total</th>\n",
       "    </tr>\n",
       "  </thead>\n",
       "  <tbody>\n",
       "    <tr>\n",
       "      <th>0</th>\n",
       "      <td>2021</td>\n",
       "      <td>AL</td>\n",
       "      <td>Alabama</td>\n",
       "      <td>Percent of adults aged 18 years and older who ...</td>\n",
       "      <td>25.4</td>\n",
       "      <td>232.0</td>\n",
       "      <td>18 - 24</td>\n",
       "      <td>NaN</td>\n",
       "      <td>NaN</td>\n",
       "      <td>NaN</td>\n",
       "      <td>NaN</td>\n",
       "      <td>NaN</td>\n",
       "    </tr>\n",
       "    <tr>\n",
       "      <th>1</th>\n",
       "      <td>2021</td>\n",
       "      <td>AL</td>\n",
       "      <td>Alabama</td>\n",
       "      <td>Percent of adults who report consuming fruit l...</td>\n",
       "      <td>44.8</td>\n",
       "      <td>223.0</td>\n",
       "      <td>18 - 24</td>\n",
       "      <td>NaN</td>\n",
       "      <td>NaN</td>\n",
       "      <td>NaN</td>\n",
       "      <td>NaN</td>\n",
       "      <td>NaN</td>\n",
       "    </tr>\n",
       "    <tr>\n",
       "      <th>2</th>\n",
       "      <td>2021</td>\n",
       "      <td>AL</td>\n",
       "      <td>Alabama</td>\n",
       "      <td>Percent of adults aged 18 years and older who ...</td>\n",
       "      <td>28.5</td>\n",
       "      <td>232.0</td>\n",
       "      <td>18 - 24</td>\n",
       "      <td>NaN</td>\n",
       "      <td>NaN</td>\n",
       "      <td>NaN</td>\n",
       "      <td>NaN</td>\n",
       "      <td>NaN</td>\n",
       "    </tr>\n",
       "    <tr>\n",
       "      <th>3</th>\n",
       "      <td>2021</td>\n",
       "      <td>AL</td>\n",
       "      <td>Alabama</td>\n",
       "      <td>Percent of adults who report consuming vegetab...</td>\n",
       "      <td>24.7</td>\n",
       "      <td>219.0</td>\n",
       "      <td>18 - 24</td>\n",
       "      <td>NaN</td>\n",
       "      <td>NaN</td>\n",
       "      <td>NaN</td>\n",
       "      <td>NaN</td>\n",
       "      <td>NaN</td>\n",
       "    </tr>\n",
       "    <tr>\n",
       "      <th>4</th>\n",
       "      <td>2021</td>\n",
       "      <td>AL</td>\n",
       "      <td>Alabama</td>\n",
       "      <td>Percent of adults who engage in no leisure-tim...</td>\n",
       "      <td>19.3</td>\n",
       "      <td>254.0</td>\n",
       "      <td>18 - 24</td>\n",
       "      <td>NaN</td>\n",
       "      <td>NaN</td>\n",
       "      <td>NaN</td>\n",
       "      <td>NaN</td>\n",
       "      <td>NaN</td>\n",
       "    </tr>\n",
       "  </tbody>\n",
       "</table>\n",
       "</div>"
      ],
      "text/plain": [
       "  yearstart locationabbr locationdesc  \\\n",
       "0      2021           AL      Alabama   \n",
       "1      2021           AL      Alabama   \n",
       "2      2021           AL      Alabama   \n",
       "3      2021           AL      Alabama   \n",
       "4      2021           AL      Alabama   \n",
       "\n",
       "                                            question data_value sample_size  \\\n",
       "0  Percent of adults aged 18 years and older who ...       25.4       232.0   \n",
       "1  Percent of adults who report consuming fruit l...       44.8       223.0   \n",
       "2  Percent of adults aged 18 years and older who ...       28.5       232.0   \n",
       "3  Percent of adults who report consuming vegetab...       24.7       219.0   \n",
       "4  Percent of adults who engage in no leisure-tim...       19.3       254.0   \n",
       "\n",
       "  age_years education gender income race_ethnicity total  \n",
       "0   18 - 24       NaN    NaN    NaN            NaN   NaN  \n",
       "1   18 - 24       NaN    NaN    NaN            NaN   NaN  \n",
       "2   18 - 24       NaN    NaN    NaN            NaN   NaN  \n",
       "3   18 - 24       NaN    NaN    NaN            NaN   NaN  \n",
       "4   18 - 24       NaN    NaN    NaN            NaN   NaN  "
      ]
     },
     "execution_count": 9,
     "metadata": {},
     "output_type": "execute_result"
    }
   ],
   "source": [
    "colsToKeep = ['yearstart',\n",
    " 'locationabbr',\n",
    " 'locationdesc',\n",
    " 'question',\n",
    " 'data_value',\n",
    " 'sample_size',\n",
    " 'age_years',\n",
    " 'education',\n",
    " 'gender',\n",
    " 'income',\n",
    " 'race_ethnicity',\n",
    " 'total',\n",
    "]\n",
    "\n",
    "cleaned_DF = results_df[colsToKeep]\n",
    "cleaned_DF.head(5)"
   ]
  },
  {
   "cell_type": "code",
   "execution_count": 10,
   "metadata": {},
   "outputs": [
    {
     "data": {
      "text/html": [
       "<div>\n",
       "<style scoped>\n",
       "    .dataframe tbody tr th:only-of-type {\n",
       "        vertical-align: middle;\n",
       "    }\n",
       "\n",
       "    .dataframe tbody tr th {\n",
       "        vertical-align: top;\n",
       "    }\n",
       "\n",
       "    .dataframe thead th {\n",
       "        text-align: right;\n",
       "    }\n",
       "</style>\n",
       "<table border=\"1\" class=\"dataframe\">\n",
       "  <thead>\n",
       "    <tr style=\"text-align: right;\">\n",
       "      <th></th>\n",
       "      <th>Commodity</th>\n",
       "      <th>Year</th>\n",
       "      <th>Attribute</th>\n",
       "      <th>Value</th>\n",
       "    </tr>\n",
       "  </thead>\n",
       "  <tbody>\n",
       "    <tr>\n",
       "      <th>0</th>\n",
       "      <td>Fruit: Per capita availability adjusted for loss</td>\n",
       "      <td>1970</td>\n",
       "      <td>Primary weight-Pounds/year</td>\n",
       "      <td>236.820166</td>\n",
       "    </tr>\n",
       "    <tr>\n",
       "      <th>1</th>\n",
       "      <td>Fruit: Per capita availability adjusted for loss</td>\n",
       "      <td>1971</td>\n",
       "      <td>Primary weight-Pounds/year</td>\n",
       "      <td>241.197145</td>\n",
       "    </tr>\n",
       "    <tr>\n",
       "      <th>2</th>\n",
       "      <td>Fruit: Per capita availability adjusted for loss</td>\n",
       "      <td>1972</td>\n",
       "      <td>Primary weight-Pounds/year</td>\n",
       "      <td>230.912615</td>\n",
       "    </tr>\n",
       "    <tr>\n",
       "      <th>3</th>\n",
       "      <td>Fruit: Per capita availability adjusted for loss</td>\n",
       "      <td>1973</td>\n",
       "      <td>Primary weight-Pounds/year</td>\n",
       "      <td>234.841932</td>\n",
       "    </tr>\n",
       "    <tr>\n",
       "      <th>4</th>\n",
       "      <td>Fruit: Per capita availability adjusted for loss</td>\n",
       "      <td>1974</td>\n",
       "      <td>Primary weight-Pounds/year</td>\n",
       "      <td>234.297918</td>\n",
       "    </tr>\n",
       "  </tbody>\n",
       "</table>\n",
       "</div>"
      ],
      "text/plain": [
       "                                          Commodity  Year  \\\n",
       "0  Fruit: Per capita availability adjusted for loss  1970   \n",
       "1  Fruit: Per capita availability adjusted for loss  1971   \n",
       "2  Fruit: Per capita availability adjusted for loss  1972   \n",
       "3  Fruit: Per capita availability adjusted for loss  1973   \n",
       "4  Fruit: Per capita availability adjusted for loss  1974   \n",
       "\n",
       "                    Attribute       Value  \n",
       "0  Primary weight-Pounds/year  236.820166  \n",
       "1  Primary weight-Pounds/year  241.197145  \n",
       "2  Primary weight-Pounds/year  230.912615  \n",
       "3  Primary weight-Pounds/year  234.841932  \n",
       "4  Primary weight-Pounds/year  234.297918  "
      ]
     },
     "execution_count": 10,
     "metadata": {},
     "output_type": "execute_result"
    }
   ],
   "source": [
    "fruit_df = pd.read_csv(r\".\\data/Fruit.csv\")\n",
    "fruit_df.head(5)"
   ]
  },
  {
   "cell_type": "code",
   "execution_count": 11,
   "metadata": {},
   "outputs": [
    {
     "name": "stdout",
     "output_type": "stream",
     "text": [
      "['Primary weight-Pounds/year' 'Retail weight-Pounds/year'\n",
      " 'Consumer weight-Pounds/year' 'Edible weight-Pounds/year'\n",
      " 'Total loss, all levels-Percent'\n",
      " 'Per capita availability adjusted for loss-Pounds/year'\n",
      " 'Per capita availability adjusted for loss-Oz/day'\n",
      " 'Per capita availability adjusted for loss-G/day'\n",
      " 'Calories available daily-Number'\n",
      " 'Food pattern equivalents available daily-Cups'\n",
      " 'Loss from primary to retail weight-Percent'\n",
      " 'Loss from retail/institutional to consumer level-Percent'\n",
      " 'Loss at consumer level-Nonedible share-Percent'\n",
      " 'Loss at consumer level-Edible weight-Pounds/year'\n",
      " 'Loss at consumer level-Other (cooking loss and uneaten food)-Percent'\n",
      " 'Calories per cup-equivalent-Number' 'Grams per cup-equivalent-Grams'\n",
      " 'Gain from primary to retail weight-Percent'\n",
      " 'Primary weight -Pounds/year'\n",
      " 'Per capita availability adjusted for loss-Gals/year']\n"
     ]
    }
   ],
   "source": [
    "print(fruit_df['Attribute'].unique())"
   ]
  },
  {
   "cell_type": "code",
   "execution_count": 12,
   "metadata": {},
   "outputs": [
    {
     "name": "stdout",
     "output_type": "stream",
     "text": [
      "['Fruit: Per capita availability adjusted for loss'\n",
      " 'Fresh fruit: Per capita availability adjusted for loss'\n",
      " 'Fresh citrus fruit: Per capita availability adjusted for loss'\n",
      " 'Fresh oranges and temples: Per capita availability adjusted for loss'\n",
      " 'Fresh tangerines and tangelos: Per capita availability adjusted for loss'\n",
      " 'Fresh grapefruit: Per capita availability adjusted for loss'\n",
      " 'Fresh lemons: Per capita availability adjusted for loss'\n",
      " 'Fresh limes: Per capita availability adjusted for loss'\n",
      " 'Fresh noncitrus fruit: Per capita availability adjusted for loss'\n",
      " 'Fresh apples: Per capita availability adjusted for loss'\n",
      " 'Fresh apricots: Per capita availability adjusted for loss'\n",
      " 'Fresh avocados: Per capita availability adjusted for loss'\n",
      " 'Fresh bananas: Per capita availability adjusted for loss'\n",
      " 'Fresh blueberries: Per capita availability adjusted for loss'\n",
      " 'Fresh cantaloupe: Per capita availability adjusted for loss'\n",
      " 'Fresh cherries: Per capita availability adjusted for loss'\n",
      " 'Fresh cranberries: Per capita availability adjusted for loss'\n",
      " 'Fresh grapes: Per capita availability adjusted for loss'\n",
      " 'Fresh honeydew melons: Per capita availability adjusted for loss'\n",
      " 'Fresh kiwifruit: Per capita availability adjusted for loss'\n",
      " 'Fresh mangoes: Per capita availability adjusted for loss'\n",
      " 'Fresh papaya: Per capita availability adjusted for loss'\n",
      " 'Fresh peaches and nectarines: Per capita availability adjusted for loss'\n",
      " 'Fresh pears: Per capita availability adjusted for loss'\n",
      " 'Fresh pineapple: Per capita availability adjusted for loss'\n",
      " 'Fresh plums and prunes: Per capita availability adjusted for loss'\n",
      " 'Fresh raspberries: Per capita availability adjusted for loss'\n",
      " 'Fresh strawberries: Per capita availability adjusted for loss'\n",
      " 'Fresh watermelon: Per capita availability adjusted for loss'\n",
      " 'Canned fruit: Per capita availability adjusted for loss'\n",
      " 'Canned apples and applesauce: Per capita availability adjusted for loss'\n",
      " 'Canned apricots: Per capita availability adjusted for loss'\n",
      " 'Canned sweet cherries: Per capita availability adjusted for loss'\n",
      " 'Canned tart cherries: Per capita availability adjusted for loss'\n",
      " 'Canned peaches: Per capita availability adjusted for loss'\n",
      " 'Canned pears: Per capita availability adjusted for loss'\n",
      " 'Canned pineapples: Per capita availability adjusted for loss'\n",
      " 'Canned plums and prunes: Per capita availability adjusted for loss'\n",
      " 'Canned olives: Per capita availability adjusted for loss'\n",
      " 'Frozen fruit: Per capita availability adjusted for loss'\n",
      " 'Frozen berries: Per capita availability adjusted for loss'\n",
      " 'Frozen blackberries: Per capita availability adjusted for loss'\n",
      " 'Frozen blueberries: Per capita availability adjusted for loss'\n",
      " 'Frozen raspberries: Per capita availability adjusted for loss'\n",
      " 'Frozen strawberries: Per capita availability adjusted for loss'\n",
      " 'Other frozen berries: Per capita availability adjusted for loss'\n",
      " 'Frozen apples: Per capita availability adjusted for loss'\n",
      " 'Frozen apricots: Per capita availability adjusted for loss'\n",
      " 'Frozen sweet cherries: Per capita availability adjusted for loss'\n",
      " 'Frozen tart cherries: Per capita availability adjusted for loss'\n",
      " 'Frozen peaches: Per capita availability adjusted for loss'\n",
      " 'Frozen plums and prunes: Per capita availability adjusted for loss'\n",
      " 'Other frozen fruit: Per capita availability adjusted for loss'\n",
      " 'Dried fruit: Per capita availability adjusted for loss'\n",
      " 'Dried apples: Per capita availability adjusted for loss'\n",
      " 'Dried apricots: Per capita availability adjusted for loss'\n",
      " 'Dried dates: Per capita availability adjusted for loss'\n",
      " 'Dried figs: Per capita availability adjusted for loss'\n",
      " 'Dried peaches: Per capita availability adjusted for loss'\n",
      " 'Dried pears: Per capita availability adjusted for loss'\n",
      " 'Dried plums (prunes): Per capita availability adjusted for loss'\n",
      " 'Raisins: Per capita availability adjusted for loss'\n",
      " 'Fruit juice: Per capita availability adjusted for loss'\n",
      " 'Citrus juice: Per capita availability adjusted for loss'\n",
      " 'Grapefruit juice: Per capita availability adjusted for loss'\n",
      " 'Lemon juice: Per capita availability adjusted for loss'\n",
      " 'Lime juice: Per capita availability adjusted for loss'\n",
      " 'Orange, temple, tangerine and tangelo juice: Per capita availability adjusted for loss'\n",
      " 'Noncitrus juice: Per capita availability adjusted for loss'\n",
      " 'Apple juice: Per capita availability adjusted for loss'\n",
      " 'Cranberry juice: Per capita availability adjusted for loss'\n",
      " 'Grape juice: Per capita availability adjusted for loss'\n",
      " 'Pineapple juice: Per capita availability adjusted for loss'\n",
      " 'Prune juice: Per capita availability adjusted for loss']\n"
     ]
    }
   ],
   "source": [
    "print(fruit_df['Commodity'].unique())"
   ]
  },
  {
   "cell_type": "code",
   "execution_count": 13,
   "metadata": {},
   "outputs": [
    {
     "data": {
      "text/html": [
       "<div>\n",
       "<style scoped>\n",
       "    .dataframe tbody tr th:only-of-type {\n",
       "        vertical-align: middle;\n",
       "    }\n",
       "\n",
       "    .dataframe tbody tr th {\n",
       "        vertical-align: top;\n",
       "    }\n",
       "\n",
       "    .dataframe thead th {\n",
       "        text-align: right;\n",
       "    }\n",
       "</style>\n",
       "<table border=\"1\" class=\"dataframe\">\n",
       "  <thead>\n",
       "    <tr style=\"text-align: right;\">\n",
       "      <th></th>\n",
       "      <th>Commodity</th>\n",
       "      <th>Year</th>\n",
       "      <th>Attribute</th>\n",
       "      <th>Value</th>\n",
       "    </tr>\n",
       "  </thead>\n",
       "  <tbody>\n",
       "    <tr>\n",
       "      <th>260</th>\n",
       "      <td>Fruit: Per capita availability adjusted for loss</td>\n",
       "      <td>1970</td>\n",
       "      <td>Per capita availability adjusted for loss-Poun...</td>\n",
       "      <td>107.721542</td>\n",
       "    </tr>\n",
       "    <tr>\n",
       "      <th>261</th>\n",
       "      <td>Fruit: Per capita availability adjusted for loss</td>\n",
       "      <td>1971</td>\n",
       "      <td>Per capita availability adjusted for loss-Poun...</td>\n",
       "      <td>110.551015</td>\n",
       "    </tr>\n",
       "    <tr>\n",
       "      <th>262</th>\n",
       "      <td>Fruit: Per capita availability adjusted for loss</td>\n",
       "      <td>1972</td>\n",
       "      <td>Per capita availability adjusted for loss-Poun...</td>\n",
       "      <td>105.709636</td>\n",
       "    </tr>\n",
       "    <tr>\n",
       "      <th>263</th>\n",
       "      <td>Fruit: Per capita availability adjusted for loss</td>\n",
       "      <td>1973</td>\n",
       "      <td>Per capita availability adjusted for loss-Poun...</td>\n",
       "      <td>108.202608</td>\n",
       "    </tr>\n",
       "    <tr>\n",
       "      <th>264</th>\n",
       "      <td>Fruit: Per capita availability adjusted for loss</td>\n",
       "      <td>1974</td>\n",
       "      <td>Per capita availability adjusted for loss-Poun...</td>\n",
       "      <td>108.993536</td>\n",
       "    </tr>\n",
       "  </tbody>\n",
       "</table>\n",
       "</div>"
      ],
      "text/plain": [
       "                                            Commodity  Year  \\\n",
       "260  Fruit: Per capita availability adjusted for loss  1970   \n",
       "261  Fruit: Per capita availability adjusted for loss  1971   \n",
       "262  Fruit: Per capita availability adjusted for loss  1972   \n",
       "263  Fruit: Per capita availability adjusted for loss  1973   \n",
       "264  Fruit: Per capita availability adjusted for loss  1974   \n",
       "\n",
       "                                             Attribute       Value  \n",
       "260  Per capita availability adjusted for loss-Poun...  107.721542  \n",
       "261  Per capita availability adjusted for loss-Poun...  110.551015  \n",
       "262  Per capita availability adjusted for loss-Poun...  105.709636  \n",
       "263  Per capita availability adjusted for loss-Poun...  108.202608  \n",
       "264  Per capita availability adjusted for loss-Poun...  108.993536  "
      ]
     },
     "execution_count": 13,
     "metadata": {},
     "output_type": "execute_result"
    }
   ],
   "source": [
    "# filtered_fruit_df = fruit_df[fruit_df['Commodity'].str.contains(\"apple|Apple\")]\n",
    "filtered_fruit_df = fruit_df[fruit_df['Commodity'].str.contains(\"Fruit: Per capita availability adjusted for loss\")]\n",
    "filtered_fruit_df = filtered_fruit_df[filtered_fruit_df['Attribute'].str.contains(\"Per capita availability adjusted for loss-Pounds/year\")]\n",
    "# filtered_fruit_df.groupby('Year', as_index=False).sum()\n",
    "# print(filtered_fruit_df['Commodity'].unique())\n",
    "filtered_fruit_df.head(5)"
   ]
  },
  {
   "cell_type": "code",
   "execution_count": 14,
   "metadata": {},
   "outputs": [
    {
     "data": {
      "text/plain": [
       "(52, 4)"
      ]
     },
     "execution_count": 14,
     "metadata": {},
     "output_type": "execute_result"
    }
   ],
   "source": [
    "filtered_fruit_df.shape"
   ]
  },
  {
   "cell_type": "code",
   "execution_count": 15,
   "metadata": {},
   "outputs": [
    {
     "name": "stdout",
     "output_type": "stream",
     "text": [
      "['Fruit: Per capita availability adjusted for loss']\n"
     ]
    }
   ],
   "source": [
    "print(filtered_fruit_df['Commodity'].unique())"
   ]
  },
  {
   "cell_type": "code",
   "execution_count": 16,
   "metadata": {},
   "outputs": [
    {
     "data": {
      "text/html": [
       "<div>\n",
       "<style scoped>\n",
       "    .dataframe tbody tr th:only-of-type {\n",
       "        vertical-align: middle;\n",
       "    }\n",
       "\n",
       "    .dataframe tbody tr th {\n",
       "        vertical-align: top;\n",
       "    }\n",
       "\n",
       "    .dataframe thead th {\n",
       "        text-align: right;\n",
       "    }\n",
       "</style>\n",
       "<table border=\"1\" class=\"dataframe\">\n",
       "  <thead>\n",
       "    <tr style=\"text-align: right;\">\n",
       "      <th></th>\n",
       "      <th>Commodity</th>\n",
       "      <th>Year</th>\n",
       "      <th>Attribute</th>\n",
       "      <th>Value</th>\n",
       "    </tr>\n",
       "  </thead>\n",
       "  <tbody>\n",
       "    <tr>\n",
       "      <th>0</th>\n",
       "      <td>Fresh artichokes: Per capita availability adju...</td>\n",
       "      <td>1970</td>\n",
       "      <td>Primary weight-Lbs/year</td>\n",
       "      <td>0.466223</td>\n",
       "    </tr>\n",
       "    <tr>\n",
       "      <th>1</th>\n",
       "      <td>Fresh artichokes: Per capita availability adju...</td>\n",
       "      <td>1971</td>\n",
       "      <td>Primary weight-Lbs/year</td>\n",
       "      <td>0.507076</td>\n",
       "    </tr>\n",
       "    <tr>\n",
       "      <th>2</th>\n",
       "      <td>Fresh artichokes: Per capita availability adju...</td>\n",
       "      <td>1972</td>\n",
       "      <td>Primary weight-Lbs/year</td>\n",
       "      <td>0.561230</td>\n",
       "    </tr>\n",
       "    <tr>\n",
       "      <th>3</th>\n",
       "      <td>Fresh artichokes: Per capita availability adju...</td>\n",
       "      <td>1973</td>\n",
       "      <td>Primary weight-Lbs/year</td>\n",
       "      <td>0.488417</td>\n",
       "    </tr>\n",
       "    <tr>\n",
       "      <th>4</th>\n",
       "      <td>Fresh artichokes: Per capita availability adju...</td>\n",
       "      <td>1974</td>\n",
       "      <td>Primary weight-Lbs/year</td>\n",
       "      <td>0.505017</td>\n",
       "    </tr>\n",
       "  </tbody>\n",
       "</table>\n",
       "</div>"
      ],
      "text/plain": [
       "                                           Commodity  Year  \\\n",
       "0  Fresh artichokes: Per capita availability adju...  1970   \n",
       "1  Fresh artichokes: Per capita availability adju...  1971   \n",
       "2  Fresh artichokes: Per capita availability adju...  1972   \n",
       "3  Fresh artichokes: Per capita availability adju...  1973   \n",
       "4  Fresh artichokes: Per capita availability adju...  1974   \n",
       "\n",
       "                 Attribute     Value  \n",
       "0  Primary weight-Lbs/year  0.466223  \n",
       "1  Primary weight-Lbs/year  0.507076  \n",
       "2  Primary weight-Lbs/year  0.561230  \n",
       "3  Primary weight-Lbs/year  0.488417  \n",
       "4  Primary weight-Lbs/year  0.505017  "
      ]
     },
     "execution_count": 16,
     "metadata": {},
     "output_type": "execute_result"
    }
   ],
   "source": [
    "veg_df = pd.read_csv(r\".\\data/veg.csv\")\n",
    "veg_df.head(5)"
   ]
  },
  {
   "cell_type": "code",
   "execution_count": 17,
   "metadata": {},
   "outputs": [
    {
     "name": "stdout",
     "output_type": "stream",
     "text": [
      "['Fresh artichokes: Per capita availability adjusted for loss'\n",
      " 'Fresh asparagus: Per capita availability adjusted for loss'\n",
      " 'Fresh bell peppers: Per capita availability adjusted for loss'\n",
      " 'Fresh broccoli: Per capita availability adjusted for loss'\n",
      " 'Fresh Brussels sprouts: Per capita availability adjusted for loss'\n",
      " 'Fresh cabbage: Per capita availability adjusted for loss'\n",
      " 'Fresh carrots: Per capita availability adjusted for loss'\n",
      " 'Fresh cauliflower: Per capita availability adjusted for loss'\n",
      " 'Fresh celery: Per capita availability adjusted for loss'\n",
      " 'Fresh collard greens: Per capita availability adjusted for loss'\n",
      " 'Fresh sweet corn: Per capita availability adjusted for loss'\n",
      " 'Fresh cucumbers: Per capita availability adjusted for loss'\n",
      " 'Fresh eggplant: Per capita availability adjusted for loss'\n",
      " 'Fresh escarole/endive: Per capita availability adjusted for loss'\n",
      " 'Fresh garlic: Per capita availability adjusted for loss'\n",
      " 'Fresh kale: Per capita availability adjusted for loss'\n",
      " 'Fresh head lettuce: Per capita availability adjusted for loss'\n",
      " 'Fresh Romaine and leaf lettuce: Per capita availability adjusted for loss'\n",
      " 'Fresh lima beans: Per capita availability adjusted for loss'\n",
      " 'Fresh mushrooms: Per capita availability adjusted for loss'\n",
      " 'Fresh mustard greens: Per capita availability adjusted for loss'\n",
      " 'Fresh okra: Per capita availability adjusted for loss'\n",
      " 'Fresh onions: Per capita availability adjusted for loss'\n",
      " 'Fresh potatoes: Per capita availability adjusted for loss'\n",
      " 'Fresh pumpkin: Per capita availability adjusted for loss'\n",
      " 'Fresh radishes: Per capita availability adjusted for loss'\n",
      " 'Fresh snap beans: Per capita availability adjusted for loss'\n",
      " 'Fresh spinach: Per capita availability adjusted for loss'\n",
      " 'Fresh squash: Per capita availability adjusted for loss'\n",
      " 'Fresh sweet potatoes: Per capita availability adjusted for loss'\n",
      " 'Fresh tomatoes: Per capita availability adjusted for loss'\n",
      " 'Fresh turnip greens: Per capita availability adjusted for loss'\n",
      " 'Fresh vegetables: Per capita availability adjusted for loss'\n",
      " 'Canned asparagus: Per capita availability adjusted for loss'\n",
      " 'Canned snap beans: Per capita availability adjusted for loss'\n",
      " 'Canned cabbage (sauerkraut): Per capita availability adjusted for loss'\n",
      " 'Canned carrots: Per capita availability adjusted for loss'\n",
      " 'Canned sweet corn: Per capita availability adjusted for loss'\n",
      " 'Canned cucumbers (pickles): Per capita availability adjusted for loss'\n",
      " 'Canned green peas: Per capita availability adjusted for loss'\n",
      " 'Canned mushrooms: Per capita availability adjusted for loss'\n",
      " 'Canned chile peppers: Per capita availability adjusted for loss'\n",
      " 'Canned potatoes: Per capita availability adjusted for loss'\n",
      " 'Canned tomatoes: Per capita availability adjusted for loss'\n",
      " 'Other canned vegetables: Per capita availability adjusted for loss'\n",
      " 'Canned vegetables: Per capita availability adjusted for loss'\n",
      " 'Frozen asparagus: Per capita availability adjusted for loss'\n",
      " 'Frozen snap beans: Per capita availability adjusted for loss'\n",
      " 'Frozen broccoli: Per capita availability adjusted for loss'\n",
      " 'Frozen carrots: Per capita availability adjusted for loss'\n",
      " 'Frozen cauliflower: Per capita availability adjusted for loss'\n",
      " 'Frozen sweet corn: Per capita availability adjusted for loss'\n",
      " 'Frozen green peas: Per capita availability adjusted for loss'\n",
      " 'Frozen green lima beans: Per capita availability adjusted for loss'\n",
      " 'Frozen potatoes: Per capita availability adjusted for loss'\n",
      " 'Frozen spinach: Per capita availability adjusted for loss'\n",
      " 'Miscellaneous frozen vegetables: Per capita availability adjusted for loss'\n",
      " 'Frozen vegetables: Per capita availability adjusted for loss'\n",
      " 'Dehydrated onions: Per capita availability adjusted for loss'\n",
      " 'Dehydrated potatoes: Per capita availability adjusted for loss'\n",
      " 'Potato chips and shoestring potatoes: Per capita availability adjusted for loss'\n",
      " 'Processed and dehydrated vegetables: Per capita availability adjusted for loss'\n",
      " 'Dry peas and lentils: Per capita availability adjusted for loss'\n",
      " 'Dry black beans: Per capita availability adjusted for loss'\n",
      " 'Dry great northern beans: Per capita availability adjusted for loss'\n",
      " 'Dry lima beans: Per capita availability adjusted for loss'\n",
      " 'Dry navy beans: Per capita availability adjusted for loss'\n",
      " 'Dry pinto beans: Per capita availability adjusted for loss'\n",
      " 'Dry red kidney beans: Per capita availability adjusted for loss'\n",
      " 'Other dry beans: Per capita availability adjusted for loss'\n",
      " 'Dry edible beans: Per capita availability adjusted for loss'\n",
      " 'Legumes: Per capita availability adjusted for loss'\n",
      " 'Vegetables: Per capita availability adjusted for loss']\n"
     ]
    }
   ],
   "source": [
    "print(veg_df['Commodity'].unique())"
   ]
  },
  {
   "cell_type": "code",
   "execution_count": 18,
   "metadata": {},
   "outputs": [
    {
     "name": "stdout",
     "output_type": "stream",
     "text": [
      "['Vegetables: Per capita availability adjusted for loss']\n"
     ]
    }
   ],
   "source": [
    "# filtered_veg_df = veg_df[veg_df['Commodity'].str.contains(\"potato\")]\n",
    "filtered_veg_df = veg_df[veg_df['Commodity'].str.contains(\"Vegetables: Per capita availability adjusted for loss\")]\n",
    "print(filtered_veg_df['Commodity'].unique())"
   ]
  },
  {
   "cell_type": "code",
   "execution_count": 19,
   "metadata": {},
   "outputs": [
    {
     "data": {
      "text/html": [
       "<div>\n",
       "<style scoped>\n",
       "    .dataframe tbody tr th:only-of-type {\n",
       "        vertical-align: middle;\n",
       "    }\n",
       "\n",
       "    .dataframe tbody tr th {\n",
       "        vertical-align: top;\n",
       "    }\n",
       "\n",
       "    .dataframe thead th {\n",
       "        text-align: right;\n",
       "    }\n",
       "</style>\n",
       "<table border=\"1\" class=\"dataframe\">\n",
       "  <thead>\n",
       "    <tr style=\"text-align: right;\">\n",
       "      <th></th>\n",
       "      <th>Commodity</th>\n",
       "      <th>Year</th>\n",
       "      <th>Attribute</th>\n",
       "      <th>Value</th>\n",
       "      <th>Notes</th>\n",
       "    </tr>\n",
       "  </thead>\n",
       "  <tbody>\n",
       "    <tr>\n",
       "      <th>0</th>\n",
       "      <td>Plain whole milk: Per capita availability adju...</td>\n",
       "      <td>1970</td>\n",
       "      <td>Primary weight-Lbs/year</td>\n",
       "      <td>213.5412581</td>\n",
       "      <td>NaN</td>\n",
       "    </tr>\n",
       "    <tr>\n",
       "      <th>1</th>\n",
       "      <td>Plain whole milk: Per capita availability adju...</td>\n",
       "      <td>1971</td>\n",
       "      <td>Primary weight-Lbs/year</td>\n",
       "      <td>208.6719819</td>\n",
       "      <td>NaN</td>\n",
       "    </tr>\n",
       "    <tr>\n",
       "      <th>2</th>\n",
       "      <td>Plain whole milk: Per capita availability adju...</td>\n",
       "      <td>1972</td>\n",
       "      <td>Primary weight-Lbs/year</td>\n",
       "      <td>200.4118805</td>\n",
       "      <td>NaN</td>\n",
       "    </tr>\n",
       "    <tr>\n",
       "      <th>3</th>\n",
       "      <td>Plain whole milk: Per capita availability adju...</td>\n",
       "      <td>1973</td>\n",
       "      <td>Primary weight-Lbs/year</td>\n",
       "      <td>190.3840422</td>\n",
       "      <td>NaN</td>\n",
       "    </tr>\n",
       "    <tr>\n",
       "      <th>4</th>\n",
       "      <td>Plain whole milk: Per capita availability adju...</td>\n",
       "      <td>1974</td>\n",
       "      <td>Primary weight-Lbs/year</td>\n",
       "      <td>180.025499</td>\n",
       "      <td>NaN</td>\n",
       "    </tr>\n",
       "  </tbody>\n",
       "</table>\n",
       "</div>"
      ],
      "text/plain": [
       "                                           Commodity  Year  \\\n",
       "0  Plain whole milk: Per capita availability adju...  1970   \n",
       "1  Plain whole milk: Per capita availability adju...  1971   \n",
       "2  Plain whole milk: Per capita availability adju...  1972   \n",
       "3  Plain whole milk: Per capita availability adju...  1973   \n",
       "4  Plain whole milk: Per capita availability adju...  1974   \n",
       "\n",
       "                 Attribute        Value Notes  \n",
       "0  Primary weight-Lbs/year  213.5412581   NaN  \n",
       "1  Primary weight-Lbs/year  208.6719819   NaN  \n",
       "2  Primary weight-Lbs/year  200.4118805   NaN  \n",
       "3  Primary weight-Lbs/year  190.3840422   NaN  \n",
       "4  Primary weight-Lbs/year   180.025499   NaN  "
      ]
     },
     "execution_count": 19,
     "metadata": {},
     "output_type": "execute_result"
    }
   ],
   "source": [
    "dairy_df = pd.read_csv(r\".\\data/Dairy.csv\")\n",
    "dairy_df.head(5)"
   ]
  },
  {
   "cell_type": "code",
   "execution_count": 20,
   "metadata": {},
   "outputs": [
    {
     "name": "stdout",
     "output_type": "stream",
     "text": [
      "['Plain whole milk: Per capita availability adjusted for loss'\n",
      " 'Plain 2-percent milk: Per capita availability adjusted for loss'\n",
      " 'Plain 1-percent milk: Per capita availability adjusted for loss'\n",
      " 'Skim milk: Per capita availability adjusted for loss'\n",
      " 'All plain milk: Per capita availability adjusted for loss'\n",
      " 'Whole flavored milk: Per capita availability adjusted for loss'\n",
      " 'Flavored lower fat milk: Per capita availability adjusted for loss'\n",
      " 'All flavored milk: Per capita availability adjusted for loss'\n",
      " 'Buttermilk: Per capita availability adjusted for loss'\n",
      " 'Dairy share of eggnog: Per capita availability adjusted for loss'\n",
      " 'Miscellaneous milk: Per capita availability adjusted for loss'\n",
      " 'All beverage milks: Per capita availability adjusted for loss'\n",
      " 'Yogurt: Per capita availability adjusted for loss'\n",
      " 'Cheddar cheese: Per capita availability adjusted for loss'\n",
      " 'Other American cheese: Per capita availability adjusted for loss'\n",
      " 'All American cheese: Per capita availability adjusted for loss'\n",
      " 'Provolone cheese: Per capita availability adjusted for loss'\n",
      " 'Romano cheese: Per capita availability adjusted for loss'\n",
      " 'Parmesan cheese: Per capita availability adjusted for loss'\n",
      " 'Mozzarella cheese: Per capita availability adjusted for loss'\n",
      " 'Ricotta cheese: Per capita availability adjusted for loss'\n",
      " 'Other Italian cheese: Per capita availability adjusted for loss'\n",
      " 'All Italian cheese: Per capita availability adjusted for loss'\n",
      " 'Swiss cheese: Per capita availability adjusted for loss'\n",
      " 'Brick cheese: Per capita availability adjusted for loss'\n",
      " 'Muenster cheese: Per capita availability adjusted for loss'\n",
      " 'Blue cheese: Per capita availability adjusted for loss'\n",
      " 'Other miscellaneous cheese: Per capita availability adjusted for loss'\n",
      " 'All miscellaneous cheese: Per capita availability adjusted for loss'\n",
      " 'All cheese: Per capita availability adjusted for loss'\n",
      " 'Regular cottage cheese: Per capita availability adjusted for loss'\n",
      " 'Lowfat cottage cheese: Per capita availability adjusted for loss'\n",
      " 'Total cottage cheese: Per capita availability adjusted for loss'\n",
      " 'Regular ice cream: Per capita availability adjusted for loss'\n",
      " 'Lowfat and nonfat ice cream: Per capita availability adjusted for loss'\n",
      " 'Frozen yogurt, sherbet, and other miscellaneous frozen products: Per capita availability adjusted for loss'\n",
      " 'Total frozen dairy products: Per capita availability adjusted for loss'\n",
      " 'Evaporated and condensed canned whole milk: Per capita availability adjusted for loss'\n",
      " 'Evaporated and condensed bulk whole milk: Per capita availability adjusted for loss'\n",
      " 'Evaporated and condensed bulk and canned skim milk: Per capita availability adjusted for loss'\n",
      " 'Total evaporated and condensed milk: Per capita availability adjusted for loss'\n",
      " 'Dry whole milk: Per capita availability adjusted for loss'\n",
      " 'Nonfat dry milk: Per capita availability adjusted for loss'\n",
      " 'Dry buttermilk: Per capita availability adjusted for loss'\n",
      " 'All dry milk products: Per capita availability adjusted for loss'\n",
      " 'Dairy share of half and half: Per capita availability adjusted for loss'\n",
      " 'All dairy products: Per capita availability adjusted for loss']\n"
     ]
    }
   ],
   "source": [
    "print(dairy_df['Commodity'].unique())"
   ]
  },
  {
   "cell_type": "code",
   "execution_count": 21,
   "metadata": {},
   "outputs": [
    {
     "name": "stdout",
     "output_type": "stream",
     "text": [
      "['All dairy products: Per capita availability adjusted for loss']\n"
     ]
    }
   ],
   "source": [
    "filtered_dairy_df = dairy_df[dairy_df['Commodity'].str.contains(\"Plain whole milk\")]\n",
    "filtered_dairy_df = dairy_df[dairy_df['Commodity'].str.contains(\"All dairy products: Per capita availability adjusted for loss\")]\n",
    "print(filtered_dairy_df['Commodity'].unique())"
   ]
  },
  {
   "cell_type": "code",
   "execution_count": 22,
   "metadata": {},
   "outputs": [
    {
     "data": {
      "text/html": [
       "<div>\n",
       "<style scoped>\n",
       "    .dataframe tbody tr th:only-of-type {\n",
       "        vertical-align: middle;\n",
       "    }\n",
       "\n",
       "    .dataframe tbody tr th {\n",
       "        vertical-align: top;\n",
       "    }\n",
       "\n",
       "    .dataframe thead th {\n",
       "        text-align: right;\n",
       "    }\n",
       "</style>\n",
       "<table border=\"1\" class=\"dataframe\">\n",
       "  <thead>\n",
       "    <tr style=\"text-align: right;\">\n",
       "      <th></th>\n",
       "      <th>Commodity</th>\n",
       "      <th>Year</th>\n",
       "      <th>Attribute</th>\n",
       "      <th>Value</th>\n",
       "    </tr>\n",
       "  </thead>\n",
       "  <tbody>\n",
       "    <tr>\n",
       "      <th>0</th>\n",
       "      <td>Total grains: Per capita availability adjusted...</td>\n",
       "      <td>1970</td>\n",
       "      <td>Primary weight-Lbs/year</td>\n",
       "      <td>136.704320</td>\n",
       "    </tr>\n",
       "    <tr>\n",
       "      <th>1</th>\n",
       "      <td>Total grains: Per capita availability adjusted...</td>\n",
       "      <td>1971</td>\n",
       "      <td>Primary weight-Lbs/year</td>\n",
       "      <td>134.668188</td>\n",
       "    </tr>\n",
       "    <tr>\n",
       "      <th>2</th>\n",
       "      <td>Total grains: Per capita availability adjusted...</td>\n",
       "      <td>1972</td>\n",
       "      <td>Primary weight-Lbs/year</td>\n",
       "      <td>133.155463</td>\n",
       "    </tr>\n",
       "    <tr>\n",
       "      <th>3</th>\n",
       "      <td>Total grains: Per capita availability adjusted...</td>\n",
       "      <td>1973</td>\n",
       "      <td>Primary weight-Lbs/year</td>\n",
       "      <td>136.992791</td>\n",
       "    </tr>\n",
       "    <tr>\n",
       "      <th>4</th>\n",
       "      <td>Total grains: Per capita availability adjusted...</td>\n",
       "      <td>1974</td>\n",
       "      <td>Primary weight-Lbs/year</td>\n",
       "      <td>135.624051</td>\n",
       "    </tr>\n",
       "  </tbody>\n",
       "</table>\n",
       "</div>"
      ],
      "text/plain": [
       "                                           Commodity  Year  \\\n",
       "0  Total grains: Per capita availability adjusted...  1970   \n",
       "1  Total grains: Per capita availability adjusted...  1971   \n",
       "2  Total grains: Per capita availability adjusted...  1972   \n",
       "3  Total grains: Per capita availability adjusted...  1973   \n",
       "4  Total grains: Per capita availability adjusted...  1974   \n",
       "\n",
       "                 Attribute       Value  \n",
       "0  Primary weight-Lbs/year  136.704320  \n",
       "1  Primary weight-Lbs/year  134.668188  \n",
       "2  Primary weight-Lbs/year  133.155463  \n",
       "3  Primary weight-Lbs/year  136.992791  \n",
       "4  Primary weight-Lbs/year  135.624051  "
      ]
     },
     "execution_count": 22,
     "metadata": {},
     "output_type": "execute_result"
    }
   ],
   "source": [
    "grain_df = pd.read_csv(r\".\\data/grain.csv\")\n",
    "grain_df.head(5)"
   ]
  },
  {
   "cell_type": "code",
   "execution_count": 23,
   "metadata": {},
   "outputs": [
    {
     "name": "stdout",
     "output_type": "stream",
     "text": [
      "['Total grains: Per capita availability adjusted for loss'\n",
      " 'Total wheat flour: Per capita availability adjusted for loss'\n",
      " 'Wheat flour: Per capita availability adjusted for loss'\n",
      " 'Rice: Per capita availability adjusted for loss'\n",
      " 'Rye flour: Per capita availability adjusted for loss'\n",
      " 'Total corn products: Per capita availability adjusted for loss'\n",
      " 'Corn flour and meal: Per capita availability adjusted for loss'\n",
      " 'Corn hominy and grits: Per capita availability adjusted for loss'\n",
      " 'Corn starch: Per capita availability adjusted for loss'\n",
      " 'Barley products: Per capita availability adjusted for loss'\n",
      " 'Oat products: Per capita availability adjusted for loss'\n",
      " 'White and whole wheat flour: Per capita availability adjusted for loss'\n",
      " 'Durum flour: Per capita availability adjusted for loss']\n"
     ]
    }
   ],
   "source": [
    "print(grain_df['Commodity'].unique())"
   ]
  },
  {
   "cell_type": "code",
   "execution_count": 24,
   "metadata": {},
   "outputs": [
    {
     "name": "stdout",
     "output_type": "stream",
     "text": [
      "['Total grains: Per capita availability adjusted for loss']\n"
     ]
    }
   ],
   "source": [
    "filtered_grain_df = grain_df[grain_df['Commodity'].str.contains(\"Total grains\")]\n",
    "print(filtered_grain_df['Commodity'].unique())"
   ]
  },
  {
   "cell_type": "code",
   "execution_count": 25,
   "metadata": {},
   "outputs": [
    {
     "data": {
      "text/html": [
       "<div>\n",
       "<style scoped>\n",
       "    .dataframe tbody tr th:only-of-type {\n",
       "        vertical-align: middle;\n",
       "    }\n",
       "\n",
       "    .dataframe tbody tr th {\n",
       "        vertical-align: top;\n",
       "    }\n",
       "\n",
       "    .dataframe thead th {\n",
       "        text-align: right;\n",
       "    }\n",
       "</style>\n",
       "<table border=\"1\" class=\"dataframe\">\n",
       "  <thead>\n",
       "    <tr style=\"text-align: right;\">\n",
       "      <th></th>\n",
       "      <th>Commodity</th>\n",
       "      <th>Year</th>\n",
       "      <th>Attribute</th>\n",
       "      <th>Value</th>\n",
       "    </tr>\n",
       "  </thead>\n",
       "  <tbody>\n",
       "    <tr>\n",
       "      <th>0</th>\n",
       "      <td>Total meat, fish, eggs, and nuts: Per capita c...</td>\n",
       "      <td>1970</td>\n",
       "      <td>Primary weight-Lbs/year</td>\n",
       "      <td>301.866018</td>\n",
       "    </tr>\n",
       "    <tr>\n",
       "      <th>1</th>\n",
       "      <td>Total meat, fish, eggs, and nuts: Per capita c...</td>\n",
       "      <td>1971</td>\n",
       "      <td>Primary weight-Lbs/year</td>\n",
       "      <td>306.884696</td>\n",
       "    </tr>\n",
       "    <tr>\n",
       "      <th>2</th>\n",
       "      <td>Total meat, fish, eggs, and nuts: Per capita c...</td>\n",
       "      <td>1972</td>\n",
       "      <td>Primary weight-Lbs/year</td>\n",
       "      <td>303.187737</td>\n",
       "    </tr>\n",
       "    <tr>\n",
       "      <th>3</th>\n",
       "      <td>Total meat, fish, eggs, and nuts: Per capita c...</td>\n",
       "      <td>1973</td>\n",
       "      <td>Primary weight-Lbs/year</td>\n",
       "      <td>283.869838</td>\n",
       "    </tr>\n",
       "    <tr>\n",
       "      <th>4</th>\n",
       "      <td>Total meat, fish, eggs, and nuts: Per capita c...</td>\n",
       "      <td>1974</td>\n",
       "      <td>Primary weight-Lbs/year</td>\n",
       "      <td>294.290876</td>\n",
       "    </tr>\n",
       "  </tbody>\n",
       "</table>\n",
       "</div>"
      ],
      "text/plain": [
       "                                           Commodity  Year  \\\n",
       "0  Total meat, fish, eggs, and nuts: Per capita c...  1970   \n",
       "1  Total meat, fish, eggs, and nuts: Per capita c...  1971   \n",
       "2  Total meat, fish, eggs, and nuts: Per capita c...  1972   \n",
       "3  Total meat, fish, eggs, and nuts: Per capita c...  1973   \n",
       "4  Total meat, fish, eggs, and nuts: Per capita c...  1974   \n",
       "\n",
       "                 Attribute       Value  \n",
       "0  Primary weight-Lbs/year  301.866018  \n",
       "1  Primary weight-Lbs/year  306.884696  \n",
       "2  Primary weight-Lbs/year  303.187737  \n",
       "3  Primary weight-Lbs/year  283.869838  \n",
       "4  Primary weight-Lbs/year  294.290876  "
      ]
     },
     "execution_count": 25,
     "metadata": {},
     "output_type": "execute_result"
    }
   ],
   "source": [
    "meat_df = pd.read_csv(r\".\\data/meat.csv\")\n",
    "meat_df.head(5)"
   ]
  },
  {
   "cell_type": "code",
   "execution_count": 26,
   "metadata": {},
   "outputs": [
    {
     "name": "stdout",
     "output_type": "stream",
     "text": [
      "['Total meat, fish, eggs, and nuts: Per capita consumption adjusted for loss'\n",
      " 'Red meat: Per capita consumption adjusted for loss'\n",
      " 'Beef: Per capita availability adjusted for loss'\n",
      " 'Veal: Per capita availability adjusted for loss'\n",
      " 'Pork: Per capita availability adjusted for loss'\n",
      " 'Lamb: Per capita availability adjusted for loss'\n",
      " 'Poultry: Per capita consumption adjusted for loss'\n",
      " 'Chicken: Per capita availability adjusted for loss'\n",
      " 'Turkey: Per capita availability adjusted for loss'\n",
      " 'Total fish and shellfish: Per capita consumption adjusted for loss'\n",
      " 'Total fresh and frozen fish and shellfish: Per capita consumption adjusted for loss'\n",
      " 'Fresh and frozen fish: Per capita availability adjusted for loss'\n",
      " 'Fresh and frozen shellfish: Per capita availability adjusted for loss'\n",
      " 'Total canned fish and shellfish: Per capita availability adjusted for loss'\n",
      " 'Canned salmon: Per capita availability adjusted for loss'\n",
      " 'Canned sardines: Per capita availability adjusted for loss'\n",
      " 'Canned tuna: Per capita availability adjusted for loss'\n",
      " 'Canned shellfish: Per capita availability adjusted for loss'\n",
      " 'Other canned fish: Per capita availability adjusted for loss'\n",
      " 'Cured fish: Per capita availability adjusted for loss'\n",
      " 'Eggs: Per capita availability adjusted for loss'\n",
      " 'Peanuts: Per capita availability adjusted for loss'\n",
      " 'Total tree nuts: Per capita consumption adjusted for loss'\n",
      " 'Almonds: Per capita availability adjusted for loss'\n",
      " 'Hazelnuts (filberts): Per capita availability adjusted for loss'\n",
      " 'Pecans: Per capita availability adjusted for loss'\n",
      " 'Walnuts: Per capita availability adjusted for loss'\n",
      " 'Macadamia nuts: Per capita availability adjusted for loss'\n",
      " 'Pistachio nuts: Per capita availability adjusted for loss'\n",
      " 'Other tree nuts: Per capita availability adjusted for loss'\n",
      " 'Coconut: Per capita availability adjusted for loss']\n"
     ]
    }
   ],
   "source": [
    "print(meat_df['Commodity'].unique())"
   ]
  },
  {
   "cell_type": "code",
   "execution_count": 27,
   "metadata": {},
   "outputs": [
    {
     "name": "stdout",
     "output_type": "stream",
     "text": [
      "['Total meat, fish, eggs, and nuts: Per capita consumption adjusted for loss']\n"
     ]
    }
   ],
   "source": [
    "# filtered_meat_df = meat_df[meat_df['Commodity'].str.contains(\"Beef|Pork|Chicken\")]\n",
    "filtered_meat_df = meat_df[meat_df['Commodity'].str.contains(\"Total meat, fish, eggs, and nuts: Per capita consumption adjusted for loss\")]\n",
    "print(filtered_meat_df['Commodity'].unique())"
   ]
  },
  {
   "cell_type": "code",
   "execution_count": 28,
   "metadata": {},
   "outputs": [
    {
     "data": {
      "text/html": [
       "<div>\n",
       "<style scoped>\n",
       "    .dataframe tbody tr th:only-of-type {\n",
       "        vertical-align: middle;\n",
       "    }\n",
       "\n",
       "    .dataframe tbody tr th {\n",
       "        vertical-align: top;\n",
       "    }\n",
       "\n",
       "    .dataframe thead th {\n",
       "        text-align: right;\n",
       "    }\n",
       "</style>\n",
       "<table border=\"1\" class=\"dataframe\">\n",
       "  <thead>\n",
       "    <tr style=\"text-align: right;\">\n",
       "      <th></th>\n",
       "      <th>Commodity</th>\n",
       "      <th>Year</th>\n",
       "      <th>Attribute</th>\n",
       "      <th>Value</th>\n",
       "    </tr>\n",
       "  </thead>\n",
       "  <tbody>\n",
       "    <tr>\n",
       "      <th>0</th>\n",
       "      <td>Refined cane and beet sugar: Per capita availa...</td>\n",
       "      <td>1970</td>\n",
       "      <td>Primary weight-Lbs/year</td>\n",
       "      <td>101.756728</td>\n",
       "    </tr>\n",
       "    <tr>\n",
       "      <th>1</th>\n",
       "      <td>Refined cane and beet sugar: Per capita availa...</td>\n",
       "      <td>1971</td>\n",
       "      <td>Primary weight-Lbs/year</td>\n",
       "      <td>102.116466</td>\n",
       "    </tr>\n",
       "    <tr>\n",
       "      <th>2</th>\n",
       "      <td>Refined cane and beet sugar: Per capita availa...</td>\n",
       "      <td>1972</td>\n",
       "      <td>Primary weight-Lbs/year</td>\n",
       "      <td>102.293650</td>\n",
       "    </tr>\n",
       "    <tr>\n",
       "      <th>3</th>\n",
       "      <td>Refined cane and beet sugar: Per capita availa...</td>\n",
       "      <td>1973</td>\n",
       "      <td>Primary weight-Lbs/year</td>\n",
       "      <td>100.810333</td>\n",
       "    </tr>\n",
       "    <tr>\n",
       "      <th>4</th>\n",
       "      <td>Refined cane and beet sugar: Per capita availa...</td>\n",
       "      <td>1974</td>\n",
       "      <td>Primary weight-Lbs/year</td>\n",
       "      <td>95.663134</td>\n",
       "    </tr>\n",
       "  </tbody>\n",
       "</table>\n",
       "</div>"
      ],
      "text/plain": [
       "                                           Commodity  Year  \\\n",
       "0  Refined cane and beet sugar: Per capita availa...  1970   \n",
       "1  Refined cane and beet sugar: Per capita availa...  1971   \n",
       "2  Refined cane and beet sugar: Per capita availa...  1972   \n",
       "3  Refined cane and beet sugar: Per capita availa...  1973   \n",
       "4  Refined cane and beet sugar: Per capita availa...  1974   \n",
       "\n",
       "                 Attribute       Value  \n",
       "0  Primary weight-Lbs/year  101.756728  \n",
       "1  Primary weight-Lbs/year  102.116466  \n",
       "2  Primary weight-Lbs/year  102.293650  \n",
       "3  Primary weight-Lbs/year  100.810333  \n",
       "4  Primary weight-Lbs/year   95.663134  "
      ]
     },
     "execution_count": 28,
     "metadata": {},
     "output_type": "execute_result"
    }
   ],
   "source": [
    "sugar_df = pd.read_csv(r\".\\data/sugar.csv\")\n",
    "sugar_df.head(5)"
   ]
  },
  {
   "cell_type": "code",
   "execution_count": 29,
   "metadata": {},
   "outputs": [
    {
     "name": "stdout",
     "output_type": "stream",
     "text": [
      "['Refined cane and beet sugar: Per capita availability adjusted for loss'\n",
      " 'Edible syrups: Per capita availability adjusted for loss'\n",
      " 'Honey: Per capita availability adjusted for loss'\n",
      " 'Honey and edible syrups: Per capita availability adjusted for loss'\n",
      " 'High-fructose corn syrup (HFCS): Per capita availability adjusted for loss'\n",
      " 'Glucose: Per capita availability adjusted for loss'\n",
      " 'Dextrose: Per capita availability adjusted for loss'\n",
      " 'Corn sweeteners: Per capita availability adjusted for loss'\n",
      " 'Caloric sweeteners: Per capita availability adjusted for loss']\n"
     ]
    }
   ],
   "source": [
    "print(sugar_df['Commodity'].unique())"
   ]
  },
  {
   "cell_type": "code",
   "execution_count": 30,
   "metadata": {},
   "outputs": [
    {
     "name": "stdout",
     "output_type": "stream",
     "text": [
      "['Refined cane and beet sugar: Per capita availability adjusted for loss']\n"
     ]
    }
   ],
   "source": [
    "filtered_sugar_df = sugar_df[sugar_df['Commodity'].str.contains(\"cane\")]\n",
    "print(filtered_sugar_df['Commodity'].unique())"
   ]
  },
  {
   "cell_type": "code",
   "execution_count": 31,
   "metadata": {},
   "outputs": [
    {
     "data": {
      "text/html": [
       "<div>\n",
       "<style scoped>\n",
       "    .dataframe tbody tr th:only-of-type {\n",
       "        vertical-align: middle;\n",
       "    }\n",
       "\n",
       "    .dataframe tbody tr th {\n",
       "        vertical-align: top;\n",
       "    }\n",
       "\n",
       "    .dataframe thead th {\n",
       "        text-align: right;\n",
       "    }\n",
       "</style>\n",
       "<table border=\"1\" class=\"dataframe\">\n",
       "  <thead>\n",
       "    <tr style=\"text-align: right;\">\n",
       "      <th></th>\n",
       "      <th>yearstart</th>\n",
       "      <th>locationabbr</th>\n",
       "      <th>locationdesc</th>\n",
       "      <th>question</th>\n",
       "      <th>data_value</th>\n",
       "      <th>sample_size</th>\n",
       "      <th>age_years</th>\n",
       "      <th>education</th>\n",
       "      <th>gender</th>\n",
       "      <th>income</th>\n",
       "      <th>race_ethnicity</th>\n",
       "      <th>total</th>\n",
       "    </tr>\n",
       "  </thead>\n",
       "  <tbody>\n",
       "    <tr>\n",
       "      <th>7702</th>\n",
       "      <td>2020</td>\n",
       "      <td>AL</td>\n",
       "      <td>Alabama</td>\n",
       "      <td>Percent of adults aged 18 years and older who ...</td>\n",
       "      <td>27.1</td>\n",
       "      <td>296.0</td>\n",
       "      <td>18 - 24</td>\n",
       "      <td>NaN</td>\n",
       "      <td>NaN</td>\n",
       "      <td>NaN</td>\n",
       "      <td>NaN</td>\n",
       "      <td>NaN</td>\n",
       "    </tr>\n",
       "    <tr>\n",
       "      <th>7705</th>\n",
       "      <td>2020</td>\n",
       "      <td>AL</td>\n",
       "      <td>Alabama</td>\n",
       "      <td>Percent of adults aged 18 years and older who ...</td>\n",
       "      <td>37.5</td>\n",
       "      <td>537.0</td>\n",
       "      <td>25 - 34</td>\n",
       "      <td>NaN</td>\n",
       "      <td>NaN</td>\n",
       "      <td>NaN</td>\n",
       "      <td>NaN</td>\n",
       "      <td>NaN</td>\n",
       "    </tr>\n",
       "    <tr>\n",
       "      <th>7706</th>\n",
       "      <td>2020</td>\n",
       "      <td>AL</td>\n",
       "      <td>Alabama</td>\n",
       "      <td>Percent of adults aged 18 years and older who ...</td>\n",
       "      <td>43.6</td>\n",
       "      <td>626.0</td>\n",
       "      <td>35 - 44</td>\n",
       "      <td>NaN</td>\n",
       "      <td>NaN</td>\n",
       "      <td>NaN</td>\n",
       "      <td>NaN</td>\n",
       "      <td>NaN</td>\n",
       "    </tr>\n",
       "    <tr>\n",
       "      <th>7709</th>\n",
       "      <td>2020</td>\n",
       "      <td>AL</td>\n",
       "      <td>Alabama</td>\n",
       "      <td>Percent of adults aged 18 years and older who ...</td>\n",
       "      <td>48.0</td>\n",
       "      <td>777.0</td>\n",
       "      <td>45 - 54</td>\n",
       "      <td>NaN</td>\n",
       "      <td>NaN</td>\n",
       "      <td>NaN</td>\n",
       "      <td>NaN</td>\n",
       "      <td>NaN</td>\n",
       "    </tr>\n",
       "    <tr>\n",
       "      <th>7712</th>\n",
       "      <td>2020</td>\n",
       "      <td>AL</td>\n",
       "      <td>Alabama</td>\n",
       "      <td>Percent of adults aged 18 years and older who ...</td>\n",
       "      <td>42.0</td>\n",
       "      <td>946.0</td>\n",
       "      <td>55 - 64</td>\n",
       "      <td>NaN</td>\n",
       "      <td>NaN</td>\n",
       "      <td>NaN</td>\n",
       "      <td>NaN</td>\n",
       "      <td>NaN</td>\n",
       "    </tr>\n",
       "  </tbody>\n",
       "</table>\n",
       "</div>"
      ],
      "text/plain": [
       "     yearstart locationabbr locationdesc  \\\n",
       "7702      2020           AL      Alabama   \n",
       "7705      2020           AL      Alabama   \n",
       "7706      2020           AL      Alabama   \n",
       "7709      2020           AL      Alabama   \n",
       "7712      2020           AL      Alabama   \n",
       "\n",
       "                                               question data_value  \\\n",
       "7702  Percent of adults aged 18 years and older who ...       27.1   \n",
       "7705  Percent of adults aged 18 years and older who ...       37.5   \n",
       "7706  Percent of adults aged 18 years and older who ...       43.6   \n",
       "7709  Percent of adults aged 18 years and older who ...       48.0   \n",
       "7712  Percent of adults aged 18 years and older who ...       42.0   \n",
       "\n",
       "     sample_size age_years education gender income race_ethnicity total  \n",
       "7702       296.0   18 - 24       NaN    NaN    NaN            NaN   NaN  \n",
       "7705       537.0   25 - 34       NaN    NaN    NaN            NaN   NaN  \n",
       "7706       626.0   35 - 44       NaN    NaN    NaN            NaN   NaN  \n",
       "7709       777.0   45 - 54       NaN    NaN    NaN            NaN   NaN  \n",
       "7712       946.0   55 - 64       NaN    NaN    NaN            NaN   NaN  "
      ]
     },
     "execution_count": 31,
     "metadata": {},
     "output_type": "execute_result"
    }
   ],
   "source": [
    "year = '2020'\n",
    "location = 'US'\n",
    "question = 'Percent of adults aged 18 years and older who have obesity'\n",
    "\n",
    "filtered_df_name = cleaned_DF.copy()\n",
    "    \n",
    "filtered_df_name = filtered_df_name[filtered_df_name[\"yearstart\"] == year]\n",
    "# filtered_df_name = filtered_df_name[filtered_df_name[\"locationabbr\"] == location]\n",
    "filtered_df_name = filtered_df_name[filtered_df_name[\"question\"] == question]\n",
    "    \n",
    "filtered_df_name.head(5)"
   ]
  },
  {
   "cell_type": "code",
   "execution_count": 32,
   "metadata": {},
   "outputs": [
    {
     "data": {
      "text/html": [
       "<div>\n",
       "<style scoped>\n",
       "    .dataframe tbody tr th:only-of-type {\n",
       "        vertical-align: middle;\n",
       "    }\n",
       "\n",
       "    .dataframe tbody tr th {\n",
       "        vertical-align: top;\n",
       "    }\n",
       "\n",
       "    .dataframe thead th {\n",
       "        text-align: right;\n",
       "    }\n",
       "</style>\n",
       "<table border=\"1\" class=\"dataframe\">\n",
       "  <thead>\n",
       "    <tr style=\"text-align: right;\">\n",
       "      <th></th>\n",
       "      <th>yearstart</th>\n",
       "      <th>locationabbr</th>\n",
       "      <th>locationdesc</th>\n",
       "      <th>question</th>\n",
       "      <th>data_value</th>\n",
       "      <th>total</th>\n",
       "    </tr>\n",
       "  </thead>\n",
       "  <tbody>\n",
       "    <tr>\n",
       "      <th>7757</th>\n",
       "      <td>2020</td>\n",
       "      <td>AL</td>\n",
       "      <td>Alabama</td>\n",
       "      <td>Percent of adults aged 18 years and older who ...</td>\n",
       "      <td>39.0</td>\n",
       "      <td>Total</td>\n",
       "    </tr>\n",
       "    <tr>\n",
       "      <th>7842</th>\n",
       "      <td>2020</td>\n",
       "      <td>AK</td>\n",
       "      <td>Alaska</td>\n",
       "      <td>Percent of adults aged 18 years and older who ...</td>\n",
       "      <td>31.9</td>\n",
       "      <td>Total</td>\n",
       "    </tr>\n",
       "    <tr>\n",
       "      <th>7925</th>\n",
       "      <td>2020</td>\n",
       "      <td>AZ</td>\n",
       "      <td>Arizona</td>\n",
       "      <td>Percent of adults aged 18 years and older who ...</td>\n",
       "      <td>30.9</td>\n",
       "      <td>Total</td>\n",
       "    </tr>\n",
       "    <tr>\n",
       "      <th>8010</th>\n",
       "      <td>2020</td>\n",
       "      <td>AR</td>\n",
       "      <td>Arkansas</td>\n",
       "      <td>Percent of adults aged 18 years and older who ...</td>\n",
       "      <td>36.4</td>\n",
       "      <td>Total</td>\n",
       "    </tr>\n",
       "    <tr>\n",
       "      <th>8094</th>\n",
       "      <td>2020</td>\n",
       "      <td>CA</td>\n",
       "      <td>California</td>\n",
       "      <td>Percent of adults aged 18 years and older who ...</td>\n",
       "      <td>30.3</td>\n",
       "      <td>Total</td>\n",
       "    </tr>\n",
       "  </tbody>\n",
       "</table>\n",
       "</div>"
      ],
      "text/plain": [
       "     yearstart locationabbr locationdesc  \\\n",
       "7757      2020           AL      Alabama   \n",
       "7842      2020           AK       Alaska   \n",
       "7925      2020           AZ      Arizona   \n",
       "8010      2020           AR     Arkansas   \n",
       "8094      2020           CA   California   \n",
       "\n",
       "                                               question data_value  total  \n",
       "7757  Percent of adults aged 18 years and older who ...       39.0  Total  \n",
       "7842  Percent of adults aged 18 years and older who ...       31.9  Total  \n",
       "7925  Percent of adults aged 18 years and older who ...       30.9  Total  \n",
       "8010  Percent of adults aged 18 years and older who ...       36.4  Total  \n",
       "8094  Percent of adults aged 18 years and older who ...       30.3  Total  "
      ]
     },
     "execution_count": 32,
     "metadata": {},
     "output_type": "execute_result"
    }
   ],
   "source": [
    "colsToKeep = [\n",
    "    'yearstart',\n",
    "    'locationabbr',\n",
    "    'locationdesc',\n",
    "    'question',\n",
    "    'data_value',\n",
    "    'total'\n",
    "]\n",
    "\n",
    "total_df = filtered_df_name[colsToKeep]\n",
    "total_df = total_df[total_df['total'].notna()]\n",
    "\n",
    "total_df.head(5)"
   ]
  },
  {
   "cell_type": "code",
   "execution_count": 33,
   "metadata": {},
   "outputs": [
    {
     "data": {
      "application/vnd.plotly.v1+json": {
       "config": {
        "plotlyServerURL": "https://plot.ly"
       },
       "data": [
        {
         "coloraxis": "coloraxis",
         "geo": "geo",
         "hovertemplate": "locationabbr=%{location}<br>Percent (%)=%{z}<extra></extra>",
         "locationmode": "USA-states",
         "locations": [
          "AL",
          "AK",
          "AZ",
          "AR",
          "CA",
          "CO",
          "CT",
          "DE",
          "DC",
          "FL",
          "GA",
          "GU",
          "HI",
          "ID",
          "IL",
          "IN",
          "IA",
          "KS",
          "KY",
          "LA",
          "ME",
          "MD",
          "MA",
          "MI",
          "MN",
          "MS",
          "MO",
          "MT",
          "US",
          "NE",
          "NV",
          "NH",
          "NJ",
          "NM",
          "NY",
          "NC",
          "ND",
          "OH",
          "OK",
          "OR",
          "PA",
          "PR",
          "RI",
          "SC",
          "SD",
          "TN",
          "TX",
          "UT",
          "VT",
          "VA",
          "WA",
          "WV",
          "WI",
          "WY"
         ],
         "name": "",
         "type": "choropleth",
         "z": [
          39,
          31.9,
          30.9,
          36.4,
          30.3,
          24.2,
          29.2,
          36.5,
          24.3,
          28.4,
          34.3,
          34.4,
          24.5,
          31.1,
          32.4,
          36.8,
          36.5,
          35.3,
          36.6,
          38.1,
          31,
          31,
          24.4,
          35.2,
          30.7,
          39.7,
          34,
          28.5,
          31.9,
          34,
          28.7,
          29.9,
          27.7,
          30.9,
          26.3,
          33.6,
          33.1,
          35.5,
          36.4,
          28.1,
          31.5,
          31.4,
          30.1,
          36.2,
          33.2,
          35.6,
          35.8,
          28.6,
          26.3,
          32.2,
          28,
          39.1,
          32.3,
          30.7
         ]
        }
       ],
       "layout": {
        "coloraxis": {
         "colorbar": {
          "title": {
           "text": "Percent (%)"
          }
         },
         "colorscale": [
          [
           0,
           "#f0f921"
          ],
          [
           0.1111111111111111,
           "#fdca26"
          ],
          [
           0.2222222222222222,
           "#fb9f3a"
          ],
          [
           0.3333333333333333,
           "#ed7953"
          ],
          [
           0.4444444444444444,
           "#d8576b"
          ],
          [
           0.5555555555555556,
           "#bd3786"
          ],
          [
           0.6666666666666666,
           "#9c179e"
          ],
          [
           0.7777777777777778,
           "#7201a8"
          ],
          [
           0.8888888888888888,
           "#46039f"
          ],
          [
           1,
           "#0d0887"
          ]
         ]
        },
        "geo": {
         "center": {},
         "domain": {
          "x": [
           0,
           1
          ],
          "y": [
           0,
           1
          ]
         },
         "scope": "usa"
        },
        "height": 400,
        "legend": {
         "tracegroupgap": 0
        },
        "template": {
         "data": {
          "bar": [
           {
            "error_x": {
             "color": "#2a3f5f"
            },
            "error_y": {
             "color": "#2a3f5f"
            },
            "marker": {
             "line": {
              "color": "#E5ECF6",
              "width": 0.5
             },
             "pattern": {
              "fillmode": "overlay",
              "size": 10,
              "solidity": 0.2
             }
            },
            "type": "bar"
           }
          ],
          "barpolar": [
           {
            "marker": {
             "line": {
              "color": "#E5ECF6",
              "width": 0.5
             },
             "pattern": {
              "fillmode": "overlay",
              "size": 10,
              "solidity": 0.2
             }
            },
            "type": "barpolar"
           }
          ],
          "carpet": [
           {
            "aaxis": {
             "endlinecolor": "#2a3f5f",
             "gridcolor": "white",
             "linecolor": "white",
             "minorgridcolor": "white",
             "startlinecolor": "#2a3f5f"
            },
            "baxis": {
             "endlinecolor": "#2a3f5f",
             "gridcolor": "white",
             "linecolor": "white",
             "minorgridcolor": "white",
             "startlinecolor": "#2a3f5f"
            },
            "type": "carpet"
           }
          ],
          "choropleth": [
           {
            "colorbar": {
             "outlinewidth": 0,
             "ticks": ""
            },
            "type": "choropleth"
           }
          ],
          "contour": [
           {
            "colorbar": {
             "outlinewidth": 0,
             "ticks": ""
            },
            "colorscale": [
             [
              0,
              "#0d0887"
             ],
             [
              0.1111111111111111,
              "#46039f"
             ],
             [
              0.2222222222222222,
              "#7201a8"
             ],
             [
              0.3333333333333333,
              "#9c179e"
             ],
             [
              0.4444444444444444,
              "#bd3786"
             ],
             [
              0.5555555555555556,
              "#d8576b"
             ],
             [
              0.6666666666666666,
              "#ed7953"
             ],
             [
              0.7777777777777778,
              "#fb9f3a"
             ],
             [
              0.8888888888888888,
              "#fdca26"
             ],
             [
              1,
              "#f0f921"
             ]
            ],
            "type": "contour"
           }
          ],
          "contourcarpet": [
           {
            "colorbar": {
             "outlinewidth": 0,
             "ticks": ""
            },
            "type": "contourcarpet"
           }
          ],
          "heatmap": [
           {
            "colorbar": {
             "outlinewidth": 0,
             "ticks": ""
            },
            "colorscale": [
             [
              0,
              "#0d0887"
             ],
             [
              0.1111111111111111,
              "#46039f"
             ],
             [
              0.2222222222222222,
              "#7201a8"
             ],
             [
              0.3333333333333333,
              "#9c179e"
             ],
             [
              0.4444444444444444,
              "#bd3786"
             ],
             [
              0.5555555555555556,
              "#d8576b"
             ],
             [
              0.6666666666666666,
              "#ed7953"
             ],
             [
              0.7777777777777778,
              "#fb9f3a"
             ],
             [
              0.8888888888888888,
              "#fdca26"
             ],
             [
              1,
              "#f0f921"
             ]
            ],
            "type": "heatmap"
           }
          ],
          "heatmapgl": [
           {
            "colorbar": {
             "outlinewidth": 0,
             "ticks": ""
            },
            "colorscale": [
             [
              0,
              "#0d0887"
             ],
             [
              0.1111111111111111,
              "#46039f"
             ],
             [
              0.2222222222222222,
              "#7201a8"
             ],
             [
              0.3333333333333333,
              "#9c179e"
             ],
             [
              0.4444444444444444,
              "#bd3786"
             ],
             [
              0.5555555555555556,
              "#d8576b"
             ],
             [
              0.6666666666666666,
              "#ed7953"
             ],
             [
              0.7777777777777778,
              "#fb9f3a"
             ],
             [
              0.8888888888888888,
              "#fdca26"
             ],
             [
              1,
              "#f0f921"
             ]
            ],
            "type": "heatmapgl"
           }
          ],
          "histogram": [
           {
            "marker": {
             "pattern": {
              "fillmode": "overlay",
              "size": 10,
              "solidity": 0.2
             }
            },
            "type": "histogram"
           }
          ],
          "histogram2d": [
           {
            "colorbar": {
             "outlinewidth": 0,
             "ticks": ""
            },
            "colorscale": [
             [
              0,
              "#0d0887"
             ],
             [
              0.1111111111111111,
              "#46039f"
             ],
             [
              0.2222222222222222,
              "#7201a8"
             ],
             [
              0.3333333333333333,
              "#9c179e"
             ],
             [
              0.4444444444444444,
              "#bd3786"
             ],
             [
              0.5555555555555556,
              "#d8576b"
             ],
             [
              0.6666666666666666,
              "#ed7953"
             ],
             [
              0.7777777777777778,
              "#fb9f3a"
             ],
             [
              0.8888888888888888,
              "#fdca26"
             ],
             [
              1,
              "#f0f921"
             ]
            ],
            "type": "histogram2d"
           }
          ],
          "histogram2dcontour": [
           {
            "colorbar": {
             "outlinewidth": 0,
             "ticks": ""
            },
            "colorscale": [
             [
              0,
              "#0d0887"
             ],
             [
              0.1111111111111111,
              "#46039f"
             ],
             [
              0.2222222222222222,
              "#7201a8"
             ],
             [
              0.3333333333333333,
              "#9c179e"
             ],
             [
              0.4444444444444444,
              "#bd3786"
             ],
             [
              0.5555555555555556,
              "#d8576b"
             ],
             [
              0.6666666666666666,
              "#ed7953"
             ],
             [
              0.7777777777777778,
              "#fb9f3a"
             ],
             [
              0.8888888888888888,
              "#fdca26"
             ],
             [
              1,
              "#f0f921"
             ]
            ],
            "type": "histogram2dcontour"
           }
          ],
          "mesh3d": [
           {
            "colorbar": {
             "outlinewidth": 0,
             "ticks": ""
            },
            "type": "mesh3d"
           }
          ],
          "parcoords": [
           {
            "line": {
             "colorbar": {
              "outlinewidth": 0,
              "ticks": ""
             }
            },
            "type": "parcoords"
           }
          ],
          "pie": [
           {
            "automargin": true,
            "type": "pie"
           }
          ],
          "scatter": [
           {
            "fillpattern": {
             "fillmode": "overlay",
             "size": 10,
             "solidity": 0.2
            },
            "type": "scatter"
           }
          ],
          "scatter3d": [
           {
            "line": {
             "colorbar": {
              "outlinewidth": 0,
              "ticks": ""
             }
            },
            "marker": {
             "colorbar": {
              "outlinewidth": 0,
              "ticks": ""
             }
            },
            "type": "scatter3d"
           }
          ],
          "scattercarpet": [
           {
            "marker": {
             "colorbar": {
              "outlinewidth": 0,
              "ticks": ""
             }
            },
            "type": "scattercarpet"
           }
          ],
          "scattergeo": [
           {
            "marker": {
             "colorbar": {
              "outlinewidth": 0,
              "ticks": ""
             }
            },
            "type": "scattergeo"
           }
          ],
          "scattergl": [
           {
            "marker": {
             "colorbar": {
              "outlinewidth": 0,
              "ticks": ""
             }
            },
            "type": "scattergl"
           }
          ],
          "scattermapbox": [
           {
            "marker": {
             "colorbar": {
              "outlinewidth": 0,
              "ticks": ""
             }
            },
            "type": "scattermapbox"
           }
          ],
          "scatterpolar": [
           {
            "marker": {
             "colorbar": {
              "outlinewidth": 0,
              "ticks": ""
             }
            },
            "type": "scatterpolar"
           }
          ],
          "scatterpolargl": [
           {
            "marker": {
             "colorbar": {
              "outlinewidth": 0,
              "ticks": ""
             }
            },
            "type": "scatterpolargl"
           }
          ],
          "scatterternary": [
           {
            "marker": {
             "colorbar": {
              "outlinewidth": 0,
              "ticks": ""
             }
            },
            "type": "scatterternary"
           }
          ],
          "surface": [
           {
            "colorbar": {
             "outlinewidth": 0,
             "ticks": ""
            },
            "colorscale": [
             [
              0,
              "#0d0887"
             ],
             [
              0.1111111111111111,
              "#46039f"
             ],
             [
              0.2222222222222222,
              "#7201a8"
             ],
             [
              0.3333333333333333,
              "#9c179e"
             ],
             [
              0.4444444444444444,
              "#bd3786"
             ],
             [
              0.5555555555555556,
              "#d8576b"
             ],
             [
              0.6666666666666666,
              "#ed7953"
             ],
             [
              0.7777777777777778,
              "#fb9f3a"
             ],
             [
              0.8888888888888888,
              "#fdca26"
             ],
             [
              1,
              "#f0f921"
             ]
            ],
            "type": "surface"
           }
          ],
          "table": [
           {
            "cells": {
             "fill": {
              "color": "#EBF0F8"
             },
             "line": {
              "color": "white"
             }
            },
            "header": {
             "fill": {
              "color": "#C8D4E3"
             },
             "line": {
              "color": "white"
             }
            },
            "type": "table"
           }
          ]
         },
         "layout": {
          "annotationdefaults": {
           "arrowcolor": "#2a3f5f",
           "arrowhead": 0,
           "arrowwidth": 1
          },
          "autotypenumbers": "strict",
          "coloraxis": {
           "colorbar": {
            "outlinewidth": 0,
            "ticks": ""
           }
          },
          "colorscale": {
           "diverging": [
            [
             0,
             "#8e0152"
            ],
            [
             0.1,
             "#c51b7d"
            ],
            [
             0.2,
             "#de77ae"
            ],
            [
             0.3,
             "#f1b6da"
            ],
            [
             0.4,
             "#fde0ef"
            ],
            [
             0.5,
             "#f7f7f7"
            ],
            [
             0.6,
             "#e6f5d0"
            ],
            [
             0.7,
             "#b8e186"
            ],
            [
             0.8,
             "#7fbc41"
            ],
            [
             0.9,
             "#4d9221"
            ],
            [
             1,
             "#276419"
            ]
           ],
           "sequential": [
            [
             0,
             "#0d0887"
            ],
            [
             0.1111111111111111,
             "#46039f"
            ],
            [
             0.2222222222222222,
             "#7201a8"
            ],
            [
             0.3333333333333333,
             "#9c179e"
            ],
            [
             0.4444444444444444,
             "#bd3786"
            ],
            [
             0.5555555555555556,
             "#d8576b"
            ],
            [
             0.6666666666666666,
             "#ed7953"
            ],
            [
             0.7777777777777778,
             "#fb9f3a"
            ],
            [
             0.8888888888888888,
             "#fdca26"
            ],
            [
             1,
             "#f0f921"
            ]
           ],
           "sequentialminus": [
            [
             0,
             "#0d0887"
            ],
            [
             0.1111111111111111,
             "#46039f"
            ],
            [
             0.2222222222222222,
             "#7201a8"
            ],
            [
             0.3333333333333333,
             "#9c179e"
            ],
            [
             0.4444444444444444,
             "#bd3786"
            ],
            [
             0.5555555555555556,
             "#d8576b"
            ],
            [
             0.6666666666666666,
             "#ed7953"
            ],
            [
             0.7777777777777778,
             "#fb9f3a"
            ],
            [
             0.8888888888888888,
             "#fdca26"
            ],
            [
             1,
             "#f0f921"
            ]
           ]
          },
          "colorway": [
           "#636efa",
           "#EF553B",
           "#00cc96",
           "#ab63fa",
           "#FFA15A",
           "#19d3f3",
           "#FF6692",
           "#B6E880",
           "#FF97FF",
           "#FECB52"
          ],
          "font": {
           "color": "#2a3f5f"
          },
          "geo": {
           "bgcolor": "white",
           "lakecolor": "white",
           "landcolor": "#E5ECF6",
           "showlakes": true,
           "showland": true,
           "subunitcolor": "white"
          },
          "hoverlabel": {
           "align": "left"
          },
          "hovermode": "closest",
          "mapbox": {
           "style": "light"
          },
          "paper_bgcolor": "white",
          "plot_bgcolor": "#E5ECF6",
          "polar": {
           "angularaxis": {
            "gridcolor": "white",
            "linecolor": "white",
            "ticks": ""
           },
           "bgcolor": "#E5ECF6",
           "radialaxis": {
            "gridcolor": "white",
            "linecolor": "white",
            "ticks": ""
           }
          },
          "scene": {
           "xaxis": {
            "backgroundcolor": "#E5ECF6",
            "gridcolor": "white",
            "gridwidth": 2,
            "linecolor": "white",
            "showbackground": true,
            "ticks": "",
            "zerolinecolor": "white"
           },
           "yaxis": {
            "backgroundcolor": "#E5ECF6",
            "gridcolor": "white",
            "gridwidth": 2,
            "linecolor": "white",
            "showbackground": true,
            "ticks": "",
            "zerolinecolor": "white"
           },
           "zaxis": {
            "backgroundcolor": "#E5ECF6",
            "gridcolor": "white",
            "gridwidth": 2,
            "linecolor": "white",
            "showbackground": true,
            "ticks": "",
            "zerolinecolor": "white"
           }
          },
          "shapedefaults": {
           "line": {
            "color": "#2a3f5f"
           }
          },
          "ternary": {
           "aaxis": {
            "gridcolor": "white",
            "linecolor": "white",
            "ticks": ""
           },
           "baxis": {
            "gridcolor": "white",
            "linecolor": "white",
            "ticks": ""
           },
           "bgcolor": "#E5ECF6",
           "caxis": {
            "gridcolor": "white",
            "linecolor": "white",
            "ticks": ""
           }
          },
          "title": {
           "x": 0.05
          },
          "xaxis": {
           "automargin": true,
           "gridcolor": "white",
           "linecolor": "white",
           "ticks": "",
           "title": {
            "standoff": 15
           },
           "zerolinecolor": "white",
           "zerolinewidth": 2
          },
          "yaxis": {
           "automargin": true,
           "gridcolor": "white",
           "linecolor": "white",
           "ticks": "",
           "title": {
            "standoff": 15
           },
           "zerolinecolor": "white",
           "zerolinewidth": 2
          }
         }
        },
        "title": {
         "text": "Percent of adults aged 18 years and older who have obesity (Nationwide 2020)"
        },
        "width": 800
       }
      }
     },
     "metadata": {},
     "output_type": "display_data"
    }
   ],
   "source": [
    "total_df[[\"data_value\"]] = total_df[[\"data_value\"]].apply(pd.to_numeric)\n",
    "\n",
    "fig = px.choropleth(total_df,\n",
    "                    locations='locationabbr', \n",
    "                    locationmode=\"USA-states\", \n",
    "                    scope=\"usa\",\n",
    "                    color='data_value',\n",
    "                    color_continuous_scale=\"plasma_r\", \n",
    "                    title=f'Percent of adults aged 18 years and older who have obesity (Nationwide {year})',\n",
    "                    width=800, height=400,\n",
    "                    labels={\n",
    "                    \"data_value\": \"Percent (%)\",\n",
    "                    },\n",
    "                    )\n",
    "fig.show();"
   ]
  },
  {
   "cell_type": "code",
   "execution_count": 56,
   "metadata": {},
   "outputs": [
    {
     "data": {
      "text/html": [
       "<div>\n",
       "<style scoped>\n",
       "    .dataframe tbody tr th:only-of-type {\n",
       "        vertical-align: middle;\n",
       "    }\n",
       "\n",
       "    .dataframe tbody tr th {\n",
       "        vertical-align: top;\n",
       "    }\n",
       "\n",
       "    .dataframe thead th {\n",
       "        text-align: right;\n",
       "    }\n",
       "</style>\n",
       "<table border=\"1\" class=\"dataframe\">\n",
       "  <thead>\n",
       "    <tr style=\"text-align: right;\">\n",
       "      <th></th>\n",
       "      <th>yearstart</th>\n",
       "      <th>locationabbr</th>\n",
       "      <th>locationdesc</th>\n",
       "      <th>question</th>\n",
       "      <th>data_value</th>\n",
       "      <th>total</th>\n",
       "    </tr>\n",
       "  </thead>\n",
       "  <tbody>\n",
       "    <tr>\n",
       "      <th>96</th>\n",
       "      <td>2021</td>\n",
       "      <td>AL</td>\n",
       "      <td>Alabama</td>\n",
       "      <td>Percent of adults aged 18 years and older who ...</td>\n",
       "      <td>39.9</td>\n",
       "      <td>Total</td>\n",
       "    </tr>\n",
       "    <tr>\n",
       "      <th>795</th>\n",
       "      <td>2021</td>\n",
       "      <td>CO</td>\n",
       "      <td>Colorado</td>\n",
       "      <td>Percent of adults aged 18 years and older who ...</td>\n",
       "      <td>25.1</td>\n",
       "      <td>Total</td>\n",
       "    </tr>\n",
       "    <tr>\n",
       "      <th>3179</th>\n",
       "      <td>2021</td>\n",
       "      <td>MA</td>\n",
       "      <td>Massachusetts</td>\n",
       "      <td>Percent of adults aged 18 years and older who ...</td>\n",
       "      <td>27.4</td>\n",
       "      <td>Total</td>\n",
       "    </tr>\n",
       "    <tr>\n",
       "      <th>3595</th>\n",
       "      <td>2021</td>\n",
       "      <td>MS</td>\n",
       "      <td>Mississippi</td>\n",
       "      <td>Percent of adults aged 18 years and older who ...</td>\n",
       "      <td>39.1</td>\n",
       "      <td>Total</td>\n",
       "    </tr>\n",
       "    <tr>\n",
       "      <th>4015</th>\n",
       "      <td>2021</td>\n",
       "      <td>US</td>\n",
       "      <td>National</td>\n",
       "      <td>Percent of adults aged 18 years and older who ...</td>\n",
       "      <td>33.0</td>\n",
       "      <td>Total</td>\n",
       "    </tr>\n",
       "    <tr>\n",
       "      <th>7757</th>\n",
       "      <td>2020</td>\n",
       "      <td>AL</td>\n",
       "      <td>Alabama</td>\n",
       "      <td>Percent of adults aged 18 years and older who ...</td>\n",
       "      <td>39.0</td>\n",
       "      <td>Total</td>\n",
       "    </tr>\n",
       "    <tr>\n",
       "      <th>8179</th>\n",
       "      <td>2020</td>\n",
       "      <td>CO</td>\n",
       "      <td>Colorado</td>\n",
       "      <td>Percent of adults aged 18 years and older who ...</td>\n",
       "      <td>24.2</td>\n",
       "      <td>Total</td>\n",
       "    </tr>\n",
       "    <tr>\n",
       "      <th>9607</th>\n",
       "      <td>2020</td>\n",
       "      <td>MA</td>\n",
       "      <td>Massachusetts</td>\n",
       "      <td>Percent of adults aged 18 years and older who ...</td>\n",
       "      <td>24.4</td>\n",
       "      <td>Total</td>\n",
       "    </tr>\n",
       "    <tr>\n",
       "      <th>9858</th>\n",
       "      <td>2020</td>\n",
       "      <td>MS</td>\n",
       "      <td>Mississippi</td>\n",
       "      <td>Percent of adults aged 18 years and older who ...</td>\n",
       "      <td>39.7</td>\n",
       "      <td>Total</td>\n",
       "    </tr>\n",
       "    <tr>\n",
       "      <th>10111</th>\n",
       "      <td>2020</td>\n",
       "      <td>US</td>\n",
       "      <td>National</td>\n",
       "      <td>Percent of adults aged 18 years and older who ...</td>\n",
       "      <td>31.9</td>\n",
       "      <td>Total</td>\n",
       "    </tr>\n",
       "  </tbody>\n",
       "</table>\n",
       "</div>"
      ],
      "text/plain": [
       "       yearstart locationabbr   locationdesc  \\\n",
       "96          2021           AL        Alabama   \n",
       "795         2021           CO       Colorado   \n",
       "3179        2021           MA  Massachusetts   \n",
       "3595        2021           MS    Mississippi   \n",
       "4015        2021           US       National   \n",
       "7757        2020           AL        Alabama   \n",
       "8179        2020           CO       Colorado   \n",
       "9607        2020           MA  Massachusetts   \n",
       "9858        2020           MS    Mississippi   \n",
       "10111       2020           US       National   \n",
       "\n",
       "                                                question  data_value  total  \n",
       "96     Percent of adults aged 18 years and older who ...        39.9  Total  \n",
       "795    Percent of adults aged 18 years and older who ...        25.1  Total  \n",
       "3179   Percent of adults aged 18 years and older who ...        27.4  Total  \n",
       "3595   Percent of adults aged 18 years and older who ...        39.1  Total  \n",
       "4015   Percent of adults aged 18 years and older who ...        33.0  Total  \n",
       "7757   Percent of adults aged 18 years and older who ...        39.0  Total  \n",
       "8179   Percent of adults aged 18 years and older who ...        24.2  Total  \n",
       "9607   Percent of adults aged 18 years and older who ...        24.4  Total  \n",
       "9858   Percent of adults aged 18 years and older who ...        39.7  Total  \n",
       "10111  Percent of adults aged 18 years and older who ...        31.9  Total  "
      ]
     },
     "execution_count": 56,
     "metadata": {},
     "output_type": "execute_result"
    }
   ],
   "source": [
    "year = '2020'\n",
    "location = 'US|CO|MS|MA|AL'\n",
    "# location = 'MT|CA|NY|AK|HI'\n",
    "question = 'Percent of adults aged 18 years and older who have obesity'\n",
    "\n",
    "year_df = cleaned_DF.copy()\n",
    "    \n",
    "# filtered_df_name = filtered_df_name[filtered_df_name[\"yearstart\"] == year]\n",
    "year_df = year_df[year_df[\"locationabbr\"].str.contains(location)]\n",
    "year_df = year_df[year_df[\"question\"] == question]\n",
    "\n",
    "colsToKeep = [\n",
    "    'yearstart',\n",
    "    'locationabbr',\n",
    "    'locationdesc',\n",
    "    'question',\n",
    "    'data_value',\n",
    "    'total'\n",
    "]\n",
    "\n",
    "year_df = year_df[colsToKeep]\n",
    "\n",
    "year_df = year_df[year_df['total'].notna()]\n",
    "\n",
    "year_df[[\"data_value\"]] = year_df[[\"data_value\"]].apply(pd.to_numeric)\n",
    "year_df[[\"yearstart\"]] = year_df[[\"yearstart\"]].apply(pd.to_numeric)\n",
    "    \n",
    "year_df.head(10)"
   ]
  },
  {
   "cell_type": "code",
   "execution_count": 64,
   "metadata": {},
   "outputs": [
    {
     "data": {
      "application/vnd.plotly.v1+json": {
       "config": {
        "plotlyServerURL": "https://plot.ly"
       },
       "data": [
        {
         "hovertemplate": "locationdesc=Alabama<br>Year=%{x}<br>Percent (%)=%{y}<extra></extra>",
         "legendgroup": "Alabama",
         "line": {
          "color": "#636efa",
          "dash": "solid"
         },
         "marker": {
          "symbol": "circle"
         },
         "mode": "lines",
         "name": "Alabama",
         "orientation": "v",
         "showlegend": true,
         "type": "scatter",
         "x": [
          2021,
          2020,
          2019,
          2018,
          2017,
          2016,
          2015,
          2014,
          2013,
          2012,
          2011
         ],
         "xaxis": "x",
         "y": [
          39.9,
          39,
          36.1,
          36.2,
          36.3,
          35.7,
          35.6,
          33.5,
          32.4,
          33,
          32
         ],
         "yaxis": "y"
        },
        {
         "hovertemplate": "locationdesc=Colorado<br>Year=%{x}<br>Percent (%)=%{y}<extra></extra>",
         "legendgroup": "Colorado",
         "line": {
          "color": "#EF553B",
          "dash": "solid"
         },
         "marker": {
          "symbol": "circle"
         },
         "mode": "lines",
         "name": "Colorado",
         "orientation": "v",
         "showlegend": true,
         "type": "scatter",
         "x": [
          2021,
          2020,
          2019,
          2018,
          2017,
          2016,
          2015,
          2014,
          2013,
          2012,
          2011
         ],
         "xaxis": "x",
         "y": [
          25.1,
          24.2,
          23.8,
          23,
          22.6,
          22.3,
          20.2,
          21.3,
          21.3,
          20.5,
          20.7
         ],
         "yaxis": "y"
        },
        {
         "hovertemplate": "locationdesc=Massachusetts<br>Year=%{x}<br>Percent (%)=%{y}<extra></extra>",
         "legendgroup": "Massachusetts",
         "line": {
          "color": "#00cc96",
          "dash": "solid"
         },
         "marker": {
          "symbol": "circle"
         },
         "mode": "lines",
         "name": "Massachusetts",
         "orientation": "v",
         "showlegend": true,
         "type": "scatter",
         "x": [
          2021,
          2020,
          2019,
          2018,
          2017,
          2016,
          2015,
          2014,
          2013,
          2012,
          2011
         ],
         "xaxis": "x",
         "y": [
          27.4,
          24.4,
          25.2,
          25.7,
          25.9,
          23.6,
          24.3,
          23.3,
          23.6,
          22.9,
          22.7
         ],
         "yaxis": "y"
        },
        {
         "hovertemplate": "locationdesc=Mississippi<br>Year=%{x}<br>Percent (%)=%{y}<extra></extra>",
         "legendgroup": "Mississippi",
         "line": {
          "color": "#ab63fa",
          "dash": "solid"
         },
         "marker": {
          "symbol": "circle"
         },
         "mode": "lines",
         "name": "Mississippi",
         "orientation": "v",
         "showlegend": true,
         "type": "scatter",
         "x": [
          2021,
          2020,
          2019,
          2018,
          2017,
          2016,
          2015,
          2014,
          2013,
          2012,
          2011
         ],
         "xaxis": "x",
         "y": [
          39.1,
          39.7,
          40.8,
          39.5,
          37.3,
          37.3,
          35.6,
          35.5,
          35.1,
          34.6,
          34.9
         ],
         "yaxis": "y"
        },
        {
         "hovertemplate": "locationdesc=National<br>Year=%{x}<br>Percent (%)=%{y}<extra></extra>",
         "legendgroup": "National",
         "line": {
          "color": "#FFA15A",
          "dash": "solid"
         },
         "marker": {
          "symbol": "circle"
         },
         "mode": "lines",
         "name": "National",
         "orientation": "v",
         "showlegend": true,
         "type": "scatter",
         "x": [
          2021,
          2020,
          2019,
          2018,
          2017,
          2016,
          2015,
          2014,
          2013,
          2012,
          2011
         ],
         "xaxis": "x",
         "y": [
          33,
          31.9,
          31.4,
          30.9,
          30.1,
          29.6,
          28.9,
          28.9,
          28.3,
          27.7,
          27.4
         ],
         "yaxis": "y"
        }
       ],
       "layout": {
        "legend": {
         "title": {
          "text": "locationdesc"
         },
         "tracegroupgap": 0
        },
        "template": {
         "data": {
          "bar": [
           {
            "error_x": {
             "color": "#2a3f5f"
            },
            "error_y": {
             "color": "#2a3f5f"
            },
            "marker": {
             "line": {
              "color": "#E5ECF6",
              "width": 0.5
             },
             "pattern": {
              "fillmode": "overlay",
              "size": 10,
              "solidity": 0.2
             }
            },
            "type": "bar"
           }
          ],
          "barpolar": [
           {
            "marker": {
             "line": {
              "color": "#E5ECF6",
              "width": 0.5
             },
             "pattern": {
              "fillmode": "overlay",
              "size": 10,
              "solidity": 0.2
             }
            },
            "type": "barpolar"
           }
          ],
          "carpet": [
           {
            "aaxis": {
             "endlinecolor": "#2a3f5f",
             "gridcolor": "white",
             "linecolor": "white",
             "minorgridcolor": "white",
             "startlinecolor": "#2a3f5f"
            },
            "baxis": {
             "endlinecolor": "#2a3f5f",
             "gridcolor": "white",
             "linecolor": "white",
             "minorgridcolor": "white",
             "startlinecolor": "#2a3f5f"
            },
            "type": "carpet"
           }
          ],
          "choropleth": [
           {
            "colorbar": {
             "outlinewidth": 0,
             "ticks": ""
            },
            "type": "choropleth"
           }
          ],
          "contour": [
           {
            "colorbar": {
             "outlinewidth": 0,
             "ticks": ""
            },
            "colorscale": [
             [
              0,
              "#0d0887"
             ],
             [
              0.1111111111111111,
              "#46039f"
             ],
             [
              0.2222222222222222,
              "#7201a8"
             ],
             [
              0.3333333333333333,
              "#9c179e"
             ],
             [
              0.4444444444444444,
              "#bd3786"
             ],
             [
              0.5555555555555556,
              "#d8576b"
             ],
             [
              0.6666666666666666,
              "#ed7953"
             ],
             [
              0.7777777777777778,
              "#fb9f3a"
             ],
             [
              0.8888888888888888,
              "#fdca26"
             ],
             [
              1,
              "#f0f921"
             ]
            ],
            "type": "contour"
           }
          ],
          "contourcarpet": [
           {
            "colorbar": {
             "outlinewidth": 0,
             "ticks": ""
            },
            "type": "contourcarpet"
           }
          ],
          "heatmap": [
           {
            "colorbar": {
             "outlinewidth": 0,
             "ticks": ""
            },
            "colorscale": [
             [
              0,
              "#0d0887"
             ],
             [
              0.1111111111111111,
              "#46039f"
             ],
             [
              0.2222222222222222,
              "#7201a8"
             ],
             [
              0.3333333333333333,
              "#9c179e"
             ],
             [
              0.4444444444444444,
              "#bd3786"
             ],
             [
              0.5555555555555556,
              "#d8576b"
             ],
             [
              0.6666666666666666,
              "#ed7953"
             ],
             [
              0.7777777777777778,
              "#fb9f3a"
             ],
             [
              0.8888888888888888,
              "#fdca26"
             ],
             [
              1,
              "#f0f921"
             ]
            ],
            "type": "heatmap"
           }
          ],
          "heatmapgl": [
           {
            "colorbar": {
             "outlinewidth": 0,
             "ticks": ""
            },
            "colorscale": [
             [
              0,
              "#0d0887"
             ],
             [
              0.1111111111111111,
              "#46039f"
             ],
             [
              0.2222222222222222,
              "#7201a8"
             ],
             [
              0.3333333333333333,
              "#9c179e"
             ],
             [
              0.4444444444444444,
              "#bd3786"
             ],
             [
              0.5555555555555556,
              "#d8576b"
             ],
             [
              0.6666666666666666,
              "#ed7953"
             ],
             [
              0.7777777777777778,
              "#fb9f3a"
             ],
             [
              0.8888888888888888,
              "#fdca26"
             ],
             [
              1,
              "#f0f921"
             ]
            ],
            "type": "heatmapgl"
           }
          ],
          "histogram": [
           {
            "marker": {
             "pattern": {
              "fillmode": "overlay",
              "size": 10,
              "solidity": 0.2
             }
            },
            "type": "histogram"
           }
          ],
          "histogram2d": [
           {
            "colorbar": {
             "outlinewidth": 0,
             "ticks": ""
            },
            "colorscale": [
             [
              0,
              "#0d0887"
             ],
             [
              0.1111111111111111,
              "#46039f"
             ],
             [
              0.2222222222222222,
              "#7201a8"
             ],
             [
              0.3333333333333333,
              "#9c179e"
             ],
             [
              0.4444444444444444,
              "#bd3786"
             ],
             [
              0.5555555555555556,
              "#d8576b"
             ],
             [
              0.6666666666666666,
              "#ed7953"
             ],
             [
              0.7777777777777778,
              "#fb9f3a"
             ],
             [
              0.8888888888888888,
              "#fdca26"
             ],
             [
              1,
              "#f0f921"
             ]
            ],
            "type": "histogram2d"
           }
          ],
          "histogram2dcontour": [
           {
            "colorbar": {
             "outlinewidth": 0,
             "ticks": ""
            },
            "colorscale": [
             [
              0,
              "#0d0887"
             ],
             [
              0.1111111111111111,
              "#46039f"
             ],
             [
              0.2222222222222222,
              "#7201a8"
             ],
             [
              0.3333333333333333,
              "#9c179e"
             ],
             [
              0.4444444444444444,
              "#bd3786"
             ],
             [
              0.5555555555555556,
              "#d8576b"
             ],
             [
              0.6666666666666666,
              "#ed7953"
             ],
             [
              0.7777777777777778,
              "#fb9f3a"
             ],
             [
              0.8888888888888888,
              "#fdca26"
             ],
             [
              1,
              "#f0f921"
             ]
            ],
            "type": "histogram2dcontour"
           }
          ],
          "mesh3d": [
           {
            "colorbar": {
             "outlinewidth": 0,
             "ticks": ""
            },
            "type": "mesh3d"
           }
          ],
          "parcoords": [
           {
            "line": {
             "colorbar": {
              "outlinewidth": 0,
              "ticks": ""
             }
            },
            "type": "parcoords"
           }
          ],
          "pie": [
           {
            "automargin": true,
            "type": "pie"
           }
          ],
          "scatter": [
           {
            "fillpattern": {
             "fillmode": "overlay",
             "size": 10,
             "solidity": 0.2
            },
            "type": "scatter"
           }
          ],
          "scatter3d": [
           {
            "line": {
             "colorbar": {
              "outlinewidth": 0,
              "ticks": ""
             }
            },
            "marker": {
             "colorbar": {
              "outlinewidth": 0,
              "ticks": ""
             }
            },
            "type": "scatter3d"
           }
          ],
          "scattercarpet": [
           {
            "marker": {
             "colorbar": {
              "outlinewidth": 0,
              "ticks": ""
             }
            },
            "type": "scattercarpet"
           }
          ],
          "scattergeo": [
           {
            "marker": {
             "colorbar": {
              "outlinewidth": 0,
              "ticks": ""
             }
            },
            "type": "scattergeo"
           }
          ],
          "scattergl": [
           {
            "marker": {
             "colorbar": {
              "outlinewidth": 0,
              "ticks": ""
             }
            },
            "type": "scattergl"
           }
          ],
          "scattermapbox": [
           {
            "marker": {
             "colorbar": {
              "outlinewidth": 0,
              "ticks": ""
             }
            },
            "type": "scattermapbox"
           }
          ],
          "scatterpolar": [
           {
            "marker": {
             "colorbar": {
              "outlinewidth": 0,
              "ticks": ""
             }
            },
            "type": "scatterpolar"
           }
          ],
          "scatterpolargl": [
           {
            "marker": {
             "colorbar": {
              "outlinewidth": 0,
              "ticks": ""
             }
            },
            "type": "scatterpolargl"
           }
          ],
          "scatterternary": [
           {
            "marker": {
             "colorbar": {
              "outlinewidth": 0,
              "ticks": ""
             }
            },
            "type": "scatterternary"
           }
          ],
          "surface": [
           {
            "colorbar": {
             "outlinewidth": 0,
             "ticks": ""
            },
            "colorscale": [
             [
              0,
              "#0d0887"
             ],
             [
              0.1111111111111111,
              "#46039f"
             ],
             [
              0.2222222222222222,
              "#7201a8"
             ],
             [
              0.3333333333333333,
              "#9c179e"
             ],
             [
              0.4444444444444444,
              "#bd3786"
             ],
             [
              0.5555555555555556,
              "#d8576b"
             ],
             [
              0.6666666666666666,
              "#ed7953"
             ],
             [
              0.7777777777777778,
              "#fb9f3a"
             ],
             [
              0.8888888888888888,
              "#fdca26"
             ],
             [
              1,
              "#f0f921"
             ]
            ],
            "type": "surface"
           }
          ],
          "table": [
           {
            "cells": {
             "fill": {
              "color": "#EBF0F8"
             },
             "line": {
              "color": "white"
             }
            },
            "header": {
             "fill": {
              "color": "#C8D4E3"
             },
             "line": {
              "color": "white"
             }
            },
            "type": "table"
           }
          ]
         },
         "layout": {
          "annotationdefaults": {
           "arrowcolor": "#2a3f5f",
           "arrowhead": 0,
           "arrowwidth": 1
          },
          "autotypenumbers": "strict",
          "coloraxis": {
           "colorbar": {
            "outlinewidth": 0,
            "ticks": ""
           }
          },
          "colorscale": {
           "diverging": [
            [
             0,
             "#8e0152"
            ],
            [
             0.1,
             "#c51b7d"
            ],
            [
             0.2,
             "#de77ae"
            ],
            [
             0.3,
             "#f1b6da"
            ],
            [
             0.4,
             "#fde0ef"
            ],
            [
             0.5,
             "#f7f7f7"
            ],
            [
             0.6,
             "#e6f5d0"
            ],
            [
             0.7,
             "#b8e186"
            ],
            [
             0.8,
             "#7fbc41"
            ],
            [
             0.9,
             "#4d9221"
            ],
            [
             1,
             "#276419"
            ]
           ],
           "sequential": [
            [
             0,
             "#0d0887"
            ],
            [
             0.1111111111111111,
             "#46039f"
            ],
            [
             0.2222222222222222,
             "#7201a8"
            ],
            [
             0.3333333333333333,
             "#9c179e"
            ],
            [
             0.4444444444444444,
             "#bd3786"
            ],
            [
             0.5555555555555556,
             "#d8576b"
            ],
            [
             0.6666666666666666,
             "#ed7953"
            ],
            [
             0.7777777777777778,
             "#fb9f3a"
            ],
            [
             0.8888888888888888,
             "#fdca26"
            ],
            [
             1,
             "#f0f921"
            ]
           ],
           "sequentialminus": [
            [
             0,
             "#0d0887"
            ],
            [
             0.1111111111111111,
             "#46039f"
            ],
            [
             0.2222222222222222,
             "#7201a8"
            ],
            [
             0.3333333333333333,
             "#9c179e"
            ],
            [
             0.4444444444444444,
             "#bd3786"
            ],
            [
             0.5555555555555556,
             "#d8576b"
            ],
            [
             0.6666666666666666,
             "#ed7953"
            ],
            [
             0.7777777777777778,
             "#fb9f3a"
            ],
            [
             0.8888888888888888,
             "#fdca26"
            ],
            [
             1,
             "#f0f921"
            ]
           ]
          },
          "colorway": [
           "#636efa",
           "#EF553B",
           "#00cc96",
           "#ab63fa",
           "#FFA15A",
           "#19d3f3",
           "#FF6692",
           "#B6E880",
           "#FF97FF",
           "#FECB52"
          ],
          "font": {
           "color": "#2a3f5f"
          },
          "geo": {
           "bgcolor": "white",
           "lakecolor": "white",
           "landcolor": "#E5ECF6",
           "showlakes": true,
           "showland": true,
           "subunitcolor": "white"
          },
          "hoverlabel": {
           "align": "left"
          },
          "hovermode": "closest",
          "mapbox": {
           "style": "light"
          },
          "paper_bgcolor": "white",
          "plot_bgcolor": "#E5ECF6",
          "polar": {
           "angularaxis": {
            "gridcolor": "white",
            "linecolor": "white",
            "ticks": ""
           },
           "bgcolor": "#E5ECF6",
           "radialaxis": {
            "gridcolor": "white",
            "linecolor": "white",
            "ticks": ""
           }
          },
          "scene": {
           "xaxis": {
            "backgroundcolor": "#E5ECF6",
            "gridcolor": "white",
            "gridwidth": 2,
            "linecolor": "white",
            "showbackground": true,
            "ticks": "",
            "zerolinecolor": "white"
           },
           "yaxis": {
            "backgroundcolor": "#E5ECF6",
            "gridcolor": "white",
            "gridwidth": 2,
            "linecolor": "white",
            "showbackground": true,
            "ticks": "",
            "zerolinecolor": "white"
           },
           "zaxis": {
            "backgroundcolor": "#E5ECF6",
            "gridcolor": "white",
            "gridwidth": 2,
            "linecolor": "white",
            "showbackground": true,
            "ticks": "",
            "zerolinecolor": "white"
           }
          },
          "shapedefaults": {
           "line": {
            "color": "#2a3f5f"
           }
          },
          "ternary": {
           "aaxis": {
            "gridcolor": "white",
            "linecolor": "white",
            "ticks": ""
           },
           "baxis": {
            "gridcolor": "white",
            "linecolor": "white",
            "ticks": ""
           },
           "bgcolor": "#E5ECF6",
           "caxis": {
            "gridcolor": "white",
            "linecolor": "white",
            "ticks": ""
           }
          },
          "title": {
           "x": 0.05
          },
          "xaxis": {
           "automargin": true,
           "gridcolor": "white",
           "linecolor": "white",
           "ticks": "",
           "title": {
            "standoff": 15
           },
           "zerolinecolor": "white",
           "zerolinewidth": 2
          },
          "yaxis": {
           "automargin": true,
           "gridcolor": "white",
           "linecolor": "white",
           "ticks": "",
           "title": {
            "standoff": 15
           },
           "zerolinecolor": "white",
           "zerolinewidth": 2
          }
         }
        },
        "title": {
         "text": "Percent of adults aged 18 years and older who have obesity (2020)"
        },
        "xaxis": {
         "anchor": "y",
         "domain": [
          0,
          1
         ],
         "title": {
          "text": "Year"
         }
        },
        "yaxis": {
         "anchor": "x",
         "domain": [
          0,
          1
         ],
         "title": {
          "text": "Percent (%)"
         }
        }
       }
      }
     },
     "metadata": {},
     "output_type": "display_data"
    }
   ],
   "source": [
    "fig = px.line(year_df, x=\"yearstart\", y=\"data_value\",\n",
    "              title='Percent of adults aged 18 years and older who have obesity (2020)', \n",
    "              color='locationdesc',\n",
    "              labels={\n",
    "                  \"data_value\": \"Percent (%)\",\n",
    "                  \"yearstart\": \"Year\"\n",
    "              },\n",
    "              )\n",
    "fig.show()"
   ]
  },
  {
   "cell_type": "code",
   "execution_count": 36,
   "metadata": {},
   "outputs": [
    {
     "data": {
      "text/html": [
       "<div>\n",
       "<style scoped>\n",
       "    .dataframe tbody tr th:only-of-type {\n",
       "        vertical-align: middle;\n",
       "    }\n",
       "\n",
       "    .dataframe tbody tr th {\n",
       "        vertical-align: top;\n",
       "    }\n",
       "\n",
       "    .dataframe thead th {\n",
       "        text-align: right;\n",
       "    }\n",
       "</style>\n",
       "<table border=\"1\" class=\"dataframe\">\n",
       "  <thead>\n",
       "    <tr style=\"text-align: right;\">\n",
       "      <th></th>\n",
       "      <th>yearstart</th>\n",
       "      <th>locationabbr</th>\n",
       "      <th>locationdesc</th>\n",
       "      <th>question</th>\n",
       "      <th>data_value</th>\n",
       "      <th>age_years</th>\n",
       "    </tr>\n",
       "  </thead>\n",
       "  <tbody>\n",
       "    <tr>\n",
       "      <th>7784</th>\n",
       "      <td>2020</td>\n",
       "      <td>AK</td>\n",
       "      <td>Alaska</td>\n",
       "      <td>Percent of adults aged 18 years and older who ...</td>\n",
       "      <td>21.0</td>\n",
       "      <td>18 - 24</td>\n",
       "    </tr>\n",
       "    <tr>\n",
       "      <th>7788</th>\n",
       "      <td>2020</td>\n",
       "      <td>AK</td>\n",
       "      <td>Alaska</td>\n",
       "      <td>Percent of adults aged 18 years and older who ...</td>\n",
       "      <td>31.4</td>\n",
       "      <td>25 - 34</td>\n",
       "    </tr>\n",
       "    <tr>\n",
       "      <th>7792</th>\n",
       "      <td>2020</td>\n",
       "      <td>AK</td>\n",
       "      <td>Alaska</td>\n",
       "      <td>Percent of adults aged 18 years and older who ...</td>\n",
       "      <td>32.4</td>\n",
       "      <td>35 - 44</td>\n",
       "    </tr>\n",
       "    <tr>\n",
       "      <th>7795</th>\n",
       "      <td>2020</td>\n",
       "      <td>AK</td>\n",
       "      <td>Alaska</td>\n",
       "      <td>Percent of adults aged 18 years and older who ...</td>\n",
       "      <td>38.2</td>\n",
       "      <td>45 - 54</td>\n",
       "    </tr>\n",
       "    <tr>\n",
       "      <th>7797</th>\n",
       "      <td>2020</td>\n",
       "      <td>AK</td>\n",
       "      <td>Alaska</td>\n",
       "      <td>Percent of adults aged 18 years and older who ...</td>\n",
       "      <td>33.7</td>\n",
       "      <td>55 - 64</td>\n",
       "    </tr>\n",
       "    <tr>\n",
       "      <th>7801</th>\n",
       "      <td>2020</td>\n",
       "      <td>AK</td>\n",
       "      <td>Alaska</td>\n",
       "      <td>Percent of adults aged 18 years and older who ...</td>\n",
       "      <td>32.7</td>\n",
       "      <td>65 or older</td>\n",
       "    </tr>\n",
       "    <tr>\n",
       "      <th>8038</th>\n",
       "      <td>2020</td>\n",
       "      <td>CA</td>\n",
       "      <td>California</td>\n",
       "      <td>Percent of adults aged 18 years and older who ...</td>\n",
       "      <td>18.7</td>\n",
       "      <td>18 - 24</td>\n",
       "    </tr>\n",
       "    <tr>\n",
       "      <th>8039</th>\n",
       "      <td>2020</td>\n",
       "      <td>CA</td>\n",
       "      <td>California</td>\n",
       "      <td>Percent of adults aged 18 years and older who ...</td>\n",
       "      <td>31.2</td>\n",
       "      <td>25 - 34</td>\n",
       "    </tr>\n",
       "    <tr>\n",
       "      <th>8042</th>\n",
       "      <td>2020</td>\n",
       "      <td>CA</td>\n",
       "      <td>California</td>\n",
       "      <td>Percent of adults aged 18 years and older who ...</td>\n",
       "      <td>32.4</td>\n",
       "      <td>35 - 44</td>\n",
       "    </tr>\n",
       "    <tr>\n",
       "      <th>8046</th>\n",
       "      <td>2020</td>\n",
       "      <td>CA</td>\n",
       "      <td>California</td>\n",
       "      <td>Percent of adults aged 18 years and older who ...</td>\n",
       "      <td>33.9</td>\n",
       "      <td>45 - 54</td>\n",
       "    </tr>\n",
       "  </tbody>\n",
       "</table>\n",
       "</div>"
      ],
      "text/plain": [
       "      yearstart locationabbr locationdesc  \\\n",
       "7784       2020           AK       Alaska   \n",
       "7788       2020           AK       Alaska   \n",
       "7792       2020           AK       Alaska   \n",
       "7795       2020           AK       Alaska   \n",
       "7797       2020           AK       Alaska   \n",
       "7801       2020           AK       Alaska   \n",
       "8038       2020           CA   California   \n",
       "8039       2020           CA   California   \n",
       "8042       2020           CA   California   \n",
       "8046       2020           CA   California   \n",
       "\n",
       "                                               question  data_value  \\\n",
       "7784  Percent of adults aged 18 years and older who ...        21.0   \n",
       "7788  Percent of adults aged 18 years and older who ...        31.4   \n",
       "7792  Percent of adults aged 18 years and older who ...        32.4   \n",
       "7795  Percent of adults aged 18 years and older who ...        38.2   \n",
       "7797  Percent of adults aged 18 years and older who ...        33.7   \n",
       "7801  Percent of adults aged 18 years and older who ...        32.7   \n",
       "8038  Percent of adults aged 18 years and older who ...        18.7   \n",
       "8039  Percent of adults aged 18 years and older who ...        31.2   \n",
       "8042  Percent of adults aged 18 years and older who ...        32.4   \n",
       "8046  Percent of adults aged 18 years and older who ...        33.9   \n",
       "\n",
       "        age_years  \n",
       "7784      18 - 24  \n",
       "7788      25 - 34  \n",
       "7792      35 - 44  \n",
       "7795      45 - 54  \n",
       "7797      55 - 64  \n",
       "7801  65 or older  \n",
       "8038      18 - 24  \n",
       "8039      25 - 34  \n",
       "8042      35 - 44  \n",
       "8046      45 - 54  "
      ]
     },
     "execution_count": 36,
     "metadata": {},
     "output_type": "execute_result"
    }
   ],
   "source": [
    "year = '2020'\n",
    "# location = 'US|CO|MS|MA|AL'\n",
    "location = 'MT|CA|NY|AK|HI'\n",
    "question = 'Percent of adults aged 18 years and older who have obesity'\n",
    "\n",
    "age_df = cleaned_DF.copy()\n",
    "    \n",
    "age_df = age_df[age_df[\"yearstart\"] == year]\n",
    "age_df = age_df[age_df[\"locationabbr\"].str.contains(location)]\n",
    "age_df = age_df[age_df[\"question\"] == question]\n",
    "\n",
    "colsToKeep = [\n",
    "    'yearstart',\n",
    "    'locationabbr',\n",
    "    'locationdesc',\n",
    "    'question',\n",
    "    'data_value',\n",
    "    'age_years'\n",
    "]\n",
    "\n",
    "age_df = age_df[colsToKeep]\n",
    "\n",
    "age_df = age_df[age_df['age_years'].notna()]\n",
    "\n",
    "age_df[[\"data_value\"]] = age_df[[\"data_value\"]].apply(pd.to_numeric)\n",
    "age_df[[\"yearstart\"]] = age_df[[\"yearstart\"]].apply(pd.to_numeric)\n",
    "    \n",
    "age_df.head(10)"
   ]
  },
  {
   "cell_type": "code",
   "execution_count": 62,
   "metadata": {},
   "outputs": [
    {
     "data": {
      "application/vnd.plotly.v1+json": {
       "config": {
        "plotlyServerURL": "https://plot.ly"
       },
       "data": [
        {
         "alignmentgroup": "True",
         "hovertemplate": "locationdesc=Alaska<br>age_years=%{x}<br>Percent (%)=%{y}<extra></extra>",
         "legendgroup": "Alaska",
         "marker": {
          "color": "#636efa",
          "pattern": {
           "shape": ""
          }
         },
         "name": "Alaska",
         "offsetgroup": "Alaska",
         "orientation": "v",
         "showlegend": true,
         "textposition": "auto",
         "type": "bar",
         "x": [
          "18 - 24",
          "25 - 34",
          "35 - 44",
          "45 - 54",
          "55 - 64",
          "65 or older"
         ],
         "xaxis": "x",
         "y": [
          21,
          31.4,
          32.4,
          38.2,
          33.7,
          32.7
         ],
         "yaxis": "y"
        },
        {
         "alignmentgroup": "True",
         "hovertemplate": "locationdesc=California<br>age_years=%{x}<br>Percent (%)=%{y}<extra></extra>",
         "legendgroup": "California",
         "marker": {
          "color": "#EF553B",
          "pattern": {
           "shape": ""
          }
         },
         "name": "California",
         "offsetgroup": "California",
         "orientation": "v",
         "showlegend": true,
         "textposition": "auto",
         "type": "bar",
         "x": [
          "18 - 24",
          "25 - 34",
          "35 - 44",
          "45 - 54",
          "55 - 64",
          "65 or older"
         ],
         "xaxis": "x",
         "y": [
          18.7,
          31.2,
          32.4,
          33.9,
          36.5,
          26.1
         ],
         "yaxis": "y"
        },
        {
         "alignmentgroup": "True",
         "hovertemplate": "locationdesc=Hawaii<br>age_years=%{x}<br>Percent (%)=%{y}<extra></extra>",
         "legendgroup": "Hawaii",
         "marker": {
          "color": "#00cc96",
          "pattern": {
           "shape": ""
          }
         },
         "name": "Hawaii",
         "offsetgroup": "Hawaii",
         "orientation": "v",
         "showlegend": true,
         "textposition": "auto",
         "type": "bar",
         "x": [
          "18 - 24",
          "25 - 34",
          "35 - 44",
          "45 - 54",
          "55 - 64",
          "65 or older"
         ],
         "xaxis": "x",
         "y": [
          15.8,
          25.1,
          29.5,
          30.9,
          27.8,
          18.7
         ],
         "yaxis": "y"
        },
        {
         "alignmentgroup": "True",
         "hovertemplate": "locationdesc=Montana<br>age_years=%{x}<br>Percent (%)=%{y}<extra></extra>",
         "legendgroup": "Montana",
         "marker": {
          "color": "#ab63fa",
          "pattern": {
           "shape": ""
          }
         },
         "name": "Montana",
         "offsetgroup": "Montana",
         "orientation": "v",
         "showlegend": true,
         "textposition": "auto",
         "type": "bar",
         "x": [
          "18 - 24",
          "25 - 34",
          "35 - 44",
          "45 - 54",
          "55 - 64",
          "65 or older"
         ],
         "xaxis": "x",
         "y": [
          14.3,
          27.8,
          34.4,
          30.2,
          34.6,
          27.2
         ],
         "yaxis": "y"
        },
        {
         "alignmentgroup": "True",
         "hovertemplate": "locationdesc=New York<br>age_years=%{x}<br>Percent (%)=%{y}<extra></extra>",
         "legendgroup": "New York",
         "marker": {
          "color": "#FFA15A",
          "pattern": {
           "shape": ""
          }
         },
         "name": "New York",
         "offsetgroup": "New York",
         "orientation": "v",
         "showlegend": true,
         "textposition": "auto",
         "type": "bar",
         "x": [
          "18 - 24",
          "25 - 34",
          "35 - 44",
          "45 - 54",
          "55 - 64",
          "65 or older"
         ],
         "xaxis": "x",
         "y": [
          16.7,
          25,
          29.8,
          31.8,
          29.9,
          23.6
         ],
         "yaxis": "y"
        }
       ],
       "layout": {
        "barmode": "group",
        "legend": {
         "title": {
          "text": "locationdesc"
         },
         "tracegroupgap": 0
        },
        "template": {
         "data": {
          "bar": [
           {
            "error_x": {
             "color": "#2a3f5f"
            },
            "error_y": {
             "color": "#2a3f5f"
            },
            "marker": {
             "line": {
              "color": "#E5ECF6",
              "width": 0.5
             },
             "pattern": {
              "fillmode": "overlay",
              "size": 10,
              "solidity": 0.2
             }
            },
            "type": "bar"
           }
          ],
          "barpolar": [
           {
            "marker": {
             "line": {
              "color": "#E5ECF6",
              "width": 0.5
             },
             "pattern": {
              "fillmode": "overlay",
              "size": 10,
              "solidity": 0.2
             }
            },
            "type": "barpolar"
           }
          ],
          "carpet": [
           {
            "aaxis": {
             "endlinecolor": "#2a3f5f",
             "gridcolor": "white",
             "linecolor": "white",
             "minorgridcolor": "white",
             "startlinecolor": "#2a3f5f"
            },
            "baxis": {
             "endlinecolor": "#2a3f5f",
             "gridcolor": "white",
             "linecolor": "white",
             "minorgridcolor": "white",
             "startlinecolor": "#2a3f5f"
            },
            "type": "carpet"
           }
          ],
          "choropleth": [
           {
            "colorbar": {
             "outlinewidth": 0,
             "ticks": ""
            },
            "type": "choropleth"
           }
          ],
          "contour": [
           {
            "colorbar": {
             "outlinewidth": 0,
             "ticks": ""
            },
            "colorscale": [
             [
              0,
              "#0d0887"
             ],
             [
              0.1111111111111111,
              "#46039f"
             ],
             [
              0.2222222222222222,
              "#7201a8"
             ],
             [
              0.3333333333333333,
              "#9c179e"
             ],
             [
              0.4444444444444444,
              "#bd3786"
             ],
             [
              0.5555555555555556,
              "#d8576b"
             ],
             [
              0.6666666666666666,
              "#ed7953"
             ],
             [
              0.7777777777777778,
              "#fb9f3a"
             ],
             [
              0.8888888888888888,
              "#fdca26"
             ],
             [
              1,
              "#f0f921"
             ]
            ],
            "type": "contour"
           }
          ],
          "contourcarpet": [
           {
            "colorbar": {
             "outlinewidth": 0,
             "ticks": ""
            },
            "type": "contourcarpet"
           }
          ],
          "heatmap": [
           {
            "colorbar": {
             "outlinewidth": 0,
             "ticks": ""
            },
            "colorscale": [
             [
              0,
              "#0d0887"
             ],
             [
              0.1111111111111111,
              "#46039f"
             ],
             [
              0.2222222222222222,
              "#7201a8"
             ],
             [
              0.3333333333333333,
              "#9c179e"
             ],
             [
              0.4444444444444444,
              "#bd3786"
             ],
             [
              0.5555555555555556,
              "#d8576b"
             ],
             [
              0.6666666666666666,
              "#ed7953"
             ],
             [
              0.7777777777777778,
              "#fb9f3a"
             ],
             [
              0.8888888888888888,
              "#fdca26"
             ],
             [
              1,
              "#f0f921"
             ]
            ],
            "type": "heatmap"
           }
          ],
          "heatmapgl": [
           {
            "colorbar": {
             "outlinewidth": 0,
             "ticks": ""
            },
            "colorscale": [
             [
              0,
              "#0d0887"
             ],
             [
              0.1111111111111111,
              "#46039f"
             ],
             [
              0.2222222222222222,
              "#7201a8"
             ],
             [
              0.3333333333333333,
              "#9c179e"
             ],
             [
              0.4444444444444444,
              "#bd3786"
             ],
             [
              0.5555555555555556,
              "#d8576b"
             ],
             [
              0.6666666666666666,
              "#ed7953"
             ],
             [
              0.7777777777777778,
              "#fb9f3a"
             ],
             [
              0.8888888888888888,
              "#fdca26"
             ],
             [
              1,
              "#f0f921"
             ]
            ],
            "type": "heatmapgl"
           }
          ],
          "histogram": [
           {
            "marker": {
             "pattern": {
              "fillmode": "overlay",
              "size": 10,
              "solidity": 0.2
             }
            },
            "type": "histogram"
           }
          ],
          "histogram2d": [
           {
            "colorbar": {
             "outlinewidth": 0,
             "ticks": ""
            },
            "colorscale": [
             [
              0,
              "#0d0887"
             ],
             [
              0.1111111111111111,
              "#46039f"
             ],
             [
              0.2222222222222222,
              "#7201a8"
             ],
             [
              0.3333333333333333,
              "#9c179e"
             ],
             [
              0.4444444444444444,
              "#bd3786"
             ],
             [
              0.5555555555555556,
              "#d8576b"
             ],
             [
              0.6666666666666666,
              "#ed7953"
             ],
             [
              0.7777777777777778,
              "#fb9f3a"
             ],
             [
              0.8888888888888888,
              "#fdca26"
             ],
             [
              1,
              "#f0f921"
             ]
            ],
            "type": "histogram2d"
           }
          ],
          "histogram2dcontour": [
           {
            "colorbar": {
             "outlinewidth": 0,
             "ticks": ""
            },
            "colorscale": [
             [
              0,
              "#0d0887"
             ],
             [
              0.1111111111111111,
              "#46039f"
             ],
             [
              0.2222222222222222,
              "#7201a8"
             ],
             [
              0.3333333333333333,
              "#9c179e"
             ],
             [
              0.4444444444444444,
              "#bd3786"
             ],
             [
              0.5555555555555556,
              "#d8576b"
             ],
             [
              0.6666666666666666,
              "#ed7953"
             ],
             [
              0.7777777777777778,
              "#fb9f3a"
             ],
             [
              0.8888888888888888,
              "#fdca26"
             ],
             [
              1,
              "#f0f921"
             ]
            ],
            "type": "histogram2dcontour"
           }
          ],
          "mesh3d": [
           {
            "colorbar": {
             "outlinewidth": 0,
             "ticks": ""
            },
            "type": "mesh3d"
           }
          ],
          "parcoords": [
           {
            "line": {
             "colorbar": {
              "outlinewidth": 0,
              "ticks": ""
             }
            },
            "type": "parcoords"
           }
          ],
          "pie": [
           {
            "automargin": true,
            "type": "pie"
           }
          ],
          "scatter": [
           {
            "fillpattern": {
             "fillmode": "overlay",
             "size": 10,
             "solidity": 0.2
            },
            "type": "scatter"
           }
          ],
          "scatter3d": [
           {
            "line": {
             "colorbar": {
              "outlinewidth": 0,
              "ticks": ""
             }
            },
            "marker": {
             "colorbar": {
              "outlinewidth": 0,
              "ticks": ""
             }
            },
            "type": "scatter3d"
           }
          ],
          "scattercarpet": [
           {
            "marker": {
             "colorbar": {
              "outlinewidth": 0,
              "ticks": ""
             }
            },
            "type": "scattercarpet"
           }
          ],
          "scattergeo": [
           {
            "marker": {
             "colorbar": {
              "outlinewidth": 0,
              "ticks": ""
             }
            },
            "type": "scattergeo"
           }
          ],
          "scattergl": [
           {
            "marker": {
             "colorbar": {
              "outlinewidth": 0,
              "ticks": ""
             }
            },
            "type": "scattergl"
           }
          ],
          "scattermapbox": [
           {
            "marker": {
             "colorbar": {
              "outlinewidth": 0,
              "ticks": ""
             }
            },
            "type": "scattermapbox"
           }
          ],
          "scatterpolar": [
           {
            "marker": {
             "colorbar": {
              "outlinewidth": 0,
              "ticks": ""
             }
            },
            "type": "scatterpolar"
           }
          ],
          "scatterpolargl": [
           {
            "marker": {
             "colorbar": {
              "outlinewidth": 0,
              "ticks": ""
             }
            },
            "type": "scatterpolargl"
           }
          ],
          "scatterternary": [
           {
            "marker": {
             "colorbar": {
              "outlinewidth": 0,
              "ticks": ""
             }
            },
            "type": "scatterternary"
           }
          ],
          "surface": [
           {
            "colorbar": {
             "outlinewidth": 0,
             "ticks": ""
            },
            "colorscale": [
             [
              0,
              "#0d0887"
             ],
             [
              0.1111111111111111,
              "#46039f"
             ],
             [
              0.2222222222222222,
              "#7201a8"
             ],
             [
              0.3333333333333333,
              "#9c179e"
             ],
             [
              0.4444444444444444,
              "#bd3786"
             ],
             [
              0.5555555555555556,
              "#d8576b"
             ],
             [
              0.6666666666666666,
              "#ed7953"
             ],
             [
              0.7777777777777778,
              "#fb9f3a"
             ],
             [
              0.8888888888888888,
              "#fdca26"
             ],
             [
              1,
              "#f0f921"
             ]
            ],
            "type": "surface"
           }
          ],
          "table": [
           {
            "cells": {
             "fill": {
              "color": "#EBF0F8"
             },
             "line": {
              "color": "white"
             }
            },
            "header": {
             "fill": {
              "color": "#C8D4E3"
             },
             "line": {
              "color": "white"
             }
            },
            "type": "table"
           }
          ]
         },
         "layout": {
          "annotationdefaults": {
           "arrowcolor": "#2a3f5f",
           "arrowhead": 0,
           "arrowwidth": 1
          },
          "autotypenumbers": "strict",
          "coloraxis": {
           "colorbar": {
            "outlinewidth": 0,
            "ticks": ""
           }
          },
          "colorscale": {
           "diverging": [
            [
             0,
             "#8e0152"
            ],
            [
             0.1,
             "#c51b7d"
            ],
            [
             0.2,
             "#de77ae"
            ],
            [
             0.3,
             "#f1b6da"
            ],
            [
             0.4,
             "#fde0ef"
            ],
            [
             0.5,
             "#f7f7f7"
            ],
            [
             0.6,
             "#e6f5d0"
            ],
            [
             0.7,
             "#b8e186"
            ],
            [
             0.8,
             "#7fbc41"
            ],
            [
             0.9,
             "#4d9221"
            ],
            [
             1,
             "#276419"
            ]
           ],
           "sequential": [
            [
             0,
             "#0d0887"
            ],
            [
             0.1111111111111111,
             "#46039f"
            ],
            [
             0.2222222222222222,
             "#7201a8"
            ],
            [
             0.3333333333333333,
             "#9c179e"
            ],
            [
             0.4444444444444444,
             "#bd3786"
            ],
            [
             0.5555555555555556,
             "#d8576b"
            ],
            [
             0.6666666666666666,
             "#ed7953"
            ],
            [
             0.7777777777777778,
             "#fb9f3a"
            ],
            [
             0.8888888888888888,
             "#fdca26"
            ],
            [
             1,
             "#f0f921"
            ]
           ],
           "sequentialminus": [
            [
             0,
             "#0d0887"
            ],
            [
             0.1111111111111111,
             "#46039f"
            ],
            [
             0.2222222222222222,
             "#7201a8"
            ],
            [
             0.3333333333333333,
             "#9c179e"
            ],
            [
             0.4444444444444444,
             "#bd3786"
            ],
            [
             0.5555555555555556,
             "#d8576b"
            ],
            [
             0.6666666666666666,
             "#ed7953"
            ],
            [
             0.7777777777777778,
             "#fb9f3a"
            ],
            [
             0.8888888888888888,
             "#fdca26"
            ],
            [
             1,
             "#f0f921"
            ]
           ]
          },
          "colorway": [
           "#636efa",
           "#EF553B",
           "#00cc96",
           "#ab63fa",
           "#FFA15A",
           "#19d3f3",
           "#FF6692",
           "#B6E880",
           "#FF97FF",
           "#FECB52"
          ],
          "font": {
           "color": "#2a3f5f"
          },
          "geo": {
           "bgcolor": "white",
           "lakecolor": "white",
           "landcolor": "#E5ECF6",
           "showlakes": true,
           "showland": true,
           "subunitcolor": "white"
          },
          "hoverlabel": {
           "align": "left"
          },
          "hovermode": "closest",
          "mapbox": {
           "style": "light"
          },
          "paper_bgcolor": "white",
          "plot_bgcolor": "#E5ECF6",
          "polar": {
           "angularaxis": {
            "gridcolor": "white",
            "linecolor": "white",
            "ticks": ""
           },
           "bgcolor": "#E5ECF6",
           "radialaxis": {
            "gridcolor": "white",
            "linecolor": "white",
            "ticks": ""
           }
          },
          "scene": {
           "xaxis": {
            "backgroundcolor": "#E5ECF6",
            "gridcolor": "white",
            "gridwidth": 2,
            "linecolor": "white",
            "showbackground": true,
            "ticks": "",
            "zerolinecolor": "white"
           },
           "yaxis": {
            "backgroundcolor": "#E5ECF6",
            "gridcolor": "white",
            "gridwidth": 2,
            "linecolor": "white",
            "showbackground": true,
            "ticks": "",
            "zerolinecolor": "white"
           },
           "zaxis": {
            "backgroundcolor": "#E5ECF6",
            "gridcolor": "white",
            "gridwidth": 2,
            "linecolor": "white",
            "showbackground": true,
            "ticks": "",
            "zerolinecolor": "white"
           }
          },
          "shapedefaults": {
           "line": {
            "color": "#2a3f5f"
           }
          },
          "ternary": {
           "aaxis": {
            "gridcolor": "white",
            "linecolor": "white",
            "ticks": ""
           },
           "baxis": {
            "gridcolor": "white",
            "linecolor": "white",
            "ticks": ""
           },
           "bgcolor": "#E5ECF6",
           "caxis": {
            "gridcolor": "white",
            "linecolor": "white",
            "ticks": ""
           }
          },
          "title": {
           "x": 0.05
          },
          "xaxis": {
           "automargin": true,
           "gridcolor": "white",
           "linecolor": "white",
           "ticks": "",
           "title": {
            "standoff": 15
           },
           "zerolinecolor": "white",
           "zerolinewidth": 2
          },
          "yaxis": {
           "automargin": true,
           "gridcolor": "white",
           "linecolor": "white",
           "ticks": "",
           "title": {
            "standoff": 15
           },
           "zerolinecolor": "white",
           "zerolinewidth": 2
          }
         }
        },
        "title": {
         "text": "Age Plot"
        },
        "xaxis": {
         "anchor": "y",
         "domain": [
          0,
          1
         ],
         "title": {
          "text": "age_years"
         }
        },
        "yaxis": {
         "anchor": "x",
         "domain": [
          0,
          1
         ],
         "title": {
          "text": "Percent (%)"
         }
        }
       }
      }
     },
     "metadata": {},
     "output_type": "display_data"
    }
   ],
   "source": [
    "fig = px.bar(age_df, x='age_years', y='data_value', \n",
    "             color='locationdesc', \n",
    "             barmode = 'group', \n",
    "             labels={\n",
    "                  \"data_value\": \"Percent (%)\",\n",
    "                  \"yearstart\": \"Year\"\n",
    "              },\n",
    "             title='Age Plot')\n",
    "fig.show()"
   ]
  },
  {
   "cell_type": "code",
   "execution_count": 38,
   "metadata": {},
   "outputs": [
    {
     "data": {
      "text/html": [
       "<div>\n",
       "<style scoped>\n",
       "    .dataframe tbody tr th:only-of-type {\n",
       "        vertical-align: middle;\n",
       "    }\n",
       "\n",
       "    .dataframe tbody tr th {\n",
       "        vertical-align: top;\n",
       "    }\n",
       "\n",
       "    .dataframe thead th {\n",
       "        text-align: right;\n",
       "    }\n",
       "</style>\n",
       "<table border=\"1\" class=\"dataframe\">\n",
       "  <thead>\n",
       "    <tr style=\"text-align: right;\">\n",
       "      <th></th>\n",
       "      <th>yearstart</th>\n",
       "      <th>locationabbr</th>\n",
       "      <th>locationdesc</th>\n",
       "      <th>question</th>\n",
       "      <th>data_value</th>\n",
       "      <th>education</th>\n",
       "    </tr>\n",
       "  </thead>\n",
       "  <tbody>\n",
       "    <tr>\n",
       "      <th>7720</th>\n",
       "      <td>2020</td>\n",
       "      <td>AL</td>\n",
       "      <td>Alabama</td>\n",
       "      <td>Percent of adults aged 18 years and older who ...</td>\n",
       "      <td>36.1</td>\n",
       "      <td>College graduate</td>\n",
       "    </tr>\n",
       "    <tr>\n",
       "      <th>7722</th>\n",
       "      <td>2020</td>\n",
       "      <td>AL</td>\n",
       "      <td>Alabama</td>\n",
       "      <td>Percent of adults aged 18 years and older who ...</td>\n",
       "      <td>40.1</td>\n",
       "      <td>Some college or technical school</td>\n",
       "    </tr>\n",
       "    <tr>\n",
       "      <th>7725</th>\n",
       "      <td>2020</td>\n",
       "      <td>AL</td>\n",
       "      <td>Alabama</td>\n",
       "      <td>Percent of adults aged 18 years and older who ...</td>\n",
       "      <td>40.4</td>\n",
       "      <td>Less than high school</td>\n",
       "    </tr>\n",
       "    <tr>\n",
       "      <th>7729</th>\n",
       "      <td>2020</td>\n",
       "      <td>AL</td>\n",
       "      <td>Alabama</td>\n",
       "      <td>Percent of adults aged 18 years and older who ...</td>\n",
       "      <td>39.6</td>\n",
       "      <td>High school graduate</td>\n",
       "    </tr>\n",
       "    <tr>\n",
       "      <th>8138</th>\n",
       "      <td>2020</td>\n",
       "      <td>CO</td>\n",
       "      <td>Colorado</td>\n",
       "      <td>Percent of adults aged 18 years and older who ...</td>\n",
       "      <td>18.2</td>\n",
       "      <td>College graduate</td>\n",
       "    </tr>\n",
       "    <tr>\n",
       "      <th>8142</th>\n",
       "      <td>2020</td>\n",
       "      <td>CO</td>\n",
       "      <td>Colorado</td>\n",
       "      <td>Percent of adults aged 18 years and older who ...</td>\n",
       "      <td>26.9</td>\n",
       "      <td>Some college or technical school</td>\n",
       "    </tr>\n",
       "    <tr>\n",
       "      <th>8146</th>\n",
       "      <td>2020</td>\n",
       "      <td>CO</td>\n",
       "      <td>Colorado</td>\n",
       "      <td>Percent of adults aged 18 years and older who ...</td>\n",
       "      <td>28.7</td>\n",
       "      <td>Less than high school</td>\n",
       "    </tr>\n",
       "    <tr>\n",
       "      <th>8147</th>\n",
       "      <td>2020</td>\n",
       "      <td>CO</td>\n",
       "      <td>Colorado</td>\n",
       "      <td>Percent of adults aged 18 years and older who ...</td>\n",
       "      <td>28.7</td>\n",
       "      <td>High school graduate</td>\n",
       "    </tr>\n",
       "    <tr>\n",
       "      <th>9566</th>\n",
       "      <td>2020</td>\n",
       "      <td>MA</td>\n",
       "      <td>Massachusetts</td>\n",
       "      <td>Percent of adults aged 18 years and older who ...</td>\n",
       "      <td>20.1</td>\n",
       "      <td>College graduate</td>\n",
       "    </tr>\n",
       "    <tr>\n",
       "      <th>9570</th>\n",
       "      <td>2020</td>\n",
       "      <td>MA</td>\n",
       "      <td>Massachusetts</td>\n",
       "      <td>Percent of adults aged 18 years and older who ...</td>\n",
       "      <td>25.6</td>\n",
       "      <td>Some college or technical school</td>\n",
       "    </tr>\n",
       "  </tbody>\n",
       "</table>\n",
       "</div>"
      ],
      "text/plain": [
       "      yearstart locationabbr   locationdesc  \\\n",
       "7720       2020           AL        Alabama   \n",
       "7722       2020           AL        Alabama   \n",
       "7725       2020           AL        Alabama   \n",
       "7729       2020           AL        Alabama   \n",
       "8138       2020           CO       Colorado   \n",
       "8142       2020           CO       Colorado   \n",
       "8146       2020           CO       Colorado   \n",
       "8147       2020           CO       Colorado   \n",
       "9566       2020           MA  Massachusetts   \n",
       "9570       2020           MA  Massachusetts   \n",
       "\n",
       "                                               question  data_value  \\\n",
       "7720  Percent of adults aged 18 years and older who ...        36.1   \n",
       "7722  Percent of adults aged 18 years and older who ...        40.1   \n",
       "7725  Percent of adults aged 18 years and older who ...        40.4   \n",
       "7729  Percent of adults aged 18 years and older who ...        39.6   \n",
       "8138  Percent of adults aged 18 years and older who ...        18.2   \n",
       "8142  Percent of adults aged 18 years and older who ...        26.9   \n",
       "8146  Percent of adults aged 18 years and older who ...        28.7   \n",
       "8147  Percent of adults aged 18 years and older who ...        28.7   \n",
       "9566  Percent of adults aged 18 years and older who ...        20.1   \n",
       "9570  Percent of adults aged 18 years and older who ...        25.6   \n",
       "\n",
       "                             education  \n",
       "7720                  College graduate  \n",
       "7722  Some college or technical school  \n",
       "7725             Less than high school  \n",
       "7729              High school graduate  \n",
       "8138                  College graduate  \n",
       "8142  Some college or technical school  \n",
       "8146             Less than high school  \n",
       "8147              High school graduate  \n",
       "9566                  College graduate  \n",
       "9570  Some college or technical school  "
      ]
     },
     "execution_count": 38,
     "metadata": {},
     "output_type": "execute_result"
    }
   ],
   "source": [
    "year = '2020'\n",
    "location = 'US|CO|MS|MA|AL'\n",
    "# location = 'MT|CA|NY|AK|HI'\n",
    "question = 'Percent of adults aged 18 years and older who have obesity'\n",
    "\n",
    "education_df = cleaned_DF.copy()\n",
    "    \n",
    "education_df = education_df[education_df[\"yearstart\"] == year]\n",
    "education_df = education_df[education_df[\"locationabbr\"].str.contains(location)]\n",
    "education_df = education_df[education_df[\"question\"] == question]\n",
    "\n",
    "colsToKeep = [\n",
    "    'yearstart',\n",
    "    'locationabbr',\n",
    "    'locationdesc',\n",
    "    'question',\n",
    "    'data_value',\n",
    "    'education'\n",
    "]\n",
    "\n",
    "education_df = education_df[colsToKeep]\n",
    "\n",
    "education_df = education_df[education_df['education'].notna()]\n",
    "\n",
    "education_df[[\"data_value\"]] = education_df[[\"data_value\"]].apply(pd.to_numeric)\n",
    "education_df[[\"yearstart\"]] = education_df[[\"yearstart\"]].apply(pd.to_numeric)\n",
    "    \n",
    "education_df.head(10)"
   ]
  },
  {
   "cell_type": "code",
   "execution_count": 61,
   "metadata": {},
   "outputs": [
    {
     "data": {
      "application/vnd.plotly.v1+json": {
       "config": {
        "plotlyServerURL": "https://plot.ly"
       },
       "data": [
        {
         "alignmentgroup": "True",
         "hovertemplate": "locationdesc=Alabama<br>education=%{x}<br>Percent (%)=%{y}<extra></extra>",
         "legendgroup": "Alabama",
         "marker": {
          "color": "#636efa",
          "pattern": {
           "shape": ""
          }
         },
         "name": "Alabama",
         "offsetgroup": "Alabama",
         "orientation": "v",
         "showlegend": true,
         "textposition": "auto",
         "type": "bar",
         "x": [
          "College graduate",
          "Some college or technical school",
          "Less than high school",
          "High school graduate"
         ],
         "xaxis": "x",
         "y": [
          36.1,
          40.1,
          40.4,
          39.6
         ],
         "yaxis": "y"
        },
        {
         "alignmentgroup": "True",
         "hovertemplate": "locationdesc=Colorado<br>education=%{x}<br>Percent (%)=%{y}<extra></extra>",
         "legendgroup": "Colorado",
         "marker": {
          "color": "#EF553B",
          "pattern": {
           "shape": ""
          }
         },
         "name": "Colorado",
         "offsetgroup": "Colorado",
         "orientation": "v",
         "showlegend": true,
         "textposition": "auto",
         "type": "bar",
         "x": [
          "College graduate",
          "Some college or technical school",
          "Less than high school",
          "High school graduate"
         ],
         "xaxis": "x",
         "y": [
          18.2,
          26.9,
          28.7,
          28.7
         ],
         "yaxis": "y"
        },
        {
         "alignmentgroup": "True",
         "hovertemplate": "locationdesc=Massachusetts<br>education=%{x}<br>Percent (%)=%{y}<extra></extra>",
         "legendgroup": "Massachusetts",
         "marker": {
          "color": "#00cc96",
          "pattern": {
           "shape": ""
          }
         },
         "name": "Massachusetts",
         "offsetgroup": "Massachusetts",
         "orientation": "v",
         "showlegend": true,
         "textposition": "auto",
         "type": "bar",
         "x": [
          "College graduate",
          "Some college or technical school",
          "Less than high school",
          "High school graduate"
         ],
         "xaxis": "x",
         "y": [
          20.1,
          25.6,
          30,
          28.6
         ],
         "yaxis": "y"
        },
        {
         "alignmentgroup": "True",
         "hovertemplate": "locationdesc=Mississippi<br>education=%{x}<br>Percent (%)=%{y}<extra></extra>",
         "legendgroup": "Mississippi",
         "marker": {
          "color": "#ab63fa",
          "pattern": {
           "shape": ""
          }
         },
         "name": "Mississippi",
         "offsetgroup": "Mississippi",
         "orientation": "v",
         "showlegend": true,
         "textposition": "auto",
         "type": "bar",
         "x": [
          "College graduate",
          "Some college or technical school",
          "Less than high school",
          "High school graduate"
         ],
         "xaxis": "x",
         "y": [
          33.2,
          42.2,
          39.1,
          41.4
         ],
         "yaxis": "y"
        },
        {
         "alignmentgroup": "True",
         "hovertemplate": "locationdesc=National<br>education=%{x}<br>Percent (%)=%{y}<extra></extra>",
         "legendgroup": "National",
         "marker": {
          "color": "#FFA15A",
          "pattern": {
           "shape": ""
          }
         },
         "name": "National",
         "offsetgroup": "National",
         "orientation": "v",
         "showlegend": true,
         "textposition": "auto",
         "type": "bar",
         "x": [
          "College graduate",
          "Some college or technical school",
          "Less than high school",
          "High school graduate"
         ],
         "xaxis": "x",
         "y": [
          25,
          34.1,
          38.8,
          34
         ],
         "yaxis": "y"
        }
       ],
       "layout": {
        "barmode": "group",
        "legend": {
         "title": {
          "text": "locationdesc"
         },
         "tracegroupgap": 0
        },
        "template": {
         "data": {
          "bar": [
           {
            "error_x": {
             "color": "#2a3f5f"
            },
            "error_y": {
             "color": "#2a3f5f"
            },
            "marker": {
             "line": {
              "color": "#E5ECF6",
              "width": 0.5
             },
             "pattern": {
              "fillmode": "overlay",
              "size": 10,
              "solidity": 0.2
             }
            },
            "type": "bar"
           }
          ],
          "barpolar": [
           {
            "marker": {
             "line": {
              "color": "#E5ECF6",
              "width": 0.5
             },
             "pattern": {
              "fillmode": "overlay",
              "size": 10,
              "solidity": 0.2
             }
            },
            "type": "barpolar"
           }
          ],
          "carpet": [
           {
            "aaxis": {
             "endlinecolor": "#2a3f5f",
             "gridcolor": "white",
             "linecolor": "white",
             "minorgridcolor": "white",
             "startlinecolor": "#2a3f5f"
            },
            "baxis": {
             "endlinecolor": "#2a3f5f",
             "gridcolor": "white",
             "linecolor": "white",
             "minorgridcolor": "white",
             "startlinecolor": "#2a3f5f"
            },
            "type": "carpet"
           }
          ],
          "choropleth": [
           {
            "colorbar": {
             "outlinewidth": 0,
             "ticks": ""
            },
            "type": "choropleth"
           }
          ],
          "contour": [
           {
            "colorbar": {
             "outlinewidth": 0,
             "ticks": ""
            },
            "colorscale": [
             [
              0,
              "#0d0887"
             ],
             [
              0.1111111111111111,
              "#46039f"
             ],
             [
              0.2222222222222222,
              "#7201a8"
             ],
             [
              0.3333333333333333,
              "#9c179e"
             ],
             [
              0.4444444444444444,
              "#bd3786"
             ],
             [
              0.5555555555555556,
              "#d8576b"
             ],
             [
              0.6666666666666666,
              "#ed7953"
             ],
             [
              0.7777777777777778,
              "#fb9f3a"
             ],
             [
              0.8888888888888888,
              "#fdca26"
             ],
             [
              1,
              "#f0f921"
             ]
            ],
            "type": "contour"
           }
          ],
          "contourcarpet": [
           {
            "colorbar": {
             "outlinewidth": 0,
             "ticks": ""
            },
            "type": "contourcarpet"
           }
          ],
          "heatmap": [
           {
            "colorbar": {
             "outlinewidth": 0,
             "ticks": ""
            },
            "colorscale": [
             [
              0,
              "#0d0887"
             ],
             [
              0.1111111111111111,
              "#46039f"
             ],
             [
              0.2222222222222222,
              "#7201a8"
             ],
             [
              0.3333333333333333,
              "#9c179e"
             ],
             [
              0.4444444444444444,
              "#bd3786"
             ],
             [
              0.5555555555555556,
              "#d8576b"
             ],
             [
              0.6666666666666666,
              "#ed7953"
             ],
             [
              0.7777777777777778,
              "#fb9f3a"
             ],
             [
              0.8888888888888888,
              "#fdca26"
             ],
             [
              1,
              "#f0f921"
             ]
            ],
            "type": "heatmap"
           }
          ],
          "heatmapgl": [
           {
            "colorbar": {
             "outlinewidth": 0,
             "ticks": ""
            },
            "colorscale": [
             [
              0,
              "#0d0887"
             ],
             [
              0.1111111111111111,
              "#46039f"
             ],
             [
              0.2222222222222222,
              "#7201a8"
             ],
             [
              0.3333333333333333,
              "#9c179e"
             ],
             [
              0.4444444444444444,
              "#bd3786"
             ],
             [
              0.5555555555555556,
              "#d8576b"
             ],
             [
              0.6666666666666666,
              "#ed7953"
             ],
             [
              0.7777777777777778,
              "#fb9f3a"
             ],
             [
              0.8888888888888888,
              "#fdca26"
             ],
             [
              1,
              "#f0f921"
             ]
            ],
            "type": "heatmapgl"
           }
          ],
          "histogram": [
           {
            "marker": {
             "pattern": {
              "fillmode": "overlay",
              "size": 10,
              "solidity": 0.2
             }
            },
            "type": "histogram"
           }
          ],
          "histogram2d": [
           {
            "colorbar": {
             "outlinewidth": 0,
             "ticks": ""
            },
            "colorscale": [
             [
              0,
              "#0d0887"
             ],
             [
              0.1111111111111111,
              "#46039f"
             ],
             [
              0.2222222222222222,
              "#7201a8"
             ],
             [
              0.3333333333333333,
              "#9c179e"
             ],
             [
              0.4444444444444444,
              "#bd3786"
             ],
             [
              0.5555555555555556,
              "#d8576b"
             ],
             [
              0.6666666666666666,
              "#ed7953"
             ],
             [
              0.7777777777777778,
              "#fb9f3a"
             ],
             [
              0.8888888888888888,
              "#fdca26"
             ],
             [
              1,
              "#f0f921"
             ]
            ],
            "type": "histogram2d"
           }
          ],
          "histogram2dcontour": [
           {
            "colorbar": {
             "outlinewidth": 0,
             "ticks": ""
            },
            "colorscale": [
             [
              0,
              "#0d0887"
             ],
             [
              0.1111111111111111,
              "#46039f"
             ],
             [
              0.2222222222222222,
              "#7201a8"
             ],
             [
              0.3333333333333333,
              "#9c179e"
             ],
             [
              0.4444444444444444,
              "#bd3786"
             ],
             [
              0.5555555555555556,
              "#d8576b"
             ],
             [
              0.6666666666666666,
              "#ed7953"
             ],
             [
              0.7777777777777778,
              "#fb9f3a"
             ],
             [
              0.8888888888888888,
              "#fdca26"
             ],
             [
              1,
              "#f0f921"
             ]
            ],
            "type": "histogram2dcontour"
           }
          ],
          "mesh3d": [
           {
            "colorbar": {
             "outlinewidth": 0,
             "ticks": ""
            },
            "type": "mesh3d"
           }
          ],
          "parcoords": [
           {
            "line": {
             "colorbar": {
              "outlinewidth": 0,
              "ticks": ""
             }
            },
            "type": "parcoords"
           }
          ],
          "pie": [
           {
            "automargin": true,
            "type": "pie"
           }
          ],
          "scatter": [
           {
            "fillpattern": {
             "fillmode": "overlay",
             "size": 10,
             "solidity": 0.2
            },
            "type": "scatter"
           }
          ],
          "scatter3d": [
           {
            "line": {
             "colorbar": {
              "outlinewidth": 0,
              "ticks": ""
             }
            },
            "marker": {
             "colorbar": {
              "outlinewidth": 0,
              "ticks": ""
             }
            },
            "type": "scatter3d"
           }
          ],
          "scattercarpet": [
           {
            "marker": {
             "colorbar": {
              "outlinewidth": 0,
              "ticks": ""
             }
            },
            "type": "scattercarpet"
           }
          ],
          "scattergeo": [
           {
            "marker": {
             "colorbar": {
              "outlinewidth": 0,
              "ticks": ""
             }
            },
            "type": "scattergeo"
           }
          ],
          "scattergl": [
           {
            "marker": {
             "colorbar": {
              "outlinewidth": 0,
              "ticks": ""
             }
            },
            "type": "scattergl"
           }
          ],
          "scattermapbox": [
           {
            "marker": {
             "colorbar": {
              "outlinewidth": 0,
              "ticks": ""
             }
            },
            "type": "scattermapbox"
           }
          ],
          "scatterpolar": [
           {
            "marker": {
             "colorbar": {
              "outlinewidth": 0,
              "ticks": ""
             }
            },
            "type": "scatterpolar"
           }
          ],
          "scatterpolargl": [
           {
            "marker": {
             "colorbar": {
              "outlinewidth": 0,
              "ticks": ""
             }
            },
            "type": "scatterpolargl"
           }
          ],
          "scatterternary": [
           {
            "marker": {
             "colorbar": {
              "outlinewidth": 0,
              "ticks": ""
             }
            },
            "type": "scatterternary"
           }
          ],
          "surface": [
           {
            "colorbar": {
             "outlinewidth": 0,
             "ticks": ""
            },
            "colorscale": [
             [
              0,
              "#0d0887"
             ],
             [
              0.1111111111111111,
              "#46039f"
             ],
             [
              0.2222222222222222,
              "#7201a8"
             ],
             [
              0.3333333333333333,
              "#9c179e"
             ],
             [
              0.4444444444444444,
              "#bd3786"
             ],
             [
              0.5555555555555556,
              "#d8576b"
             ],
             [
              0.6666666666666666,
              "#ed7953"
             ],
             [
              0.7777777777777778,
              "#fb9f3a"
             ],
             [
              0.8888888888888888,
              "#fdca26"
             ],
             [
              1,
              "#f0f921"
             ]
            ],
            "type": "surface"
           }
          ],
          "table": [
           {
            "cells": {
             "fill": {
              "color": "#EBF0F8"
             },
             "line": {
              "color": "white"
             }
            },
            "header": {
             "fill": {
              "color": "#C8D4E3"
             },
             "line": {
              "color": "white"
             }
            },
            "type": "table"
           }
          ]
         },
         "layout": {
          "annotationdefaults": {
           "arrowcolor": "#2a3f5f",
           "arrowhead": 0,
           "arrowwidth": 1
          },
          "autotypenumbers": "strict",
          "coloraxis": {
           "colorbar": {
            "outlinewidth": 0,
            "ticks": ""
           }
          },
          "colorscale": {
           "diverging": [
            [
             0,
             "#8e0152"
            ],
            [
             0.1,
             "#c51b7d"
            ],
            [
             0.2,
             "#de77ae"
            ],
            [
             0.3,
             "#f1b6da"
            ],
            [
             0.4,
             "#fde0ef"
            ],
            [
             0.5,
             "#f7f7f7"
            ],
            [
             0.6,
             "#e6f5d0"
            ],
            [
             0.7,
             "#b8e186"
            ],
            [
             0.8,
             "#7fbc41"
            ],
            [
             0.9,
             "#4d9221"
            ],
            [
             1,
             "#276419"
            ]
           ],
           "sequential": [
            [
             0,
             "#0d0887"
            ],
            [
             0.1111111111111111,
             "#46039f"
            ],
            [
             0.2222222222222222,
             "#7201a8"
            ],
            [
             0.3333333333333333,
             "#9c179e"
            ],
            [
             0.4444444444444444,
             "#bd3786"
            ],
            [
             0.5555555555555556,
             "#d8576b"
            ],
            [
             0.6666666666666666,
             "#ed7953"
            ],
            [
             0.7777777777777778,
             "#fb9f3a"
            ],
            [
             0.8888888888888888,
             "#fdca26"
            ],
            [
             1,
             "#f0f921"
            ]
           ],
           "sequentialminus": [
            [
             0,
             "#0d0887"
            ],
            [
             0.1111111111111111,
             "#46039f"
            ],
            [
             0.2222222222222222,
             "#7201a8"
            ],
            [
             0.3333333333333333,
             "#9c179e"
            ],
            [
             0.4444444444444444,
             "#bd3786"
            ],
            [
             0.5555555555555556,
             "#d8576b"
            ],
            [
             0.6666666666666666,
             "#ed7953"
            ],
            [
             0.7777777777777778,
             "#fb9f3a"
            ],
            [
             0.8888888888888888,
             "#fdca26"
            ],
            [
             1,
             "#f0f921"
            ]
           ]
          },
          "colorway": [
           "#636efa",
           "#EF553B",
           "#00cc96",
           "#ab63fa",
           "#FFA15A",
           "#19d3f3",
           "#FF6692",
           "#B6E880",
           "#FF97FF",
           "#FECB52"
          ],
          "font": {
           "color": "#2a3f5f"
          },
          "geo": {
           "bgcolor": "white",
           "lakecolor": "white",
           "landcolor": "#E5ECF6",
           "showlakes": true,
           "showland": true,
           "subunitcolor": "white"
          },
          "hoverlabel": {
           "align": "left"
          },
          "hovermode": "closest",
          "mapbox": {
           "style": "light"
          },
          "paper_bgcolor": "white",
          "plot_bgcolor": "#E5ECF6",
          "polar": {
           "angularaxis": {
            "gridcolor": "white",
            "linecolor": "white",
            "ticks": ""
           },
           "bgcolor": "#E5ECF6",
           "radialaxis": {
            "gridcolor": "white",
            "linecolor": "white",
            "ticks": ""
           }
          },
          "scene": {
           "xaxis": {
            "backgroundcolor": "#E5ECF6",
            "gridcolor": "white",
            "gridwidth": 2,
            "linecolor": "white",
            "showbackground": true,
            "ticks": "",
            "zerolinecolor": "white"
           },
           "yaxis": {
            "backgroundcolor": "#E5ECF6",
            "gridcolor": "white",
            "gridwidth": 2,
            "linecolor": "white",
            "showbackground": true,
            "ticks": "",
            "zerolinecolor": "white"
           },
           "zaxis": {
            "backgroundcolor": "#E5ECF6",
            "gridcolor": "white",
            "gridwidth": 2,
            "linecolor": "white",
            "showbackground": true,
            "ticks": "",
            "zerolinecolor": "white"
           }
          },
          "shapedefaults": {
           "line": {
            "color": "#2a3f5f"
           }
          },
          "ternary": {
           "aaxis": {
            "gridcolor": "white",
            "linecolor": "white",
            "ticks": ""
           },
           "baxis": {
            "gridcolor": "white",
            "linecolor": "white",
            "ticks": ""
           },
           "bgcolor": "#E5ECF6",
           "caxis": {
            "gridcolor": "white",
            "linecolor": "white",
            "ticks": ""
           }
          },
          "title": {
           "x": 0.05
          },
          "xaxis": {
           "automargin": true,
           "gridcolor": "white",
           "linecolor": "white",
           "ticks": "",
           "title": {
            "standoff": 15
           },
           "zerolinecolor": "white",
           "zerolinewidth": 2
          },
          "yaxis": {
           "automargin": true,
           "gridcolor": "white",
           "linecolor": "white",
           "ticks": "",
           "title": {
            "standoff": 15
           },
           "zerolinecolor": "white",
           "zerolinewidth": 2
          }
         }
        },
        "title": {
         "text": "Education Plot"
        },
        "xaxis": {
         "anchor": "y",
         "domain": [
          0,
          1
         ],
         "title": {
          "text": "education"
         }
        },
        "yaxis": {
         "anchor": "x",
         "domain": [
          0,
          1
         ],
         "title": {
          "text": "Percent (%)"
         }
        }
       }
      }
     },
     "metadata": {},
     "output_type": "display_data"
    }
   ],
   "source": [
    "fig = px.bar(education_df, x='education', y='data_value', \n",
    "             color='locationdesc', \n",
    "             barmode = 'group', \n",
    "             labels={\n",
    "                  \"data_value\": \"Percent (%)\",\n",
    "                  \"yearstart\": \"Year\"\n",
    "              },\n",
    "             title='Education Plot')\n",
    "fig.show()"
   ]
  },
  {
   "cell_type": "code",
   "execution_count": 40,
   "metadata": {},
   "outputs": [
    {
     "data": {
      "text/html": [
       "<div>\n",
       "<style scoped>\n",
       "    .dataframe tbody tr th:only-of-type {\n",
       "        vertical-align: middle;\n",
       "    }\n",
       "\n",
       "    .dataframe tbody tr th {\n",
       "        vertical-align: top;\n",
       "    }\n",
       "\n",
       "    .dataframe thead th {\n",
       "        text-align: right;\n",
       "    }\n",
       "</style>\n",
       "<table border=\"1\" class=\"dataframe\">\n",
       "  <thead>\n",
       "    <tr style=\"text-align: right;\">\n",
       "      <th></th>\n",
       "      <th>yearstart</th>\n",
       "      <th>locationabbr</th>\n",
       "      <th>locationdesc</th>\n",
       "      <th>question</th>\n",
       "      <th>data_value</th>\n",
       "      <th>gender</th>\n",
       "    </tr>\n",
       "  </thead>\n",
       "  <tbody>\n",
       "    <tr>\n",
       "      <th>7730</th>\n",
       "      <td>2020</td>\n",
       "      <td>AL</td>\n",
       "      <td>Alabama</td>\n",
       "      <td>Percent of adults aged 18 years and older who ...</td>\n",
       "      <td>40.3</td>\n",
       "      <td>Female</td>\n",
       "    </tr>\n",
       "    <tr>\n",
       "      <th>7734</th>\n",
       "      <td>2020</td>\n",
       "      <td>AL</td>\n",
       "      <td>Alabama</td>\n",
       "      <td>Percent of adults aged 18 years and older who ...</td>\n",
       "      <td>37.7</td>\n",
       "      <td>Male</td>\n",
       "    </tr>\n",
       "    <tr>\n",
       "      <th>8150</th>\n",
       "      <td>2020</td>\n",
       "      <td>CO</td>\n",
       "      <td>Colorado</td>\n",
       "      <td>Percent of adults aged 18 years and older who ...</td>\n",
       "      <td>24.1</td>\n",
       "      <td>Female</td>\n",
       "    </tr>\n",
       "    <tr>\n",
       "      <th>8155</th>\n",
       "      <td>2020</td>\n",
       "      <td>CO</td>\n",
       "      <td>Colorado</td>\n",
       "      <td>Percent of adults aged 18 years and older who ...</td>\n",
       "      <td>24.3</td>\n",
       "      <td>Male</td>\n",
       "    </tr>\n",
       "    <tr>\n",
       "      <th>9579</th>\n",
       "      <td>2020</td>\n",
       "      <td>MA</td>\n",
       "      <td>Massachusetts</td>\n",
       "      <td>Percent of adults aged 18 years and older who ...</td>\n",
       "      <td>23.4</td>\n",
       "      <td>Female</td>\n",
       "    </tr>\n",
       "    <tr>\n",
       "      <th>9582</th>\n",
       "      <td>2020</td>\n",
       "      <td>MA</td>\n",
       "      <td>Massachusetts</td>\n",
       "      <td>Percent of adults aged 18 years and older who ...</td>\n",
       "      <td>25.4</td>\n",
       "      <td>Male</td>\n",
       "    </tr>\n",
       "    <tr>\n",
       "      <th>9830</th>\n",
       "      <td>2020</td>\n",
       "      <td>MS</td>\n",
       "      <td>Mississippi</td>\n",
       "      <td>Percent of adults aged 18 years and older who ...</td>\n",
       "      <td>42.8</td>\n",
       "      <td>Female</td>\n",
       "    </tr>\n",
       "    <tr>\n",
       "      <th>9834</th>\n",
       "      <td>2020</td>\n",
       "      <td>MS</td>\n",
       "      <td>Mississippi</td>\n",
       "      <td>Percent of adults aged 18 years and older who ...</td>\n",
       "      <td>36.4</td>\n",
       "      <td>Male</td>\n",
       "    </tr>\n",
       "    <tr>\n",
       "      <th>10083</th>\n",
       "      <td>2020</td>\n",
       "      <td>US</td>\n",
       "      <td>National</td>\n",
       "      <td>Percent of adults aged 18 years and older who ...</td>\n",
       "      <td>32.1</td>\n",
       "      <td>Female</td>\n",
       "    </tr>\n",
       "    <tr>\n",
       "      <th>10086</th>\n",
       "      <td>2020</td>\n",
       "      <td>US</td>\n",
       "      <td>National</td>\n",
       "      <td>Percent of adults aged 18 years and older who ...</td>\n",
       "      <td>31.7</td>\n",
       "      <td>Male</td>\n",
       "    </tr>\n",
       "  </tbody>\n",
       "</table>\n",
       "</div>"
      ],
      "text/plain": [
       "       yearstart locationabbr   locationdesc  \\\n",
       "7730        2020           AL        Alabama   \n",
       "7734        2020           AL        Alabama   \n",
       "8150        2020           CO       Colorado   \n",
       "8155        2020           CO       Colorado   \n",
       "9579        2020           MA  Massachusetts   \n",
       "9582        2020           MA  Massachusetts   \n",
       "9830        2020           MS    Mississippi   \n",
       "9834        2020           MS    Mississippi   \n",
       "10083       2020           US       National   \n",
       "10086       2020           US       National   \n",
       "\n",
       "                                                question  data_value  gender  \n",
       "7730   Percent of adults aged 18 years and older who ...        40.3  Female  \n",
       "7734   Percent of adults aged 18 years and older who ...        37.7    Male  \n",
       "8150   Percent of adults aged 18 years and older who ...        24.1  Female  \n",
       "8155   Percent of adults aged 18 years and older who ...        24.3    Male  \n",
       "9579   Percent of adults aged 18 years and older who ...        23.4  Female  \n",
       "9582   Percent of adults aged 18 years and older who ...        25.4    Male  \n",
       "9830   Percent of adults aged 18 years and older who ...        42.8  Female  \n",
       "9834   Percent of adults aged 18 years and older who ...        36.4    Male  \n",
       "10083  Percent of adults aged 18 years and older who ...        32.1  Female  \n",
       "10086  Percent of adults aged 18 years and older who ...        31.7    Male  "
      ]
     },
     "execution_count": 40,
     "metadata": {},
     "output_type": "execute_result"
    }
   ],
   "source": [
    "year = '2020'\n",
    "location = 'US|CO|MS|MA|AL'\n",
    "# location = 'MT|CA|NY|AK|HI'\n",
    "\n",
    "question = 'Percent of adults aged 18 years and older who have obesity'\n",
    "\n",
    "gender_df = cleaned_DF.copy()\n",
    "    \n",
    "gender_df = gender_df[gender_df[\"yearstart\"] == year]\n",
    "gender_df = gender_df[gender_df[\"locationabbr\"].str.contains(location)]\n",
    "gender_df = gender_df[gender_df[\"question\"] == question]\n",
    "\n",
    "colsToKeep = [\n",
    "    'yearstart',\n",
    "    'locationabbr',\n",
    "    'locationdesc',\n",
    "    'question',\n",
    "    'data_value',\n",
    "    'gender'\n",
    "]\n",
    "\n",
    "gender_df = gender_df[colsToKeep]\n",
    "\n",
    "gender_df = gender_df[gender_df['gender'].notna()]\n",
    "\n",
    "gender_df[[\"data_value\"]] = gender_df[[\"data_value\"]].apply(pd.to_numeric)\n",
    "gender_df[[\"yearstart\"]] = gender_df[[\"yearstart\"]].apply(pd.to_numeric)\n",
    "    \n",
    "gender_df.head(10)"
   ]
  },
  {
   "cell_type": "code",
   "execution_count": 60,
   "metadata": {},
   "outputs": [
    {
     "data": {
      "application/vnd.plotly.v1+json": {
       "config": {
        "plotlyServerURL": "https://plot.ly"
       },
       "data": [
        {
         "alignmentgroup": "True",
         "hovertemplate": "locationdesc=Alabama<br>gender=%{x}<br>Percent (%)=%{y}<extra></extra>",
         "legendgroup": "Alabama",
         "marker": {
          "color": "#636efa",
          "pattern": {
           "shape": ""
          }
         },
         "name": "Alabama",
         "offsetgroup": "Alabama",
         "orientation": "v",
         "showlegend": true,
         "textposition": "auto",
         "type": "bar",
         "x": [
          "Female",
          "Male"
         ],
         "xaxis": "x",
         "y": [
          40.3,
          37.7
         ],
         "yaxis": "y"
        },
        {
         "alignmentgroup": "True",
         "hovertemplate": "locationdesc=Colorado<br>gender=%{x}<br>Percent (%)=%{y}<extra></extra>",
         "legendgroup": "Colorado",
         "marker": {
          "color": "#EF553B",
          "pattern": {
           "shape": ""
          }
         },
         "name": "Colorado",
         "offsetgroup": "Colorado",
         "orientation": "v",
         "showlegend": true,
         "textposition": "auto",
         "type": "bar",
         "x": [
          "Female",
          "Male"
         ],
         "xaxis": "x",
         "y": [
          24.1,
          24.3
         ],
         "yaxis": "y"
        },
        {
         "alignmentgroup": "True",
         "hovertemplate": "locationdesc=Massachusetts<br>gender=%{x}<br>Percent (%)=%{y}<extra></extra>",
         "legendgroup": "Massachusetts",
         "marker": {
          "color": "#00cc96",
          "pattern": {
           "shape": ""
          }
         },
         "name": "Massachusetts",
         "offsetgroup": "Massachusetts",
         "orientation": "v",
         "showlegend": true,
         "textposition": "auto",
         "type": "bar",
         "x": [
          "Female",
          "Male"
         ],
         "xaxis": "x",
         "y": [
          23.4,
          25.4
         ],
         "yaxis": "y"
        },
        {
         "alignmentgroup": "True",
         "hovertemplate": "locationdesc=Mississippi<br>gender=%{x}<br>Percent (%)=%{y}<extra></extra>",
         "legendgroup": "Mississippi",
         "marker": {
          "color": "#ab63fa",
          "pattern": {
           "shape": ""
          }
         },
         "name": "Mississippi",
         "offsetgroup": "Mississippi",
         "orientation": "v",
         "showlegend": true,
         "textposition": "auto",
         "type": "bar",
         "x": [
          "Female",
          "Male"
         ],
         "xaxis": "x",
         "y": [
          42.8,
          36.4
         ],
         "yaxis": "y"
        },
        {
         "alignmentgroup": "True",
         "hovertemplate": "locationdesc=National<br>gender=%{x}<br>Percent (%)=%{y}<extra></extra>",
         "legendgroup": "National",
         "marker": {
          "color": "#FFA15A",
          "pattern": {
           "shape": ""
          }
         },
         "name": "National",
         "offsetgroup": "National",
         "orientation": "v",
         "showlegend": true,
         "textposition": "auto",
         "type": "bar",
         "x": [
          "Female",
          "Male"
         ],
         "xaxis": "x",
         "y": [
          32.1,
          31.7
         ],
         "yaxis": "y"
        }
       ],
       "layout": {
        "barmode": "group",
        "legend": {
         "title": {
          "text": "locationdesc"
         },
         "tracegroupgap": 0
        },
        "template": {
         "data": {
          "bar": [
           {
            "error_x": {
             "color": "#2a3f5f"
            },
            "error_y": {
             "color": "#2a3f5f"
            },
            "marker": {
             "line": {
              "color": "#E5ECF6",
              "width": 0.5
             },
             "pattern": {
              "fillmode": "overlay",
              "size": 10,
              "solidity": 0.2
             }
            },
            "type": "bar"
           }
          ],
          "barpolar": [
           {
            "marker": {
             "line": {
              "color": "#E5ECF6",
              "width": 0.5
             },
             "pattern": {
              "fillmode": "overlay",
              "size": 10,
              "solidity": 0.2
             }
            },
            "type": "barpolar"
           }
          ],
          "carpet": [
           {
            "aaxis": {
             "endlinecolor": "#2a3f5f",
             "gridcolor": "white",
             "linecolor": "white",
             "minorgridcolor": "white",
             "startlinecolor": "#2a3f5f"
            },
            "baxis": {
             "endlinecolor": "#2a3f5f",
             "gridcolor": "white",
             "linecolor": "white",
             "minorgridcolor": "white",
             "startlinecolor": "#2a3f5f"
            },
            "type": "carpet"
           }
          ],
          "choropleth": [
           {
            "colorbar": {
             "outlinewidth": 0,
             "ticks": ""
            },
            "type": "choropleth"
           }
          ],
          "contour": [
           {
            "colorbar": {
             "outlinewidth": 0,
             "ticks": ""
            },
            "colorscale": [
             [
              0,
              "#0d0887"
             ],
             [
              0.1111111111111111,
              "#46039f"
             ],
             [
              0.2222222222222222,
              "#7201a8"
             ],
             [
              0.3333333333333333,
              "#9c179e"
             ],
             [
              0.4444444444444444,
              "#bd3786"
             ],
             [
              0.5555555555555556,
              "#d8576b"
             ],
             [
              0.6666666666666666,
              "#ed7953"
             ],
             [
              0.7777777777777778,
              "#fb9f3a"
             ],
             [
              0.8888888888888888,
              "#fdca26"
             ],
             [
              1,
              "#f0f921"
             ]
            ],
            "type": "contour"
           }
          ],
          "contourcarpet": [
           {
            "colorbar": {
             "outlinewidth": 0,
             "ticks": ""
            },
            "type": "contourcarpet"
           }
          ],
          "heatmap": [
           {
            "colorbar": {
             "outlinewidth": 0,
             "ticks": ""
            },
            "colorscale": [
             [
              0,
              "#0d0887"
             ],
             [
              0.1111111111111111,
              "#46039f"
             ],
             [
              0.2222222222222222,
              "#7201a8"
             ],
             [
              0.3333333333333333,
              "#9c179e"
             ],
             [
              0.4444444444444444,
              "#bd3786"
             ],
             [
              0.5555555555555556,
              "#d8576b"
             ],
             [
              0.6666666666666666,
              "#ed7953"
             ],
             [
              0.7777777777777778,
              "#fb9f3a"
             ],
             [
              0.8888888888888888,
              "#fdca26"
             ],
             [
              1,
              "#f0f921"
             ]
            ],
            "type": "heatmap"
           }
          ],
          "heatmapgl": [
           {
            "colorbar": {
             "outlinewidth": 0,
             "ticks": ""
            },
            "colorscale": [
             [
              0,
              "#0d0887"
             ],
             [
              0.1111111111111111,
              "#46039f"
             ],
             [
              0.2222222222222222,
              "#7201a8"
             ],
             [
              0.3333333333333333,
              "#9c179e"
             ],
             [
              0.4444444444444444,
              "#bd3786"
             ],
             [
              0.5555555555555556,
              "#d8576b"
             ],
             [
              0.6666666666666666,
              "#ed7953"
             ],
             [
              0.7777777777777778,
              "#fb9f3a"
             ],
             [
              0.8888888888888888,
              "#fdca26"
             ],
             [
              1,
              "#f0f921"
             ]
            ],
            "type": "heatmapgl"
           }
          ],
          "histogram": [
           {
            "marker": {
             "pattern": {
              "fillmode": "overlay",
              "size": 10,
              "solidity": 0.2
             }
            },
            "type": "histogram"
           }
          ],
          "histogram2d": [
           {
            "colorbar": {
             "outlinewidth": 0,
             "ticks": ""
            },
            "colorscale": [
             [
              0,
              "#0d0887"
             ],
             [
              0.1111111111111111,
              "#46039f"
             ],
             [
              0.2222222222222222,
              "#7201a8"
             ],
             [
              0.3333333333333333,
              "#9c179e"
             ],
             [
              0.4444444444444444,
              "#bd3786"
             ],
             [
              0.5555555555555556,
              "#d8576b"
             ],
             [
              0.6666666666666666,
              "#ed7953"
             ],
             [
              0.7777777777777778,
              "#fb9f3a"
             ],
             [
              0.8888888888888888,
              "#fdca26"
             ],
             [
              1,
              "#f0f921"
             ]
            ],
            "type": "histogram2d"
           }
          ],
          "histogram2dcontour": [
           {
            "colorbar": {
             "outlinewidth": 0,
             "ticks": ""
            },
            "colorscale": [
             [
              0,
              "#0d0887"
             ],
             [
              0.1111111111111111,
              "#46039f"
             ],
             [
              0.2222222222222222,
              "#7201a8"
             ],
             [
              0.3333333333333333,
              "#9c179e"
             ],
             [
              0.4444444444444444,
              "#bd3786"
             ],
             [
              0.5555555555555556,
              "#d8576b"
             ],
             [
              0.6666666666666666,
              "#ed7953"
             ],
             [
              0.7777777777777778,
              "#fb9f3a"
             ],
             [
              0.8888888888888888,
              "#fdca26"
             ],
             [
              1,
              "#f0f921"
             ]
            ],
            "type": "histogram2dcontour"
           }
          ],
          "mesh3d": [
           {
            "colorbar": {
             "outlinewidth": 0,
             "ticks": ""
            },
            "type": "mesh3d"
           }
          ],
          "parcoords": [
           {
            "line": {
             "colorbar": {
              "outlinewidth": 0,
              "ticks": ""
             }
            },
            "type": "parcoords"
           }
          ],
          "pie": [
           {
            "automargin": true,
            "type": "pie"
           }
          ],
          "scatter": [
           {
            "fillpattern": {
             "fillmode": "overlay",
             "size": 10,
             "solidity": 0.2
            },
            "type": "scatter"
           }
          ],
          "scatter3d": [
           {
            "line": {
             "colorbar": {
              "outlinewidth": 0,
              "ticks": ""
             }
            },
            "marker": {
             "colorbar": {
              "outlinewidth": 0,
              "ticks": ""
             }
            },
            "type": "scatter3d"
           }
          ],
          "scattercarpet": [
           {
            "marker": {
             "colorbar": {
              "outlinewidth": 0,
              "ticks": ""
             }
            },
            "type": "scattercarpet"
           }
          ],
          "scattergeo": [
           {
            "marker": {
             "colorbar": {
              "outlinewidth": 0,
              "ticks": ""
             }
            },
            "type": "scattergeo"
           }
          ],
          "scattergl": [
           {
            "marker": {
             "colorbar": {
              "outlinewidth": 0,
              "ticks": ""
             }
            },
            "type": "scattergl"
           }
          ],
          "scattermapbox": [
           {
            "marker": {
             "colorbar": {
              "outlinewidth": 0,
              "ticks": ""
             }
            },
            "type": "scattermapbox"
           }
          ],
          "scatterpolar": [
           {
            "marker": {
             "colorbar": {
              "outlinewidth": 0,
              "ticks": ""
             }
            },
            "type": "scatterpolar"
           }
          ],
          "scatterpolargl": [
           {
            "marker": {
             "colorbar": {
              "outlinewidth": 0,
              "ticks": ""
             }
            },
            "type": "scatterpolargl"
           }
          ],
          "scatterternary": [
           {
            "marker": {
             "colorbar": {
              "outlinewidth": 0,
              "ticks": ""
             }
            },
            "type": "scatterternary"
           }
          ],
          "surface": [
           {
            "colorbar": {
             "outlinewidth": 0,
             "ticks": ""
            },
            "colorscale": [
             [
              0,
              "#0d0887"
             ],
             [
              0.1111111111111111,
              "#46039f"
             ],
             [
              0.2222222222222222,
              "#7201a8"
             ],
             [
              0.3333333333333333,
              "#9c179e"
             ],
             [
              0.4444444444444444,
              "#bd3786"
             ],
             [
              0.5555555555555556,
              "#d8576b"
             ],
             [
              0.6666666666666666,
              "#ed7953"
             ],
             [
              0.7777777777777778,
              "#fb9f3a"
             ],
             [
              0.8888888888888888,
              "#fdca26"
             ],
             [
              1,
              "#f0f921"
             ]
            ],
            "type": "surface"
           }
          ],
          "table": [
           {
            "cells": {
             "fill": {
              "color": "#EBF0F8"
             },
             "line": {
              "color": "white"
             }
            },
            "header": {
             "fill": {
              "color": "#C8D4E3"
             },
             "line": {
              "color": "white"
             }
            },
            "type": "table"
           }
          ]
         },
         "layout": {
          "annotationdefaults": {
           "arrowcolor": "#2a3f5f",
           "arrowhead": 0,
           "arrowwidth": 1
          },
          "autotypenumbers": "strict",
          "coloraxis": {
           "colorbar": {
            "outlinewidth": 0,
            "ticks": ""
           }
          },
          "colorscale": {
           "diverging": [
            [
             0,
             "#8e0152"
            ],
            [
             0.1,
             "#c51b7d"
            ],
            [
             0.2,
             "#de77ae"
            ],
            [
             0.3,
             "#f1b6da"
            ],
            [
             0.4,
             "#fde0ef"
            ],
            [
             0.5,
             "#f7f7f7"
            ],
            [
             0.6,
             "#e6f5d0"
            ],
            [
             0.7,
             "#b8e186"
            ],
            [
             0.8,
             "#7fbc41"
            ],
            [
             0.9,
             "#4d9221"
            ],
            [
             1,
             "#276419"
            ]
           ],
           "sequential": [
            [
             0,
             "#0d0887"
            ],
            [
             0.1111111111111111,
             "#46039f"
            ],
            [
             0.2222222222222222,
             "#7201a8"
            ],
            [
             0.3333333333333333,
             "#9c179e"
            ],
            [
             0.4444444444444444,
             "#bd3786"
            ],
            [
             0.5555555555555556,
             "#d8576b"
            ],
            [
             0.6666666666666666,
             "#ed7953"
            ],
            [
             0.7777777777777778,
             "#fb9f3a"
            ],
            [
             0.8888888888888888,
             "#fdca26"
            ],
            [
             1,
             "#f0f921"
            ]
           ],
           "sequentialminus": [
            [
             0,
             "#0d0887"
            ],
            [
             0.1111111111111111,
             "#46039f"
            ],
            [
             0.2222222222222222,
             "#7201a8"
            ],
            [
             0.3333333333333333,
             "#9c179e"
            ],
            [
             0.4444444444444444,
             "#bd3786"
            ],
            [
             0.5555555555555556,
             "#d8576b"
            ],
            [
             0.6666666666666666,
             "#ed7953"
            ],
            [
             0.7777777777777778,
             "#fb9f3a"
            ],
            [
             0.8888888888888888,
             "#fdca26"
            ],
            [
             1,
             "#f0f921"
            ]
           ]
          },
          "colorway": [
           "#636efa",
           "#EF553B",
           "#00cc96",
           "#ab63fa",
           "#FFA15A",
           "#19d3f3",
           "#FF6692",
           "#B6E880",
           "#FF97FF",
           "#FECB52"
          ],
          "font": {
           "color": "#2a3f5f"
          },
          "geo": {
           "bgcolor": "white",
           "lakecolor": "white",
           "landcolor": "#E5ECF6",
           "showlakes": true,
           "showland": true,
           "subunitcolor": "white"
          },
          "hoverlabel": {
           "align": "left"
          },
          "hovermode": "closest",
          "mapbox": {
           "style": "light"
          },
          "paper_bgcolor": "white",
          "plot_bgcolor": "#E5ECF6",
          "polar": {
           "angularaxis": {
            "gridcolor": "white",
            "linecolor": "white",
            "ticks": ""
           },
           "bgcolor": "#E5ECF6",
           "radialaxis": {
            "gridcolor": "white",
            "linecolor": "white",
            "ticks": ""
           }
          },
          "scene": {
           "xaxis": {
            "backgroundcolor": "#E5ECF6",
            "gridcolor": "white",
            "gridwidth": 2,
            "linecolor": "white",
            "showbackground": true,
            "ticks": "",
            "zerolinecolor": "white"
           },
           "yaxis": {
            "backgroundcolor": "#E5ECF6",
            "gridcolor": "white",
            "gridwidth": 2,
            "linecolor": "white",
            "showbackground": true,
            "ticks": "",
            "zerolinecolor": "white"
           },
           "zaxis": {
            "backgroundcolor": "#E5ECF6",
            "gridcolor": "white",
            "gridwidth": 2,
            "linecolor": "white",
            "showbackground": true,
            "ticks": "",
            "zerolinecolor": "white"
           }
          },
          "shapedefaults": {
           "line": {
            "color": "#2a3f5f"
           }
          },
          "ternary": {
           "aaxis": {
            "gridcolor": "white",
            "linecolor": "white",
            "ticks": ""
           },
           "baxis": {
            "gridcolor": "white",
            "linecolor": "white",
            "ticks": ""
           },
           "bgcolor": "#E5ECF6",
           "caxis": {
            "gridcolor": "white",
            "linecolor": "white",
            "ticks": ""
           }
          },
          "title": {
           "x": 0.05
          },
          "xaxis": {
           "automargin": true,
           "gridcolor": "white",
           "linecolor": "white",
           "ticks": "",
           "title": {
            "standoff": 15
           },
           "zerolinecolor": "white",
           "zerolinewidth": 2
          },
          "yaxis": {
           "automargin": true,
           "gridcolor": "white",
           "linecolor": "white",
           "ticks": "",
           "title": {
            "standoff": 15
           },
           "zerolinecolor": "white",
           "zerolinewidth": 2
          }
         }
        },
        "title": {
         "text": "Gender Plot"
        },
        "xaxis": {
         "anchor": "y",
         "domain": [
          0,
          1
         ],
         "title": {
          "text": "gender"
         }
        },
        "yaxis": {
         "anchor": "x",
         "domain": [
          0,
          1
         ],
         "title": {
          "text": "Percent (%)"
         }
        }
       }
      }
     },
     "metadata": {},
     "output_type": "display_data"
    }
   ],
   "source": [
    "fig = px.bar(gender_df, x='gender', y='data_value', \n",
    "             color='locationdesc', \n",
    "             barmode = 'group', \n",
    "             labels={\n",
    "                  \"data_value\": \"Percent (%)\",\n",
    "                  \"yearstart\": \"Year\"\n",
    "              },\n",
    "             title='Gender Plot')\n",
    "fig.show()"
   ]
  },
  {
   "cell_type": "code",
   "execution_count": 42,
   "metadata": {},
   "outputs": [
    {
     "data": {
      "text/html": [
       "<div>\n",
       "<style scoped>\n",
       "    .dataframe tbody tr th:only-of-type {\n",
       "        vertical-align: middle;\n",
       "    }\n",
       "\n",
       "    .dataframe tbody tr th {\n",
       "        vertical-align: top;\n",
       "    }\n",
       "\n",
       "    .dataframe thead th {\n",
       "        text-align: right;\n",
       "    }\n",
       "</style>\n",
       "<table border=\"1\" class=\"dataframe\">\n",
       "  <thead>\n",
       "    <tr style=\"text-align: right;\">\n",
       "      <th></th>\n",
       "      <th>yearstart</th>\n",
       "      <th>locationabbr</th>\n",
       "      <th>locationdesc</th>\n",
       "      <th>question</th>\n",
       "      <th>data_value</th>\n",
       "      <th>income</th>\n",
       "    </tr>\n",
       "  </thead>\n",
       "  <tbody>\n",
       "    <tr>\n",
       "      <th>7736</th>\n",
       "      <td>2020</td>\n",
       "      <td>AL</td>\n",
       "      <td>Alabama</td>\n",
       "      <td>Percent of adults aged 18 years and older who ...</td>\n",
       "      <td>41.6</td>\n",
       "      <td>$15,000 - $24,999</td>\n",
       "    </tr>\n",
       "    <tr>\n",
       "      <th>7741</th>\n",
       "      <td>2020</td>\n",
       "      <td>AL</td>\n",
       "      <td>Alabama</td>\n",
       "      <td>Percent of adults aged 18 years and older who ...</td>\n",
       "      <td>43.4</td>\n",
       "      <td>$25,000 - $34,999</td>\n",
       "    </tr>\n",
       "    <tr>\n",
       "      <th>7743</th>\n",
       "      <td>2020</td>\n",
       "      <td>AL</td>\n",
       "      <td>Alabama</td>\n",
       "      <td>Percent of adults aged 18 years and older who ...</td>\n",
       "      <td>44.3</td>\n",
       "      <td>$35,000 - $49,999</td>\n",
       "    </tr>\n",
       "    <tr>\n",
       "      <th>7745</th>\n",
       "      <td>2020</td>\n",
       "      <td>AL</td>\n",
       "      <td>Alabama</td>\n",
       "      <td>Percent of adults aged 18 years and older who ...</td>\n",
       "      <td>39.8</td>\n",
       "      <td>$50,000 - $74,999</td>\n",
       "    </tr>\n",
       "    <tr>\n",
       "      <th>7748</th>\n",
       "      <td>2020</td>\n",
       "      <td>AL</td>\n",
       "      <td>Alabama</td>\n",
       "      <td>Percent of adults aged 18 years and older who ...</td>\n",
       "      <td>35.2</td>\n",
       "      <td>$75,000 or greater</td>\n",
       "    </tr>\n",
       "    <tr>\n",
       "      <th>7751</th>\n",
       "      <td>2020</td>\n",
       "      <td>AL</td>\n",
       "      <td>Alabama</td>\n",
       "      <td>Percent of adults aged 18 years and older who ...</td>\n",
       "      <td>44.0</td>\n",
       "      <td>Less than $15,000</td>\n",
       "    </tr>\n",
       "    <tr>\n",
       "      <th>7754</th>\n",
       "      <td>2020</td>\n",
       "      <td>AL</td>\n",
       "      <td>Alabama</td>\n",
       "      <td>Percent of adults aged 18 years and older who ...</td>\n",
       "      <td>33.4</td>\n",
       "      <td>Data not reported</td>\n",
       "    </tr>\n",
       "    <tr>\n",
       "      <th>8156</th>\n",
       "      <td>2020</td>\n",
       "      <td>CO</td>\n",
       "      <td>Colorado</td>\n",
       "      <td>Percent of adults aged 18 years and older who ...</td>\n",
       "      <td>29.5</td>\n",
       "      <td>$15,000 - $24,999</td>\n",
       "    </tr>\n",
       "    <tr>\n",
       "      <th>8160</th>\n",
       "      <td>2020</td>\n",
       "      <td>CO</td>\n",
       "      <td>Colorado</td>\n",
       "      <td>Percent of adults aged 18 years and older who ...</td>\n",
       "      <td>24.9</td>\n",
       "      <td>$25,000 - $34,999</td>\n",
       "    </tr>\n",
       "    <tr>\n",
       "      <th>8164</th>\n",
       "      <td>2020</td>\n",
       "      <td>CO</td>\n",
       "      <td>Colorado</td>\n",
       "      <td>Percent of adults aged 18 years and older who ...</td>\n",
       "      <td>26.0</td>\n",
       "      <td>$35,000 - $49,999</td>\n",
       "    </tr>\n",
       "  </tbody>\n",
       "</table>\n",
       "</div>"
      ],
      "text/plain": [
       "      yearstart locationabbr locationdesc  \\\n",
       "7736       2020           AL      Alabama   \n",
       "7741       2020           AL      Alabama   \n",
       "7743       2020           AL      Alabama   \n",
       "7745       2020           AL      Alabama   \n",
       "7748       2020           AL      Alabama   \n",
       "7751       2020           AL      Alabama   \n",
       "7754       2020           AL      Alabama   \n",
       "8156       2020           CO     Colorado   \n",
       "8160       2020           CO     Colorado   \n",
       "8164       2020           CO     Colorado   \n",
       "\n",
       "                                               question  data_value  \\\n",
       "7736  Percent of adults aged 18 years and older who ...        41.6   \n",
       "7741  Percent of adults aged 18 years and older who ...        43.4   \n",
       "7743  Percent of adults aged 18 years and older who ...        44.3   \n",
       "7745  Percent of adults aged 18 years and older who ...        39.8   \n",
       "7748  Percent of adults aged 18 years and older who ...        35.2   \n",
       "7751  Percent of adults aged 18 years and older who ...        44.0   \n",
       "7754  Percent of adults aged 18 years and older who ...        33.4   \n",
       "8156  Percent of adults aged 18 years and older who ...        29.5   \n",
       "8160  Percent of adults aged 18 years and older who ...        24.9   \n",
       "8164  Percent of adults aged 18 years and older who ...        26.0   \n",
       "\n",
       "                  income  \n",
       "7736   $15,000 - $24,999  \n",
       "7741   $25,000 - $34,999  \n",
       "7743   $35,000 - $49,999  \n",
       "7745   $50,000 - $74,999  \n",
       "7748  $75,000 or greater  \n",
       "7751   Less than $15,000  \n",
       "7754   Data not reported  \n",
       "8156   $15,000 - $24,999  \n",
       "8160   $25,000 - $34,999  \n",
       "8164   $35,000 - $49,999  "
      ]
     },
     "execution_count": 42,
     "metadata": {},
     "output_type": "execute_result"
    }
   ],
   "source": [
    "year = '2020'\n",
    "location = 'US|CO|MS|MA|AL'\n",
    "# location = 'MT|CA|NY|AK|HI'\n",
    "question = 'Percent of adults aged 18 years and older who have obesity'\n",
    "\n",
    "income_df = cleaned_DF.copy()\n",
    "    \n",
    "income_df = income_df[income_df[\"yearstart\"] == year]\n",
    "income_df = income_df[income_df[\"locationabbr\"].str.contains(location)]\n",
    "income_df = income_df[income_df[\"question\"] == question]\n",
    "\n",
    "colsToKeep = [\n",
    "    'yearstart',\n",
    "    'locationabbr',\n",
    "    'locationdesc',\n",
    "    'question',\n",
    "    'data_value',\n",
    "    'income'\n",
    "]\n",
    "\n",
    "income_df = income_df[colsToKeep]\n",
    "\n",
    "income_df = income_df[income_df['income'].notna()]\n",
    "\n",
    "income_df[[\"data_value\"]] = income_df[[\"data_value\"]].apply(pd.to_numeric)\n",
    "income_df[[\"yearstart\"]] = income_df[[\"yearstart\"]].apply(pd.to_numeric)\n",
    "    \n",
    "income_df.head(10)"
   ]
  },
  {
   "cell_type": "code",
   "execution_count": 59,
   "metadata": {},
   "outputs": [
    {
     "data": {
      "application/vnd.plotly.v1+json": {
       "config": {
        "plotlyServerURL": "https://plot.ly"
       },
       "data": [
        {
         "alignmentgroup": "True",
         "hovertemplate": "locationdesc=Alabama<br>income=%{x}<br>Percent (%)=%{y}<extra></extra>",
         "legendgroup": "Alabama",
         "marker": {
          "color": "#636efa",
          "pattern": {
           "shape": ""
          }
         },
         "name": "Alabama",
         "offsetgroup": "Alabama",
         "orientation": "v",
         "showlegend": true,
         "textposition": "auto",
         "type": "bar",
         "x": [
          "$15,000 - $24,999",
          "$25,000 - $34,999",
          "$35,000 - $49,999",
          "$50,000 - $74,999",
          "$75,000 or greater",
          "Less than $15,000",
          "Data not reported"
         ],
         "xaxis": "x",
         "y": [
          41.6,
          43.4,
          44.3,
          39.8,
          35.2,
          44,
          33.4
         ],
         "yaxis": "y"
        },
        {
         "alignmentgroup": "True",
         "hovertemplate": "locationdesc=Colorado<br>income=%{x}<br>Percent (%)=%{y}<extra></extra>",
         "legendgroup": "Colorado",
         "marker": {
          "color": "#EF553B",
          "pattern": {
           "shape": ""
          }
         },
         "name": "Colorado",
         "offsetgroup": "Colorado",
         "orientation": "v",
         "showlegend": true,
         "textposition": "auto",
         "type": "bar",
         "x": [
          "$15,000 - $24,999",
          "$25,000 - $34,999",
          "$35,000 - $49,999",
          "$50,000 - $74,999",
          "$75,000 or greater",
          "Less than $15,000",
          "Data not reported"
         ],
         "xaxis": "x",
         "y": [
          29.5,
          24.9,
          26,
          25.9,
          21.6,
          32.2,
          21.5
         ],
         "yaxis": "y"
        },
        {
         "alignmentgroup": "True",
         "hovertemplate": "locationdesc=Massachusetts<br>income=%{x}<br>Percent (%)=%{y}<extra></extra>",
         "legendgroup": "Massachusetts",
         "marker": {
          "color": "#00cc96",
          "pattern": {
           "shape": ""
          }
         },
         "name": "Massachusetts",
         "offsetgroup": "Massachusetts",
         "orientation": "v",
         "showlegend": true,
         "textposition": "auto",
         "type": "bar",
         "x": [
          "$15,000 - $24,999",
          "$25,000 - $34,999",
          "$35,000 - $49,999",
          "$50,000 - $74,999",
          "$75,000 or greater",
          "Less than $15,000",
          "Data not reported"
         ],
         "xaxis": "x",
         "y": [
          28.8,
          24.8,
          26.1,
          29.3,
          23.5,
          25.9,
          21
         ],
         "yaxis": "y"
        },
        {
         "alignmentgroup": "True",
         "hovertemplate": "locationdesc=Mississippi<br>income=%{x}<br>Percent (%)=%{y}<extra></extra>",
         "legendgroup": "Mississippi",
         "marker": {
          "color": "#ab63fa",
          "pattern": {
           "shape": ""
          }
         },
         "name": "Mississippi",
         "offsetgroup": "Mississippi",
         "orientation": "v",
         "showlegend": true,
         "textposition": "auto",
         "type": "bar",
         "x": [
          "$15,000 - $24,999",
          "$25,000 - $34,999",
          "$35,000 - $49,999",
          "$50,000 - $74,999",
          "$75,000 or greater",
          "Less than $15,000",
          "Data not reported"
         ],
         "xaxis": "x",
         "y": [
          42.1,
          46.4,
          38.4,
          41.7,
          35.5,
          44.9,
          35.9
         ],
         "yaxis": "y"
        },
        {
         "alignmentgroup": "True",
         "hovertemplate": "locationdesc=National<br>income=%{x}<br>Percent (%)=%{y}<extra></extra>",
         "legendgroup": "National",
         "marker": {
          "color": "#FFA15A",
          "pattern": {
           "shape": ""
          }
         },
         "name": "National",
         "offsetgroup": "National",
         "orientation": "v",
         "showlegend": true,
         "textposition": "auto",
         "type": "bar",
         "x": [
          "$15,000 - $24,999",
          "$25,000 - $34,999",
          "$35,000 - $49,999",
          "$50,000 - $74,999",
          "$75,000 or greater",
          "Less than $15,000",
          "Data not reported"
         ],
         "xaxis": "x",
         "y": [
          36.1,
          35.1,
          34.3,
          34,
          29,
          37.9,
          27.1
         ],
         "yaxis": "y"
        }
       ],
       "layout": {
        "barmode": "group",
        "legend": {
         "title": {
          "text": "locationdesc"
         },
         "tracegroupgap": 0
        },
        "template": {
         "data": {
          "bar": [
           {
            "error_x": {
             "color": "#2a3f5f"
            },
            "error_y": {
             "color": "#2a3f5f"
            },
            "marker": {
             "line": {
              "color": "#E5ECF6",
              "width": 0.5
             },
             "pattern": {
              "fillmode": "overlay",
              "size": 10,
              "solidity": 0.2
             }
            },
            "type": "bar"
           }
          ],
          "barpolar": [
           {
            "marker": {
             "line": {
              "color": "#E5ECF6",
              "width": 0.5
             },
             "pattern": {
              "fillmode": "overlay",
              "size": 10,
              "solidity": 0.2
             }
            },
            "type": "barpolar"
           }
          ],
          "carpet": [
           {
            "aaxis": {
             "endlinecolor": "#2a3f5f",
             "gridcolor": "white",
             "linecolor": "white",
             "minorgridcolor": "white",
             "startlinecolor": "#2a3f5f"
            },
            "baxis": {
             "endlinecolor": "#2a3f5f",
             "gridcolor": "white",
             "linecolor": "white",
             "minorgridcolor": "white",
             "startlinecolor": "#2a3f5f"
            },
            "type": "carpet"
           }
          ],
          "choropleth": [
           {
            "colorbar": {
             "outlinewidth": 0,
             "ticks": ""
            },
            "type": "choropleth"
           }
          ],
          "contour": [
           {
            "colorbar": {
             "outlinewidth": 0,
             "ticks": ""
            },
            "colorscale": [
             [
              0,
              "#0d0887"
             ],
             [
              0.1111111111111111,
              "#46039f"
             ],
             [
              0.2222222222222222,
              "#7201a8"
             ],
             [
              0.3333333333333333,
              "#9c179e"
             ],
             [
              0.4444444444444444,
              "#bd3786"
             ],
             [
              0.5555555555555556,
              "#d8576b"
             ],
             [
              0.6666666666666666,
              "#ed7953"
             ],
             [
              0.7777777777777778,
              "#fb9f3a"
             ],
             [
              0.8888888888888888,
              "#fdca26"
             ],
             [
              1,
              "#f0f921"
             ]
            ],
            "type": "contour"
           }
          ],
          "contourcarpet": [
           {
            "colorbar": {
             "outlinewidth": 0,
             "ticks": ""
            },
            "type": "contourcarpet"
           }
          ],
          "heatmap": [
           {
            "colorbar": {
             "outlinewidth": 0,
             "ticks": ""
            },
            "colorscale": [
             [
              0,
              "#0d0887"
             ],
             [
              0.1111111111111111,
              "#46039f"
             ],
             [
              0.2222222222222222,
              "#7201a8"
             ],
             [
              0.3333333333333333,
              "#9c179e"
             ],
             [
              0.4444444444444444,
              "#bd3786"
             ],
             [
              0.5555555555555556,
              "#d8576b"
             ],
             [
              0.6666666666666666,
              "#ed7953"
             ],
             [
              0.7777777777777778,
              "#fb9f3a"
             ],
             [
              0.8888888888888888,
              "#fdca26"
             ],
             [
              1,
              "#f0f921"
             ]
            ],
            "type": "heatmap"
           }
          ],
          "heatmapgl": [
           {
            "colorbar": {
             "outlinewidth": 0,
             "ticks": ""
            },
            "colorscale": [
             [
              0,
              "#0d0887"
             ],
             [
              0.1111111111111111,
              "#46039f"
             ],
             [
              0.2222222222222222,
              "#7201a8"
             ],
             [
              0.3333333333333333,
              "#9c179e"
             ],
             [
              0.4444444444444444,
              "#bd3786"
             ],
             [
              0.5555555555555556,
              "#d8576b"
             ],
             [
              0.6666666666666666,
              "#ed7953"
             ],
             [
              0.7777777777777778,
              "#fb9f3a"
             ],
             [
              0.8888888888888888,
              "#fdca26"
             ],
             [
              1,
              "#f0f921"
             ]
            ],
            "type": "heatmapgl"
           }
          ],
          "histogram": [
           {
            "marker": {
             "pattern": {
              "fillmode": "overlay",
              "size": 10,
              "solidity": 0.2
             }
            },
            "type": "histogram"
           }
          ],
          "histogram2d": [
           {
            "colorbar": {
             "outlinewidth": 0,
             "ticks": ""
            },
            "colorscale": [
             [
              0,
              "#0d0887"
             ],
             [
              0.1111111111111111,
              "#46039f"
             ],
             [
              0.2222222222222222,
              "#7201a8"
             ],
             [
              0.3333333333333333,
              "#9c179e"
             ],
             [
              0.4444444444444444,
              "#bd3786"
             ],
             [
              0.5555555555555556,
              "#d8576b"
             ],
             [
              0.6666666666666666,
              "#ed7953"
             ],
             [
              0.7777777777777778,
              "#fb9f3a"
             ],
             [
              0.8888888888888888,
              "#fdca26"
             ],
             [
              1,
              "#f0f921"
             ]
            ],
            "type": "histogram2d"
           }
          ],
          "histogram2dcontour": [
           {
            "colorbar": {
             "outlinewidth": 0,
             "ticks": ""
            },
            "colorscale": [
             [
              0,
              "#0d0887"
             ],
             [
              0.1111111111111111,
              "#46039f"
             ],
             [
              0.2222222222222222,
              "#7201a8"
             ],
             [
              0.3333333333333333,
              "#9c179e"
             ],
             [
              0.4444444444444444,
              "#bd3786"
             ],
             [
              0.5555555555555556,
              "#d8576b"
             ],
             [
              0.6666666666666666,
              "#ed7953"
             ],
             [
              0.7777777777777778,
              "#fb9f3a"
             ],
             [
              0.8888888888888888,
              "#fdca26"
             ],
             [
              1,
              "#f0f921"
             ]
            ],
            "type": "histogram2dcontour"
           }
          ],
          "mesh3d": [
           {
            "colorbar": {
             "outlinewidth": 0,
             "ticks": ""
            },
            "type": "mesh3d"
           }
          ],
          "parcoords": [
           {
            "line": {
             "colorbar": {
              "outlinewidth": 0,
              "ticks": ""
             }
            },
            "type": "parcoords"
           }
          ],
          "pie": [
           {
            "automargin": true,
            "type": "pie"
           }
          ],
          "scatter": [
           {
            "fillpattern": {
             "fillmode": "overlay",
             "size": 10,
             "solidity": 0.2
            },
            "type": "scatter"
           }
          ],
          "scatter3d": [
           {
            "line": {
             "colorbar": {
              "outlinewidth": 0,
              "ticks": ""
             }
            },
            "marker": {
             "colorbar": {
              "outlinewidth": 0,
              "ticks": ""
             }
            },
            "type": "scatter3d"
           }
          ],
          "scattercarpet": [
           {
            "marker": {
             "colorbar": {
              "outlinewidth": 0,
              "ticks": ""
             }
            },
            "type": "scattercarpet"
           }
          ],
          "scattergeo": [
           {
            "marker": {
             "colorbar": {
              "outlinewidth": 0,
              "ticks": ""
             }
            },
            "type": "scattergeo"
           }
          ],
          "scattergl": [
           {
            "marker": {
             "colorbar": {
              "outlinewidth": 0,
              "ticks": ""
             }
            },
            "type": "scattergl"
           }
          ],
          "scattermapbox": [
           {
            "marker": {
             "colorbar": {
              "outlinewidth": 0,
              "ticks": ""
             }
            },
            "type": "scattermapbox"
           }
          ],
          "scatterpolar": [
           {
            "marker": {
             "colorbar": {
              "outlinewidth": 0,
              "ticks": ""
             }
            },
            "type": "scatterpolar"
           }
          ],
          "scatterpolargl": [
           {
            "marker": {
             "colorbar": {
              "outlinewidth": 0,
              "ticks": ""
             }
            },
            "type": "scatterpolargl"
           }
          ],
          "scatterternary": [
           {
            "marker": {
             "colorbar": {
              "outlinewidth": 0,
              "ticks": ""
             }
            },
            "type": "scatterternary"
           }
          ],
          "surface": [
           {
            "colorbar": {
             "outlinewidth": 0,
             "ticks": ""
            },
            "colorscale": [
             [
              0,
              "#0d0887"
             ],
             [
              0.1111111111111111,
              "#46039f"
             ],
             [
              0.2222222222222222,
              "#7201a8"
             ],
             [
              0.3333333333333333,
              "#9c179e"
             ],
             [
              0.4444444444444444,
              "#bd3786"
             ],
             [
              0.5555555555555556,
              "#d8576b"
             ],
             [
              0.6666666666666666,
              "#ed7953"
             ],
             [
              0.7777777777777778,
              "#fb9f3a"
             ],
             [
              0.8888888888888888,
              "#fdca26"
             ],
             [
              1,
              "#f0f921"
             ]
            ],
            "type": "surface"
           }
          ],
          "table": [
           {
            "cells": {
             "fill": {
              "color": "#EBF0F8"
             },
             "line": {
              "color": "white"
             }
            },
            "header": {
             "fill": {
              "color": "#C8D4E3"
             },
             "line": {
              "color": "white"
             }
            },
            "type": "table"
           }
          ]
         },
         "layout": {
          "annotationdefaults": {
           "arrowcolor": "#2a3f5f",
           "arrowhead": 0,
           "arrowwidth": 1
          },
          "autotypenumbers": "strict",
          "coloraxis": {
           "colorbar": {
            "outlinewidth": 0,
            "ticks": ""
           }
          },
          "colorscale": {
           "diverging": [
            [
             0,
             "#8e0152"
            ],
            [
             0.1,
             "#c51b7d"
            ],
            [
             0.2,
             "#de77ae"
            ],
            [
             0.3,
             "#f1b6da"
            ],
            [
             0.4,
             "#fde0ef"
            ],
            [
             0.5,
             "#f7f7f7"
            ],
            [
             0.6,
             "#e6f5d0"
            ],
            [
             0.7,
             "#b8e186"
            ],
            [
             0.8,
             "#7fbc41"
            ],
            [
             0.9,
             "#4d9221"
            ],
            [
             1,
             "#276419"
            ]
           ],
           "sequential": [
            [
             0,
             "#0d0887"
            ],
            [
             0.1111111111111111,
             "#46039f"
            ],
            [
             0.2222222222222222,
             "#7201a8"
            ],
            [
             0.3333333333333333,
             "#9c179e"
            ],
            [
             0.4444444444444444,
             "#bd3786"
            ],
            [
             0.5555555555555556,
             "#d8576b"
            ],
            [
             0.6666666666666666,
             "#ed7953"
            ],
            [
             0.7777777777777778,
             "#fb9f3a"
            ],
            [
             0.8888888888888888,
             "#fdca26"
            ],
            [
             1,
             "#f0f921"
            ]
           ],
           "sequentialminus": [
            [
             0,
             "#0d0887"
            ],
            [
             0.1111111111111111,
             "#46039f"
            ],
            [
             0.2222222222222222,
             "#7201a8"
            ],
            [
             0.3333333333333333,
             "#9c179e"
            ],
            [
             0.4444444444444444,
             "#bd3786"
            ],
            [
             0.5555555555555556,
             "#d8576b"
            ],
            [
             0.6666666666666666,
             "#ed7953"
            ],
            [
             0.7777777777777778,
             "#fb9f3a"
            ],
            [
             0.8888888888888888,
             "#fdca26"
            ],
            [
             1,
             "#f0f921"
            ]
           ]
          },
          "colorway": [
           "#636efa",
           "#EF553B",
           "#00cc96",
           "#ab63fa",
           "#FFA15A",
           "#19d3f3",
           "#FF6692",
           "#B6E880",
           "#FF97FF",
           "#FECB52"
          ],
          "font": {
           "color": "#2a3f5f"
          },
          "geo": {
           "bgcolor": "white",
           "lakecolor": "white",
           "landcolor": "#E5ECF6",
           "showlakes": true,
           "showland": true,
           "subunitcolor": "white"
          },
          "hoverlabel": {
           "align": "left"
          },
          "hovermode": "closest",
          "mapbox": {
           "style": "light"
          },
          "paper_bgcolor": "white",
          "plot_bgcolor": "#E5ECF6",
          "polar": {
           "angularaxis": {
            "gridcolor": "white",
            "linecolor": "white",
            "ticks": ""
           },
           "bgcolor": "#E5ECF6",
           "radialaxis": {
            "gridcolor": "white",
            "linecolor": "white",
            "ticks": ""
           }
          },
          "scene": {
           "xaxis": {
            "backgroundcolor": "#E5ECF6",
            "gridcolor": "white",
            "gridwidth": 2,
            "linecolor": "white",
            "showbackground": true,
            "ticks": "",
            "zerolinecolor": "white"
           },
           "yaxis": {
            "backgroundcolor": "#E5ECF6",
            "gridcolor": "white",
            "gridwidth": 2,
            "linecolor": "white",
            "showbackground": true,
            "ticks": "",
            "zerolinecolor": "white"
           },
           "zaxis": {
            "backgroundcolor": "#E5ECF6",
            "gridcolor": "white",
            "gridwidth": 2,
            "linecolor": "white",
            "showbackground": true,
            "ticks": "",
            "zerolinecolor": "white"
           }
          },
          "shapedefaults": {
           "line": {
            "color": "#2a3f5f"
           }
          },
          "ternary": {
           "aaxis": {
            "gridcolor": "white",
            "linecolor": "white",
            "ticks": ""
           },
           "baxis": {
            "gridcolor": "white",
            "linecolor": "white",
            "ticks": ""
           },
           "bgcolor": "#E5ECF6",
           "caxis": {
            "gridcolor": "white",
            "linecolor": "white",
            "ticks": ""
           }
          },
          "title": {
           "x": 0.05
          },
          "xaxis": {
           "automargin": true,
           "gridcolor": "white",
           "linecolor": "white",
           "ticks": "",
           "title": {
            "standoff": 15
           },
           "zerolinecolor": "white",
           "zerolinewidth": 2
          },
          "yaxis": {
           "automargin": true,
           "gridcolor": "white",
           "linecolor": "white",
           "ticks": "",
           "title": {
            "standoff": 15
           },
           "zerolinecolor": "white",
           "zerolinewidth": 2
          }
         }
        },
        "title": {
         "text": "Income Plot"
        },
        "xaxis": {
         "anchor": "y",
         "domain": [
          0,
          1
         ],
         "title": {
          "text": "income"
         }
        },
        "yaxis": {
         "anchor": "x",
         "domain": [
          0,
          1
         ],
         "title": {
          "text": "Percent (%)"
         }
        }
       }
      }
     },
     "metadata": {},
     "output_type": "display_data"
    }
   ],
   "source": [
    "fig = px.bar(income_df, x='income', y='data_value', \n",
    "             color='locationdesc', \n",
    "             barmode = 'group', \n",
    "             labels={\n",
    "                  \"data_value\": \"Percent (%)\",\n",
    "                  \"yearstart\": \"Year\"\n",
    "              },\n",
    "             title='Income Plot')\n",
    "fig.show()"
   ]
  },
  {
   "cell_type": "code",
   "execution_count": 44,
   "metadata": {},
   "outputs": [
    {
     "data": {
      "text/html": [
       "<div>\n",
       "<style scoped>\n",
       "    .dataframe tbody tr th:only-of-type {\n",
       "        vertical-align: middle;\n",
       "    }\n",
       "\n",
       "    .dataframe tbody tr th {\n",
       "        vertical-align: top;\n",
       "    }\n",
       "\n",
       "    .dataframe thead th {\n",
       "        text-align: right;\n",
       "    }\n",
       "</style>\n",
       "<table border=\"1\" class=\"dataframe\">\n",
       "  <thead>\n",
       "    <tr style=\"text-align: right;\">\n",
       "      <th></th>\n",
       "      <th>yearstart</th>\n",
       "      <th>locationabbr</th>\n",
       "      <th>locationdesc</th>\n",
       "      <th>question</th>\n",
       "      <th>data_value</th>\n",
       "      <th>race_ethnicity</th>\n",
       "    </tr>\n",
       "  </thead>\n",
       "  <tbody>\n",
       "    <tr>\n",
       "      <th>7784</th>\n",
       "      <td>2020</td>\n",
       "      <td>AK</td>\n",
       "      <td>Alaska</td>\n",
       "      <td>Percent of adults aged 18 years and older who ...</td>\n",
       "      <td>21.0</td>\n",
       "      <td>NaN</td>\n",
       "    </tr>\n",
       "    <tr>\n",
       "      <th>7788</th>\n",
       "      <td>2020</td>\n",
       "      <td>AK</td>\n",
       "      <td>Alaska</td>\n",
       "      <td>Percent of adults aged 18 years and older who ...</td>\n",
       "      <td>31.4</td>\n",
       "      <td>NaN</td>\n",
       "    </tr>\n",
       "    <tr>\n",
       "      <th>7792</th>\n",
       "      <td>2020</td>\n",
       "      <td>AK</td>\n",
       "      <td>Alaska</td>\n",
       "      <td>Percent of adults aged 18 years and older who ...</td>\n",
       "      <td>32.4</td>\n",
       "      <td>NaN</td>\n",
       "    </tr>\n",
       "    <tr>\n",
       "      <th>7795</th>\n",
       "      <td>2020</td>\n",
       "      <td>AK</td>\n",
       "      <td>Alaska</td>\n",
       "      <td>Percent of adults aged 18 years and older who ...</td>\n",
       "      <td>38.2</td>\n",
       "      <td>NaN</td>\n",
       "    </tr>\n",
       "    <tr>\n",
       "      <th>7797</th>\n",
       "      <td>2020</td>\n",
       "      <td>AK</td>\n",
       "      <td>Alaska</td>\n",
       "      <td>Percent of adults aged 18 years and older who ...</td>\n",
       "      <td>33.7</td>\n",
       "      <td>NaN</td>\n",
       "    </tr>\n",
       "    <tr>\n",
       "      <th>7801</th>\n",
       "      <td>2020</td>\n",
       "      <td>AK</td>\n",
       "      <td>Alaska</td>\n",
       "      <td>Percent of adults aged 18 years and older who ...</td>\n",
       "      <td>32.7</td>\n",
       "      <td>NaN</td>\n",
       "    </tr>\n",
       "    <tr>\n",
       "      <th>7803</th>\n",
       "      <td>2020</td>\n",
       "      <td>AK</td>\n",
       "      <td>Alaska</td>\n",
       "      <td>Percent of adults aged 18 years and older who ...</td>\n",
       "      <td>24.1</td>\n",
       "      <td>NaN</td>\n",
       "    </tr>\n",
       "    <tr>\n",
       "      <th>7806</th>\n",
       "      <td>2020</td>\n",
       "      <td>AK</td>\n",
       "      <td>Alaska</td>\n",
       "      <td>Percent of adults aged 18 years and older who ...</td>\n",
       "      <td>35.6</td>\n",
       "      <td>NaN</td>\n",
       "    </tr>\n",
       "    <tr>\n",
       "      <th>7809</th>\n",
       "      <td>2020</td>\n",
       "      <td>AK</td>\n",
       "      <td>Alaska</td>\n",
       "      <td>Percent of adults aged 18 years and older who ...</td>\n",
       "      <td>29.6</td>\n",
       "      <td>NaN</td>\n",
       "    </tr>\n",
       "    <tr>\n",
       "      <th>7813</th>\n",
       "      <td>2020</td>\n",
       "      <td>AK</td>\n",
       "      <td>Alaska</td>\n",
       "      <td>Percent of adults aged 18 years and older who ...</td>\n",
       "      <td>34.9</td>\n",
       "      <td>NaN</td>\n",
       "    </tr>\n",
       "  </tbody>\n",
       "</table>\n",
       "</div>"
      ],
      "text/plain": [
       "      yearstart locationabbr locationdesc  \\\n",
       "7784       2020           AK       Alaska   \n",
       "7788       2020           AK       Alaska   \n",
       "7792       2020           AK       Alaska   \n",
       "7795       2020           AK       Alaska   \n",
       "7797       2020           AK       Alaska   \n",
       "7801       2020           AK       Alaska   \n",
       "7803       2020           AK       Alaska   \n",
       "7806       2020           AK       Alaska   \n",
       "7809       2020           AK       Alaska   \n",
       "7813       2020           AK       Alaska   \n",
       "\n",
       "                                               question  data_value  \\\n",
       "7784  Percent of adults aged 18 years and older who ...        21.0   \n",
       "7788  Percent of adults aged 18 years and older who ...        31.4   \n",
       "7792  Percent of adults aged 18 years and older who ...        32.4   \n",
       "7795  Percent of adults aged 18 years and older who ...        38.2   \n",
       "7797  Percent of adults aged 18 years and older who ...        33.7   \n",
       "7801  Percent of adults aged 18 years and older who ...        32.7   \n",
       "7803  Percent of adults aged 18 years and older who ...        24.1   \n",
       "7806  Percent of adults aged 18 years and older who ...        35.6   \n",
       "7809  Percent of adults aged 18 years and older who ...        29.6   \n",
       "7813  Percent of adults aged 18 years and older who ...        34.9   \n",
       "\n",
       "     race_ethnicity  \n",
       "7784            NaN  \n",
       "7788            NaN  \n",
       "7792            NaN  \n",
       "7795            NaN  \n",
       "7797            NaN  \n",
       "7801            NaN  \n",
       "7803            NaN  \n",
       "7806            NaN  \n",
       "7809            NaN  \n",
       "7813            NaN  "
      ]
     },
     "execution_count": 44,
     "metadata": {},
     "output_type": "execute_result"
    }
   ],
   "source": [
    "year = '2020'\n",
    "# location = 'US|CO|MS|MA|AL'\n",
    "location = 'MT|CA|NY|AK|HI'\n",
    "question = 'Percent of adults aged 18 years and older who have obesity'\n",
    "\n",
    "race_ethnicity_df = cleaned_DF.copy()\n",
    "    \n",
    "race_ethnicity_df = race_ethnicity_df[race_ethnicity_df[\"yearstart\"] == year]\n",
    "race_ethnicity_df = race_ethnicity_df[race_ethnicity_df[\"locationabbr\"].str.contains(location)]\n",
    "race_ethnicity_df = race_ethnicity_df[race_ethnicity_df[\"question\"] == question]\n",
    "\n",
    "colsToKeep = [\n",
    "    'yearstart',\n",
    "    'locationabbr',\n",
    "    'locationdesc',\n",
    "    'question',\n",
    "    'data_value',\n",
    "    'race_ethnicity'\n",
    "]\n",
    "\n",
    "race_ethnicity_df = race_ethnicity_df[colsToKeep]\n",
    "\n",
    "race_ethnicity_df = race_ethnicity_df[race_ethnicity_df['data_value'].notna()]\n",
    "\n",
    "race_ethnicity_df[[\"data_value\"]] = race_ethnicity_df[[\"data_value\"]].apply(pd.to_numeric)\n",
    "race_ethnicity_df[[\"yearstart\"]] = race_ethnicity_df[[\"yearstart\"]].apply(pd.to_numeric)\n",
    "    \n",
    "race_ethnicity_df.head(10)"
   ]
  },
  {
   "cell_type": "code",
   "execution_count": 45,
   "metadata": {},
   "outputs": [],
   "source": [
    "# fig = px.bar(race_ethnicity_df, x='race_ethnicity', y='data_value', color='locationdesc', barmode = 'group', title='Ethnicity Plot')\n",
    "# fig.show()"
   ]
  },
  {
   "cell_type": "code",
   "execution_count": 46,
   "metadata": {},
   "outputs": [
    {
     "data": {
      "text/html": [
       "<div>\n",
       "<style scoped>\n",
       "    .dataframe tbody tr th:only-of-type {\n",
       "        vertical-align: middle;\n",
       "    }\n",
       "\n",
       "    .dataframe tbody tr th {\n",
       "        vertical-align: top;\n",
       "    }\n",
       "\n",
       "    .dataframe thead th {\n",
       "        text-align: right;\n",
       "    }\n",
       "</style>\n",
       "<table border=\"1\" class=\"dataframe\">\n",
       "  <thead>\n",
       "    <tr style=\"text-align: right;\">\n",
       "      <th></th>\n",
       "      <th>yearstart</th>\n",
       "      <th>locationabbr</th>\n",
       "      <th>locationdesc</th>\n",
       "      <th>question</th>\n",
       "      <th>data_value</th>\n",
       "      <th>total</th>\n",
       "    </tr>\n",
       "  </thead>\n",
       "  <tbody>\n",
       "    <tr>\n",
       "      <th>12414</th>\n",
       "      <td>2019</td>\n",
       "      <td>AL</td>\n",
       "      <td>Alabama</td>\n",
       "      <td>Percent of adults who achieve at least 150 min...</td>\n",
       "      <td>45.9</td>\n",
       "      <td>Total</td>\n",
       "    </tr>\n",
       "    <tr>\n",
       "      <th>13422</th>\n",
       "      <td>2019</td>\n",
       "      <td>CA</td>\n",
       "      <td>California</td>\n",
       "      <td>Percent of adults who achieve at least 150 min...</td>\n",
       "      <td>55.0</td>\n",
       "      <td>Total</td>\n",
       "    </tr>\n",
       "    <tr>\n",
       "      <th>15438</th>\n",
       "      <td>2019</td>\n",
       "      <td>HI</td>\n",
       "      <td>Hawaii</td>\n",
       "      <td>Percent of adults who achieve at least 150 min...</td>\n",
       "      <td>56.0</td>\n",
       "      <td>Total</td>\n",
       "    </tr>\n",
       "    <tr>\n",
       "      <th>19211</th>\n",
       "      <td>2019</td>\n",
       "      <td>MT</td>\n",
       "      <td>Montana</td>\n",
       "      <td>Percent of adults who achieve at least 150 min...</td>\n",
       "      <td>63.1</td>\n",
       "      <td>Total</td>\n",
       "    </tr>\n",
       "    <tr>\n",
       "      <th>20737</th>\n",
       "      <td>2019</td>\n",
       "      <td>NY</td>\n",
       "      <td>New York</td>\n",
       "      <td>Percent of adults who achieve at least 150 min...</td>\n",
       "      <td>50.9</td>\n",
       "      <td>Total</td>\n",
       "    </tr>\n",
       "    <tr>\n",
       "      <th>30398</th>\n",
       "      <td>2017</td>\n",
       "      <td>AL</td>\n",
       "      <td>Alabama</td>\n",
       "      <td>Percent of adults who achieve at least 150 min...</td>\n",
       "      <td>42.8</td>\n",
       "      <td>Total</td>\n",
       "    </tr>\n",
       "    <tr>\n",
       "      <th>31407</th>\n",
       "      <td>2017</td>\n",
       "      <td>CA</td>\n",
       "      <td>California</td>\n",
       "      <td>Percent of adults who achieve at least 150 min...</td>\n",
       "      <td>57.5</td>\n",
       "      <td>Total</td>\n",
       "    </tr>\n",
       "    <tr>\n",
       "      <th>33416</th>\n",
       "      <td>2017</td>\n",
       "      <td>HI</td>\n",
       "      <td>Hawaii</td>\n",
       "      <td>Percent of adults who achieve at least 150 min...</td>\n",
       "      <td>56.5</td>\n",
       "      <td>Total</td>\n",
       "    </tr>\n",
       "    <tr>\n",
       "      <th>37199</th>\n",
       "      <td>2017</td>\n",
       "      <td>MT</td>\n",
       "      <td>Montana</td>\n",
       "      <td>Percent of adults who achieve at least 150 min...</td>\n",
       "      <td>54.6</td>\n",
       "      <td>Total</td>\n",
       "    </tr>\n",
       "    <tr>\n",
       "      <th>38963</th>\n",
       "      <td>2017</td>\n",
       "      <td>NY</td>\n",
       "      <td>New York</td>\n",
       "      <td>Percent of adults who achieve at least 150 min...</td>\n",
       "      <td>49.3</td>\n",
       "      <td>Total</td>\n",
       "    </tr>\n",
       "  </tbody>\n",
       "</table>\n",
       "</div>"
      ],
      "text/plain": [
       "       yearstart locationabbr locationdesc  \\\n",
       "12414       2019           AL      Alabama   \n",
       "13422       2019           CA   California   \n",
       "15438       2019           HI       Hawaii   \n",
       "19211       2019           MT      Montana   \n",
       "20737       2019           NY     New York   \n",
       "30398       2017           AL      Alabama   \n",
       "31407       2017           CA   California   \n",
       "33416       2017           HI       Hawaii   \n",
       "37199       2017           MT      Montana   \n",
       "38963       2017           NY     New York   \n",
       "\n",
       "                                                question  data_value  total  \n",
       "12414  Percent of adults who achieve at least 150 min...        45.9  Total  \n",
       "13422  Percent of adults who achieve at least 150 min...        55.0  Total  \n",
       "15438  Percent of adults who achieve at least 150 min...        56.0  Total  \n",
       "19211  Percent of adults who achieve at least 150 min...        63.1  Total  \n",
       "20737  Percent of adults who achieve at least 150 min...        50.9  Total  \n",
       "30398  Percent of adults who achieve at least 150 min...        42.8  Total  \n",
       "31407  Percent of adults who achieve at least 150 min...        57.5  Total  \n",
       "33416  Percent of adults who achieve at least 150 min...        56.5  Total  \n",
       "37199  Percent of adults who achieve at least 150 min...        54.6  Total  \n",
       "38963  Percent of adults who achieve at least 150 min...        49.3  Total  "
      ]
     },
     "execution_count": 46,
     "metadata": {},
     "output_type": "execute_result"
    }
   ],
   "source": [
    "# Bar chart comparing activity levels\n",
    "\n",
    "year = '2020'\n",
    "# location = 'US|CO|MS|MA|AL'\n",
    "location = 'MT|CA|NY|AL|HI'\n",
    "question = 'Percent of adults who achieve at least 150 minutes a week of moderate-intensity aerobic physical activity or 75 minutes a week of vigorous-intensity aerobic activity (or an equivalent combination)'\n",
    "\n",
    "exercise_df = cleaned_DF.copy()\n",
    "    \n",
    "# filtered_df_name = filtered_df_name[filtered_df_name[\"yearstart\"] == year]\n",
    "exercise_df = exercise_df[exercise_df[\"locationabbr\"].str.contains(location)]\n",
    "exercise_df = exercise_df[exercise_df[\"question\"] == question]\n",
    "\n",
    "colsToKeep = [\n",
    "    'yearstart',\n",
    "    'locationabbr',\n",
    "    'locationdesc',\n",
    "    'question',\n",
    "    'data_value',\n",
    "    'total'\n",
    "]\n",
    "\n",
    "exercise_df = exercise_df[colsToKeep]\n",
    "\n",
    "exercise_df = exercise_df[exercise_df['total'].notna()]\n",
    "\n",
    "exercise_df[[\"data_value\"]] = exercise_df[[\"data_value\"]].apply(pd.to_numeric)\n",
    "exercise_df[[\"yearstart\"]] = exercise_df[[\"yearstart\"]].apply(pd.to_numeric)\n",
    "    \n",
    "exercise_df.head(10)"
   ]
  },
  {
   "cell_type": "code",
   "execution_count": 58,
   "metadata": {},
   "outputs": [
    {
     "data": {
      "application/vnd.plotly.v1+json": {
       "config": {
        "plotlyServerURL": "https://plot.ly"
       },
       "data": [
        {
         "alignmentgroup": "True",
         "hovertemplate": "locationdesc=Alabama<br>Year=%{x}<br>Percent (%)=%{y}<extra></extra>",
         "legendgroup": "Alabama",
         "marker": {
          "color": "#636efa",
          "pattern": {
           "shape": ""
          }
         },
         "name": "Alabama",
         "offsetgroup": "Alabama",
         "orientation": "v",
         "showlegend": true,
         "textposition": "auto",
         "type": "bar",
         "x": [
          2019,
          2017,
          2015,
          2013,
          2011
         ],
         "xaxis": "x",
         "y": [
          45.9,
          42.8,
          44.6,
          45.4,
          42.4
         ],
         "yaxis": "y"
        },
        {
         "alignmentgroup": "True",
         "hovertemplate": "locationdesc=California<br>Year=%{x}<br>Percent (%)=%{y}<extra></extra>",
         "legendgroup": "California",
         "marker": {
          "color": "#EF553B",
          "pattern": {
           "shape": ""
          }
         },
         "name": "California",
         "offsetgroup": "California",
         "orientation": "v",
         "showlegend": true,
         "textposition": "auto",
         "type": "bar",
         "x": [
          2019,
          2017,
          2015,
          2013,
          2011
         ],
         "xaxis": "x",
         "y": [
          55,
          57.5,
          57.3,
          56.3,
          58.2
         ],
         "yaxis": "y"
        },
        {
         "alignmentgroup": "True",
         "hovertemplate": "locationdesc=Hawaii<br>Year=%{x}<br>Percent (%)=%{y}<extra></extra>",
         "legendgroup": "Hawaii",
         "marker": {
          "color": "#00cc96",
          "pattern": {
           "shape": ""
          }
         },
         "name": "Hawaii",
         "offsetgroup": "Hawaii",
         "orientation": "v",
         "showlegend": true,
         "textposition": "auto",
         "type": "bar",
         "x": [
          2019,
          2017,
          2015,
          2013,
          2011
         ],
         "xaxis": "x",
         "y": [
          56,
          56.5,
          56.6,
          60.2,
          58.5
         ],
         "yaxis": "y"
        },
        {
         "alignmentgroup": "True",
         "hovertemplate": "locationdesc=Montana<br>Year=%{x}<br>Percent (%)=%{y}<extra></extra>",
         "legendgroup": "Montana",
         "marker": {
          "color": "#ab63fa",
          "pattern": {
           "shape": ""
          }
         },
         "name": "Montana",
         "offsetgroup": "Montana",
         "orientation": "v",
         "showlegend": true,
         "textposition": "auto",
         "type": "bar",
         "x": [
          2019,
          2017,
          2015,
          2013,
          2011
         ],
         "xaxis": "x",
         "y": [
          63.1,
          54.6,
          58.2,
          57.8,
          55.3
         ],
         "yaxis": "y"
        },
        {
         "alignmentgroup": "True",
         "hovertemplate": "locationdesc=New York<br>Year=%{x}<br>Percent (%)=%{y}<extra></extra>",
         "legendgroup": "New York",
         "marker": {
          "color": "#FFA15A",
          "pattern": {
           "shape": ""
          }
         },
         "name": "New York",
         "offsetgroup": "New York",
         "orientation": "v",
         "showlegend": true,
         "textposition": "auto",
         "type": "bar",
         "x": [
          2019,
          2017,
          2015,
          2013,
          2011
         ],
         "xaxis": "x",
         "y": [
          50.9,
          49.3,
          47.1,
          47.3,
          51.5
         ],
         "yaxis": "y"
        }
       ],
       "layout": {
        "barmode": "group",
        "legend": {
         "title": {
          "text": "locationdesc"
         },
         "tracegroupgap": 0
        },
        "template": {
         "data": {
          "bar": [
           {
            "error_x": {
             "color": "#2a3f5f"
            },
            "error_y": {
             "color": "#2a3f5f"
            },
            "marker": {
             "line": {
              "color": "#E5ECF6",
              "width": 0.5
             },
             "pattern": {
              "fillmode": "overlay",
              "size": 10,
              "solidity": 0.2
             }
            },
            "type": "bar"
           }
          ],
          "barpolar": [
           {
            "marker": {
             "line": {
              "color": "#E5ECF6",
              "width": 0.5
             },
             "pattern": {
              "fillmode": "overlay",
              "size": 10,
              "solidity": 0.2
             }
            },
            "type": "barpolar"
           }
          ],
          "carpet": [
           {
            "aaxis": {
             "endlinecolor": "#2a3f5f",
             "gridcolor": "white",
             "linecolor": "white",
             "minorgridcolor": "white",
             "startlinecolor": "#2a3f5f"
            },
            "baxis": {
             "endlinecolor": "#2a3f5f",
             "gridcolor": "white",
             "linecolor": "white",
             "minorgridcolor": "white",
             "startlinecolor": "#2a3f5f"
            },
            "type": "carpet"
           }
          ],
          "choropleth": [
           {
            "colorbar": {
             "outlinewidth": 0,
             "ticks": ""
            },
            "type": "choropleth"
           }
          ],
          "contour": [
           {
            "colorbar": {
             "outlinewidth": 0,
             "ticks": ""
            },
            "colorscale": [
             [
              0,
              "#0d0887"
             ],
             [
              0.1111111111111111,
              "#46039f"
             ],
             [
              0.2222222222222222,
              "#7201a8"
             ],
             [
              0.3333333333333333,
              "#9c179e"
             ],
             [
              0.4444444444444444,
              "#bd3786"
             ],
             [
              0.5555555555555556,
              "#d8576b"
             ],
             [
              0.6666666666666666,
              "#ed7953"
             ],
             [
              0.7777777777777778,
              "#fb9f3a"
             ],
             [
              0.8888888888888888,
              "#fdca26"
             ],
             [
              1,
              "#f0f921"
             ]
            ],
            "type": "contour"
           }
          ],
          "contourcarpet": [
           {
            "colorbar": {
             "outlinewidth": 0,
             "ticks": ""
            },
            "type": "contourcarpet"
           }
          ],
          "heatmap": [
           {
            "colorbar": {
             "outlinewidth": 0,
             "ticks": ""
            },
            "colorscale": [
             [
              0,
              "#0d0887"
             ],
             [
              0.1111111111111111,
              "#46039f"
             ],
             [
              0.2222222222222222,
              "#7201a8"
             ],
             [
              0.3333333333333333,
              "#9c179e"
             ],
             [
              0.4444444444444444,
              "#bd3786"
             ],
             [
              0.5555555555555556,
              "#d8576b"
             ],
             [
              0.6666666666666666,
              "#ed7953"
             ],
             [
              0.7777777777777778,
              "#fb9f3a"
             ],
             [
              0.8888888888888888,
              "#fdca26"
             ],
             [
              1,
              "#f0f921"
             ]
            ],
            "type": "heatmap"
           }
          ],
          "heatmapgl": [
           {
            "colorbar": {
             "outlinewidth": 0,
             "ticks": ""
            },
            "colorscale": [
             [
              0,
              "#0d0887"
             ],
             [
              0.1111111111111111,
              "#46039f"
             ],
             [
              0.2222222222222222,
              "#7201a8"
             ],
             [
              0.3333333333333333,
              "#9c179e"
             ],
             [
              0.4444444444444444,
              "#bd3786"
             ],
             [
              0.5555555555555556,
              "#d8576b"
             ],
             [
              0.6666666666666666,
              "#ed7953"
             ],
             [
              0.7777777777777778,
              "#fb9f3a"
             ],
             [
              0.8888888888888888,
              "#fdca26"
             ],
             [
              1,
              "#f0f921"
             ]
            ],
            "type": "heatmapgl"
           }
          ],
          "histogram": [
           {
            "marker": {
             "pattern": {
              "fillmode": "overlay",
              "size": 10,
              "solidity": 0.2
             }
            },
            "type": "histogram"
           }
          ],
          "histogram2d": [
           {
            "colorbar": {
             "outlinewidth": 0,
             "ticks": ""
            },
            "colorscale": [
             [
              0,
              "#0d0887"
             ],
             [
              0.1111111111111111,
              "#46039f"
             ],
             [
              0.2222222222222222,
              "#7201a8"
             ],
             [
              0.3333333333333333,
              "#9c179e"
             ],
             [
              0.4444444444444444,
              "#bd3786"
             ],
             [
              0.5555555555555556,
              "#d8576b"
             ],
             [
              0.6666666666666666,
              "#ed7953"
             ],
             [
              0.7777777777777778,
              "#fb9f3a"
             ],
             [
              0.8888888888888888,
              "#fdca26"
             ],
             [
              1,
              "#f0f921"
             ]
            ],
            "type": "histogram2d"
           }
          ],
          "histogram2dcontour": [
           {
            "colorbar": {
             "outlinewidth": 0,
             "ticks": ""
            },
            "colorscale": [
             [
              0,
              "#0d0887"
             ],
             [
              0.1111111111111111,
              "#46039f"
             ],
             [
              0.2222222222222222,
              "#7201a8"
             ],
             [
              0.3333333333333333,
              "#9c179e"
             ],
             [
              0.4444444444444444,
              "#bd3786"
             ],
             [
              0.5555555555555556,
              "#d8576b"
             ],
             [
              0.6666666666666666,
              "#ed7953"
             ],
             [
              0.7777777777777778,
              "#fb9f3a"
             ],
             [
              0.8888888888888888,
              "#fdca26"
             ],
             [
              1,
              "#f0f921"
             ]
            ],
            "type": "histogram2dcontour"
           }
          ],
          "mesh3d": [
           {
            "colorbar": {
             "outlinewidth": 0,
             "ticks": ""
            },
            "type": "mesh3d"
           }
          ],
          "parcoords": [
           {
            "line": {
             "colorbar": {
              "outlinewidth": 0,
              "ticks": ""
             }
            },
            "type": "parcoords"
           }
          ],
          "pie": [
           {
            "automargin": true,
            "type": "pie"
           }
          ],
          "scatter": [
           {
            "fillpattern": {
             "fillmode": "overlay",
             "size": 10,
             "solidity": 0.2
            },
            "type": "scatter"
           }
          ],
          "scatter3d": [
           {
            "line": {
             "colorbar": {
              "outlinewidth": 0,
              "ticks": ""
             }
            },
            "marker": {
             "colorbar": {
              "outlinewidth": 0,
              "ticks": ""
             }
            },
            "type": "scatter3d"
           }
          ],
          "scattercarpet": [
           {
            "marker": {
             "colorbar": {
              "outlinewidth": 0,
              "ticks": ""
             }
            },
            "type": "scattercarpet"
           }
          ],
          "scattergeo": [
           {
            "marker": {
             "colorbar": {
              "outlinewidth": 0,
              "ticks": ""
             }
            },
            "type": "scattergeo"
           }
          ],
          "scattergl": [
           {
            "marker": {
             "colorbar": {
              "outlinewidth": 0,
              "ticks": ""
             }
            },
            "type": "scattergl"
           }
          ],
          "scattermapbox": [
           {
            "marker": {
             "colorbar": {
              "outlinewidth": 0,
              "ticks": ""
             }
            },
            "type": "scattermapbox"
           }
          ],
          "scatterpolar": [
           {
            "marker": {
             "colorbar": {
              "outlinewidth": 0,
              "ticks": ""
             }
            },
            "type": "scatterpolar"
           }
          ],
          "scatterpolargl": [
           {
            "marker": {
             "colorbar": {
              "outlinewidth": 0,
              "ticks": ""
             }
            },
            "type": "scatterpolargl"
           }
          ],
          "scatterternary": [
           {
            "marker": {
             "colorbar": {
              "outlinewidth": 0,
              "ticks": ""
             }
            },
            "type": "scatterternary"
           }
          ],
          "surface": [
           {
            "colorbar": {
             "outlinewidth": 0,
             "ticks": ""
            },
            "colorscale": [
             [
              0,
              "#0d0887"
             ],
             [
              0.1111111111111111,
              "#46039f"
             ],
             [
              0.2222222222222222,
              "#7201a8"
             ],
             [
              0.3333333333333333,
              "#9c179e"
             ],
             [
              0.4444444444444444,
              "#bd3786"
             ],
             [
              0.5555555555555556,
              "#d8576b"
             ],
             [
              0.6666666666666666,
              "#ed7953"
             ],
             [
              0.7777777777777778,
              "#fb9f3a"
             ],
             [
              0.8888888888888888,
              "#fdca26"
             ],
             [
              1,
              "#f0f921"
             ]
            ],
            "type": "surface"
           }
          ],
          "table": [
           {
            "cells": {
             "fill": {
              "color": "#EBF0F8"
             },
             "line": {
              "color": "white"
             }
            },
            "header": {
             "fill": {
              "color": "#C8D4E3"
             },
             "line": {
              "color": "white"
             }
            },
            "type": "table"
           }
          ]
         },
         "layout": {
          "annotationdefaults": {
           "arrowcolor": "#2a3f5f",
           "arrowhead": 0,
           "arrowwidth": 1
          },
          "autotypenumbers": "strict",
          "coloraxis": {
           "colorbar": {
            "outlinewidth": 0,
            "ticks": ""
           }
          },
          "colorscale": {
           "diverging": [
            [
             0,
             "#8e0152"
            ],
            [
             0.1,
             "#c51b7d"
            ],
            [
             0.2,
             "#de77ae"
            ],
            [
             0.3,
             "#f1b6da"
            ],
            [
             0.4,
             "#fde0ef"
            ],
            [
             0.5,
             "#f7f7f7"
            ],
            [
             0.6,
             "#e6f5d0"
            ],
            [
             0.7,
             "#b8e186"
            ],
            [
             0.8,
             "#7fbc41"
            ],
            [
             0.9,
             "#4d9221"
            ],
            [
             1,
             "#276419"
            ]
           ],
           "sequential": [
            [
             0,
             "#0d0887"
            ],
            [
             0.1111111111111111,
             "#46039f"
            ],
            [
             0.2222222222222222,
             "#7201a8"
            ],
            [
             0.3333333333333333,
             "#9c179e"
            ],
            [
             0.4444444444444444,
             "#bd3786"
            ],
            [
             0.5555555555555556,
             "#d8576b"
            ],
            [
             0.6666666666666666,
             "#ed7953"
            ],
            [
             0.7777777777777778,
             "#fb9f3a"
            ],
            [
             0.8888888888888888,
             "#fdca26"
            ],
            [
             1,
             "#f0f921"
            ]
           ],
           "sequentialminus": [
            [
             0,
             "#0d0887"
            ],
            [
             0.1111111111111111,
             "#46039f"
            ],
            [
             0.2222222222222222,
             "#7201a8"
            ],
            [
             0.3333333333333333,
             "#9c179e"
            ],
            [
             0.4444444444444444,
             "#bd3786"
            ],
            [
             0.5555555555555556,
             "#d8576b"
            ],
            [
             0.6666666666666666,
             "#ed7953"
            ],
            [
             0.7777777777777778,
             "#fb9f3a"
            ],
            [
             0.8888888888888888,
             "#fdca26"
            ],
            [
             1,
             "#f0f921"
            ]
           ]
          },
          "colorway": [
           "#636efa",
           "#EF553B",
           "#00cc96",
           "#ab63fa",
           "#FFA15A",
           "#19d3f3",
           "#FF6692",
           "#B6E880",
           "#FF97FF",
           "#FECB52"
          ],
          "font": {
           "color": "#2a3f5f"
          },
          "geo": {
           "bgcolor": "white",
           "lakecolor": "white",
           "landcolor": "#E5ECF6",
           "showlakes": true,
           "showland": true,
           "subunitcolor": "white"
          },
          "hoverlabel": {
           "align": "left"
          },
          "hovermode": "closest",
          "mapbox": {
           "style": "light"
          },
          "paper_bgcolor": "white",
          "plot_bgcolor": "#E5ECF6",
          "polar": {
           "angularaxis": {
            "gridcolor": "white",
            "linecolor": "white",
            "ticks": ""
           },
           "bgcolor": "#E5ECF6",
           "radialaxis": {
            "gridcolor": "white",
            "linecolor": "white",
            "ticks": ""
           }
          },
          "scene": {
           "xaxis": {
            "backgroundcolor": "#E5ECF6",
            "gridcolor": "white",
            "gridwidth": 2,
            "linecolor": "white",
            "showbackground": true,
            "ticks": "",
            "zerolinecolor": "white"
           },
           "yaxis": {
            "backgroundcolor": "#E5ECF6",
            "gridcolor": "white",
            "gridwidth": 2,
            "linecolor": "white",
            "showbackground": true,
            "ticks": "",
            "zerolinecolor": "white"
           },
           "zaxis": {
            "backgroundcolor": "#E5ECF6",
            "gridcolor": "white",
            "gridwidth": 2,
            "linecolor": "white",
            "showbackground": true,
            "ticks": "",
            "zerolinecolor": "white"
           }
          },
          "shapedefaults": {
           "line": {
            "color": "#2a3f5f"
           }
          },
          "ternary": {
           "aaxis": {
            "gridcolor": "white",
            "linecolor": "white",
            "ticks": ""
           },
           "baxis": {
            "gridcolor": "white",
            "linecolor": "white",
            "ticks": ""
           },
           "bgcolor": "#E5ECF6",
           "caxis": {
            "gridcolor": "white",
            "linecolor": "white",
            "ticks": ""
           }
          },
          "title": {
           "x": 0.05
          },
          "xaxis": {
           "automargin": true,
           "gridcolor": "white",
           "linecolor": "white",
           "ticks": "",
           "title": {
            "standoff": 15
           },
           "zerolinecolor": "white",
           "zerolinewidth": 2
          },
          "yaxis": {
           "automargin": true,
           "gridcolor": "white",
           "linecolor": "white",
           "ticks": "",
           "title": {
            "standoff": 15
           },
           "zerolinecolor": "white",
           "zerolinewidth": 2
          }
         }
        },
        "title": {
         "text": "Exercise Plot"
        },
        "xaxis": {
         "anchor": "y",
         "domain": [
          0,
          1
         ],
         "title": {
          "text": "Year"
         }
        },
        "yaxis": {
         "anchor": "x",
         "domain": [
          0,
          1
         ],
         "title": {
          "text": "Percent (%)"
         }
        }
       }
      }
     },
     "metadata": {},
     "output_type": "display_data"
    }
   ],
   "source": [
    "fig = px.bar(exercise_df, x='yearstart', y='data_value',\n",
    "             color='locationdesc', \n",
    "             barmode = 'group',\n",
    "             labels={\n",
    "                  \"data_value\": \"Percent (%)\",\n",
    "                  \"yearstart\": \"Year\"\n",
    "              }, \n",
    "             title='Exercise Plot')\n",
    "fig.show()"
   ]
  },
  {
   "cell_type": "code",
   "execution_count": 48,
   "metadata": {},
   "outputs": [
    {
     "data": {
      "text/html": [
       "<div>\n",
       "<style scoped>\n",
       "    .dataframe tbody tr th:only-of-type {\n",
       "        vertical-align: middle;\n",
       "    }\n",
       "\n",
       "    .dataframe tbody tr th {\n",
       "        vertical-align: top;\n",
       "    }\n",
       "\n",
       "    .dataframe thead th {\n",
       "        text-align: right;\n",
       "    }\n",
       "</style>\n",
       "<table border=\"1\" class=\"dataframe\">\n",
       "  <thead>\n",
       "    <tr style=\"text-align: right;\">\n",
       "      <th></th>\n",
       "      <th>yearstart</th>\n",
       "      <th>locationabbr</th>\n",
       "      <th>locationdesc</th>\n",
       "      <th>question</th>\n",
       "      <th>data_value</th>\n",
       "      <th>total</th>\n",
       "    </tr>\n",
       "  </thead>\n",
       "  <tbody>\n",
       "    <tr>\n",
       "      <th>12414</th>\n",
       "      <td>2019</td>\n",
       "      <td>AL</td>\n",
       "      <td>Alabama</td>\n",
       "      <td>Percent of adults who achieve at least 150 min...</td>\n",
       "      <td>45.9</td>\n",
       "      <td>Total</td>\n",
       "    </tr>\n",
       "    <tr>\n",
       "      <th>13672</th>\n",
       "      <td>2019</td>\n",
       "      <td>CO</td>\n",
       "      <td>Colorado</td>\n",
       "      <td>Percent of adults who achieve at least 150 min...</td>\n",
       "      <td>59.3</td>\n",
       "      <td>Total</td>\n",
       "    </tr>\n",
       "    <tr>\n",
       "      <th>17956</th>\n",
       "      <td>2019</td>\n",
       "      <td>MA</td>\n",
       "      <td>Massachusetts</td>\n",
       "      <td>Percent of adults who achieve at least 150 min...</td>\n",
       "      <td>53.5</td>\n",
       "      <td>Total</td>\n",
       "    </tr>\n",
       "    <tr>\n",
       "      <th>18712</th>\n",
       "      <td>2019</td>\n",
       "      <td>MS</td>\n",
       "      <td>Mississippi</td>\n",
       "      <td>Percent of adults who achieve at least 150 min...</td>\n",
       "      <td>39.5</td>\n",
       "      <td>Total</td>\n",
       "    </tr>\n",
       "    <tr>\n",
       "      <th>19470</th>\n",
       "      <td>2019</td>\n",
       "      <td>US</td>\n",
       "      <td>National</td>\n",
       "      <td>Percent of adults who achieve at least 150 min...</td>\n",
       "      <td>51.5</td>\n",
       "      <td>Total</td>\n",
       "    </tr>\n",
       "    <tr>\n",
       "      <th>30398</th>\n",
       "      <td>2017</td>\n",
       "      <td>AL</td>\n",
       "      <td>Alabama</td>\n",
       "      <td>Percent of adults who achieve at least 150 min...</td>\n",
       "      <td>42.8</td>\n",
       "      <td>Total</td>\n",
       "    </tr>\n",
       "    <tr>\n",
       "      <th>31657</th>\n",
       "      <td>2017</td>\n",
       "      <td>CO</td>\n",
       "      <td>Colorado</td>\n",
       "      <td>Percent of adults who achieve at least 150 min...</td>\n",
       "      <td>58.7</td>\n",
       "      <td>Total</td>\n",
       "    </tr>\n",
       "    <tr>\n",
       "      <th>35944</th>\n",
       "      <td>2017</td>\n",
       "      <td>MA</td>\n",
       "      <td>Massachusetts</td>\n",
       "      <td>Percent of adults who achieve at least 150 min...</td>\n",
       "      <td>50.9</td>\n",
       "      <td>Total</td>\n",
       "    </tr>\n",
       "    <tr>\n",
       "      <th>36698</th>\n",
       "      <td>2017</td>\n",
       "      <td>MS</td>\n",
       "      <td>Mississippi</td>\n",
       "      <td>Percent of adults who achieve at least 150 min...</td>\n",
       "      <td>44.7</td>\n",
       "      <td>Total</td>\n",
       "    </tr>\n",
       "    <tr>\n",
       "      <th>37454</th>\n",
       "      <td>2017</td>\n",
       "      <td>US</td>\n",
       "      <td>National</td>\n",
       "      <td>Percent of adults who achieve at least 150 min...</td>\n",
       "      <td>50.3</td>\n",
       "      <td>Total</td>\n",
       "    </tr>\n",
       "  </tbody>\n",
       "</table>\n",
       "</div>"
      ],
      "text/plain": [
       "       yearstart locationabbr   locationdesc  \\\n",
       "12414       2019           AL        Alabama   \n",
       "13672       2019           CO       Colorado   \n",
       "17956       2019           MA  Massachusetts   \n",
       "18712       2019           MS    Mississippi   \n",
       "19470       2019           US       National   \n",
       "30398       2017           AL        Alabama   \n",
       "31657       2017           CO       Colorado   \n",
       "35944       2017           MA  Massachusetts   \n",
       "36698       2017           MS    Mississippi   \n",
       "37454       2017           US       National   \n",
       "\n",
       "                                                question  data_value  total  \n",
       "12414  Percent of adults who achieve at least 150 min...        45.9  Total  \n",
       "13672  Percent of adults who achieve at least 150 min...        59.3  Total  \n",
       "17956  Percent of adults who achieve at least 150 min...        53.5  Total  \n",
       "18712  Percent of adults who achieve at least 150 min...        39.5  Total  \n",
       "19470  Percent of adults who achieve at least 150 min...        51.5  Total  \n",
       "30398  Percent of adults who achieve at least 150 min...        42.8  Total  \n",
       "31657  Percent of adults who achieve at least 150 min...        58.7  Total  \n",
       "35944  Percent of adults who achieve at least 150 min...        50.9  Total  \n",
       "36698  Percent of adults who achieve at least 150 min...        44.7  Total  \n",
       "37454  Percent of adults who achieve at least 150 min...        50.3  Total  "
      ]
     },
     "execution_count": 48,
     "metadata": {},
     "output_type": "execute_result"
    }
   ],
   "source": [
    "year = '2020'\n",
    "location = 'US|CO|MS|MA|AL'\n",
    "# location = 'MT|CA|NY|AK|HI'\n",
    "question = 'Percent of adults who achieve at least 150 minutes a week of moderate-intensity aerobic physical activity or 75 minutes a week of vigorous-intensity aerobic activity (or an equivalent combination)'\n",
    "\n",
    "year_df = cleaned_DF.copy()\n",
    "    \n",
    "# filtered_df_name = filtered_df_name[filtered_df_name[\"yearstart\"] == year]\n",
    "year_df = year_df[year_df[\"locationabbr\"].str.contains(location)]\n",
    "year_df = year_df[year_df[\"question\"] == question]\n",
    "\n",
    "colsToKeep = [\n",
    "    'yearstart',\n",
    "    'locationabbr',\n",
    "    'locationdesc',\n",
    "    'question',\n",
    "    'data_value',\n",
    "    'total'\n",
    "]\n",
    "\n",
    "year_df = year_df[colsToKeep]\n",
    "\n",
    "year_df = year_df[year_df['total'].notna()]\n",
    "\n",
    "year_df[[\"data_value\"]] = year_df[[\"data_value\"]].apply(pd.to_numeric)\n",
    "year_df[[\"yearstart\"]] = year_df[[\"yearstart\"]].apply(pd.to_numeric)\n",
    "    \n",
    "year_df.head(10)"
   ]
  },
  {
   "cell_type": "code",
   "execution_count": 49,
   "metadata": {},
   "outputs": [
    {
     "data": {
      "application/vnd.plotly.v1+json": {
       "config": {
        "plotlyServerURL": "https://plot.ly"
       },
       "data": [
        {
         "hovertemplate": "locationdesc=Alabama<br>Year=%{x}<br>Percent (%)=%{y}<extra></extra>",
         "legendgroup": "Alabama",
         "line": {
          "color": "#636efa",
          "dash": "solid"
         },
         "marker": {
          "symbol": "circle"
         },
         "mode": "lines",
         "name": "Alabama",
         "orientation": "v",
         "showlegend": true,
         "type": "scatter",
         "x": [
          2019,
          2017,
          2015,
          2013,
          2011
         ],
         "xaxis": "x",
         "y": [
          45.9,
          42.8,
          44.6,
          45.4,
          42.4
         ],
         "yaxis": "y"
        },
        {
         "hovertemplate": "locationdesc=Colorado<br>Year=%{x}<br>Percent (%)=%{y}<extra></extra>",
         "legendgroup": "Colorado",
         "line": {
          "color": "#EF553B",
          "dash": "solid"
         },
         "marker": {
          "symbol": "circle"
         },
         "mode": "lines",
         "name": "Colorado",
         "orientation": "v",
         "showlegend": true,
         "type": "scatter",
         "x": [
          2019,
          2017,
          2015,
          2013,
          2011
         ],
         "xaxis": "x",
         "y": [
          59.3,
          58.7,
          60.6,
          60.4,
          61.8
         ],
         "yaxis": "y"
        },
        {
         "hovertemplate": "locationdesc=Massachusetts<br>Year=%{x}<br>Percent (%)=%{y}<extra></extra>",
         "legendgroup": "Massachusetts",
         "line": {
          "color": "#00cc96",
          "dash": "solid"
         },
         "marker": {
          "symbol": "circle"
         },
         "mode": "lines",
         "name": "Massachusetts",
         "orientation": "v",
         "showlegend": true,
         "type": "scatter",
         "x": [
          2019,
          2017,
          2015,
          2013,
          2011
         ],
         "xaxis": "x",
         "y": [
          53.5,
          50.9,
          51.8,
          54.5,
          56.3
         ],
         "yaxis": "y"
        },
        {
         "hovertemplate": "locationdesc=Mississippi<br>Year=%{x}<br>Percent (%)=%{y}<extra></extra>",
         "legendgroup": "Mississippi",
         "line": {
          "color": "#ab63fa",
          "dash": "solid"
         },
         "marker": {
          "symbol": "circle"
         },
         "mode": "lines",
         "name": "Mississippi",
         "orientation": "v",
         "showlegend": true,
         "type": "scatter",
         "x": [
          2019,
          2017,
          2015,
          2013,
          2011
         ],
         "xaxis": "x",
         "y": [
          39.5,
          44.7,
          38,
          37.4,
          40
         ],
         "yaxis": "y"
        },
        {
         "hovertemplate": "locationdesc=National<br>Year=%{x}<br>Percent (%)=%{y}<extra></extra>",
         "legendgroup": "National",
         "line": {
          "color": "#FFA15A",
          "dash": "solid"
         },
         "marker": {
          "symbol": "circle"
         },
         "mode": "lines",
         "name": "National",
         "orientation": "v",
         "showlegend": true,
         "type": "scatter",
         "x": [
          2019,
          2017,
          2015,
          2013,
          2011
         ],
         "xaxis": "x",
         "y": [
          51.5,
          50.3,
          50.9,
          50.2,
          51.6
         ],
         "yaxis": "y"
        }
       ],
       "layout": {
        "legend": {
         "title": {
          "text": "locationdesc"
         },
         "tracegroupgap": 0
        },
        "template": {
         "data": {
          "bar": [
           {
            "error_x": {
             "color": "#2a3f5f"
            },
            "error_y": {
             "color": "#2a3f5f"
            },
            "marker": {
             "line": {
              "color": "#E5ECF6",
              "width": 0.5
             },
             "pattern": {
              "fillmode": "overlay",
              "size": 10,
              "solidity": 0.2
             }
            },
            "type": "bar"
           }
          ],
          "barpolar": [
           {
            "marker": {
             "line": {
              "color": "#E5ECF6",
              "width": 0.5
             },
             "pattern": {
              "fillmode": "overlay",
              "size": 10,
              "solidity": 0.2
             }
            },
            "type": "barpolar"
           }
          ],
          "carpet": [
           {
            "aaxis": {
             "endlinecolor": "#2a3f5f",
             "gridcolor": "white",
             "linecolor": "white",
             "minorgridcolor": "white",
             "startlinecolor": "#2a3f5f"
            },
            "baxis": {
             "endlinecolor": "#2a3f5f",
             "gridcolor": "white",
             "linecolor": "white",
             "minorgridcolor": "white",
             "startlinecolor": "#2a3f5f"
            },
            "type": "carpet"
           }
          ],
          "choropleth": [
           {
            "colorbar": {
             "outlinewidth": 0,
             "ticks": ""
            },
            "type": "choropleth"
           }
          ],
          "contour": [
           {
            "colorbar": {
             "outlinewidth": 0,
             "ticks": ""
            },
            "colorscale": [
             [
              0,
              "#0d0887"
             ],
             [
              0.1111111111111111,
              "#46039f"
             ],
             [
              0.2222222222222222,
              "#7201a8"
             ],
             [
              0.3333333333333333,
              "#9c179e"
             ],
             [
              0.4444444444444444,
              "#bd3786"
             ],
             [
              0.5555555555555556,
              "#d8576b"
             ],
             [
              0.6666666666666666,
              "#ed7953"
             ],
             [
              0.7777777777777778,
              "#fb9f3a"
             ],
             [
              0.8888888888888888,
              "#fdca26"
             ],
             [
              1,
              "#f0f921"
             ]
            ],
            "type": "contour"
           }
          ],
          "contourcarpet": [
           {
            "colorbar": {
             "outlinewidth": 0,
             "ticks": ""
            },
            "type": "contourcarpet"
           }
          ],
          "heatmap": [
           {
            "colorbar": {
             "outlinewidth": 0,
             "ticks": ""
            },
            "colorscale": [
             [
              0,
              "#0d0887"
             ],
             [
              0.1111111111111111,
              "#46039f"
             ],
             [
              0.2222222222222222,
              "#7201a8"
             ],
             [
              0.3333333333333333,
              "#9c179e"
             ],
             [
              0.4444444444444444,
              "#bd3786"
             ],
             [
              0.5555555555555556,
              "#d8576b"
             ],
             [
              0.6666666666666666,
              "#ed7953"
             ],
             [
              0.7777777777777778,
              "#fb9f3a"
             ],
             [
              0.8888888888888888,
              "#fdca26"
             ],
             [
              1,
              "#f0f921"
             ]
            ],
            "type": "heatmap"
           }
          ],
          "heatmapgl": [
           {
            "colorbar": {
             "outlinewidth": 0,
             "ticks": ""
            },
            "colorscale": [
             [
              0,
              "#0d0887"
             ],
             [
              0.1111111111111111,
              "#46039f"
             ],
             [
              0.2222222222222222,
              "#7201a8"
             ],
             [
              0.3333333333333333,
              "#9c179e"
             ],
             [
              0.4444444444444444,
              "#bd3786"
             ],
             [
              0.5555555555555556,
              "#d8576b"
             ],
             [
              0.6666666666666666,
              "#ed7953"
             ],
             [
              0.7777777777777778,
              "#fb9f3a"
             ],
             [
              0.8888888888888888,
              "#fdca26"
             ],
             [
              1,
              "#f0f921"
             ]
            ],
            "type": "heatmapgl"
           }
          ],
          "histogram": [
           {
            "marker": {
             "pattern": {
              "fillmode": "overlay",
              "size": 10,
              "solidity": 0.2
             }
            },
            "type": "histogram"
           }
          ],
          "histogram2d": [
           {
            "colorbar": {
             "outlinewidth": 0,
             "ticks": ""
            },
            "colorscale": [
             [
              0,
              "#0d0887"
             ],
             [
              0.1111111111111111,
              "#46039f"
             ],
             [
              0.2222222222222222,
              "#7201a8"
             ],
             [
              0.3333333333333333,
              "#9c179e"
             ],
             [
              0.4444444444444444,
              "#bd3786"
             ],
             [
              0.5555555555555556,
              "#d8576b"
             ],
             [
              0.6666666666666666,
              "#ed7953"
             ],
             [
              0.7777777777777778,
              "#fb9f3a"
             ],
             [
              0.8888888888888888,
              "#fdca26"
             ],
             [
              1,
              "#f0f921"
             ]
            ],
            "type": "histogram2d"
           }
          ],
          "histogram2dcontour": [
           {
            "colorbar": {
             "outlinewidth": 0,
             "ticks": ""
            },
            "colorscale": [
             [
              0,
              "#0d0887"
             ],
             [
              0.1111111111111111,
              "#46039f"
             ],
             [
              0.2222222222222222,
              "#7201a8"
             ],
             [
              0.3333333333333333,
              "#9c179e"
             ],
             [
              0.4444444444444444,
              "#bd3786"
             ],
             [
              0.5555555555555556,
              "#d8576b"
             ],
             [
              0.6666666666666666,
              "#ed7953"
             ],
             [
              0.7777777777777778,
              "#fb9f3a"
             ],
             [
              0.8888888888888888,
              "#fdca26"
             ],
             [
              1,
              "#f0f921"
             ]
            ],
            "type": "histogram2dcontour"
           }
          ],
          "mesh3d": [
           {
            "colorbar": {
             "outlinewidth": 0,
             "ticks": ""
            },
            "type": "mesh3d"
           }
          ],
          "parcoords": [
           {
            "line": {
             "colorbar": {
              "outlinewidth": 0,
              "ticks": ""
             }
            },
            "type": "parcoords"
           }
          ],
          "pie": [
           {
            "automargin": true,
            "type": "pie"
           }
          ],
          "scatter": [
           {
            "fillpattern": {
             "fillmode": "overlay",
             "size": 10,
             "solidity": 0.2
            },
            "type": "scatter"
           }
          ],
          "scatter3d": [
           {
            "line": {
             "colorbar": {
              "outlinewidth": 0,
              "ticks": ""
             }
            },
            "marker": {
             "colorbar": {
              "outlinewidth": 0,
              "ticks": ""
             }
            },
            "type": "scatter3d"
           }
          ],
          "scattercarpet": [
           {
            "marker": {
             "colorbar": {
              "outlinewidth": 0,
              "ticks": ""
             }
            },
            "type": "scattercarpet"
           }
          ],
          "scattergeo": [
           {
            "marker": {
             "colorbar": {
              "outlinewidth": 0,
              "ticks": ""
             }
            },
            "type": "scattergeo"
           }
          ],
          "scattergl": [
           {
            "marker": {
             "colorbar": {
              "outlinewidth": 0,
              "ticks": ""
             }
            },
            "type": "scattergl"
           }
          ],
          "scattermapbox": [
           {
            "marker": {
             "colorbar": {
              "outlinewidth": 0,
              "ticks": ""
             }
            },
            "type": "scattermapbox"
           }
          ],
          "scatterpolar": [
           {
            "marker": {
             "colorbar": {
              "outlinewidth": 0,
              "ticks": ""
             }
            },
            "type": "scatterpolar"
           }
          ],
          "scatterpolargl": [
           {
            "marker": {
             "colorbar": {
              "outlinewidth": 0,
              "ticks": ""
             }
            },
            "type": "scatterpolargl"
           }
          ],
          "scatterternary": [
           {
            "marker": {
             "colorbar": {
              "outlinewidth": 0,
              "ticks": ""
             }
            },
            "type": "scatterternary"
           }
          ],
          "surface": [
           {
            "colorbar": {
             "outlinewidth": 0,
             "ticks": ""
            },
            "colorscale": [
             [
              0,
              "#0d0887"
             ],
             [
              0.1111111111111111,
              "#46039f"
             ],
             [
              0.2222222222222222,
              "#7201a8"
             ],
             [
              0.3333333333333333,
              "#9c179e"
             ],
             [
              0.4444444444444444,
              "#bd3786"
             ],
             [
              0.5555555555555556,
              "#d8576b"
             ],
             [
              0.6666666666666666,
              "#ed7953"
             ],
             [
              0.7777777777777778,
              "#fb9f3a"
             ],
             [
              0.8888888888888888,
              "#fdca26"
             ],
             [
              1,
              "#f0f921"
             ]
            ],
            "type": "surface"
           }
          ],
          "table": [
           {
            "cells": {
             "fill": {
              "color": "#EBF0F8"
             },
             "line": {
              "color": "white"
             }
            },
            "header": {
             "fill": {
              "color": "#C8D4E3"
             },
             "line": {
              "color": "white"
             }
            },
            "type": "table"
           }
          ]
         },
         "layout": {
          "annotationdefaults": {
           "arrowcolor": "#2a3f5f",
           "arrowhead": 0,
           "arrowwidth": 1
          },
          "autotypenumbers": "strict",
          "coloraxis": {
           "colorbar": {
            "outlinewidth": 0,
            "ticks": ""
           }
          },
          "colorscale": {
           "diverging": [
            [
             0,
             "#8e0152"
            ],
            [
             0.1,
             "#c51b7d"
            ],
            [
             0.2,
             "#de77ae"
            ],
            [
             0.3,
             "#f1b6da"
            ],
            [
             0.4,
             "#fde0ef"
            ],
            [
             0.5,
             "#f7f7f7"
            ],
            [
             0.6,
             "#e6f5d0"
            ],
            [
             0.7,
             "#b8e186"
            ],
            [
             0.8,
             "#7fbc41"
            ],
            [
             0.9,
             "#4d9221"
            ],
            [
             1,
             "#276419"
            ]
           ],
           "sequential": [
            [
             0,
             "#0d0887"
            ],
            [
             0.1111111111111111,
             "#46039f"
            ],
            [
             0.2222222222222222,
             "#7201a8"
            ],
            [
             0.3333333333333333,
             "#9c179e"
            ],
            [
             0.4444444444444444,
             "#bd3786"
            ],
            [
             0.5555555555555556,
             "#d8576b"
            ],
            [
             0.6666666666666666,
             "#ed7953"
            ],
            [
             0.7777777777777778,
             "#fb9f3a"
            ],
            [
             0.8888888888888888,
             "#fdca26"
            ],
            [
             1,
             "#f0f921"
            ]
           ],
           "sequentialminus": [
            [
             0,
             "#0d0887"
            ],
            [
             0.1111111111111111,
             "#46039f"
            ],
            [
             0.2222222222222222,
             "#7201a8"
            ],
            [
             0.3333333333333333,
             "#9c179e"
            ],
            [
             0.4444444444444444,
             "#bd3786"
            ],
            [
             0.5555555555555556,
             "#d8576b"
            ],
            [
             0.6666666666666666,
             "#ed7953"
            ],
            [
             0.7777777777777778,
             "#fb9f3a"
            ],
            [
             0.8888888888888888,
             "#fdca26"
            ],
            [
             1,
             "#f0f921"
            ]
           ]
          },
          "colorway": [
           "#636efa",
           "#EF553B",
           "#00cc96",
           "#ab63fa",
           "#FFA15A",
           "#19d3f3",
           "#FF6692",
           "#B6E880",
           "#FF97FF",
           "#FECB52"
          ],
          "font": {
           "color": "#2a3f5f"
          },
          "geo": {
           "bgcolor": "white",
           "lakecolor": "white",
           "landcolor": "#E5ECF6",
           "showlakes": true,
           "showland": true,
           "subunitcolor": "white"
          },
          "hoverlabel": {
           "align": "left"
          },
          "hovermode": "closest",
          "mapbox": {
           "style": "light"
          },
          "paper_bgcolor": "white",
          "plot_bgcolor": "#E5ECF6",
          "polar": {
           "angularaxis": {
            "gridcolor": "white",
            "linecolor": "white",
            "ticks": ""
           },
           "bgcolor": "#E5ECF6",
           "radialaxis": {
            "gridcolor": "white",
            "linecolor": "white",
            "ticks": ""
           }
          },
          "scene": {
           "xaxis": {
            "backgroundcolor": "#E5ECF6",
            "gridcolor": "white",
            "gridwidth": 2,
            "linecolor": "white",
            "showbackground": true,
            "ticks": "",
            "zerolinecolor": "white"
           },
           "yaxis": {
            "backgroundcolor": "#E5ECF6",
            "gridcolor": "white",
            "gridwidth": 2,
            "linecolor": "white",
            "showbackground": true,
            "ticks": "",
            "zerolinecolor": "white"
           },
           "zaxis": {
            "backgroundcolor": "#E5ECF6",
            "gridcolor": "white",
            "gridwidth": 2,
            "linecolor": "white",
            "showbackground": true,
            "ticks": "",
            "zerolinecolor": "white"
           }
          },
          "shapedefaults": {
           "line": {
            "color": "#2a3f5f"
           }
          },
          "ternary": {
           "aaxis": {
            "gridcolor": "white",
            "linecolor": "white",
            "ticks": ""
           },
           "baxis": {
            "gridcolor": "white",
            "linecolor": "white",
            "ticks": ""
           },
           "bgcolor": "#E5ECF6",
           "caxis": {
            "gridcolor": "white",
            "linecolor": "white",
            "ticks": ""
           }
          },
          "title": {
           "x": 0.05
          },
          "xaxis": {
           "automargin": true,
           "gridcolor": "white",
           "linecolor": "white",
           "ticks": "",
           "title": {
            "standoff": 15
           },
           "zerolinecolor": "white",
           "zerolinewidth": 2
          },
          "yaxis": {
           "automargin": true,
           "gridcolor": "white",
           "linecolor": "white",
           "ticks": "",
           "title": {
            "standoff": 15
           },
           "zerolinecolor": "white",
           "zerolinewidth": 2
          }
         }
        },
        "title": {
         "text": "Percent of adults who achieve 150 minutes of cardio per week"
        },
        "xaxis": {
         "anchor": "y",
         "domain": [
          0,
          1
         ],
         "title": {
          "text": "Year"
         }
        },
        "yaxis": {
         "anchor": "x",
         "domain": [
          0,
          1
         ],
         "title": {
          "text": "Percent (%)"
         }
        }
       }
      }
     },
     "metadata": {},
     "output_type": "display_data"
    }
   ],
   "source": [
    "fig = px.line(year_df, x=\"yearstart\", y=\"data_value\",\n",
    "              title='Percent of adults who achieve 150 minutes of cardio per week',\n",
    "              labels={\n",
    "                  \"data_value\": \"Percent (%)\",\n",
    "                  \"yearstart\": \"Year\"\n",
    "              },\n",
    "              color='locationdesc')\n",
    "fig.show()"
   ]
  },
  {
   "cell_type": "code",
   "execution_count": 50,
   "metadata": {},
   "outputs": [],
   "source": [
    "toConcat = [filtered_meat_df, filtered_sugar_df, filtered_dairy_df, filtered_fruit_df, filtered_grain_df, filtered_veg_df]\n",
    "# toConcat = [filtered_meat_df, filtered_grain_df]\n",
    "\n",
    "\n",
    "food_df = pd.concat(toConcat)\n",
    "food_df = food_df[food_df[\"Attribute\"] == 'Primary weight-Lbs/year']\n",
    "\n",
    "toConcat = [food_df, filtered_fruit_df]\n",
    "food_df = pd.concat(toConcat)\n",
    "\n",
    "food_df['Commodity'] = food_df['Commodity'].str.replace(': Per capita availability adjusted for loss','')\n",
    "food_df['Commodity'] = food_df['Commodity'].str.replace(': Per capita consumption adjusted for loss','')\n"
   ]
  },
  {
   "cell_type": "code",
   "execution_count": 51,
   "metadata": {},
   "outputs": [
    {
     "name": "stdout",
     "output_type": "stream",
     "text": [
      "['Total meat, fish, eggs, and nuts' 'Refined cane and beet sugar'\n",
      " 'All dairy products' 'Total grains' 'Vegetables' 'Fruit']\n"
     ]
    }
   ],
   "source": [
    "print(food_df['Commodity'].unique())"
   ]
  },
  {
   "cell_type": "code",
   "execution_count": 52,
   "metadata": {},
   "outputs": [
    {
     "name": "stdout",
     "output_type": "stream",
     "text": [
      "['Primary weight-Lbs/year'\n",
      " 'Per capita availability adjusted for loss-Pounds/year']\n"
     ]
    }
   ],
   "source": [
    "print(food_df['Attribute'].unique())"
   ]
  },
  {
   "cell_type": "code",
   "execution_count": 53,
   "metadata": {},
   "outputs": [
    {
     "data": {
      "text/html": [
       "<div>\n",
       "<style scoped>\n",
       "    .dataframe tbody tr th:only-of-type {\n",
       "        vertical-align: middle;\n",
       "    }\n",
       "\n",
       "    .dataframe tbody tr th {\n",
       "        vertical-align: top;\n",
       "    }\n",
       "\n",
       "    .dataframe thead th {\n",
       "        text-align: right;\n",
       "    }\n",
       "</style>\n",
       "<table border=\"1\" class=\"dataframe\">\n",
       "  <thead>\n",
       "    <tr style=\"text-align: right;\">\n",
       "      <th></th>\n",
       "      <th>Commodity</th>\n",
       "      <th>Year</th>\n",
       "      <th>Attribute</th>\n",
       "      <th>Value</th>\n",
       "      <th>Notes</th>\n",
       "    </tr>\n",
       "  </thead>\n",
       "  <tbody>\n",
       "    <tr>\n",
       "      <th>0</th>\n",
       "      <td>Total meat, fish, eggs, and nuts</td>\n",
       "      <td>1970</td>\n",
       "      <td>Primary weight-Lbs/year</td>\n",
       "      <td>301.866018</td>\n",
       "      <td>NaN</td>\n",
       "    </tr>\n",
       "    <tr>\n",
       "      <th>1</th>\n",
       "      <td>Total meat, fish, eggs, and nuts</td>\n",
       "      <td>1971</td>\n",
       "      <td>Primary weight-Lbs/year</td>\n",
       "      <td>306.884696</td>\n",
       "      <td>NaN</td>\n",
       "    </tr>\n",
       "    <tr>\n",
       "      <th>2</th>\n",
       "      <td>Total meat, fish, eggs, and nuts</td>\n",
       "      <td>1972</td>\n",
       "      <td>Primary weight-Lbs/year</td>\n",
       "      <td>303.187737</td>\n",
       "      <td>NaN</td>\n",
       "    </tr>\n",
       "    <tr>\n",
       "      <th>3</th>\n",
       "      <td>Total meat, fish, eggs, and nuts</td>\n",
       "      <td>1973</td>\n",
       "      <td>Primary weight-Lbs/year</td>\n",
       "      <td>283.869838</td>\n",
       "      <td>NaN</td>\n",
       "    </tr>\n",
       "    <tr>\n",
       "      <th>4</th>\n",
       "      <td>Total meat, fish, eggs, and nuts</td>\n",
       "      <td>1974</td>\n",
       "      <td>Primary weight-Lbs/year</td>\n",
       "      <td>294.290876</td>\n",
       "      <td>NaN</td>\n",
       "    </tr>\n",
       "  </tbody>\n",
       "</table>\n",
       "</div>"
      ],
      "text/plain": [
       "                          Commodity  Year                Attribute  \\\n",
       "0  Total meat, fish, eggs, and nuts  1970  Primary weight-Lbs/year   \n",
       "1  Total meat, fish, eggs, and nuts  1971  Primary weight-Lbs/year   \n",
       "2  Total meat, fish, eggs, and nuts  1972  Primary weight-Lbs/year   \n",
       "3  Total meat, fish, eggs, and nuts  1973  Primary weight-Lbs/year   \n",
       "4  Total meat, fish, eggs, and nuts  1974  Primary weight-Lbs/year   \n",
       "\n",
       "        Value Notes  \n",
       "0  301.866018   NaN  \n",
       "1  306.884696   NaN  \n",
       "2  303.187737   NaN  \n",
       "3  283.869838   NaN  \n",
       "4  294.290876   NaN  "
      ]
     },
     "execution_count": 53,
     "metadata": {},
     "output_type": "execute_result"
    }
   ],
   "source": [
    "food_df.head(5)"
   ]
  },
  {
   "cell_type": "code",
   "execution_count": 63,
   "metadata": {},
   "outputs": [
    {
     "data": {
      "application/vnd.plotly.v1+json": {
       "config": {
        "plotlyServerURL": "https://plot.ly"
       },
       "data": [
        {
         "hovertemplate": "Commodity=Total meat, fish, eggs, and nuts<br>Year=%{x}<br>Lbs/Person/Year=%{y}<extra></extra>",
         "legendgroup": "Total meat, fish, eggs, and nuts",
         "line": {
          "color": "#636efa",
          "dash": "solid"
         },
         "marker": {
          "symbol": "circle"
         },
         "mode": "lines",
         "name": "Total meat, fish, eggs, and nuts",
         "orientation": "h",
         "showlegend": true,
         "type": "scatter",
         "x": [
          1970,
          1971,
          1972,
          1973,
          1974,
          1975,
          1976,
          1977,
          1978,
          1979,
          1980,
          1981,
          1982,
          1983,
          1984,
          1985,
          1986,
          1987,
          1988,
          1989,
          1990,
          1991,
          1992,
          1993,
          1994,
          1995,
          1996,
          1997,
          1998,
          1999,
          2000,
          2001,
          2002,
          2003,
          2004,
          2005,
          2006,
          2007,
          2008,
          2009,
          2010,
          2011,
          2012,
          2013,
          2014,
          2015,
          2016,
          2017,
          2018
         ],
         "xaxis": "x",
         "y": [
          301.8660179,
          306.8846962,
          303.1877368,
          283.8698376,
          294.2908764,
          284.8951847,
          298.6208687,
          296.7297716,
          293.1998284,
          292.6326949,
          293.8156793,
          294.1348703,
          288.0482224,
          295.5753475,
          297.9966023,
          302.6018355,
          303.0325563,
          305.3673692,
          310.2096642,
          307.3075099,
          305.2599139,
          307.8989706,
          313.2295974,
          311.492797,
          316.5124059,
          314.8930697,
          312.4995825,
          311.5386065,
          320.2704286,
          329.8840796,
          328.5720781,
          325.0992006,
          335.3377053,
          334.5527158,
          338.2746041,
          335.6909953,
          337.4861355,
          336.2282289,
          327.3424322,
          321.4527812,
          319.4517692,
          312.5432132,
          310.9803991,
          313.4922809,
          312.3643624,
          323.7355717,
          330.2974526,
          335.8865866,
          339.6852588
         ],
         "yaxis": "y"
        },
        {
         "hovertemplate": "Commodity=Refined cane and beet sugar<br>Year=%{x}<br>Lbs/Person/Year=%{y}<extra></extra>",
         "legendgroup": "Refined cane and beet sugar",
         "line": {
          "color": "#EF553B",
          "dash": "solid"
         },
         "marker": {
          "symbol": "circle"
         },
         "mode": "lines",
         "name": "Refined cane and beet sugar",
         "orientation": "h",
         "showlegend": true,
         "type": "scatter",
         "x": [
          1970,
          1971,
          1972,
          1973,
          1974,
          1975,
          1976,
          1977,
          1978,
          1979,
          1980,
          1981,
          1982,
          1983,
          1984,
          1985,
          1986,
          1987,
          1988,
          1989,
          1990,
          1991,
          1992,
          1993,
          1994,
          1995,
          1996,
          1997,
          1998,
          1999,
          2000,
          2001,
          2002,
          2003,
          2004,
          2005,
          2006,
          2007,
          2008,
          2009,
          2010,
          2011,
          2012,
          2013,
          2014,
          2015,
          2016,
          2017,
          2018,
          2019,
          2020,
          2021
         ],
         "xaxis": "x",
         "y": [
          101.7567279,
          102.1164661,
          102.2936504,
          100.8103328,
          95.66313431,
          89.15963924,
          93.38293239,
          94.19673351,
          91.4404431,
          89.33226499,
          83.63059033,
          79.40222939,
          73.68344279,
          70.29678173,
          66.65286369,
          62.72960718,
          60.0474018,
          62.37868566,
          62.06601326,
          62.75317304,
          64.37722378,
          63.57527762,
          64.21791191,
          63.819507,
          64.36704448,
          64.92004666,
          65.02252375,
          64.87859393,
          64.93017593,
          66.28984697,
          65.52551427,
          64.45732813,
          63.2046456,
          60.84966161,
          61.53276198,
          62.95938814,
          62.11451308,
          61.12388907,
          65.03478114,
          63.36281051,
          65.915045,
          65.87858678,
          66.62762678,
          67.99687303,
          68.43035414,
          69.23852469,
          69.798961,
          69.26363884,
          68.66380298,
          68.43750051,
          68.7780776,
          69.74364343
         ],
         "yaxis": "y"
        },
        {
         "hovertemplate": "Commodity=All dairy products<br>Year=%{x}<br>Lbs/Person/Year=%{y}<extra></extra>",
         "legendgroup": "All dairy products",
         "line": {
          "color": "#00cc96",
          "dash": "solid"
         },
         "marker": {
          "symbol": "circle"
         },
         "mode": "lines",
         "name": "All dairy products",
         "orientation": "h",
         "showlegend": true,
         "type": "scatter",
         "x": [
          1970,
          1971,
          1972,
          1973,
          1974,
          1975,
          1976,
          1977,
          1978,
          1979,
          1980,
          1981,
          1982,
          1983,
          1984,
          1985,
          1986,
          1987,
          1988,
          1989,
          1990,
          1991,
          1992,
          1993,
          1994,
          1995,
          1996,
          1997,
          1998,
          1999,
          2000,
          2001,
          2002,
          2003,
          2004,
          2005,
          2006,
          2007,
          2008,
          2009,
          2010,
          2011,
          2012,
          2013,
          2014,
          2015,
          2016,
          2017,
          2018,
          2019,
          2020,
          2021
         ],
         "xaxis": "x",
         "y": [
          "333.5406323",
          "334.1388882",
          "331.4985144",
          "326.8063958",
          "315.8280677",
          "317.1174597",
          "316.2042682",
          "313.560768",
          "309.6125516",
          "305.5034429",
          "300.0104437",
          "296.0643249",
          "291.1184056",
          "292.6778915",
          "295.8142514",
          "300.5379286",
          "301.0937014",
          "299.0270538",
          "297.5616445",
          "296.6302838",
          "294.9523865",
          "294.1607245",
          "291.7174",
          "286.236924",
          "286.7895402",
          "282.7151691",
          "280.0335575",
          "276.7201294",
          "274.0921995",
          "274.3084585",
          "272.4939947",
          "269.1976174",
          "265.2438344",
          "263.8180736",
          "261.1681183",
          "262.1345347",
          "263.7104858",
          "263.3384946",
          "260.2835023",
          "260.5526779",
          "258.1007829",
          "253.4756329",
          "251.1976837",
          "245.630661",
          "239.4153534",
          "238.3833903",
          "236.003628",
          "231.2755764",
          "227.0237806",
          "224.6934983",
          "223.2142651",
          "217.31929"
         ],
         "yaxis": "y"
        },
        {
         "hovertemplate": "Commodity=Total grains<br>Year=%{x}<br>Lbs/Person/Year=%{y}<extra></extra>",
         "legendgroup": "Total grains",
         "line": {
          "color": "#ab63fa",
          "dash": "solid"
         },
         "marker": {
          "symbol": "circle"
         },
         "mode": "lines",
         "name": "Total grains",
         "orientation": "h",
         "showlegend": true,
         "type": "scatter",
         "x": [
          1970,
          1971,
          1972,
          1973,
          1974,
          1975,
          1976,
          1977,
          1978,
          1979,
          1980,
          1981,
          1982,
          1983,
          1984,
          1985,
          1986,
          1987,
          1988,
          1989,
          1990,
          1991,
          1992,
          1993,
          1994,
          1995,
          1996,
          1997,
          1998,
          1999,
          2000,
          2001,
          2002,
          2003,
          2004,
          2005,
          2006,
          2007,
          2008,
          2009,
          2010,
          2011,
          2012,
          2013,
          2014,
          2015,
          2016,
          2017,
          2018,
          2019,
          2020,
          2021
         ],
         "xaxis": "x",
         "y": [
          136.7043201,
          134.6681881,
          133.1554634,
          136.9927906,
          135.6240513,
          138.7183414,
          143.5670696,
          139.1273353,
          142.8595429,
          144.2619843,
          146.4295712,
          146.6290288,
          146.0882586,
          146.4993398,
          149.6986709,
          159.159104,
          164.0462965,
          171.6029093,
          176.0808188,
          174.6231917,
          181.0503913,
          181.8709422,
          184.3981037,
          189.6899959,
          191.1074928,
          189.6345832,
          196.8247713,
          197.0488278,
          194.7743629,
          196.2883871,
          199.4647703,
          195.2200374,
          191.3511532,
          192.3532441,
          190.7222072,
          190.9327859,
          193.8633723,
          196.8650528,
          195.9459873,
          193.9319245,
          194.196276,
          172.538096,
          174.0781558,
          174.6997562,
          174.5861454,
          173.2721676,
          171.8809589,
          172.4615968,
          173.0474672,
          173.9398201,
          173.7975421,
          170.0402248
         ],
         "yaxis": "y"
        },
        {
         "hovertemplate": "Commodity=Vegetables<br>Year=%{x}<br>Lbs/Person/Year=%{y}<extra></extra>",
         "legendgroup": "Vegetables",
         "line": {
          "color": "#FFA15A",
          "dash": "solid"
         },
         "marker": {
          "symbol": "circle"
         },
         "mode": "lines",
         "name": "Vegetables",
         "orientation": "h",
         "showlegend": true,
         "type": "scatter",
         "x": [
          1970,
          1971,
          1972,
          1973,
          1974,
          1975,
          1976,
          1977,
          1978,
          1979,
          1980,
          1981,
          1982,
          1983,
          1984,
          1985,
          1986,
          1987,
          1988,
          1989,
          1990,
          1991,
          1992,
          1993,
          1994,
          1995,
          1996,
          1997,
          1998,
          1999,
          2000,
          2001,
          2002,
          2003,
          2004,
          2005,
          2006,
          2007,
          2008,
          2009,
          2010,
          2011,
          2012,
          2013,
          2014,
          2015,
          2016,
          2017,
          2018,
          2019,
          2020
         ],
         "xaxis": "x",
         "y": [
          336.2649349,
          339.5460359,
          337.7652902,
          335.5415728,
          334.3182187,
          338.9436138,
          349.0865175,
          345.522021,
          335.1159804,
          340.9444922,
          338.7309215,
          334.9203164,
          337.896155,
          340.3032802,
          358.1305127,
          360.6650763,
          361.3316071,
          370.4657833,
          370.3743812,
          385.9714625,
          391.7675583,
          401.5198308,
          399.9318201,
          413.8653268,
          419.0050981,
          414.2040749,
          425.1461467,
          424.5047698,
          421.3127035,
          424.1470666,
          424.8982253,
          415.1335106,
          414.1359847,
          421.9239699,
          424.0058767,
          414.4635942,
          403.9623146,
          406.5271995,
          393.0837336,
          392.1556966,
          397.0884913,
          382.470219,
          390.9958124,
          381.5380447,
          387.1516709,
          379.5711183,
          396.5228714,
          401.8214034,
          402.3193101,
          381.2425653,
          null
         ],
         "yaxis": "y"
        },
        {
         "hovertemplate": "Commodity=Fruit<br>Year=%{x}<br>Lbs/Person/Year=%{y}<extra></extra>",
         "legendgroup": "Fruit",
         "line": {
          "color": "#19d3f3",
          "dash": "solid"
         },
         "marker": {
          "symbol": "circle"
         },
         "mode": "lines",
         "name": "Fruit",
         "orientation": "h",
         "showlegend": true,
         "type": "scatter",
         "x": [
          1970,
          1971,
          1972,
          1973,
          1974,
          1975,
          1976,
          1977,
          1978,
          1979,
          1980,
          1981,
          1982,
          1983,
          1984,
          1985,
          1986,
          1987,
          1988,
          1989,
          1990,
          1991,
          1992,
          1993,
          1994,
          1995,
          1996,
          1997,
          1998,
          1999,
          2000,
          2001,
          2002,
          2003,
          2004,
          2005,
          2006,
          2007,
          2008,
          2009,
          2010,
          2011,
          2012,
          2013,
          2014,
          2015,
          2016,
          2017,
          2018,
          2019,
          2020,
          2021
         ],
         "xaxis": "x",
         "y": [
          107.7215419,
          110.5510152,
          105.7096362,
          108.2026083,
          108.9935363,
          115.6270794,
          116.3510706,
          117.7356921,
          116.2649458,
          116.0835341,
          122.8434273,
          118.1348896,
          119.0416763,
          130.7860495,
          123.269,
          125.2022409,
          129.5759172,
          132.558189,
          128.3746462,
          132.3862396,
          127.4300155,
          127.7465156,
          131.1947762,
          136.9404284,
          138.8926991,
          132.787492,
          136.6346051,
          139.1449393,
          141.2007732,
          143.503629,
          138.8607414,
          134.7530175,
          133.2647291,
          134.6794695,
          135.2962353,
          130.4331438,
          129.6814963,
          127.8019598,
          123.7988663,
          122.5054023,
          121.7547667,
          118.1493066,
          114.3563166,
          119.1927977,
          116.7714151,
          116.3712905,
          116.6230861,
          114.0297417,
          110.8582858,
          109.0494754,
          105.8264072,
          108.894239
         ],
         "yaxis": "y"
        }
       ],
       "layout": {
        "legend": {
         "title": {
          "text": "Commodity"
         },
         "tracegroupgap": 0
        },
        "template": {
         "data": {
          "bar": [
           {
            "error_x": {
             "color": "#2a3f5f"
            },
            "error_y": {
             "color": "#2a3f5f"
            },
            "marker": {
             "line": {
              "color": "#E5ECF6",
              "width": 0.5
             },
             "pattern": {
              "fillmode": "overlay",
              "size": 10,
              "solidity": 0.2
             }
            },
            "type": "bar"
           }
          ],
          "barpolar": [
           {
            "marker": {
             "line": {
              "color": "#E5ECF6",
              "width": 0.5
             },
             "pattern": {
              "fillmode": "overlay",
              "size": 10,
              "solidity": 0.2
             }
            },
            "type": "barpolar"
           }
          ],
          "carpet": [
           {
            "aaxis": {
             "endlinecolor": "#2a3f5f",
             "gridcolor": "white",
             "linecolor": "white",
             "minorgridcolor": "white",
             "startlinecolor": "#2a3f5f"
            },
            "baxis": {
             "endlinecolor": "#2a3f5f",
             "gridcolor": "white",
             "linecolor": "white",
             "minorgridcolor": "white",
             "startlinecolor": "#2a3f5f"
            },
            "type": "carpet"
           }
          ],
          "choropleth": [
           {
            "colorbar": {
             "outlinewidth": 0,
             "ticks": ""
            },
            "type": "choropleth"
           }
          ],
          "contour": [
           {
            "colorbar": {
             "outlinewidth": 0,
             "ticks": ""
            },
            "colorscale": [
             [
              0,
              "#0d0887"
             ],
             [
              0.1111111111111111,
              "#46039f"
             ],
             [
              0.2222222222222222,
              "#7201a8"
             ],
             [
              0.3333333333333333,
              "#9c179e"
             ],
             [
              0.4444444444444444,
              "#bd3786"
             ],
             [
              0.5555555555555556,
              "#d8576b"
             ],
             [
              0.6666666666666666,
              "#ed7953"
             ],
             [
              0.7777777777777778,
              "#fb9f3a"
             ],
             [
              0.8888888888888888,
              "#fdca26"
             ],
             [
              1,
              "#f0f921"
             ]
            ],
            "type": "contour"
           }
          ],
          "contourcarpet": [
           {
            "colorbar": {
             "outlinewidth": 0,
             "ticks": ""
            },
            "type": "contourcarpet"
           }
          ],
          "heatmap": [
           {
            "colorbar": {
             "outlinewidth": 0,
             "ticks": ""
            },
            "colorscale": [
             [
              0,
              "#0d0887"
             ],
             [
              0.1111111111111111,
              "#46039f"
             ],
             [
              0.2222222222222222,
              "#7201a8"
             ],
             [
              0.3333333333333333,
              "#9c179e"
             ],
             [
              0.4444444444444444,
              "#bd3786"
             ],
             [
              0.5555555555555556,
              "#d8576b"
             ],
             [
              0.6666666666666666,
              "#ed7953"
             ],
             [
              0.7777777777777778,
              "#fb9f3a"
             ],
             [
              0.8888888888888888,
              "#fdca26"
             ],
             [
              1,
              "#f0f921"
             ]
            ],
            "type": "heatmap"
           }
          ],
          "heatmapgl": [
           {
            "colorbar": {
             "outlinewidth": 0,
             "ticks": ""
            },
            "colorscale": [
             [
              0,
              "#0d0887"
             ],
             [
              0.1111111111111111,
              "#46039f"
             ],
             [
              0.2222222222222222,
              "#7201a8"
             ],
             [
              0.3333333333333333,
              "#9c179e"
             ],
             [
              0.4444444444444444,
              "#bd3786"
             ],
             [
              0.5555555555555556,
              "#d8576b"
             ],
             [
              0.6666666666666666,
              "#ed7953"
             ],
             [
              0.7777777777777778,
              "#fb9f3a"
             ],
             [
              0.8888888888888888,
              "#fdca26"
             ],
             [
              1,
              "#f0f921"
             ]
            ],
            "type": "heatmapgl"
           }
          ],
          "histogram": [
           {
            "marker": {
             "pattern": {
              "fillmode": "overlay",
              "size": 10,
              "solidity": 0.2
             }
            },
            "type": "histogram"
           }
          ],
          "histogram2d": [
           {
            "colorbar": {
             "outlinewidth": 0,
             "ticks": ""
            },
            "colorscale": [
             [
              0,
              "#0d0887"
             ],
             [
              0.1111111111111111,
              "#46039f"
             ],
             [
              0.2222222222222222,
              "#7201a8"
             ],
             [
              0.3333333333333333,
              "#9c179e"
             ],
             [
              0.4444444444444444,
              "#bd3786"
             ],
             [
              0.5555555555555556,
              "#d8576b"
             ],
             [
              0.6666666666666666,
              "#ed7953"
             ],
             [
              0.7777777777777778,
              "#fb9f3a"
             ],
             [
              0.8888888888888888,
              "#fdca26"
             ],
             [
              1,
              "#f0f921"
             ]
            ],
            "type": "histogram2d"
           }
          ],
          "histogram2dcontour": [
           {
            "colorbar": {
             "outlinewidth": 0,
             "ticks": ""
            },
            "colorscale": [
             [
              0,
              "#0d0887"
             ],
             [
              0.1111111111111111,
              "#46039f"
             ],
             [
              0.2222222222222222,
              "#7201a8"
             ],
             [
              0.3333333333333333,
              "#9c179e"
             ],
             [
              0.4444444444444444,
              "#bd3786"
             ],
             [
              0.5555555555555556,
              "#d8576b"
             ],
             [
              0.6666666666666666,
              "#ed7953"
             ],
             [
              0.7777777777777778,
              "#fb9f3a"
             ],
             [
              0.8888888888888888,
              "#fdca26"
             ],
             [
              1,
              "#f0f921"
             ]
            ],
            "type": "histogram2dcontour"
           }
          ],
          "mesh3d": [
           {
            "colorbar": {
             "outlinewidth": 0,
             "ticks": ""
            },
            "type": "mesh3d"
           }
          ],
          "parcoords": [
           {
            "line": {
             "colorbar": {
              "outlinewidth": 0,
              "ticks": ""
             }
            },
            "type": "parcoords"
           }
          ],
          "pie": [
           {
            "automargin": true,
            "type": "pie"
           }
          ],
          "scatter": [
           {
            "fillpattern": {
             "fillmode": "overlay",
             "size": 10,
             "solidity": 0.2
            },
            "type": "scatter"
           }
          ],
          "scatter3d": [
           {
            "line": {
             "colorbar": {
              "outlinewidth": 0,
              "ticks": ""
             }
            },
            "marker": {
             "colorbar": {
              "outlinewidth": 0,
              "ticks": ""
             }
            },
            "type": "scatter3d"
           }
          ],
          "scattercarpet": [
           {
            "marker": {
             "colorbar": {
              "outlinewidth": 0,
              "ticks": ""
             }
            },
            "type": "scattercarpet"
           }
          ],
          "scattergeo": [
           {
            "marker": {
             "colorbar": {
              "outlinewidth": 0,
              "ticks": ""
             }
            },
            "type": "scattergeo"
           }
          ],
          "scattergl": [
           {
            "marker": {
             "colorbar": {
              "outlinewidth": 0,
              "ticks": ""
             }
            },
            "type": "scattergl"
           }
          ],
          "scattermapbox": [
           {
            "marker": {
             "colorbar": {
              "outlinewidth": 0,
              "ticks": ""
             }
            },
            "type": "scattermapbox"
           }
          ],
          "scatterpolar": [
           {
            "marker": {
             "colorbar": {
              "outlinewidth": 0,
              "ticks": ""
             }
            },
            "type": "scatterpolar"
           }
          ],
          "scatterpolargl": [
           {
            "marker": {
             "colorbar": {
              "outlinewidth": 0,
              "ticks": ""
             }
            },
            "type": "scatterpolargl"
           }
          ],
          "scatterternary": [
           {
            "marker": {
             "colorbar": {
              "outlinewidth": 0,
              "ticks": ""
             }
            },
            "type": "scatterternary"
           }
          ],
          "surface": [
           {
            "colorbar": {
             "outlinewidth": 0,
             "ticks": ""
            },
            "colorscale": [
             [
              0,
              "#0d0887"
             ],
             [
              0.1111111111111111,
              "#46039f"
             ],
             [
              0.2222222222222222,
              "#7201a8"
             ],
             [
              0.3333333333333333,
              "#9c179e"
             ],
             [
              0.4444444444444444,
              "#bd3786"
             ],
             [
              0.5555555555555556,
              "#d8576b"
             ],
             [
              0.6666666666666666,
              "#ed7953"
             ],
             [
              0.7777777777777778,
              "#fb9f3a"
             ],
             [
              0.8888888888888888,
              "#fdca26"
             ],
             [
              1,
              "#f0f921"
             ]
            ],
            "type": "surface"
           }
          ],
          "table": [
           {
            "cells": {
             "fill": {
              "color": "#EBF0F8"
             },
             "line": {
              "color": "white"
             }
            },
            "header": {
             "fill": {
              "color": "#C8D4E3"
             },
             "line": {
              "color": "white"
             }
            },
            "type": "table"
           }
          ]
         },
         "layout": {
          "annotationdefaults": {
           "arrowcolor": "#2a3f5f",
           "arrowhead": 0,
           "arrowwidth": 1
          },
          "autotypenumbers": "strict",
          "coloraxis": {
           "colorbar": {
            "outlinewidth": 0,
            "ticks": ""
           }
          },
          "colorscale": {
           "diverging": [
            [
             0,
             "#8e0152"
            ],
            [
             0.1,
             "#c51b7d"
            ],
            [
             0.2,
             "#de77ae"
            ],
            [
             0.3,
             "#f1b6da"
            ],
            [
             0.4,
             "#fde0ef"
            ],
            [
             0.5,
             "#f7f7f7"
            ],
            [
             0.6,
             "#e6f5d0"
            ],
            [
             0.7,
             "#b8e186"
            ],
            [
             0.8,
             "#7fbc41"
            ],
            [
             0.9,
             "#4d9221"
            ],
            [
             1,
             "#276419"
            ]
           ],
           "sequential": [
            [
             0,
             "#0d0887"
            ],
            [
             0.1111111111111111,
             "#46039f"
            ],
            [
             0.2222222222222222,
             "#7201a8"
            ],
            [
             0.3333333333333333,
             "#9c179e"
            ],
            [
             0.4444444444444444,
             "#bd3786"
            ],
            [
             0.5555555555555556,
             "#d8576b"
            ],
            [
             0.6666666666666666,
             "#ed7953"
            ],
            [
             0.7777777777777778,
             "#fb9f3a"
            ],
            [
             0.8888888888888888,
             "#fdca26"
            ],
            [
             1,
             "#f0f921"
            ]
           ],
           "sequentialminus": [
            [
             0,
             "#0d0887"
            ],
            [
             0.1111111111111111,
             "#46039f"
            ],
            [
             0.2222222222222222,
             "#7201a8"
            ],
            [
             0.3333333333333333,
             "#9c179e"
            ],
            [
             0.4444444444444444,
             "#bd3786"
            ],
            [
             0.5555555555555556,
             "#d8576b"
            ],
            [
             0.6666666666666666,
             "#ed7953"
            ],
            [
             0.7777777777777778,
             "#fb9f3a"
            ],
            [
             0.8888888888888888,
             "#fdca26"
            ],
            [
             1,
             "#f0f921"
            ]
           ]
          },
          "colorway": [
           "#636efa",
           "#EF553B",
           "#00cc96",
           "#ab63fa",
           "#FFA15A",
           "#19d3f3",
           "#FF6692",
           "#B6E880",
           "#FF97FF",
           "#FECB52"
          ],
          "font": {
           "color": "#2a3f5f"
          },
          "geo": {
           "bgcolor": "white",
           "lakecolor": "white",
           "landcolor": "#E5ECF6",
           "showlakes": true,
           "showland": true,
           "subunitcolor": "white"
          },
          "hoverlabel": {
           "align": "left"
          },
          "hovermode": "closest",
          "mapbox": {
           "style": "light"
          },
          "paper_bgcolor": "white",
          "plot_bgcolor": "#E5ECF6",
          "polar": {
           "angularaxis": {
            "gridcolor": "white",
            "linecolor": "white",
            "ticks": ""
           },
           "bgcolor": "#E5ECF6",
           "radialaxis": {
            "gridcolor": "white",
            "linecolor": "white",
            "ticks": ""
           }
          },
          "scene": {
           "xaxis": {
            "backgroundcolor": "#E5ECF6",
            "gridcolor": "white",
            "gridwidth": 2,
            "linecolor": "white",
            "showbackground": true,
            "ticks": "",
            "zerolinecolor": "white"
           },
           "yaxis": {
            "backgroundcolor": "#E5ECF6",
            "gridcolor": "white",
            "gridwidth": 2,
            "linecolor": "white",
            "showbackground": true,
            "ticks": "",
            "zerolinecolor": "white"
           },
           "zaxis": {
            "backgroundcolor": "#E5ECF6",
            "gridcolor": "white",
            "gridwidth": 2,
            "linecolor": "white",
            "showbackground": true,
            "ticks": "",
            "zerolinecolor": "white"
           }
          },
          "shapedefaults": {
           "line": {
            "color": "#2a3f5f"
           }
          },
          "ternary": {
           "aaxis": {
            "gridcolor": "white",
            "linecolor": "white",
            "ticks": ""
           },
           "baxis": {
            "gridcolor": "white",
            "linecolor": "white",
            "ticks": ""
           },
           "bgcolor": "#E5ECF6",
           "caxis": {
            "gridcolor": "white",
            "linecolor": "white",
            "ticks": ""
           }
          },
          "title": {
           "x": 0.05
          },
          "xaxis": {
           "automargin": true,
           "gridcolor": "white",
           "linecolor": "white",
           "ticks": "",
           "title": {
            "standoff": 15
           },
           "zerolinecolor": "white",
           "zerolinewidth": 2
          },
          "yaxis": {
           "automargin": true,
           "gridcolor": "white",
           "linecolor": "white",
           "ticks": "",
           "title": {
            "standoff": 15
           },
           "zerolinecolor": "white",
           "zerolinewidth": 2
          }
         }
        },
        "title": {
         "text": "Food Consumption Per Capita Over Time"
        },
        "xaxis": {
         "anchor": "y",
         "domain": [
          0,
          1
         ],
         "title": {
          "text": "Year"
         }
        },
        "yaxis": {
         "anchor": "x",
         "domain": [
          0,
          1
         ],
         "title": {
          "text": "Lbs/Person/Year"
         }
        }
       }
      }
     },
     "metadata": {},
     "output_type": "display_data"
    }
   ],
   "source": [
    "fig = px.line(food_df, x=\"Year\", y=\"Value\", \n",
    "              labels={\n",
    "                  \"Value\": \"Lbs/Person/Year\"\n",
    "              },\n",
    "              title='Food Consumption Per Capita Over Time', \n",
    "              color='Commodity')\n",
    "fig.show()"
   ]
  },
  {
   "cell_type": "code",
   "execution_count": 55,
   "metadata": {},
   "outputs": [],
   "source": [
    "# cleaned_DF.to_csv('obesity.csv')"
   ]
  }
 ],
 "metadata": {
  "kernelspec": {
   "display_name": "Python 3 (ipykernel)",
   "language": "python",
   "name": "python3"
  },
  "language_info": {
   "codemirror_mode": {
    "name": "ipython",
    "version": 3
   },
   "file_extension": ".py",
   "mimetype": "text/x-python",
   "name": "python",
   "nbconvert_exporter": "python",
   "pygments_lexer": "ipython3",
   "version": "3.10.9"
  }
 },
 "nbformat": 4,
 "nbformat_minor": 2
}
